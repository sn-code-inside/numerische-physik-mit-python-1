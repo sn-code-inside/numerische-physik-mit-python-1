{
 "cells": [
  {
   "cell_type": "markdown",
   "metadata": {},
   "source": [
    "# Reflexion eines fallenden Wellenpakets\n",
    "\n",
    "Siehe Wiedemann/Ingold: *Numerische Physik mit Python*, Springer-Spektrum 2024, ISBN 978-3-662-69566-1\n",
    "\n",
    "---"
   ]
  },
  {
   "cell_type": "markdown",
   "metadata": {},
   "source": [
    "In diesem Jupyter-Notebook wird die Bewegung eines fallenden Wellenpakets in einem linearen Potential $V=z$, das bei $z=0$ von einer unendlich hohen Potentialwand begrenzt wird, betrachtet. Anstatt die zeitabhängige Schrödingergleichung direkt numerisch zu lösen, verwenden wir eine Entwicklung nach den analytisch bekannten Eigenzuständen, die durch Airy-Funktionen gegeben sind. Wir werden die Dynamik des Wellenpakets auf drei verschiedene Arten betrachten:\n",
    "- Die Aufenhaltswahrscheinlichkeit wird in einem zweidimensionalen Raum-Zeit-Diagramm durch eine Einfärbung entsprechend einer Farbskala dargestellt.\n",
    "- Der zeitliche Verlauf der ortsabhängigen Aufenthaltswahrscheinlichkeit wird in einer Animation dargestellt.\n",
    "- Statt der vollständigen Information über die Aufenthaltswahrscheinlichkeit wird nur die Zeitabhängigkeit des Ortserwartungswerts $\\langle z\\rangle$ und der Standardabweichung von $z$ dargestellt."
   ]
  },
  {
   "cell_type": "markdown",
   "metadata": {
    "jp-MarkdownHeadingCollapsed": true,
    "tags": []
   },
   "source": [
    "## Importanweisungen\n",
    "\n",
    "Neben dem Modul `animation` wird hier auch noch `rc` aus der Matplotlib-Bibliothek importiert, das eine Abkürzung für *runtime configuration* darstellt. In der letzten Zeile der Zelle wird unter Verwendung von `rc` festgelegt, wie Animationsobjekte dargestellt werden sollen."
   ]
  },
  {
   "cell_type": "code",
   "execution_count": null,
   "metadata": {
    "tags": []
   },
   "outputs": [],
   "source": [
    "from math import exp, pi, sqrt\n",
    "import numpy as np\n",
    "from scipy import integrate, special\n",
    "import ipywidgets as widgets\n",
    "from ipywidgets import interact, interact_manual\n",
    "import matplotlib.pyplot as plt\n",
    "from matplotlib import animation, rc\n",
    "\n",
    "plt.style.use(\"numphyspy.style\")\n",
    "rc(\"animation\", html=\"jshtml\")"
   ]
  },
  {
   "cell_type": "markdown",
   "metadata": {
    "jp-MarkdownHeadingCollapsed": true,
    "tags": []
   },
   "source": [
    "## Berechnung der Eigenenergien, Eigenzustände und Entwicklungskoeffizienten\n",
    "\n",
    "Um die Zeitentwicklung des Anfangszustands $\\Psi(z,0)$ zu bestimmen, zerlegen wir diesen nach den Eigenzuständen $\\psi_n(z)$. Die Entwicklungskoeffizienten sind durch\n",
    "\n",
    "$$c_n = \\int_0^\\infty\\text{d}z\\,\\psi_n^*(z)\\Psi(z,0)$$\n",
    "\n",
    "gegeben, wobei die komplexe Konjugation keine Rolle spielt, da die Eigenfunktionen reell sind. In der Funktion `energy_and_coeff` werden zunächst die Eigenenergien `eigenenergies` aus den Nullstellen der Airy-Funktion mit Hilfe der Funktion `special.airy_zeros` aus dem SciPy-Paket bestimmt. Unter Verwendung der Funktion `special.airy` lassen sich damit dann in der Funktion `eigenstate` die zugehörigen Eigenzustände an den Orten `z_values` berechnen. Das Integral zur Berechnung der Entwicklungskoeffizienten wird mit Hilfe der Funktion `integrate.quad` aus dem SciPy-Paket bestimmt, wobei der Integrand durch die Funktion `integrand` zur Verfügung gestellt wird. In dieser Funktion wird der Ausgangszustand als ein Gauß'sches Wellenpaket definiert. Zudem müssen dort nochmals Eigenzustände ausgewertet werden, da die Integrationsroutine die Eigenzustände nicht nur auf dem Gitter benötigt, das wir für die weitere Rechnung verwenden. In den eindimensionalen NumPy-Arrays `eigenenergies` und `coeffs` werden die Eigenenergien bzw. die Entwicklungskoeffizienten zurückgegeben. Die Eigenzustände befinden sich in dem zweidimensionalen Array `eigenstates`, wobei jede Zeile einem Eigenzustand entspricht."
   ]
  },
  {
   "cell_type": "code",
   "execution_count": null,
   "metadata": {
    "tags": []
   },
   "outputs": [],
   "source": [
    "def eigenstate(z, energy, deriv):\n",
    "    eigenstate = special.airy(z-energy)[0] / deriv\n",
    "    return eigenstate"
   ]
  },
  {
   "cell_type": "code",
   "execution_count": null,
   "metadata": {
    "tags": []
   },
   "outputs": [],
   "source": [
    "def integrand(z, *args):\n",
    "    n, z0_gauss, sigma_gauss, energy, deriv = args\n",
    "    psi = (1/(2*pi*sigma_gauss**2)**0.25\n",
    "           * exp(-(z-z0_gauss)**2/(4*sigma_gauss**2)))\n",
    "    return eigenstate(z, energy, deriv) * psi"
   ]
  },
  {
   "cell_type": "code",
   "execution_count": null,
   "metadata": {
    "tags": []
   },
   "outputs": [],
   "source": [
    "def energy_and_coeff(n_states, z0_gauss, sigma_gauss,\n",
    "                     z_values):\n",
    "    a, _, _, aip = special.ai_zeros(n_states)\n",
    "    eigenenergies = -a\n",
    "    eigenstates = eigenstate(z_values, -a[:, np.newaxis],\n",
    "                             aip[:, np.newaxis])\n",
    "    coeffs = np.empty(n_states)\n",
    "    for n, (energy, deriv) in enumerate(zip(-a, aip)):\n",
    "        coeffs[n], error = integrate.quad(\n",
    "            integrand, 0, np.inf,\n",
    "            args=(n, z0_gauss, sigma_gauss, energy, deriv))\n",
    "    return eigenenergies, eigenstates, coeffs"
   ]
  },
  {
   "cell_type": "markdown",
   "metadata": {
    "jp-MarkdownHeadingCollapsed": true,
    "tags": []
   },
   "source": [
    "## Zeitentwicklung\n",
    "\n",
    "Die zeitabhängige Wellenfunktion in `psi_of_time` ergibt sich aus der Zerlegung nach Eigenzuständen gemäß\n",
    "\n",
    "$$\\Psi(z, t) = \\sum_{n=0}^\\infty c_n\\psi_n(z)\\text{e}^{-\\text{i}E_nt}\\,.$$\n",
    "\n",
    "Die Summation wird dabei mit Hilfe eines Matrixprodukts ausgeführt. Die Zeitabhängigkeit der Aufenthaltswahrscheinlichkeit, die wir im Weiteren benötigen, wird in `psi_squared_of_time` zurückgegeben."
   ]
  },
  {
   "cell_type": "code",
   "execution_count": null,
   "metadata": {
    "tags": []
   },
   "outputs": [],
   "source": [
    "def time_development(n_states, z0_gauss, sigma_gauss,\n",
    "                     t_values, z_values):\n",
    "    eigenenergies, eigenstates, coeffs = energy_and_coeff(\n",
    "        n_states, z0_gauss, sigma_gauss, z_values)\n",
    "    phase_of_time = np.exp(-1j*np.outer(t_values,\n",
    "                                        eigenenergies))\n",
    "    psi_of_time = coeffs * phase_of_time @ eigenstates\n",
    "    psi_squared_of_time = abs(psi_of_time)**2\n",
    "    return psi_squared_of_time"
   ]
  },
  {
   "cell_type": "markdown",
   "metadata": {
    "jp-MarkdownHeadingCollapsed": true,
    "tags": []
   },
   "source": [
    "## Implementierung der Bedienelemente und graphische Darstellung der Aufenthaltswahrscheinlichkeit\n",
    "\n",
    "Mit Hilfe der Bedienelemente können die folgenden Parameter zur Festlegung des Anfangszustands eingestellt werden:\n",
    "- `z0_gauss`: Zentrum der anfänglichen Gauß-Funktion\n",
    "- `sigma_gauss`: Breite der anfänglichen Gauß-Funktion\n",
    "\n",
    "Weitere Parameter sind in der Funktion `plot_psi_squared` definiert und können dort bei Bedarf angepasst werden. Unter anderem ist dort festgelegt, dass die Basis der Eigenzustände auf die `n_states=80` niedrigsten Eigenzustände beschränkt wird.\n",
    "\n",
    "Die Aufenthaltswahrscheinlichkeit wird als Funktion von Ort $z$ und Zeit $t$ durch eine Farbcodierung dargestellt, wobei eine hellere Farbe einer größeren Aufenthaltswahrscheinlichkeit entspricht. Deutlich sind mehrere Reflexionen des fallenden Wellenpakets zu sehen, wobei es im Laufe der Zeit immer stärker zu Interferenzen zwischen fallenden und aufsteigenden Teilen des Wellenpakets kommt."
   ]
  },
  {
   "cell_type": "code",
   "execution_count": null,
   "metadata": {
    "tags": []
   },
   "outputs": [],
   "source": [
    "dict_widget = {\"z0_gauss\":\n",
    "               widgets.FloatSlider(\n",
    "                   value=20, min=5, max=30, step=1,\n",
    "                   description=\"$z_0$\"),\n",
    "               \"sigma_gauss\":\n",
    "               widgets.FloatSlider(\n",
    "                   value=1, min=1, max=5, step=0.1,\n",
    "                   description=r\"$\\sigma_0$\")\n",
    "               }\n",
    "\n",
    "interact_start = interact_manual.options(\n",
    "    manual_name=\"Start Berechnung\")\n",
    "\n",
    "@interact_start(**dict_widget)\n",
    "def plot_psi_squared(z0_gauss, sigma_gauss):\n",
    "    t_end = 100\n",
    "    n_time = 500\n",
    "    z_max = z0_gauss + 5*sigma_gauss\n",
    "    n_z = 200\n",
    "    n_states = 80\n",
    "    t_values = np.linspace(0, t_end, n_time)\n",
    "    z_values = np.linspace(0, z_max, n_z)\n",
    "    psi_squared_of_time = time_development(\n",
    "        n_states, z0_gauss, sigma_gauss, t_values, z_values)\n",
    "\n",
    "    fig, ax = plt.subplots()\n",
    "    x_grid, y_grid = np.meshgrid(t_values, z_values)\n",
    "    ax.pcolormesh(x_grid, y_grid,\n",
    "                  np.transpose(psi_squared_of_time),\n",
    "                  shading=\"auto\")\n",
    "    ax.set_xlabel(\"$t$\")\n",
    "    ax.set_ylabel(\"$z$\")"
   ]
  },
  {
   "cell_type": "markdown",
   "metadata": {
    "jp-MarkdownHeadingCollapsed": true,
    "tags": []
   },
   "source": [
    "## Zeitabhängige Aufenthaltswahrscheinlichkeit als Animation\n",
    "\n",
    "Als Alternative zu einem zweidimensionalen Farbplot werden nun entsprechende Daten als Animation aufbereitet. Wir verzichten hier auf explizite Einstellmöglichkeiten, aber die Parameter können natürlich bei Bedarf angepasst werden. Das Zeitintervall ist hier kleiner gewählt. Dafür werden statt 80 nun 200 Eigenzustände berücksichtigt. Die Berechnung der Daten wird etwas Zeit in Anspruch nehmen."
   ]
  },
  {
   "cell_type": "code",
   "execution_count": null,
   "metadata": {
    "tags": []
   },
   "outputs": [],
   "source": [
    "z0_gauss = 20\n",
    "sigma_gauss = 2\n",
    "t_end = 50\n",
    "n_time = 500\n",
    "z_max = z0_gauss + 5*sigma_gauss\n",
    "n_z = 200\n",
    "n_states = 200\n",
    "t_values = np.linspace(0, t_end, n_time)\n",
    "z_values = np.linspace(0, z_max, n_z)\n",
    "psi_squared_of_time = time_development(\n",
    "    n_states, z0_gauss, sigma_gauss, t_values, z_values)\n",
    "\n",
    "fig, ax = plt.subplots()\n",
    "ax.set_xlim((0, z_max))\n",
    "y_max = np.max(psi_squared_of_time)\n",
    "ax.set_ylim((0, y_max))\n",
    "line, = ax.plot([], [])\n",
    "ax.set_xlabel(\"$z$\", size=15)\n",
    "ax.set_ylabel(r\"$\\vert\\Psi(z, t)\\vert^2$\", size=15)\n",
    "\n",
    "def init():\n",
    "    line.set_data(z_values, psi_squared_of_time[0, :])\n",
    "    return line,\n",
    "\n",
    "def animate(i):\n",
    "    line.set_data(z_values, psi_squared_of_time[i, :])\n",
    "    return line,\n",
    "\n",
    "plt.close()\n",
    "animation.FuncAnimation(fig, animate, init_func=init,\n",
    "                        frames=n_time, interval=20,\n",
    "                        blit=True, repeat=False)"
   ]
  },
  {
   "cell_type": "markdown",
   "metadata": {
    "jp-MarkdownHeadingCollapsed": true,
    "tags": []
   },
   "source": [
    "## Implementierung der Bedienelemente und graphische Darstellung des Erwartungswerts von $z$ und der zugehörigen Standardabweichung\n",
    "\n",
    "Mit den Schiebereglern lassen sich die folgenden Parameter einstellen:\n",
    "- `z0_gauss`: Zentrum der anfänglichen Gauß-Funktion\n",
    "- `sigma_gauss`: Breite der anfänglichen Gauß-Funktion\n",
    "- `t_end`: Länge des Zeitintervalls\n",
    "\n",
    "Wie schon zuvor sind einige weniger wichtige Parameter in der Funktion `plot_mean_and_sigma` fest definiert, können dort aber bei Bedarf angepasst werden.\n",
    "\n",
    "Die Berechnung des Erwartungswerts von $z$ und der zugehörigen Standardabweichung erfolgt ausgehend von der Aufenthaltswahrscheinlichkeit `psi_squared` in der Funktion `mean_and_sigma` gleichzeitig für alle Zeiten, so dass die Summationen über die Achse 1 erfolgen müssen. Die beiden Zeitabhängigkeiten werden abschließend graphisch dargestellt."
   ]
  },
  {
   "cell_type": "code",
   "execution_count": null,
   "metadata": {
    "tags": []
   },
   "outputs": [],
   "source": [
    "def mean_and_sigma(psi_squared, z_values, dz):\n",
    "    z_mean = np.sum(psi_squared * z_values, axis=1) * dz\n",
    "    z2_mean = np.sum(psi_squared * z_values**2, axis=1) * dz\n",
    "    sigma_z = np.sqrt(z2_mean - z_mean**2)\n",
    "    return z_mean, sigma_z"
   ]
  },
  {
   "cell_type": "code",
   "execution_count": null,
   "metadata": {
    "tags": []
   },
   "outputs": [],
   "source": [
    "dict_widget = {\"z0_gauss\":\n",
    "               widgets.FloatSlider(\n",
    "                   value=20, min=10, max=20, step=1,\n",
    "                   description=\"$z_0$\",\n",
    "                   continuous_update=False),\n",
    "               \"sigma_gauss\":\n",
    "               widgets.FloatSlider(\n",
    "                   value=1, min=0.7, max=5, step=0.1,\n",
    "                   description=r\"$\\sigma_0$\",\n",
    "                   continuous_update=False),\n",
    "               \"t_end\":\n",
    "               widgets.FloatSlider(\n",
    "                   value=60, min=10, max=100, step=1,\n",
    "                   description=r\"$t_\\text{end}$\",\n",
    "                   continuous_update=False)\n",
    "               }\n",
    "\n",
    "@interact(**dict_widget)\n",
    "def plot_mean_and_sigma(z0_gauss, sigma_gauss, t_end):\n",
    "    n_time = 200\n",
    "    z_max = 50\n",
    "    n_z = 200\n",
    "    n_states = 80\n",
    "    t_values = np.linspace(0, t_end, n_time)\n",
    "    z_values, dz = np.linspace(0, z_max, n_z, retstep=True)\n",
    "    psi_squared_of_time = time_development(\n",
    "        n_states, z0_gauss, sigma_gauss, t_values, z_values)\n",
    "    z_mean, sigma_z = mean_and_sigma(psi_squared_of_time,\n",
    "                                     z_values, dz)\n",
    "\n",
    "    fig, (ax1, ax2) = plt.subplots(2, 1)\n",
    "    ax1.plot(t_values, z_mean)\n",
    "    ax1.set_xlabel(\"$t$\")\n",
    "    ax1.set_ylabel(r\"$\\langle z \\rangle$\")\n",
    "\n",
    "    ax2.plot(t_values, sigma_z)\n",
    "    ax2.set_xlabel(\"$t$\")\n",
    "    ax2.set_ylabel(r\"$\\sigma_z$\")"
   ]
  }
 ],
 "metadata": {
  "kernelspec": {
   "display_name": "Python 3 (ipykernel)",
   "language": "python",
   "name": "python3"
  },
  "language_info": {
   "codemirror_mode": {
    "name": "ipython",
    "version": 3
   },
   "file_extension": ".py",
   "mimetype": "text/x-python",
   "name": "python",
   "nbconvert_exporter": "python",
   "pygments_lexer": "ipython3",
   "version": "3.12.4"
  }
 },
 "nbformat": 4,
 "nbformat_minor": 4
}
