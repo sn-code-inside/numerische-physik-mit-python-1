{
 "cells": [
  {
   "cell_type": "markdown",
   "id": "3e7a13db-5560-4a3e-ba3a-17730753da7a",
   "metadata": {
    "tags": []
   },
   "source": [
    "# Freies Teilchen\n",
    "\n",
    "Siehe Wiedemann/Ingold: *Numerische Physik mit Python*, Springer-Spektrum 2024, ISBN 978-3-662-69566-1\n",
    "\n",
    "---"
   ]
  },
  {
   "cell_type": "markdown",
   "id": "92603bc8-032c-4cb0-b781-2e5b3eb0b8c5",
   "metadata": {
    "tags": []
   },
   "source": [
    "In diesem Jupyter-Notebook wird das Zerfließen eines anfänglich am Ursprung zentrierten Gauß'schen Wellenpakets\n",
    "\n",
    "$$\\psi(x) = \\frac{1}{(2\\pi)^{1/4}}\\exp\\left(-\\frac{x^2}{4}+\\text{i}k_0x\\right)$$\n",
    "\n",
    "mit Impuls $k_0$ untersucht. In der dimensionslosen zeitabhängigen Schrödingergleichung für das freie Teilchen\n",
    "\n",
    "$$\\text{i}\\frac{\\partial}{\\partial t}\\Psi(x,t) = -\\frac{1}{2}\\frac{\\partial^2}{\\partial^2x}\\Psi(x,t) + V(x)$$\n",
    "\n",
    "sehen wir ein optisches Potential\n",
    "\n",
    "$$V(x) = -\\text{i} V_\\text{opt} \\left[\\exp\\left(-\\frac{(x+x_\\text{max})^2}{2\\sigma_\\text{opt}^2}\\right)\n",
    "                                      + \\exp\\left(-\\frac{(x-x_\\text{max})^2}{2\\sigma_\\text{opt}^2}\\right)\\right]$$\n",
    "\n",
    "vor, das durch an den Rändern des Ortsbereich positionierte Gauß-Funktionen variabler Stärke und Breite gegeben ist. Dadurch lassen sich Reflexionen an dem in der numerischen Behandlung begrenzten Ortsbereich unterdrücken. Die Lösung der zeitabhängigen Schrödingergleichung erfolgt  mit Hilfe der Split-Operator-Methode. Dabei verwenden wir den FFT-Algorithmus, um zwischen der Orts- und der Impulsdarstellung zu wechseln. Im ersten Teil des Jupyter-Notebooks wird die zeitliche Dynamik des Wellenpakets bestimmt und mit Hilfe einer Animation dargestellt.\n",
    "\n",
    "*Hinweis:* Sollte die Animation nicht funktionieren, stellen Sie sicher, dass Sie dieses Jupyter-Notebook in JupyterLab ausführen.\n",
    "\n",
    "Am Ende dieses Jupyter-Notebooks wird noch die Standardabweichung des Ortes berechnet und mit dem analytisch bekannten Ergebnis\n",
    "\n",
    "$$\\sigma(t) = \\sqrt{1+\\frac{t^2}{4}}$$\n",
    "\n",
    "verglichen. Damit lässt sich die Güte der numerischen Lösung für das Zerfließen des Gauß'schen Wellenpakets einschätzen."
   ]
  },
  {
   "cell_type": "markdown",
   "id": "1b795e02-93cf-49ea-b906-5d4901331f79",
   "metadata": {
    "jp-MarkdownHeadingCollapsed": true,
    "tags": []
   },
   "source": [
    "## Importanweisungen\n",
    "\n",
    "Zusätzlich zu bereits bekannten Importanweisungen wird hier das `animation`-Modul aus der matplotlib-Bibliothek importiert, das für die Animation des Zerfließens des Wellenpakets erforderlich ist."
   ]
  },
  {
   "cell_type": "code",
   "execution_count": null,
   "id": "85add967-4dea-4655-820f-4fb9b5f9840b",
   "metadata": {
    "tags": []
   },
   "outputs": [],
   "source": [
    "from math import pi, sqrt\n",
    "import numpy as np\n",
    "import numpy.linalg as LA\n",
    "from scipy import fft\n",
    "import ipywidgets as widgets\n",
    "from ipywidgets import interact, interact_manual\n",
    "from IPython.display import clear_output, display, HTML\n",
    "import matplotlib.pyplot as plt\n",
    "from matplotlib import animation\n",
    "\n",
    "plt.style.use(\"numphyspy.style\")"
   ]
  },
  {
   "cell_type": "markdown",
   "id": "fb3e9586-4573-4f45-8307-c802c0b096db",
   "metadata": {
    "jp-MarkdownHeadingCollapsed": true,
    "tags": []
   },
   "source": [
    "## Zerfließen eines Wellenpakets und Einfluss eines optischen Potentials"
   ]
  },
  {
   "cell_type": "markdown",
   "id": "005486bc-06ba-4ec5-ac25-4b9267c04495",
   "metadata": {
    "jp-MarkdownHeadingCollapsed": false,
    "tags": []
   },
   "source": [
    "### Definition des optischen Potentials\n",
    "\n",
    "Die Berechnung des optischen Potentials gemäß der oben angegebenen Formel lässt für das Argument `x` sowohl skalare Werte als auch NumPy-Arrays zu."
   ]
  },
  {
   "cell_type": "code",
   "execution_count": null,
   "id": "c8c6a6bd-4810-4f07-9954-9a930d4bc0ed",
   "metadata": {
    "tags": []
   },
   "outputs": [],
   "source": [
    "def v_optical(x, v_opt, sigma_opt, x_max):\n",
    "    v = -1j*v_opt*(np.exp(-(x+x_max)**2/(2*sigma_opt**2))\n",
    "                   + np.exp(-(x-x_max)**2/(2*sigma_opt**2)))\n",
    "    return v"
   ]
  },
  {
   "cell_type": "markdown",
   "id": "f0d104e8-2107-4c08-9652-ad8d4228bf6b",
   "metadata": {
    "jp-MarkdownHeadingCollapsed": false,
    "tags": []
   },
   "source": [
    "### Transformation vom Orts- in den Impulsraum und zurück\n",
    "\n",
    "Der Wechsel zwischen Orts- und Impulsraum erfolgt mit Hilfe einer Fourier-Transformation oder ihrer Inversen."
   ]
  },
  {
   "cell_type": "code",
   "execution_count": null,
   "id": "3b755737-96b9-412a-9d97-7d88fabe46c1",
   "metadata": {
    "tags": []
   },
   "outputs": [],
   "source": [
    "def position_to_momentum(psi_position):\n",
    "    psi_momentum = fft.fft(psi_position)\n",
    "    return psi_momentum"
   ]
  },
  {
   "cell_type": "code",
   "execution_count": null,
   "id": "56dc44f3-1b4d-4a74-b1a2-e2c78d4a532b",
   "metadata": {
    "tags": []
   },
   "outputs": [],
   "source": [
    "def momentum_to_position(psi_momentum):\n",
    "    psi_position = fft.ifft(psi_momentum)\n",
    "    return psi_position"
   ]
  },
  {
   "cell_type": "markdown",
   "id": "3d52cb1e-6c42-4118-9295-825883a8bb42",
   "metadata": {
    "jp-MarkdownHeadingCollapsed": false,
    "tags": []
   },
   "source": [
    "### Erzeugung des Anfangszustands\n",
    "\n",
    "Der Anfangszustand ist durch die oben angegebene Gauß-Form gegeben. Die Normierung erfolgt hier nicht durch Verwendung des analytischen Wertes, sondern durch explizite Normierung des Zustandsvektors auf dem Ortsgitter."
   ]
  },
  {
   "cell_type": "code",
   "execution_count": null,
   "id": "b2b14016-b2a1-41d4-ba0a-aafe1e67de11",
   "metadata": {
    "tags": []
   },
   "outputs": [],
   "source": [
    "def initial_state(x, dx, k_0):\n",
    "    psi_position = np.exp(-0.25*x**2 + 1j*k_0*x)\n",
    "    norm = np.sum(np.absolute(psi_position)**2) * dx\n",
    "    return psi_position / sqrt(norm)"
   ]
  },
  {
   "cell_type": "markdown",
   "id": "8b2c154b",
   "metadata": {
    "jp-MarkdownHeadingCollapsed": false,
    "tags": []
   },
   "source": [
    "### Zeitschritt\n",
    "\n",
    "Um einen einzelnen Zeitschritt im Rahmen der Split-Operator-Methode auszuführen, wird die Wellenfunktion im Ortsraum zunächst mit einem Phasenfaktor multipliziert, der das Potential `v` über die Hälfte des Zeitintervalls `dt` berücksichtigt. Anschließend erfolgt der Wechsel in den Impulsraum, um den Zustandsvektor mit dem zur kinetischen Energie gehörenden Phasenfaktor für das volle Zeitintervall zu multiplizieren. Dabei ist `k` ein NumPy-Array, das die zum gewählten Ortsgitter gehörigen Impulse enthält. Nach dem abschließenden Wechsel zurück in den Ortsraum erfolgt die Multiplikation mit dem Phasenfaktor, der das Potential über die noch fehlende Hälfte des Zeitintervalls berücksichtigt."
   ]
  },
  {
   "cell_type": "code",
   "execution_count": null,
   "id": "1d0fa61e",
   "metadata": {
    "tags": []
   },
   "outputs": [],
   "source": [
    "def time_step(psi_position, dt, v, k):\n",
    "    psi_position = psi_position * np.exp(-1j*v*dt/2)\n",
    "    psi_momentum = position_to_momentum(psi_position)\n",
    "    psi_momentum = psi_momentum * np.exp(-1j*k**2/2*dt)\n",
    "    psi_position = momentum_to_position(psi_momentum)\n",
    "    psi_position = psi_position * np.exp(-1j*v*dt/2)\n",
    "    return psi_position"
   ]
  },
  {
   "cell_type": "markdown",
   "id": "621c7273-b864-4708-856c-cba7195e7489",
   "metadata": {
    "jp-MarkdownHeadingCollapsed": false,
    "tags": []
   },
   "source": [
    "### Lösung der Schrödingergleichung\n",
    "\n",
    "Nachdem das optische Potential und der Anfangszustand im Ortsraum auf dem vorgegebenen räumlichen Gitter berechnet wurden, wird ein NumPy-Array für die Aufenthaltswahrscheinlichkeit im Ortsraum als Funktion der Zeit angelegt und die erste Zeile mit der Aufenthaltswahrscheinlichkeit des Anfangszustands gefüllt. Außerdem werden die für die Funktion `time_step` benötigten Impulswerte `k` mit Hilfe von `fft.fftfreq` aus den diskreten Ortswerten des räumlichen Gitters berechnet. Damit kann dann entsprechend der Anzahl der in `t_values` vorgegebenen Zeitwerte die schrittweise Berechnung der Zeitentwicklung durch Aufruf der Funktion `time_step` erfolgen."
   ]
  },
  {
   "cell_type": "code",
   "execution_count": null,
   "id": "b99ed12b-6718-4347-9397-a017fad3e41c",
   "metadata": {
    "tags": []
   },
   "outputs": [],
   "source": [
    "def time_development(t_values, dt, x_values, dx, x_max,\n",
    "                     k_0, v_opt, sigma_opt):\n",
    "    n_x_points = x_values.shape[0]\n",
    "    n_t_points = t_values.shape[0]\n",
    "    v = v_optical(x_values, v_opt, sigma_opt, x_max)\n",
    "    psi_position = initial_state(x_values, dx, k_0)\n",
    "    psi_squared_of_t = np.zeros((n_t_points, n_x_points))\n",
    "    psi_squared_of_t[0, :] = np.abs(psi_position)**2\n",
    "    k = fft.fftfreq(n_x_points, dx) * 2*pi\n",
    "    for n in range(n_t_points-1):\n",
    "        psi_position = time_step(psi_position, dt, v, k)\n",
    "        psi_squared_of_t[n+1, :] = np.abs(psi_position)**2\n",
    "    return psi_squared_of_t"
   ]
  },
  {
   "cell_type": "markdown",
   "id": "c7db0c00-8a0d-4a59-9cda-4cd163635526",
   "metadata": {
    "jp-MarkdownHeadingCollapsed": false,
    "tags": []
   },
   "source": [
    "### Implementierung des Bedienelements und animierte Darstellung der Aufenthaltswahrscheinlichkeit\n",
    "\n",
    "Mit Hilfe des Drop-down-Menüs lassen sich vier vorgegebene interessante Parametersätze für das optische Potential auswählen:\n",
    "\n",
    "| <div style=\"width:20em\"></div>    |<div style=\"width:7em\">$V_\\text{opt}$</div>| <div style=\"width:7em\">$\\sigma_\\text{opt}$</div> |\n",
    "|:----------------------------------|------------------------------------------:|-------------------------------------------------:|\n",
    "| Kein optisches Potential          |                                       0   |                                              1   |\n",
    "| Gut gewähltes optisches Potential |                                      20   |                                              5   |\n",
    "| Zu schwaches optisches Potential  |                                       2   |                                              2   |\n",
    "| Zu steiles optisches Potential    |                                  100000   |                                            0.1   |\n",
    "\n",
    "Die Berechnung der zeitabhängigen Aufenthaltswahrscheinlichkeit kann etwas Zeit in Anspruch nehmen. Erst nach Abschluss der Berechnung erfolgt die Darstellung als Animation. Mit den Steuerelementen kann man die Animation erneut ablaufen lassen, ohne die Daten neu berechnen zu müssen. Der Ablauf lässt sich bei Bedarf auch unterbrechen."
   ]
  },
  {
   "cell_type": "code",
   "execution_count": null,
   "id": "a80ac544-dde2-430e-a93f-6cd494052771",
   "metadata": {
    "tags": []
   },
   "outputs": [],
   "source": [
    "params_widget = widgets.Dropdown(\n",
    "    options=[\n",
    "        (\"Kein optisches Potential\", (0, 1)),\n",
    "        (\"Gut gewähltes optisches Potential\", (20, 5)),\n",
    "        (\"Zu schwaches optisches Potential\", (2, 2)),\n",
    "        (\"Zu steiles optisches Potential\", (100000, 0.1))\n",
    "    ],\n",
    "    description=\"optisches Potential\",\n",
    "    style={\"description_width\": \"initial\"})\n",
    "\n",
    "interact_start = interact_manual.options(\n",
    "    manual_name=\"Start Berechnung\")\n",
    "\n",
    "@interact_start(params=params_widget)\n",
    "def make_animation(params):\n",
    "    t_end = 2\n",
    "    n_time = 200\n",
    "    n_max = 4096\n",
    "    x_max = 15\n",
    "    k_0 = 15\n",
    "    v_opt, sigma_opt = params\n",
    "    x_values, dx = np.linspace(-x_max, x_max, 2*n_max,\n",
    "                               retstep=True, endpoint=False)\n",
    "    t_values, dt = np.linspace(0, t_end, n_time+1,\n",
    "                               retstep=True)\n",
    "    psi_squared = time_development(\n",
    "        t_values, dt, x_values, dx, x_max, k_0, v_opt,\n",
    "        sigma_opt)\n",
    "\n",
    "    def init():\n",
    "        line.set_data(x_values, psi_squared[0, :])\n",
    "        return line,\n",
    "\n",
    "    def animate(i):\n",
    "        line.set_data(x_values, psi_squared[i, :])\n",
    "        return line,\n",
    "\n",
    "    clear_output()\n",
    "    fig, ax = plt.subplots()\n",
    "    line, = ax.plot([], [])\n",
    "    ax.set_xlim((-x_max, x_max))\n",
    "    y_max = np.max(psi_squared)\n",
    "    ax.set_ylim((0, y_max))\n",
    "    ax.set_xlabel(\"$x$\")\n",
    "    ax.set_ylabel(r\"$\\vert\\Psi(x, t)\\vert^2$\")\n",
    "    anim = animation.FuncAnimation(fig, animate,\n",
    "                                   init_func=init,\n",
    "                                   frames=n_time,\n",
    "                                   interval=10,\n",
    "                                   blit=True, repeat=False)\n",
    "    plt.close()\n",
    "    display(HTML(anim.to_jshtml()))"
   ]
  },
  {
   "cell_type": "markdown",
   "id": "b0f071f1-88a5-46d0-9dc3-9df2b6de6b93",
   "metadata": {
    "jp-MarkdownHeadingCollapsed": true,
    "tags": []
   },
   "source": [
    "## Breite des Wellenpakets"
   ]
  },
  {
   "cell_type": "markdown",
   "id": "d238c952-0502-4950-8a2f-0e7b795901e8",
   "metadata": {
    "jp-MarkdownHeadingCollapsed": false,
    "tags": []
   },
   "source": [
    "### Berechnung der Standardabweichung des Ortes\n",
    "\n",
    "Aus der Aufenthaltswahrscheinlichkeit `psi_squared_of_t`, den Ortswerten `x` sowie dem Gitterabstand `dx` wird die Standardabweichung `sigma_of_t` berechnet. Durch Verwendung von NumPy-Arrays ist keine explizite Schleife über die Zeiten erforderlich. Man muss jedoch darauf achten, die Summation entlang der Achse 1 auszuführen."
   ]
  },
  {
   "cell_type": "code",
   "execution_count": null,
   "id": "1309a956",
   "metadata": {
    "tags": []
   },
   "outputs": [],
   "source": [
    "def sigma(psi_squared_of_t, x, dx):\n",
    "    x_mean = np.sum(psi_squared_of_t*x, axis=1) * dx\n",
    "    x2_mean = np.sum(psi_squared_of_t*x**2, axis=1) * dx\n",
    "    sigma_of_t = np.sqrt(x2_mean-x_mean**2)\n",
    "    return sigma_of_t"
   ]
  },
  {
   "cell_type": "markdown",
   "id": "f1935cd9-489a-4bfd-bf8b-541d467dc2ef",
   "metadata": {
    "jp-MarkdownHeadingCollapsed": false,
    "tags": []
   },
   "source": [
    "### Implementierung des Bedienelements und graphische Darstellung der zeitabhängigen Standardabweichung des Ortes\n",
    "\n",
    "Mit Hilfe des Schiebereglers lässt sich folgender Parameter einstellen:\n",
    "- `t_end`: Länge des zu betrachtenden Zeitintervalls\n",
    "\n",
    "In der Funktion `plot_result` sind einige Parameter fest vorgegeben, können aber bei Bedarf dort verändert werden. Es werden `n_time=20` Zeitwerte betrachtet und das räumliche Gitter umfasst `n_max=4096` Gitterpunkte und läuft von `-x_max=-15` bis `x_max=15` in Einheiten der Breite des Anfangszustands.  Die Berechnung erfolgt ohne ein optisches Potential (`v_opt=0`), da sich das Wellenpaket nicht bewegt (`k_0=0`) und die maximale Endzeit `t_end` hinreichend klein sowie das betrachtete Ortsintervall hinreichend groß ist, so dass Randeffekte vernachlässigt werden können. Der Zeitschritt für die Split-Operator-Methode ergibt sich aus `t_end` dividiert durch `n_time`. Die numerischen Daten sind als Punkte dargestellt, während das analytische Ergebnis als durchgezogene Linie gezeigt ist."
   ]
  },
  {
   "cell_type": "code",
   "execution_count": null,
   "id": "f08cab8a-a4d3-4418-9662-a7516883c957",
   "metadata": {
    "tags": []
   },
   "outputs": [],
   "source": [
    "t_end_widget = widgets.FloatSlider(\n",
    "    value=5, min=0.1, max=10, step=0.1,\n",
    "    description=r\"$t_\\text{end}$\")\n",
    "\n",
    "@interact(t_end=t_end_widget)\n",
    "def plot_result(t_end):\n",
    "    n_time = 20\n",
    "    n_max = 4096\n",
    "    x_max = 15\n",
    "    k_0 = 0\n",
    "    v_opt = 0\n",
    "    sigma_opt = 1\n",
    "    x_values, dx = np.linspace(-x_max, x_max, 2*n_max,\n",
    "                               retstep=True, endpoint=False)\n",
    "    t_values, dt = np.linspace(0, t_end, n_time+1,\n",
    "                               retstep=True)\n",
    "    psi_squared_of_t = time_development(\n",
    "        t_values, dt, x_values, dx, x_max, k_0, v_opt,\n",
    "        sigma_opt)\n",
    "    sigma_of_t = sigma(psi_squared_of_t, x_values, dx)\n",
    "\n",
    "    fig, ax = plt.subplots()\n",
    "    ax.plot(t_values, sigma_of_t, label=\"numerisch\",\n",
    "            linestyle=\"None\", marker=\"o\")\n",
    "    ax.plot(t_values, np.sqrt(1+t_values**2/4),\n",
    "            label=\"analytisch\")\n",
    "    ax.set_xlabel(\"$t$\")\n",
    "    ax.set_ylabel(r\"$\\sigma$\")\n",
    "    ax.legend(loc=\"upper left\")"
   ]
  }
 ],
 "metadata": {
  "kernelspec": {
   "display_name": "Python 3 (ipykernel)",
   "language": "python",
   "name": "python3"
  },
  "language_info": {
   "codemirror_mode": {
    "name": "ipython",
    "version": 3
   },
   "file_extension": ".py",
   "mimetype": "text/x-python",
   "name": "python",
   "nbconvert_exporter": "python",
   "pygments_lexer": "ipython3",
   "version": "3.12.4"
  }
 },
 "nbformat": 4,
 "nbformat_minor": 5
}
