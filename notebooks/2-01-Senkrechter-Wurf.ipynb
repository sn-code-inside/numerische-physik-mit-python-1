{
 "cells": [
  {
   "cell_type": "markdown",
   "metadata": {
    "tags": []
   },
   "source": [
    "# Senkrechter Wurf mit Luftwiderstand\n",
    "\n",
    "Siehe Wiedemann/Ingold: *Numerische Physik mit Python*, Springer-Spektrum 2024, ISBN 978-3-662-69566-1\n",
    "\n",
    "---"
   ]
  },
  {
   "cell_type": "markdown",
   "metadata": {},
   "source": [
    "In diesem Jupyter-Notebook wird die Bewegungsgleichung für den senkrechten Wurf mit Luftwiderstand auf verschiedene Arten numerisch gelöst. Dazu werden das Euler-Verfahren und das modifizierte Euler-Verfahren implementiert. Da die analytische Lösung bekannt ist, kann der Fehler der numerischen Lösung untersucht werden. Abschließend wird eine Funktion aus der SciPy-Bibliothek zur Lösung der Differentialgleichung herangezogen."
   ]
  },
  {
   "cell_type": "markdown",
   "metadata": {
    "jp-MarkdownHeadingCollapsed": true,
    "tags": []
   },
   "source": [
    "## Euler-Verfahren"
   ]
  },
  {
   "cell_type": "markdown",
   "metadata": {
    "jp-MarkdownHeadingCollapsed": false,
    "tags": []
   },
   "source": [
    "### Bewegungsgleichung\n",
    "\n",
    "Die Bewegungsgleichung für den senkrechten Wurf lautet in dimensionsloser Form\n",
    "\n",
    "$$\\frac{\\text{d}v}{\\text{d} t} = -1 - |v|v \\,.$$\n",
    "\n",
    "Die folgende Funktion berechnet die Beschleunigung $\\text{d}v/\\text{d}t$ als Funktion der Geschwindigkeit $v$. Sie wird in allen Teilen dieses Jupyter-Notebooks verwendet."
   ]
  },
  {
   "cell_type": "code",
   "execution_count": null,
   "metadata": {
    "tags": []
   },
   "outputs": [],
   "source": [
    "def dv_dt(v):\n",
    "    return -1-abs(v)*v"
   ]
  },
  {
   "cell_type": "markdown",
   "metadata": {
    "jp-MarkdownHeadingCollapsed": false,
    "tags": []
   },
   "source": [
    "### Berechnung der Lösung der Differentialgleichung\n",
    "\n",
    "Die nächste Funktion berechnet die Lösung der Bewegungsgleichung mit Hilfe des Euler-Verfahrens unter Verwendung der gerade definierten Funktion `dv_dt`. Die Zeitentwicklung beginnt bei $t=0$ mit der Anfangsgeschwindigkeit `v_0` und endet bei `t_end`. Dabei werden insgesamt `n_steps` Iterationsschritte ausgeführt. \n",
    "\n",
    "Zunächst wird aus der Endzeit `t_end` und der Zahl der Iterationsschritte `n_steps` die Größe eines Zeitschritts berechnet. Anschließend werden zwei Listen `t_values` und `v_values` erzeugt und mit den entsprechenden Anfangswerten vorbelegt. In der Schleife wird dann jeweils ein Iterationsschritt des Euler-Verfahrens ausgeführt und die neuen Werte für Zeit und Geschwindigkeit an die Listen angehängt.\n",
    "\n",
    "Nach Abschluss der Berechnung werden die Listen mit den Zeitpunkten und den Geschwindigkeiten zurückgegeben."
   ]
  },
  {
   "cell_type": "code",
   "execution_count": null,
   "metadata": {
    "tags": []
   },
   "outputs": [],
   "source": [
    "def euler(t_end, n_steps, v_0):\n",
    "    delta_t = t_end/n_steps\n",
    "    t_values = [0]\n",
    "    v_values = [v_0]\n",
    "    for n in range(n_steps):\n",
    "        t_values.append((n+1)*delta_t)\n",
    "        v = v_values[-1]\n",
    "        v_values.append(v + dv_dt(v)*delta_t)\n",
    "    return t_values, v_values"
   ]
  },
  {
   "cell_type": "markdown",
   "metadata": {
    "jp-MarkdownHeadingCollapsed": false,
    "tags": []
   },
   "source": [
    "### Importanweisungen\n",
    "\n",
    "Für die graphische Benutzerschnittstelle benutzen wir das `ipywidgets`-Modul, insbesondere unter Verwendung des `interact`-Dekorators. Zur graphischen Darstellung der Ergebnisse wird die `matplotlib`-Bibliothek verwendet. Außerdem werden in der Datei `numphyspy.style` einige Eigenschaften der graphischen Darstellung eingestellt.\n",
    "\n",
    "In diesem Juypter-Notebook führen wird die Imports erst aus, wenn sie wirklich benötigt werden. In allen folgenden Jupyter-Notebooks finden sich die Import-Anweisungen gleich zu Beginn, da sie normalerweise am Beginn eines Python-Programms stehen sollten. Die Anweisungen in der folgenden Zelle werden immer wieder in den Jupyter-Notebooks vorkommen und dann nicht mehr gesondert erklärt werden."
   ]
  },
  {
   "cell_type": "code",
   "execution_count": null,
   "metadata": {
    "tags": []
   },
   "outputs": [],
   "source": [
    "import ipywidgets as widgets\n",
    "from ipywidgets import interact\n",
    "import matplotlib.pyplot as plt\n",
    "\n",
    "plt.style.use(\"numphyspy.style\")"
   ]
  },
  {
   "cell_type": "markdown",
   "metadata": {
    "jp-MarkdownHeadingCollapsed": false,
    "tags": []
   },
   "source": [
    "### Implementierung der Bedienelemente und graphische Darstellung der Ergebnisse\n",
    "\n",
    "Mit den Schiebereglern können die Werte der folgenden Variablen eingestellt werden:\n",
    "- `t_end`: Endzeitpunkt\n",
    "- `n_steps`: Zahl der Iterationsschritte\n",
    "- `v_0`: Anfangsgeschwindigkeit\n",
    "\n",
    "Der Dekorator `@interact` sorgt dafür, dass bei Veränderungen der Werte die Funktion `plot_result` aufgerufen wird, die die Berechnung durchführt und das Ergebnis graphisch darstellt.\n",
    "\n",
    "Falls gewünscht, können die vorgegebenen Grenzen oder Schrittweiten für die Regler durch Anpassung der Werte in `widget_dict` modifiziert werden."
   ]
  },
  {
   "cell_type": "code",
   "execution_count": null,
   "metadata": {
    "tags": []
   },
   "outputs": [],
   "source": [
    "widget_dict = {\"t_end\":\n",
    "               widgets.FloatSlider(\n",
    "                   value=5, min=1, max=20, step=1,\n",
    "                   description=r\"$t_\\text{end}$\"),\n",
    "               \"n_steps\":\n",
    "               widgets.IntSlider(\n",
    "                   value=500, min=10, max=5000, step=10,\n",
    "                   description=r\"$n_\\text{steps}$\"),\n",
    "               \"v_0\":\n",
    "               widgets.FloatSlider(\n",
    "                   value=4, min=-5, max=5, step=0.1,\n",
    "                   description=\"$v(0)$\")\n",
    "               }\n",
    "\n",
    "@interact(**widget_dict)\n",
    "def plot_euler_result(t_end, n_steps, v_0):\n",
    "    t_values, v_values = euler(t_end, n_steps, v_0)\n",
    "\n",
    "    fig, ax = plt.subplots()\n",
    "    ax.plot(t_values, v_values)\n",
    "    ax.set_xlabel(\"$t$\")\n",
    "    ax.set_ylabel(\"$v$\")"
   ]
  },
  {
   "cell_type": "markdown",
   "metadata": {
    "jp-MarkdownHeadingCollapsed": true,
    "tags": []
   },
   "source": [
    "## Fehleranalyse für das Euler-Verfahren"
   ]
  },
  {
   "cell_type": "markdown",
   "metadata": {
    "jp-MarkdownHeadingCollapsed": false,
    "tags": []
   },
   "source": [
    "### Importanweisungen\n",
    "\n",
    "Für die Berechnung der exakten Lösung der Bewegungsgleichung des senkrechten Wurfs mit Luftwiderstand benötigen wir einige Funktionen aus dem `math`-Modul der Standardbibliothek, nämlich den Tangens, den Tangens Hyperbolicus und die zugehörigen inversen Funktionen."
   ]
  },
  {
   "cell_type": "code",
   "execution_count": null,
   "metadata": {
    "tags": []
   },
   "outputs": [],
   "source": [
    "from math import atan, atanh, tan, tanh"
   ]
  },
  {
   "cell_type": "markdown",
   "metadata": {
    "jp-MarkdownHeadingCollapsed": false,
    "tags": []
   },
   "source": [
    "### Exakte Lösung\n",
    "\n",
    "Nun werden Funktionen zur Berechnung der exakten Lösung der Bewegungsgleichung des senkrechten Wurfs mit Luftwiderstand definiert. Wie im Buch erklärt, muss man hier zwischen drei Bereichen für die Anfangsgeschwindigkeit `v_0` unterscheiden:\n",
    "1. positive Anfangsgeschwindigkeiten\n",
    "1. negative Anfangsgeschwindigkeiten, die größer als die asymptotische Geschwindigkeit sind\n",
    "1. negative Anfangsgeschwindigkeiten, die kleiner als die asymptotische Geschwindigkeit sind.\n",
    "\n",
    "Zunächst werden Funktionen für diese drei Fälle definiert. Die vierte Funktion ist dafür zuständig, in Abhängigkeit von `v_0` aus den ersten drei Funktionen die passende auszuwählen. Anschließend werden für die gewünschten Zeitwerte die zugehörigen Geschwindigkeiten berechnet und in einer Liste zurückgegeben."
   ]
  },
  {
   "cell_type": "code",
   "execution_count": null,
   "metadata": {
    "tags": []
   },
   "outputs": [],
   "source": [
    "def v_exact_pos(t, v_0):\n",
    "    t_0 = atan(v_0)\n",
    "    if t < t_0:\n",
    "        return tan(t_0-t)\n",
    "    else:\n",
    "        return -tanh(t-t_0)\n",
    "\n",
    "def v_exact_neg1(t, v_0):\n",
    "    return -tanh(t+atanh(-v_0))\n",
    "\n",
    "def v_exact_neg2(t, v_0):\n",
    "    return -1/tanh(t+atanh(-1/v_0))\n",
    "\n",
    "def v_exact(t_values, v_0):\n",
    "    v_values = []\n",
    "    if v_0 > 0:\n",
    "        v = v_exact_pos\n",
    "    elif v_0 > -1:\n",
    "        v = v_exact_neg1\n",
    "    else:\n",
    "        v = v_exact_neg2\n",
    "    for t in t_values:\n",
    "        v_values.append(v(t, v_0))\n",
    "    return v_values"
   ]
  },
  {
   "cell_type": "markdown",
   "metadata": {
    "jp-MarkdownHeadingCollapsed": false,
    "tags": []
   },
   "source": [
    "### Berechnung des absoluten Fehlers\n",
    "\n",
    "Zunächst wird hier die numerische Lösung der Bewegungsgleichung bestimmt, wobei die Funktion `method` die bereits definierte Funktion `euler` für das Euler-Verfahren oder die weiter unten definierte Funktion `mod_euler` für das modifizierte Euler-Verfahren sein kann. Bei Bedarf können auch noch weitere Funktionen definiert werden, um deren Fehler zu analysieren. Diese Funktionen müssen zwei Listen mit den Zeiten und den zugehörigen Geschwindigkeiten zurückgeben.\n",
    "\n",
    "Anschließend wird die exakte Lösung für die Anfangsgeschwindigkeit `v_0` sowie die Zeitwerte `t_values`, für die auch die numerische Lösung vorliegt, berechnet.\n",
    "\n",
    "In der folgenden Schleife, die parallel die beiden Listen mit den numerischen und exakten Werten abarbeitet, wird dann der absolute Fehler bestimmt und in der Liste `error_values` gesammelt."
   ]
  },
  {
   "cell_type": "code",
   "execution_count": null,
   "metadata": {
    "tags": []
   },
   "outputs": [],
   "source": [
    "def abs_errors(t_end, n_steps, v_0, method):\n",
    "    t_values, v_numerical_values = method(\n",
    "        t_end, n_steps, v_0)\n",
    "    v_exact_values = v_exact(t_values, v_0)\n",
    "    error_values = []\n",
    "    for v1, v2 in zip(v_numerical_values, v_exact_values):\n",
    "        error_values.append(abs(v1-v2))\n",
    "    return t_values, error_values"
   ]
  },
  {
   "cell_type": "markdown",
   "metadata": {
    "jp-MarkdownHeadingCollapsed": false,
    "tags": []
   },
   "source": [
    "### Graphische Darstellung des absoluten Fehlers\n",
    "\n",
    "Aus dem oben definierten Dictionary `widget_dict` wird der Eintrag `n_steps` wiederverwendet. Dies hat zur Folge, dass sich eine Änderung des Werts von `n_steps` auch in der Benutzerschnittstelle für das Euler-Verfahren auswirkt und die Lösung dort neu berechnet wird. Eine solche Kopplung werden wir in späteren Jupyter-Notebooks vermeiden, da solche Kopplungen unter Umständen unnötigerweise zeitaufwändige Rechnungen anstoßen."
   ]
  },
  {
   "cell_type": "code",
   "execution_count": null,
   "metadata": {
    "tags": []
   },
   "outputs": [],
   "source": [
    "@interact(**widget_dict)\n",
    "def plot_error_results(n_steps):\n",
    "    v_0 = 4\n",
    "    t_end = 4\n",
    "    t_values, error_values = abs_errors(t_end, n_steps,\n",
    "                                        v_0, euler)\n",
    "\n",
    "    fig, ax = plt.subplots()\n",
    "    ax.plot(t_values, error_values, linestyle=\"None\",\n",
    "            marker=\"o\")\n",
    "    ax.set_xlabel(\"$t$\")\n",
    "    ax.set_ylabel(r\"$\\delta v$\")"
   ]
  },
  {
   "cell_type": "markdown",
   "metadata": {
    "jp-MarkdownHeadingCollapsed": true,
    "tags": []
   },
   "source": [
    "## Modifiziertes Euler-Verfahren"
   ]
  },
  {
   "cell_type": "markdown",
   "metadata": {
    "jp-MarkdownHeadingCollapsed": false,
    "tags": []
   },
   "source": [
    "### Berechnung der Lösung mit Hilfe des modifizierten Euler-Verfahrens\n",
    "\n",
    "Die Funktion `mod_euler` unterscheidet sich von der Funktion `euler` lediglich im Iterationsschritt zur Berechnung der nächsten Geschwindigkeit. Hierbei werden die Größen `k_1` und `k_2` berechnet, wobei `k_2` gleich der Differenz zwischen der alten und der neuen Geschwindigkeit ist."
   ]
  },
  {
   "cell_type": "code",
   "execution_count": null,
   "metadata": {
    "tags": []
   },
   "outputs": [],
   "source": [
    "def mod_euler(t_end, n_steps, v_0):\n",
    "    delta_t = t_end/n_steps\n",
    "    t_values = [0]\n",
    "    v_values = [v_0]\n",
    "    for n in range(n_steps):\n",
    "        t_values.append((n+1)*delta_t)\n",
    "        v = v_values[-1]\n",
    "        k_1 = dv_dt(v)*delta_t\n",
    "        k_2 = dv_dt(v+k_1/2)*delta_t\n",
    "        v_values.append(v + k_2)\n",
    "    return t_values, v_values"
   ]
  },
  {
   "cell_type": "markdown",
   "metadata": {
    "jp-MarkdownHeadingCollapsed": false,
    "tags": []
   },
   "source": [
    "### Vergleich der absoluten Fehler des Euler-Verfahrens und des modifizierten Euler-Verfahrens\n",
    "\n",
    "Hier werden `n_out` verschiedene Iterationsschrittanzahlen betrachtet, die auf einer logarithmischen Skala äquidistant sind. Anschließend wird für die beiden oben definierten Funktionen `euler` und `mod_euler` mit Hilfe der bereits definierten Funktion `abs_errors` der jeweilige absolute Fehler berechnet und in einer Liste aufgesammelt. Das Ergebnis `error_values` wird zusammen mit der entsprechenden Liste der Zeitschritte zurückgegeben."
   ]
  },
  {
   "cell_type": "code",
   "execution_count": null,
   "metadata": {
    "tags": []
   },
   "outputs": [],
   "source": [
    "def error_comparison(t_end, n_steps_min, n_steps_max,\n",
    "                     n_out, v_0):\n",
    "    error_values = [[], []]\n",
    "    dt_values = []\n",
    "    factor = n_steps_max/n_steps_min\n",
    "    for m in range(n_out):\n",
    "        n_steps = int(n_steps_min * factor**(m/(n_out-1)))\n",
    "        dt_values.append(t_end / n_steps)\n",
    "        for idx, method in enumerate((euler, mod_euler)):\n",
    "            _, errors = abs_errors(t_end, n_steps,\n",
    "                                   v_0, method)\n",
    "            error_values[idx].append(errors[-1])\n",
    "    return dt_values, error_values"
   ]
  },
  {
   "cell_type": "markdown",
   "metadata": {
    "jp-MarkdownHeadingCollapsed": false,
    "tags": []
   },
   "source": [
    "### Darstellung der Resultate\n",
    "\n",
    "Hier verzichten wir auf eine graphische Benutzerschnittstelle, sondern zeigen das Vorgehen, wenn man die Parameter direkt in der Code-Zelle festlegt. Bei Bedarf können die Werte in der Zelle angepasst werden. Die ursprüngliche Parametereinstellung sieht eine Anfangsgeschwindigkeit `v_0` von 4 vor und betrachtet den absoluten Fehler bei der Zeit `t_end` gleich 0,2 in der Nähe des Nulldurchgangs der Geschwindigkeit. Es werden 20 verschiedene Werte für die Anzahl der Iterationsschritte zwischen $10$ und $10^7$ betrachtet. \n",
    "\n",
    "Man sieht, dass das modifizierte Euler-Verfahren deutlich schneller konvergiert. Für kleine Zeitschritte wirken sich jedoch Rundungsfehler aus.\n",
    "\n",
    "*Hinweis:* Die Auswertung dieser Zelle kann ein klein wenig länger dauern."
   ]
  },
  {
   "cell_type": "code",
   "execution_count": null,
   "metadata": {
    "tags": []
   },
   "outputs": [],
   "source": [
    "t_end = 0.2\n",
    "n_steps_min = 10\n",
    "n_steps_max = 1e7\n",
    "n_out = 20\n",
    "v_0 = 4\n",
    "\n",
    "dt_values, error_values = error_comparison(\n",
    "    t_end, n_steps_min, n_steps_max, n_out, v_0)\n",
    "\n",
    "fig, ax = plt.subplots()\n",
    "ax.loglog(dt_values, error_values[0], label=\"Euler\",\n",
    "          linestyle=\"None\", marker=\"o\")\n",
    "ax.loglog(dt_values, error_values[1], label=\"mod. Euler\",\n",
    "          linestyle=\"None\", marker=\"o\")\n",
    "ax.set_xlabel(r\"$\\Delta t$\")\n",
    "ax.set_ylabel(r\"$\\delta v$\")\n",
    "ax.legend(loc=\"lower right\");"
   ]
  },
  {
   "cell_type": "markdown",
   "metadata": {
    "jp-MarkdownHeadingCollapsed": true,
    "tags": []
   },
   "source": [
    "## Integration unter Verwendung von SciPy"
   ]
  },
  {
   "cell_type": "markdown",
   "metadata": {
    "jp-MarkdownHeadingCollapsed": false,
    "tags": []
   },
   "source": [
    "### Importanweisungen\n",
    "\n",
    "Nun greifen wir zur Lösung der Differentialgleichung auf die numerischen Programmbibliotheken NumPy und SciPy zurück. Die folgenden `import`-Anweisungen entsprechen den üblichen Konventionen. Für das Paket `numpy` wird die Abkürzung `np` eingeführt. Da das `scipy`-Paket aus zahlreichen Unterpaketen besteht, wird lediglich der Namensraum des hier benötigten Unterpakets `integrate` importiert."
   ]
  },
  {
   "cell_type": "code",
   "execution_count": null,
   "metadata": {
    "tags": []
   },
   "outputs": [],
   "source": [
    "import numpy as np\n",
    "from scipy import integrate"
   ]
  },
  {
   "cell_type": "markdown",
   "metadata": {
    "jp-MarkdownHeadingCollapsed": false,
    "tags": []
   },
   "source": [
    "### Anpassung der Zeitableitung der Geschwindigkeit für die Benutzung mit SciPy\n",
    "\n",
    "Die Zeitableitung der Geschwindigkeit hängt zwar nicht explizit von der Zeit ab, aber SciPy ist für den allgemeineren Fall vorbereitet und verlangt daher die Zeit `t` als erstes Argument. Die Funktion `dv_dt_scipy` gibt die Aufgabe einfach an die oben definierte Funktion `dv_dt` weiter."
   ]
  },
  {
   "cell_type": "code",
   "execution_count": null,
   "metadata": {
    "tags": []
   },
   "outputs": [],
   "source": [
    "def dv_dt_scipy(t, v):\n",
    "    return dv_dt(v)"
   ]
  },
  {
   "cell_type": "markdown",
   "metadata": {
    "jp-MarkdownHeadingCollapsed": false,
    "tags": []
   },
   "source": [
    "### Integration mit der SciPy-Funktion `integrate.solve_ivp`\n",
    "\n",
    "Die bisherigen Parameter werden hier um Fehlerschranken für den absoluten Fehler (`atol`) und den relativen Fehler (`rtol`) ergänzt. Zunächst wird ein Array erzeugt, das die Zeitwerte enthält, zu denen die Lösung berechnet werden soll. Anschließend erfolgt die Lösung mit Hilfe der SciPy-Funktion `integrate.solve_ivp`, die standardmäßig ein Runge-Kutta-Verfahren der Ordnung 5(4) verwendet. Nachdem die Lösung der Differentialgleichung berechnet ist, wird der absolute Fehler am Ende des berechneten Zeitintervalls bestimmt. Das Objekt `solution` enthält eine ganze Reihe von Informationen, von denen wir die folgenden verwenden werden:\n",
    "- `solution.t`: Zeitpunkte, zu denen die Lösung vorliegt\n",
    "- `solution.y`: Lösung zu den gerade genannten Zeitpunkten\n",
    "- `solution.nfev`: Anzahl der Aufrufe von `dv_dt_scipy` und damit von `dv_dt`\n",
    "\n",
    "Die Bedeutung weiterer Bestandteile von `solution` können der [Dokumentation von `solve_ivp`](https://docs.scipy.org/doc/scipy/reference/generated/scipy.integrate.solve_ivp.html) entnommen werden."
   ]
  },
  {
   "cell_type": "code",
   "execution_count": 1,
   "metadata": {
    "tags": []
   },
   "outputs": [],
   "source": [
    "def scipy_integration(t_end, n_steps, v_0, atol, rtol):\n",
    "    t_values = np.linspace(0, t_end, n_steps+1)\n",
    "    solution = integrate.solve_ivp(\n",
    "        dv_dt_scipy, (0, t_end), (v_0,),\n",
    "        t_eval=t_values, atol=atol, rtol=rtol)\n",
    "    error = abs(solution.y[0, -1]\n",
    "                - v_exact((t_end,), v_0)[0])\n",
    "    return solution, error"
   ]
  },
  {
   "cell_type": "markdown",
   "metadata": {
    "jp-MarkdownHeadingCollapsed": false,
    "tags": []
   },
   "source": [
    "### Implementierung der Bedienelemente und graphische Darstellung der Ergebnisse\n",
    "\n",
    "Zunächst wird die graphische Benutzerschnittstelle um Schieberegler für die Schranken `atol` und `rtol` für den absoluten bzw. relativen Fehler ergänzt. Nach der Berechnung der Lösung der Differentialgleichung werden die Anzahl der Funktionsaufrufe von `dv_dt` und der Fehler am Ende des Zeitintervalls ausgegeben. Abschließend wird die Zeitabhängigkeit der Geschwindigkeit dargestellt, die dem eingangs gefundenen Ergebnis entsprechen sollte. Allerdings wird das Ergebnis hier mit erheblich weniger Rechenaufwand erhalten, wie man durch Vergleich der Zahl der Aufrufe von `dv_dt` mit der Anzahl der Iterationsschritte in den vorigen Rechnungen erkennt."
   ]
  },
  {
   "cell_type": "code",
   "execution_count": null,
   "metadata": {
    "tags": []
   },
   "outputs": [],
   "source": [
    "new_widgets = {\"atol\":\n",
    "               widgets.FloatLogSlider(\n",
    "                   value=1e-9, min=-12, max=-2, step=0.1,\n",
    "                   description=\"atol\"),\n",
    "               \"rtol\":\n",
    "               widgets.FloatLogSlider(\n",
    "                   value=1e-9, min=-12, max=-2, step=0.1,\n",
    "                   description=\"rtol\")\n",
    "               }\n",
    "widget_dict.update(new_widgets)\n",
    "\n",
    "@interact(**widget_dict)\n",
    "def plot_scipy_results(t_end, n_steps, v_0, atol, rtol):\n",
    "    solution, error = scipy_integration(t_end, n_steps,\n",
    "                                        v_0, atol, rtol)\n",
    "    print(f\"{solution.nfev} Aufrufe der Funktion dv_dt\")\n",
    "    print(f\"absoluter Fehler: {error:8.2e}\")\n",
    "    print()\n",
    "\n",
    "    fig, ax = plt.subplots()\n",
    "    ax.plot(solution.t, solution.y[0, :])\n",
    "    ax.set_xlabel(\"$t$\")\n",
    "    ax.set_ylabel(\"$v$\")"
   ]
  }
 ],
 "metadata": {
  "kernelspec": {
   "display_name": "Python 3 (ipykernel)",
   "language": "python",
   "name": "python3"
  },
  "language_info": {
   "codemirror_mode": {
    "name": "ipython",
    "version": 3
   },
   "file_extension": ".py",
   "mimetype": "text/x-python",
   "name": "python",
   "nbconvert_exporter": "python",
   "pygments_lexer": "ipython3",
   "version": "3.12.4"
  },
  "toc-autonumbering": false,
  "toc-showcode": false,
  "toc-showmarkdowntxt": false,
  "toc-showtags": false
 },
 "nbformat": 4,
 "nbformat_minor": 4
}
