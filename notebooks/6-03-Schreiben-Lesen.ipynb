{
 "cells": [
  {
   "cell_type": "markdown",
   "metadata": {},
   "source": [
    "# Ein- und Ausgabe am Beispiel des Ising-Modells\n",
    "\n",
    "Siehe Wiedemann/Ingold: *Numerische Physik mit Python*, Springer-Spektrum 2024, ISBN 978-3-662-69566-1\n",
    "\n",
    "---"
   ]
  },
  {
   "cell_type": "markdown",
   "metadata": {},
   "source": [
    "Dieses Jupyter-Notebook basiert auf dem Jupyter-Notebook [4-04-Ising-Modell.ipynb](4-04-Ising-Modell.ipynb) zum Ising-Modell und demonstriert das Schreiben in und das Lesen aus Dateien. Im Folgenden werden nur die neuen Codeteile kommentiert. Für die Beschreibung des Codes zum Ising-Modell sei auf das Jupyter-Notebook [4-04-Ising-Modell.ipynb](4-04-Ising-Modll.ipynb) verwiesen."
   ]
  },
  {
   "cell_type": "markdown",
   "metadata": {
    "jp-MarkdownHeadingCollapsed": true,
    "tags": []
   },
   "source": [
    "## Importanweisungen\n",
    "\n",
    "Im Zusammenhang mit der Ein- und Ausgabe benötigen wir hier einige zusätzliche Importanweisungen. Zunächst wird der Namensraum des `csv`-Moduls aus der Python-Standardbibliothek importiert. Wir werden dieses Modul benutzen, um CSV-Dateien zu schreiben. Ferner wird aus dem `pathlib`-Modul der Python-Standardbibliothek die Klasse `Path` importiert, die den Umgang mit Pfadnamen erleichtert. Schließlich importieren wir noch `pandas`, ein umfangreiches Paket zur Datenanalyse. Es ist üblich, hierfür die Abkürzung `pd` einzuführen, so wie `numpy` mit `np` abgekürzt wird. Wir werden die pandas-Bibliothek lediglich dazu benutzen, um Daten im Jupyter-Notebook in einfacher Weise in Tabellenform darzustellen."
   ]
  },
  {
   "cell_type": "code",
   "execution_count": null,
   "metadata": {
    "tags": []
   },
   "outputs": [],
   "source": [
    "from collections import defaultdict\n",
    "import csv\n",
    "from math import exp\n",
    "from pathlib import Path\n",
    "\n",
    "import numpy as np\n",
    "import matplotlib.pyplot as plt\n",
    "import pandas as pd\n",
    "\n",
    "import ipywidgets as widgets\n",
    "from ipywidgets import interact_manual\n",
    "from IPython.display import display, HTML\n",
    "\n",
    "plt.style.use(\"numphyspy.style\")"
   ]
  },
  {
   "cell_type": "markdown",
   "metadata": {
    "jp-MarkdownHeadingCollapsed": true,
    "tags": []
   },
   "source": [
    "## Temperaturabhängigkeit von spezifischer Wärme und magnetischer Suszeptibilität des Ising-Modells"
   ]
  },
  {
   "cell_type": "markdown",
   "metadata": {
    "jp-MarkdownHeadingCollapsed": false,
    "tags": []
   },
   "source": [
    "### Name des Notebooks als Basisname für Datenfiles und des Unterverzeichnisses für Daten\n",
    "\n",
    "Zu Beginn legen wir zwei Parameter fest und verwenden dabei durchgehend groß geschriebene Variablennamen um anzudeuten, dass diese Variablen in folgenden Codezellen nicht verändert werden sollten. `NB_BASENAME` bezieht sich auf den Basisnamen, aus dem später die Dateinamen konstruiert werden. `DATADIR` ist das Verzeichnis, in dem Dateien abgelegt werden. Es handelt sich dabei um ein Unterverzeichnis des Verzeichnisses, in dem sich das Jupyter-Notebook befindet. Bei Bedarf können diese beiden Parameter hier angepasst werden."
   ]
  },
  {
   "cell_type": "code",
   "execution_count": null,
   "metadata": {
    "tags": []
   },
   "outputs": [],
   "source": [
    "NB_BASENAME = \"Ising-Modell-IO\"\n",
    "DATADIR = Path.cwd() / \"data\""
   ]
  },
  {
   "cell_type": "markdown",
   "metadata": {
    "jp-MarkdownHeadingCollapsed": false,
    "tags": []
   },
   "source": [
    "### Bestimmung der nächsten Nachbarn"
   ]
  },
  {
   "cell_type": "code",
   "execution_count": null,
   "metadata": {
    "tags": []
   },
   "outputs": [],
   "source": [
    "def neighbours(size, dimension):\n",
    "    neighbour = np.empty((size**dimension, 2*dimension),\n",
    "                         dtype=int)\n",
    "    index_shape = (size,)*dimension\n",
    "    index = np.arange(size**dimension).reshape(index_shape)\n",
    "    column = 0\n",
    "    for axis in range(dimension):\n",
    "        for shift in (-1, 1):\n",
    "            neighbour[:, column] = np.roll(index, shift,\n",
    "                                           axis=axis\n",
    "                                           ).flatten()\n",
    "            column = column + 1\n",
    "    return neighbour"
   ]
  },
  {
   "cell_type": "markdown",
   "metadata": {
    "jp-MarkdownHeadingCollapsed": false,
    "tags": []
   },
   "source": [
    "### Erzeugung des Anfangszustands"
   ]
  },
  {
   "cell_type": "code",
   "execution_count": null,
   "metadata": {
    "tags": []
   },
   "outputs": [],
   "source": [
    "rng = np.random.default_rng(123456)\n",
    "\n",
    "def initial_state(n_spins, neighbour):\n",
    "    state = rng.choice((-1, 1), size=n_spins)\n",
    "    magnetization = np.sum(state)\n",
    "    sum_nbr_spins = np.sum(state[neighbour], axis=1)\n",
    "    energy = -np.sum(state*sum_nbr_spins)/2\n",
    "    return state, energy, magnetization"
   ]
  },
  {
   "cell_type": "markdown",
   "metadata": {
    "jp-MarkdownHeadingCollapsed": false,
    "tags": []
   },
   "source": [
    "### Iterationsschritt im Wolff-Algorithmus"
   ]
  },
  {
   "cell_type": "code",
   "execution_count": null,
   "metadata": {
    "tags": []
   },
   "outputs": [],
   "source": [
    "def wolff_generator(size, dimension, beta, full=False):\n",
    "    n_spins = size**dimension\n",
    "    neighbour = neighbours(size, dimension)\n",
    "    p_limit = 1-exp(-2*beta)\n",
    "    state, energy, magnetization = initial_state(n_spins,\n",
    "                                                 neighbour)\n",
    "    while True:\n",
    "        if full:\n",
    "            yield state, energy, magnetization\n",
    "        else:\n",
    "            yield energy, magnetization\n",
    "        n_start = rng.choice(n_spins)\n",
    "        to_do = {n_start}\n",
    "        cluster = {n_start}\n",
    "        state[n_start] = -state[n_start]\n",
    "        while to_do:\n",
    "            n_spin = to_do.pop()\n",
    "            for nbr in neighbour[n_spin, :]:\n",
    "                if (state[nbr] != state[n_spin]\n",
    "                        and np.random.uniform() < p_limit):\n",
    "                    to_do.add(nbr)\n",
    "                    cluster.add(nbr)\n",
    "                    state[nbr] = -state[nbr]\n",
    "        delta_m = 2*state[n_start]*len(cluster)\n",
    "        magnetization = magnetization + delta_m\n",
    "        delta_e = 0\n",
    "        for n_spin in cluster:\n",
    "            sum_nbr_spins = 0\n",
    "            for n_nbr_spin in neighbour[n_spin, :]:\n",
    "                if n_nbr_spin not in cluster:\n",
    "                    sum_nbr_spins += state[n_nbr_spin]\n",
    "            delta_e = delta_e - 2*state[n_spin]*sum_nbr_spins\n",
    "        energy = energy + delta_e"
   ]
  },
  {
   "cell_type": "markdown",
   "metadata": {
    "jp-MarkdownHeadingCollapsed": false,
    "tags": []
   },
   "source": [
    "### Energie, Magnetisierung sowie deren erste und zweite Momente"
   ]
  },
  {
   "cell_type": "code",
   "execution_count": null,
   "metadata": {
    "tags": []
   },
   "outputs": [],
   "source": [
    "def thermo_values(size, dimension, beta, n_steps_init,\n",
    "                  n_steps, absmagn):\n",
    "    state = wolff_generator(size, dimension, beta)\n",
    "    for n in range(n_steps_init):\n",
    "        next(state)\n",
    "    e_sum = 0\n",
    "    e2_sum = 0\n",
    "    m_sum = 0\n",
    "    m2_sum = 0\n",
    "    for n, (energy, magnetization) in zip(range(n_steps),\n",
    "                                          state):\n",
    "        e_sum = e_sum + energy\n",
    "        e2_sum = e2_sum + energy**2\n",
    "        if absmagn:\n",
    "            magnetization = abs(magnetization)\n",
    "        m_sum = m_sum + magnetization\n",
    "        m2_sum = m2_sum + magnetization**2\n",
    "    n_spins = size**dimension\n",
    "    spec_heat = e2_sum/n_steps-(e_sum/n_steps)**2\n",
    "    spec_heat = spec_heat * beta**2 / n_spins\n",
    "    magn_susc = m2_sum/n_steps-(m_sum/n_steps)**2\n",
    "    magn_susc = magn_susc * beta / n_spins\n",
    "    return 1/beta, spec_heat, magn_susc"
   ]
  },
  {
   "cell_type": "markdown",
   "metadata": {
    "jp-MarkdownHeadingCollapsed": false,
    "tags": []
   },
   "source": [
    "### Erzeugung von Dateinamen\n",
    "\n",
    "Wenn man Ergebnisse zu unterschiedlichen Parametersätzen in Dateien schreibt, möchte man vermeiden, schon existierende Dateien zu überschreiben. Daher muss man einen neue Dateinamen erzeugen. In unserem Fall sollen Dateinamen aus einem Basisnamen `basename` und einer nach einem Unterstrich angehängten Ziffernfolge sowie einer Dateinamenserweiterung `extension` bestehen. Die Aufgabe besteht also darin, eine noch nicht existierende Ziffernfolge zu erzeugen. Dazu wird zunächst mit Hilfe der Funktion `search_files` eine sortierte Liste der existierenden Dateinamen mit dem vorgegebenen Dateinamensformat erzeugt. Der letzte Eintrag in der Liste entspricht der höchsten, bereits existierenden laufenden Nummer, die in `max_nr` abgelegt wird. Sind noch keine Dateien vorhanden, erhält `max_nr` den Wert `-1`. Indem man `max_nr` um eins erhöht, erhält man die laufende Nummer, aus der man den nächsten Dateinamen konstruieren kann. Dieser wird abschließend an das vorgegebene Verzeichnis `dir` angehängt."
   ]
  },
  {
   "cell_type": "code",
   "execution_count": null,
   "metadata": {
    "tags": []
   },
   "outputs": [],
   "source": [
    "def search_files(dir, basename, extension, nr_of_digits=4):\n",
    "    filenamepattern = \"\".join([basename, \"_\",\n",
    "                               \"[0-9]\"*nr_of_digits, \".\",\n",
    "                               extension])\n",
    "    return sorted(dir.glob(filenamepattern))\n",
    "\n",
    "def next_filename(dir, basename, extension, nr_of_digits=4):\n",
    "    existing_files = search_files(dir, basename, extension,\n",
    "                                  nr_of_digits)\n",
    "    if len(existing_files):\n",
    "        latest_file = existing_files[-1]\n",
    "        max_nr = int(latest_file.stem[-nr_of_digits:])\n",
    "    else:\n",
    "        max_nr = -1\n",
    "    nextfilename = \"\".join([basename, \"_\",\n",
    "                            f\"{max_nr+1:0{nr_of_digits}}\",\n",
    "                            \".\", extension])\n",
    "    return dir / nextfilename"
   ]
  },
  {
   "cell_type": "markdown",
   "metadata": {
    "jp-MarkdownHeadingCollapsed": false,
    "tags": []
   },
   "source": [
    "### Schreiben von Daten\n",
    "\n",
    "Das Schreiben der Daten in eine Datei soll im CSV-Format erfolgen, wobei hier die einzelnen Einträge in einer Zeile durch Kommas getrennt werden. Das Schreiben erfolgt in einem `with`-Kontext, der sicherstellt, dass die Datei auf jeden Fall korrekt geschlossen wird. Zunächst werden die Werte der in der Rechnung verwendeten Parameter in die Datei geschrieben. Die betreffenden Zeilen beginnen mit einem `#` um anzudeuten, dass es sich hier nicht um die eigentlichen Daten handelt. Um die Angabe der Parameter von der Überschrift, die die Bedeutung der Spalten angibt, abzugrenzen, wird noch eine mit einem `#` beginnende Leerzeile eingefügt. Abschließend erfolgt die Schleife über die Werte der inversen Temperatur, wobei in jedem Durchlauf eine neue Datenzeile geschrieben wird. Diese enthält die Temperatur, die spezifische Wärme je Spin und die dynamische Suszeptibilität je Spin."
   ]
  },
  {
   "cell_type": "code",
   "execution_count": null,
   "metadata": {
    "tags": []
   },
   "outputs": [],
   "source": [
    "def write_c_chi_of_temp(size, dimension, temperature_range,\n",
    "                        n_T, log_n_steps_init, log_n_steps,\n",
    "                        absmagn, filename):\n",
    "    n_steps_init = 10**log_n_steps_init\n",
    "    n_steps = 10**log_n_steps\n",
    "    with open(filename, \"w\", encoding=\"utf-8\", newline=\"\"\n",
    "              ) as csvfile:\n",
    "        csvwriter = csv.writer(csvfile)\n",
    "        for k in (\"dimension\", \"size\", \"n_steps_init\",\n",
    "                  \"n_steps\", \"absmagn\"):\n",
    "            csvwriter.writerow((f\"# {k} = {locals()[k]}\",))\n",
    "        csvwriter.writerow(\"#\")\n",
    "        if absmagn:\n",
    "            csvwriter.writerow((\"# T\", \"C/N\", \"χ/N\"))\n",
    "        else:\n",
    "            csvwriter.writerow((\"# T\", \"C/N\", \"χ'/N\"))\n",
    "        beta_values = 1/np.linspace(*temperature_range, n_T)\n",
    "        for beta in beta_values:\n",
    "            result = thermo_values(\n",
    "                size, dimension, beta, n_steps_init,\n",
    "                n_steps, absmagn)\n",
    "            csvwriter.writerow(result)"
   ]
  },
  {
   "cell_type": "markdown",
   "metadata": {
    "jp-MarkdownHeadingCollapsed": false,
    "tags": []
   },
   "source": [
    "### Berechtigung zum Schreiben in das Datenverzeichnis\n",
    "\n",
    "Neben der Einstellung von Parametern im Zusammenhang mit dem Ising-Modell kommt hier noch die Abfrage hinzu, ob in das Unterverzeichnis `data` geschrieben werden darf oder dieses, falls es noch nicht existiert, neu angelegt werden darf. Um die Erlaubnis zu erteilen, muss das entsprechende Kästchen angeklickt werden."
   ]
  },
  {
   "cell_type": "code",
   "execution_count": null,
   "metadata": {
    "tags": []
   },
   "outputs": [],
   "source": [
    "if Path.exists(DATADIR):\n",
    "    info_text = (\"Ein Unterverzeichnis data existiert. \"\n",
    "                 \"Bestätigen Sie, dass dort Daten \"\n",
    "                 \"abgelegt werden dürfen.\")\n",
    "else:\n",
    "    info_text = (\"Bestätigen Sie, dass ein \"\n",
    "                 \"Unterverzeichnis data angelegt werden \"\n",
    "                 \"darf, um dort Daten abzulegen.\")\n",
    "\n",
    "\n",
    "wide_label = {\"description_width\": \"initial\"}\n",
    "widget_dict = {\"size\":\n",
    "               widgets.IntSlider(\n",
    "                   value=100, min=100, max=1000, step=100,\n",
    "                   description=r\"$n_\\text{spins}$\"),\n",
    "               \"dimension\":\n",
    "               widgets.RadioButtons(\n",
    "                   options=[(\"eindimensional\", 1),\n",
    "                            (\"zweidimensional\", 2)],\n",
    "                   value=1, description=\"Dimension\"),\n",
    "               \"absmagn\":\n",
    "               widgets.RadioButtons(\n",
    "                   options=[(\"M\", False),\n",
    "                            (\"|M|\", True)],\n",
    "                   value=False,\n",
    "                   description=\"Magnetisierung\"),\n",
    "               \"temperature_range\":\n",
    "               widgets.FloatRangeSlider(\n",
    "                   value=(0.05, 5), min=0.05, max=5,\n",
    "                   step=0.05,\n",
    "                   description=\"Temperaturbereich\",\n",
    "                   style=wide_label),\n",
    "               \"n_T\":\n",
    "               widgets.IntSlider(\n",
    "                   value=50, min=10, max=200, step=10,\n",
    "                   description=\"Temperaturwerte\",\n",
    "                   style=wide_label),\n",
    "               \"log_n_steps_init\":\n",
    "               widgets.IntSlider(\n",
    "                   value=3, min=1, max=7, step=1,\n",
    "                   description=r\"$\\log_{10}\"\n",
    "                               r\"(n_\\text{init})$\"),\n",
    "               \"log_n_steps\":\n",
    "               widgets.IntSlider(\n",
    "                   value=4, min=3, max=9, step=1,\n",
    "                   description=r\"$\\log_{10}\"\n",
    "                               r\"(n_\\text{steps})$\"),\n",
    "               \"datadir_perm\":\n",
    "               widgets.Checkbox(\n",
    "                   value=False, description=info_text,\n",
    "                   indent=False,\n",
    "                   layout=widgets.Layout(width=\"100%\"))\n",
    "               }\n",
    "\n",
    "def handle_dim_change(change):\n",
    "    attributes = {1: {\"max\": 1000, \"min\": 50, \"step\": 50,\n",
    "                      \"value\": 100},\n",
    "                  2: {\"step\": 5, \"min\": 5, \"max\": 40,\n",
    "                      \"value\": 20}}\n",
    "    for k, v in attributes[change.new].items():\n",
    "        setattr(widget_dict[\"size\"], k, v)\n",
    "\n",
    "widget_dict[\"dimension\"].observe(handle_dim_change,\n",
    "                                 names=\"value\")\n",
    "\n",
    "interact_start = interact_manual.options(\n",
    "    manual_name=\"Start Berechnung\")"
   ]
  },
  {
   "cell_type": "code",
   "execution_count": null,
   "metadata": {
    "tags": []
   },
   "outputs": [],
   "source": [
    "@interact_start(**widget_dict)\n",
    "def generate_and_write_data(size, dimension,\n",
    "                            temperature_range, n_T,\n",
    "                            log_n_steps_init, log_n_steps,\n",
    "                            absmagn, datadir_perm):\n",
    "    if not datadir_perm:\n",
    "        return\n",
    "    if not Path.exists(DATADIR):\n",
    "        Path.mkdir(DATADIR)\n",
    "    filename = next_filename(DATADIR, NB_BASENAME, \"csv\")\n",
    "    write_c_chi_of_temp(size, dimension, temperature_range,\n",
    "                        n_T, log_n_steps_init, log_n_steps,\n",
    "                        absmagn, filename)"
   ]
  },
  {
   "cell_type": "markdown",
   "metadata": {
    "jp-MarkdownHeadingCollapsed": false,
    "tags": []
   },
   "source": [
    "### Einlesen von Daten\n",
    "\n",
    "Die folgenden drei Funktionen werden im Zusammenhang mit dem Einlesen von Daten verwendet. Da die für die Rechnung verwendeten Parameter nicht im Dateinamen enthalten sind, hilft die Funktion `get_parameters`, die richtige Datei zu identifizieren. Dazu liest diese Funktion die in einer Datei `filename` verwendeten Parameter aus den mit `#` beginnenden Zeilen ein und gibt diese im Dictionary `parameter_info` zurück. Die Funktion `parameter_dataframe` verwendet diese Informationen und gibt sie zusammen mit den zugehörigen Dateinamen in einem DataFrame von Pandas zurück. In dieser Form ist später eine Darstellung der Informationen als Tabelle leicht möglich. Die Daten sowie insbesondere die Variable `absmagn`, die angibt, ob der Absolutbetrag der Magnetisierung bei der Berechnung der magnetischen Suszeptibilität verwendet wurde, werden beim Aufruf der Funktion `get_data` zurückgegeben. Dabei wird der Dateiname durch das Attribut `value` des noch zu definierenden Auswahl-Widgets `fileselector` festgelegt."
   ]
  },
  {
   "cell_type": "code",
   "execution_count": null,
   "metadata": {
    "tags": []
   },
   "outputs": [],
   "source": [
    "def get_parameters(filename):\n",
    "    parameter_info = dict()\n",
    "    with open(filename) as file:\n",
    "        for line in file:\n",
    "            if line.strip() == \"#\":\n",
    "                break\n",
    "            else:\n",
    "                param_line = line.lstrip(\"# \").rstrip()\n",
    "                k, v = param_line.split(\" = \")\n",
    "                parameter_info[k] = v\n",
    "    return parameter_info\n",
    "\n",
    "def parameter_dataframe(filenames, keys, nr_of_digits=4):\n",
    "    data_dict = defaultdict(list)\n",
    "    for filename in filenames:\n",
    "        file_index = filename.stem[-nr_of_digits:]\n",
    "        data_dict[\"Dateinummer\"].append(file_index)\n",
    "        parameter_dict = get_parameters(filename)\n",
    "        for k in keys:\n",
    "            data_dict[k].append(parameter_dict[k])\n",
    "    return pd.DataFrame(data_dict)\n",
    "\n",
    "def get_data():\n",
    "    try:\n",
    "        filename = fileselector.value\n",
    "    except NameError:\n",
    "        raise ValueError(\"bitte wählen Sie eine Datei aus\")\n",
    "    parameter_dict = get_parameters(filename)\n",
    "    size = int(parameter_dict[\"size\"])\n",
    "    dimension = int(parameter_dict[\"dimension\"])\n",
    "    absmagn = parameter_dict[\"absmagn\"]\n",
    "    data = np.loadtxt(fileselector.value, delimiter=\",\")\n",
    "    return data, size, dimension, absmagn"
   ]
  },
  {
   "cell_type": "markdown",
   "metadata": {
    "jp-MarkdownHeadingCollapsed": false,
    "tags": []
   },
   "source": [
    "### Darstellung der Parameter für die vorhandenen Dateien\n",
    "\n",
    "Das von `parameter_dataframe` zurückgegebene Dataframe wird als HTML-Tabelle dargestellt."
   ]
  },
  {
   "cell_type": "code",
   "execution_count": null,
   "metadata": {
    "tags": []
   },
   "outputs": [],
   "source": [
    "existing_files = search_files(DATADIR, NB_BASENAME, \"csv\")\n",
    "column_names = [\"dimension\", \"size\", \"n_steps_init\",\n",
    "                \"n_steps\", \"absmagn\"]\n",
    "df = parameter_dataframe(existing_files[::-1], column_names)\n",
    "HTML(df.to_html(index=False))"
   ]
  },
  {
   "cell_type": "markdown",
   "metadata": {
    "jp-MarkdownHeadingCollapsed": false,
    "tags": []
   },
   "source": [
    "### Widget für die Dateiauswahl\n",
    "\n",
    "Hier wird das Auswahl-Widget definiert, mit dessen Hilfe die einzulesende Datei ausgewählt wird."
   ]
  },
  {
   "cell_type": "code",
   "execution_count": null,
   "metadata": {
    "tags": []
   },
   "outputs": [],
   "source": [
    "existing_files = search_files(DATADIR, NB_BASENAME, \"csv\")\n",
    "try:\n",
    "    fileselector = widgets.Select(\n",
    "        options=existing_files[::-1],\n",
    "        value=existing_files[-1],\n",
    "        description=\"Dateien:\",\n",
    "        layout=widgets.Layout(width=\"100%\")\n",
    "    )\n",
    "except IndexError:\n",
    "    print(\"aktuell sind keine Dateien verfügbar\")\n",
    "else:\n",
    "    display(fileselector)"
   ]
  },
  {
   "cell_type": "markdown",
   "metadata": {
    "jp-MarkdownHeadingCollapsed": false,
    "tags": []
   },
   "source": [
    "### Graphische Darstellung der Daten\n",
    "\n",
    "Nachdem die Daten mit Hilfe der Funktion `get_data` eingelesen wurden, werden sie graphisch dargestellt."
   ]
  },
  {
   "cell_type": "code",
   "execution_count": null,
   "metadata": {
    "tags": []
   },
   "outputs": [],
   "source": [
    "data, size, dimension, absmagn = get_data()\n",
    "\n",
    "temperature = data[:, 0]\n",
    "spec_heat = data[:, 1]\n",
    "magn_susc = data[:, 2]\n",
    "\n",
    "fig, (ax1, ax2) = plt.subplots(1, 2, figsize=(14, 5))\n",
    "ax1.set_xlabel(\"$T$\")\n",
    "ax1.set_ylabel(\"$C/N$\")\n",
    "ax1.plot(temperature, spec_heat)\n",
    "\n",
    "ax2.set_xlabel(\"$T$\")\n",
    "if absmagn == \"True\":\n",
    "    ax2.set_ylabel(r\"$\\chi'/N$\")\n",
    "else:\n",
    "    ax2.set_ylabel(r\"$\\chi/N$\")\n",
    "ax2.plot(temperature, magn_susc)"
   ]
  }
 ],
 "metadata": {
  "kernelspec": {
   "display_name": "Python 3 (ipykernel)",
   "language": "python",
   "name": "python3"
  },
  "language_info": {
   "codemirror_mode": {
    "name": "ipython",
    "version": 3
   },
   "file_extension": ".py",
   "mimetype": "text/x-python",
   "name": "python",
   "nbconvert_exporter": "python",
   "pygments_lexer": "ipython3",
   "version": "3.12.4"
  }
 },
 "nbformat": 4,
 "nbformat_minor": 4
}
