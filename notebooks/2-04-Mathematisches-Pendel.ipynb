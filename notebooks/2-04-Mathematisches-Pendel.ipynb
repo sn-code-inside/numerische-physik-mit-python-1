{
 "cells": [
  {
   "cell_type": "markdown",
   "metadata": {},
   "source": [
    "# Mathematisches Pendel\n",
    "\n",
    "Siehe Wiedemann/Ingold: *Numerische Physik mit Python*, Springer-Spektrum 2024, ISBN 978-3-662-69566-1\n",
    "\n",
    "---"
   ]
  },
  {
   "cell_type": "markdown",
   "metadata": {},
   "source": [
    "Die Bewegungsgleichung des mathematischen Pendels lautet in dimensionsloser Form\n",
    "\n",
    "$$\\frac{\\text{d}^2\\theta}{\\text{d}t^2} = -\\sin(\\theta)\\,.$$\n",
    "\n",
    "Obwohl sich diese Gleichung analytisch lösen lässt, soll sie hier mit Hilfe der SciPy-Funktion `integrate.solve_ivp` numerisch gelöst werden. Neben der zeitabhängigen Bewegung wird auch die Bewegung im Phasenraum betrachtet.\n",
    "\n",
    "Da die Gesamtenergie des mathematischen Pendels erhalten ist, wird im zweiten Abschnitt die Qualität der numerischen Lösung anhand der zeitlichen Änderung der Gesamtenergie beurteilt."
   ]
  },
  {
   "cell_type": "markdown",
   "metadata": {
    "jp-MarkdownHeadingCollapsed": true,
    "tags": []
   },
   "source": [
    "## Lösung der Bewegungsgleichung und Phasenraumdarstellung"
   ]
  },
  {
   "cell_type": "markdown",
   "metadata": {
    "jp-MarkdownHeadingCollapsed": false,
    "tags": []
   },
   "source": [
    "### Importanweisungen"
   ]
  },
  {
   "cell_type": "code",
   "execution_count": null,
   "metadata": {
    "tags": []
   },
   "outputs": [],
   "source": [
    "from math import cos, pi, sin\n",
    "import numpy as np\n",
    "from scipy import integrate\n",
    "import ipywidgets as widgets\n",
    "from ipywidgets import interact\n",
    "import matplotlib.pyplot as plt\n",
    "\n",
    "plt.style.use(\"numphyspy.style\")"
   ]
  },
  {
   "cell_type": "markdown",
   "metadata": {
    "jp-MarkdownHeadingCollapsed": false,
    "tags": []
   },
   "source": [
    "### Implementation der Bewegungsgleichung\n",
    "\n",
    "Wie schon in vorhergehenden Jupyter-Notebooks muss die Differentialgleichung 2. Ordnung mit Hilfe von Differentialgleichungen 1. Ordnung dargestellt werden. Diese lauten\n",
    "\n",
    "\\begin{align}\n",
    "\\frac{\\text{d}\\theta}{\\text{d}t} &= v_\\theta\\\\\n",
    "\\frac{\\text{d}v_\\theta}{\\text{d}t} &= -\\sin(\\theta)\n",
    "\\end{align}\n",
    "\n",
    "und werden in der folgenden Funktion umgesetzt."
   ]
  },
  {
   "cell_type": "code",
   "execution_count": null,
   "metadata": {
    "tags": []
   },
   "outputs": [],
   "source": [
    "def dtheta_dt(t, theta_vec):\n",
    "    theta, v_theta = theta_vec\n",
    "    return v_theta, -sin(theta)"
   ]
  },
  {
   "cell_type": "markdown",
   "metadata": {
    "jp-MarkdownHeadingCollapsed": false,
    "tags": []
   },
   "source": [
    "### Lösung des Differentialgleichungssystems\n",
    "\n",
    "In der folgenden Zelle wird `integrate.solve_ivp` benutzt, um ähnlich wie in vorhergehenden Jupyter-Notebooks die Bewegungsgleichung zu lösen. Neu ist hier die Verwendung von `atol` und `rtol`, um Schranken für den absoluten bzw. den relativen Fehler festzulegen. Dabei genügt es, wenn eine der beiden Fehlerschranken unterschritten wird.\n",
    "\n",
    "Um ein Phasenraumdiagramm erstellen zu können, werden neben den verwendeten Zeitpunkten alle Bestandteile des Lösungsvektors `solution.y` übergeben, die sowohl den zeitabhängigen Winkel $\\theta(t)$ als auch die zeitabhängige Winkelgeschwindigkeit $v_\\theta(t)$ umfassen, übergeben. Außerdem wird die Anzahl der Auswertungen von `dtheta_dt` übergeben."
   ]
  },
  {
   "cell_type": "code",
   "execution_count": null,
   "metadata": {
    "tags": []
   },
   "outputs": [],
   "source": [
    "def trajectory(t_end, n_out, theta_0, v_theta_0,\n",
    "               atol, rtol):\n",
    "    t_values = np.linspace(0, t_end, n_out)\n",
    "    solution = integrate.solve_ivp(\n",
    "        dtheta_dt, (0, t_end), [theta_0, v_theta_0],\n",
    "        t_eval=t_values, atol=atol, rtol=rtol)\n",
    "    theta, v_theta = solution.y[:]\n",
    "    t = solution.t\n",
    "    return t, theta, v_theta, solution.nfev"
   ]
  },
  {
   "cell_type": "markdown",
   "metadata": {
    "jp-MarkdownHeadingCollapsed": false,
    "tags": []
   },
   "source": [
    "### Implementierung der Bedienelemente und graphische Darstellung der Ergebnisse\n",
    "\n",
    "Es können die folgenden Parameter eingestellt werden:\n",
    "- `t_end`: Länge des Zeitintervalls\n",
    "- `n_out`: Anzahl der Datenpunkte\n",
    "- `theta_0_over_pi`: Anfangswinkel dividiert durch π. Die Werte 0 und 1 entsprechen somit der stabilen bzw. der instabilen Gleichgewichtslage.\n",
    "- `v_theta_0`: anfängliche Winkelgeschwindigkeit\n",
    "- `atol`: absoluter Fehler\n",
    "- `rtol`: relativer Fehler\n",
    "- `plottype`: Art der Darstellung, entweder Zeitabhängigkeit $\\theta(t)$ oder Phasenraumdarstellung $v_\\theta(\\theta)$"
   ]
  },
  {
   "cell_type": "code",
   "execution_count": null,
   "metadata": {
    "tags": []
   },
   "outputs": [],
   "source": [
    "widget_dict = {\"t_end\":\n",
    "               widgets.FloatSlider(\n",
    "                   value=10, min=0.1, max=30, step=0.1,\n",
    "                   description=r\"$t_\\text{end}$\"),\n",
    "               \"n_out\":\n",
    "               widgets.IntSlider(\n",
    "                   value=100, min=10, max=1000, step=10,\n",
    "                   description=r\"$n_\\text{out}$\"),\n",
    "               \"theta_0_over_pi\":\n",
    "               widgets.FloatSlider(\n",
    "                   value=0.6, min=-1, max=1, step=0.05,\n",
    "                   description=r\"$\\theta(0)/\\pi$\"),\n",
    "               \"v_theta_0\":\n",
    "               widgets.FloatSlider(\n",
    "                   value=0, min=-2.5, max=2.5, step=0.1,\n",
    "                   description=r\"$v_\\theta(0)$\"),\n",
    "               \"atol\":\n",
    "               widgets.FloatLogSlider(\n",
    "                   value=1e-6, min=-12, max=-2, step=0.1,\n",
    "                   readout_format=\".2e\",\n",
    "                   description=\"atol\"),\n",
    "               \"rtol\":\n",
    "               widgets.FloatLogSlider(\n",
    "                   value=1e-6, min=-12, max=-2, step=0.1,\n",
    "                   readout_format=\".2e\",\n",
    "                   description=\"rtol\"),\n",
    "               \"plottype\":\n",
    "               widgets.RadioButtons(\n",
    "                   options=[\"Zeitabhängigkeit\",\n",
    "                            \"Phasenraum\"],\n",
    "                   description=\"Darstellung\")\n",
    "               }\n",
    "\n",
    "@interact(**widget_dict)\n",
    "def plot_dynamics(t_end, n_out, theta_0_over_pi, v_theta_0,\n",
    "                  atol, rtol, plottype):\n",
    "    theta_0 = pi * theta_0_over_pi\n",
    "    t, theta, v_theta, count = trajectory(\n",
    "        t_end, n_out, theta_0, v_theta_0, atol, rtol)\n",
    "\n",
    "    fig, ax = plt.subplots()\n",
    "    if plottype == \"Zeitabhängigkeit\":\n",
    "        ax.plot(t, theta, label=r\"$\\theta(t)$\")\n",
    "        ax.plot(t, v_theta, label=r\"$v_\\theta(t)$\")\n",
    "        ax.set_xlabel(\"$t$\")\n",
    "        ax.legend(loc=\"lower right\")\n",
    "    else:\n",
    "        ax.plot(theta, v_theta)\n",
    "        ax.set_xlabel(r\"$\\theta$\")\n",
    "        ax.set_ylabel(r\"$v_\\theta$\")\n",
    "    print(f\"{count} Aufrufe von dtheta_dt\")"
   ]
  },
  {
   "cell_type": "markdown",
   "metadata": {
    "jp-MarkdownHeadingCollapsed": true,
    "tags": []
   },
   "source": [
    "## Kontrolle anhand der Verletzung der Energieerhaltung als Funktion der Zeit\n",
    "\n",
    "Während die Lösung der Bewegungsgleichung den Energieerhaltungssatz erfüllt, ist dies für die numerische Lösung im Allgemeinen nicht der Fall. Daher wird die zeitliche Änderung der Energie betrachtet, um die Qualität der numerischen Lösung beurteilen zu können. Interessant ist es dabei, den Einfluss der Änderung der Fehlerschranken `atol` und `rtol` zu betrachten.\n",
    "\n",
    "Eine Veränderung der Kontrollparameter wirkt sich auch in der Darstellung der berechneten Lösung aus."
   ]
  },
  {
   "cell_type": "code",
   "execution_count": null,
   "metadata": {
    "tags": []
   },
   "outputs": [],
   "source": [
    "@interact(**widget_dict)\n",
    "def plot_energy(t_end, n_out, theta_0_over_pi, v_theta_0,\n",
    "                atol, rtol):\n",
    "    theta_0 = pi * theta_0_over_pi\n",
    "    energy_0 = v_theta_0**2/2-cos(theta_0)\n",
    "    t, theta, v_theta, count = trajectory(\n",
    "        t_end, n_out, theta_0, v_theta_0, atol, rtol)\n",
    "    delta_e = v_theta**2/2-np.cos(theta) - energy_0\n",
    "\n",
    "    fig, ax = plt.subplots()\n",
    "    ax.plot(t, delta_e)\n",
    "    ax.set_xlabel(\"$t$\")\n",
    "    ax.set_ylabel(r\"$\\Delta E$\")"
   ]
  }
 ],
 "metadata": {
  "kernelspec": {
   "display_name": "Python 3 (ipykernel)",
   "language": "python",
   "name": "python3"
  },
  "language_info": {
   "codemirror_mode": {
    "name": "ipython",
    "version": 3
   },
   "file_extension": ".py",
   "mimetype": "text/x-python",
   "name": "python",
   "nbconvert_exporter": "python",
   "pygments_lexer": "ipython3",
   "version": "3.12.4"
  }
 },
 "nbformat": 4,
 "nbformat_minor": 4
}
