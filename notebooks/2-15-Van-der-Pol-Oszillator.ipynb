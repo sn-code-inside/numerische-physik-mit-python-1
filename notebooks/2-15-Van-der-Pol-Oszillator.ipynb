{
 "cells": [
  {
   "cell_type": "markdown",
   "metadata": {
    "tags": []
   },
   "source": [
    "# Van-der-Pol-Oszillator\n",
    "\n",
    "Siehe Wiedemann/Ingold: *Numerische Physik mit Python*, Springer-Spektrum 2024, ISBN 978-3-662-69566-1\n",
    "\n",
    "---"
   ]
  },
  {
   "cell_type": "markdown",
   "metadata": {},
   "source": [
    "Der van-der-Pol-Oszillator unterscheidet sich von einem gedämpften harmonischen Oszillator dadurch, dass der zur Geschwindigkeit proportionale Term von der Größe der Auslenkung abhängt. Insbesondere wird der Bewegung bei kleiner Amplitude Energie zugeführt, während die Bewegung bei großer Amplitude gedämpft wird. Dadurch nähert sich die Bewegung für lange Zeiten einem Grenzzyklus an. Konkret lautet die dimensionslose Bewegungsgleichung\n",
    "\n",
    "$$\\ddot x - \\varepsilon(1-x^2)\\dot x + x = F(t)$$\n",
    "\n",
    "mit einem positiven Parameter $\\varepsilon$.\n",
    "\n",
    "Im ersten Teil dieses Jupyter-Notebooks werden wir den Fall ohne Anregung, also $F(t)=0$, betrachten, um uns dann im zweiten Teil dem Fall mit harmonischer Anregung $F(t)=F\\sin(\\omega_\\text{ext}t)$ zuzuwenden. Dabei werden wir insbesondere untersuchen, welche Resonanzen sich in der Fouriertransformierten der Amplitude manifestieren. "
   ]
  },
  {
   "cell_type": "markdown",
   "metadata": {
    "jp-MarkdownHeadingCollapsed": false,
    "tags": []
   },
   "source": [
    "### Importanweisungen\n",
    "\n",
    "Neben den bereits bekannten Importanweisungen wird hier auch das `fft`-Modul aus dem SciPy-Paket importiert, um *Fast Fourier Transform*-Algorithmen zur Berechnung eines Frequenzspektrums zur Verfügung zu haben."
   ]
  },
  {
   "cell_type": "code",
   "execution_count": null,
   "metadata": {
    "tags": []
   },
   "outputs": [],
   "source": [
    "from math import pi, sin\n",
    "import numpy as np\n",
    "from scipy import fft, integrate\n",
    "import ipywidgets as widgets\n",
    "from ipywidgets import interact, interact_manual\n",
    "import matplotlib.pyplot as plt\n",
    "\n",
    "plt.style.use(\"numphyspy.style\")"
   ]
  },
  {
   "cell_type": "markdown",
   "metadata": {
    "jp-MarkdownHeadingCollapsed": true,
    "tags": []
   },
   "source": [
    "## Van-der-Pol-Oszillator ohne Anregung"
   ]
  },
  {
   "cell_type": "markdown",
   "metadata": {
    "jp-MarkdownHeadingCollapsed": false,
    "tags": []
   },
   "source": [
    "### Implementierung der Bewegungsgleichung\n",
    "\n",
    "Zur numerischen Lösung der Bewegungsgleichung wird die Differentialgleichung 2. Ordnung wieder in zwei Differentialgleichungen 1. Ordnung umgeschrieben."
   ]
  },
  {
   "cell_type": "code",
   "execution_count": null,
   "metadata": {},
   "outputs": [],
   "source": [
    "def dx_dt(t, x, eps):\n",
    "    v = x[1]\n",
    "    a = eps*(1-(x[0]**2))*x[1] - x[0]\n",
    "    return v, a"
   ]
  },
  {
   "cell_type": "markdown",
   "metadata": {
    "jp-MarkdownHeadingCollapsed": false,
    "tags": []
   },
   "source": [
    "### Lösung des Differentialgleichungssystems\n",
    "\n",
    "Die Lösung der zwei Differentialgleichungen 1. Ordnung erfolgt in der üblichen Weise mit Hilfe der SciPy-Funktion `integrate.solve_ivp`."
   ]
  },
  {
   "cell_type": "code",
   "execution_count": null,
   "metadata": {},
   "outputs": [],
   "source": [
    "def trajectory(t_end, n_out, eps, x_0, v_0):\n",
    "    t_values = np.linspace(0, t_end, n_out)\n",
    "    x_0 = [x_0, v_0]\n",
    "    solution = integrate.solve_ivp(dx_dt, (0, t_end), x_0,\n",
    "                                   args=(eps,),\n",
    "                                   t_eval=t_values)\n",
    "    x_values, v_values = solution.y[:]\n",
    "    return t_values, x_values, v_values"
   ]
  },
  {
   "cell_type": "markdown",
   "metadata": {
    "jp-MarkdownHeadingCollapsed": false,
    "tags": []
   },
   "source": [
    "### Implementierung der Bedienelemente und graphische Darstellung der zeitabhängigen Amplitude sowie der Bewegung im Phasenraum\n",
    "\n",
    "Mit Hilfe der Bedienelemente lassen sich die folgenden Parameter einstellen:\n",
    "- `t_end`: Länge des zu betrachtenden Zeitintervalls\n",
    "- `n_out`: Anzahl der zu betrachtenden Zeitpunkte\n",
    "- `eps`: Parameter $\\varepsilon$ in der Bewegungsgleichung\n",
    "- `x_0`: anfängliche Auslenkung\n",
    "- `v_0`: anfängliche Geschwindigkeit\n",
    "- `plottype`: Darstellung der Trajektorie über die Zeitabhängigkeit oder im Phasenraum\n",
    "\n",
    "Je nach Einstellung wird die Bewegung als Zeitabhängigkeit von Amplitude und Geschwindigkeit oder als Phasenraumdarstellung graphisch ausgegeben."
   ]
  },
  {
   "cell_type": "code",
   "execution_count": null,
   "metadata": {},
   "outputs": [],
   "source": [
    "widget_dict = {\"t_end\":\n",
    "               widgets.FloatSlider(\n",
    "                   value=100, min=10, max=200, step=10,\n",
    "                   description=r\"$t_\\text{end}$\"),\n",
    "               \"n_out\":\n",
    "               widgets.IntSlider(\n",
    "                   value=1000, min=1000, max=10000,\n",
    "                   step=1000,\n",
    "                   description=r\"$n_\\text{out}$\"),\n",
    "               \"eps\":\n",
    "               widgets.FloatSlider(\n",
    "                   value=0.1, min=0, max=2, step=0.1,\n",
    "                   description=r\"$\\varepsilon$\"),\n",
    "               \"x_0\":\n",
    "               widgets.FloatSlider(\n",
    "                   value=0.1, min=0, max=5, step=0.1,\n",
    "                   description=\"$x_0$\"),\n",
    "               \"v_0\":\n",
    "               widgets.FloatSlider(\n",
    "                   value=0, min=-1, max=1, step=0.1,\n",
    "                   description=\"$v_0$\"),\n",
    "               \"plottype\":\n",
    "               widgets.RadioButtons(\n",
    "                   options=[\"Zeitabhängigkeit\",\n",
    "                            \"Phasenraum\"],\n",
    "                   description=\"Darstellung\")\n",
    "               }\n",
    "\n",
    "@interact(**widget_dict)\n",
    "def plot_result(t_end, n_out, eps, x_0, v_0, plottype):\n",
    "    t_values, x_values, v_values = trajectory(t_end, n_out,\n",
    "                                              eps, x_0, v_0)\n",
    "\n",
    "    if plottype == \"Zeitabhängigkeit\":\n",
    "        fig, (ax1, ax2) = plt.subplots(2, 1)\n",
    "        ax1.plot(t_values, x_values)\n",
    "        ax1.set_xlabel(\"$t$\")\n",
    "        ax1.set_ylabel(\"$x$\")\n",
    "\n",
    "        ax2.plot(t_values, v_values)\n",
    "        ax2.set_xlabel(\"$t$\")\n",
    "        ax2.set_ylabel(\"$v$\")\n",
    "    else:\n",
    "        fig, ax = plt.subplots()\n",
    "        ax.plot(x_values, v_values)\n",
    "        ax.set_xlabel(\"$x$\")\n",
    "        ax.set_ylabel(\"$v$\")"
   ]
  },
  {
   "cell_type": "markdown",
   "metadata": {
    "jp-MarkdownHeadingCollapsed": false,
    "tags": []
   },
   "source": [
    "### Dynamik eines Ensembles von Phasenraumpunkten\n",
    "\n",
    "Um die Zeitentwicklung auf einen Grenzzyklus hin zu untersuchen, betrachten wir die Dynamik eines Ensembles, das anfänglich aus  homogen verteilten Zuständen in einem quadratischen Bereich des Phasenraums besteht.\n",
    "\n",
    "Da die Bewegungsgleichung für jeden Startpunkt individuell gelöst wird, ist hier von einer etwas längeren Rechenzeit auszugehen."
   ]
  },
  {
   "cell_type": "code",
   "execution_count": null,
   "metadata": {},
   "outputs": [],
   "source": [
    "def trajectories_ensemble(t_end, x_max, v_max, n_max, eps):\n",
    "    x_init, dx = np.linspace(-x_max, x_max, 2*n_max+1,\n",
    "                             retstep=True)\n",
    "    v_init, dv = np.linspace(-v_max, v_max, 2*n_max+1,\n",
    "                             retstep=True)\n",
    "    points_x = []\n",
    "    points_v = []\n",
    "    for x_0 in x_init:\n",
    "        for v_0 in v_init:\n",
    "            solution = integrate.solve_ivp(\n",
    "                dx_dt, (0, t_end), (x_0, v_0),\n",
    "                t_eval=[t_end], args=(eps,))\n",
    "            points_x.append(solution.y[0, 0])\n",
    "            points_v.append(solution.y[1, 0])\n",
    "    return points_x, points_v"
   ]
  },
  {
   "cell_type": "markdown",
   "metadata": {
    "jp-MarkdownHeadingCollapsed": false,
    "tags": []
   },
   "source": [
    "### Implementierung der Bedienelemente und graphische Darstellung des Phasenraumensembles\n",
    "\n",
    "Mit den Schiebereglern lassen sich die folgenden Parameter einstellen:\n",
    "- `t_end`: Zeitpunkt, zu dem das Ensemble dargestellt werden soll\n",
    "- `x_max`: Betrag der Grenzen für die Amplitude des im Ursprung des Phasenraums zentrierten quadratischen Bereichs\n",
    "- `v_max`: Betrag der Grenzen für die Geschwindigkeit des im Ursprung des Phasenraums zentrierten quadratischen Bereichs\n",
    "- `n_max`: bestimmt die Ensemblegröße $(2n_\\text{max}+1)^2$\n",
    "- `eps`: Parameter $\\varepsilon$ in der Bewegungsgleichung\n",
    "\n",
    "Es wird die Position der Phasenraumpunkte zum eingestellten Zeitpunkt $t_\\text{end}$ dargestellt."
   ]
  },
  {
   "cell_type": "code",
   "execution_count": null,
   "metadata": {},
   "outputs": [],
   "source": [
    "widget_dict = {\"t_end\":\n",
    "               widgets.FloatSlider(\n",
    "                   value=1, min=1, max=100, step=1,\n",
    "                   description=r\"$t_\\text{end}$\"),\n",
    "               \"x_max\":\n",
    "               widgets.FloatSlider(\n",
    "                   value=7, min=1, max=10, step=1,\n",
    "                   description=r\"$x_\\text{max}$\"),\n",
    "               \"v_max\":\n",
    "               widgets.FloatSlider(\n",
    "                   value=7, min=1, max=10, step=1,\n",
    "                   description=r\"$v_\\text{max}$\"),\n",
    "               \"n_max\":\n",
    "               widgets.IntSlider(\n",
    "                   value=20, min=10, max=100, step=10,\n",
    "                   description=r\"$n_\\text{max}$\"),\n",
    "               \"eps\":\n",
    "               widgets.FloatSlider(\n",
    "                   value=0.1, min=0.1, max=4, step=0.1,\n",
    "                   description=r\"$\\varepsilon$\"),\n",
    "               }\n",
    "\n",
    "interact_start = interact_manual.options(\n",
    "    manual_name=\"Start Berechnung\")\n",
    "\n",
    "@interact_start(**widget_dict)\n",
    "def plot_ensemble(t_end, x_max, v_max, n_max, eps):\n",
    "    points_x, points_v = trajectories_ensemble(\n",
    "        t_end, x_max, v_max, n_max, eps)\n",
    "\n",
    "    fig, ax = plt.subplots()\n",
    "    ax.scatter(points_x, points_v, s=1)\n",
    "    ax.set_xlabel(\"$x$\")\n",
    "    ax.set_ylabel(\"$v$\")"
   ]
  },
  {
   "cell_type": "markdown",
   "metadata": {
    "jp-MarkdownHeadingCollapsed": true,
    "tags": []
   },
   "source": [
    "## Van-der-Pol-Oszillator mit harmonischer Anregung"
   ]
  },
  {
   "cell_type": "markdown",
   "metadata": {
    "jp-MarkdownHeadingCollapsed": false,
    "tags": []
   },
   "source": [
    "### Implementierung der Bewegungsgleichung\n",
    "\n",
    "Im Vergleich zur obigen Funktion `dx_dt` wird nun ein Term hinzugefügt, der die harmonische Anregung mit $F(t)=F\\sin(\\omega_\\text{ext}t)$ repräsentiert. "
   ]
  },
  {
   "cell_type": "code",
   "execution_count": null,
   "metadata": {},
   "outputs": [],
   "source": [
    "def dx_dt_with_excitation(t, x, eps, f, omega):\n",
    "    v = x[1]\n",
    "    a = eps*(1-(x[0]**2))*x[1] - x[0] + f*sin(omega*t)\n",
    "    return v, a"
   ]
  },
  {
   "cell_type": "markdown",
   "metadata": {
    "jp-MarkdownHeadingCollapsed": false,
    "tags": []
   },
   "source": [
    "### Lösung des Differentialgleichungssystems und Berechnung des Spektrums\n",
    "\n",
    "Zunächst wird die Bewegungsgleichung des van-der-Pol-Oszillators mit harmonischer Anregung mit Hilfe der SciPy-Funktion `integrate.solve_ivp` gelöst. Anschließend wird mit der SciPy-Funktion `fft.rfft` eine Fouriertransformation durchgeführt und der Absolutbetrag des komplexwertigen Resultats bestimmt. Die Funktion gibt die Frequenzwerte und das berechnete Spektrum zurück."
   ]
  },
  {
   "cell_type": "code",
   "execution_count": null,
   "metadata": {},
   "outputs": [],
   "source": [
    "def with_excitation(t_end, n_out, eps, f, omega, x_0, v_0):\n",
    "    t_values = np.linspace(0, t_end, n_out)\n",
    "    solution = integrate.solve_ivp(dx_dt_with_excitation,\n",
    "                                   (0, t_end), (x_0, v_0),\n",
    "                                   t_eval=t_values,\n",
    "                                   args=(eps, f, omega))\n",
    "    x_values, v_values = solution.y[:]\n",
    "    x_fft = fft.rfft(x_values, norm=\"forward\")\n",
    "    x_fft_absvalues = np.absolute(x_fft)\n",
    "    frequency_values = 2*pi/t_end * np.arange(len(x_fft))\n",
    "    return frequency_values, x_fft_absvalues"
   ]
  },
  {
   "cell_type": "markdown",
   "metadata": {
    "jp-MarkdownHeadingCollapsed": false,
    "tags": []
   },
   "source": [
    "### Implementierung der Bedienelemente und graphische Darstellung des Spektrums\n",
    "\n",
    "Mit Hilfe der Schieberegler lassen sich die folgenden Parameter einstellen:\n",
    "- `t_end`: zu betrachtendes Zeitintervall\n",
    "- `log_n_out`: Zweierlogarithmus der Zahl der zu betrachtenden Zeitpunkte\n",
    "- `eps`: Parameter $\\varepsilon$ in der Bewegungsgleichung\n",
    "- `f`: Anregungsamplitude $F$\n",
    "- `omega`: dimensionslose Anregungsfrequenz $\\omega_\\text{ext}$\n",
    "- `x_0`: anfängliche Amplitude\n",
    "- `v_0`: anfängliche Geschwindigkeit\n",
    "\n",
    "Es wird das frequenzabhängige Spektrum in Form des Absolutbetrags der Fouriertransformierten der zeitabhängigen Amplitude dargestellt."
   ]
  },
  {
   "cell_type": "code",
   "execution_count": null,
   "metadata": {},
   "outputs": [],
   "source": [
    "widget_dict = {\"t_end\":\n",
    "               widgets.FloatSlider(\n",
    "                   value=1000, min=0.1, max=2000, step=0.1,\n",
    "                   description=r\"$t_\\text{end}$\"),\n",
    "               \"log_n_out\":\n",
    "               widgets.IntSlider(\n",
    "                   value=12, min=11, max=18,\n",
    "                   description=r\"$\\log_2(n_\\text{out})$\"),\n",
    "               \"eps\":\n",
    "               widgets.FloatSlider(\n",
    "                   value=0.1, min=0, max=2, step=0.1,\n",
    "                   description=r\"$\\varepsilon$\"),\n",
    "               \"f\":\n",
    "               widgets.FloatSlider(\n",
    "                   value=2, min=0, max=4, step=0.1,\n",
    "                   description=\"$F$\"),\n",
    "               \"omega\":\n",
    "               widgets.FloatSlider(\n",
    "                   value=1.57, min=0, max=2, step=0.01,\n",
    "                   description=r\"$\\omega_\\text{ext}$\"),\n",
    "               \"x_0\":\n",
    "               widgets.FloatSlider(\n",
    "                   value=0.1, min=0, max=5, step=0.1,\n",
    "                   description=\"$x_0$\"),\n",
    "               \"v_0\":\n",
    "               widgets.FloatSlider(\n",
    "                   value=0, min=-1, max=1, step=0.1,\n",
    "                   description=\"$v_0$\")\n",
    "               }\n",
    "\n",
    "interact_start = interact_manual.options(\n",
    "    manual_name=\"Start Berechnung\")\n",
    "\n",
    "@interact_start(**widget_dict)\n",
    "def plot_spectrum(t_end, log_n_out, eps, f, omega, x_0, v_0):\n",
    "    n_out = 2**log_n_out\n",
    "    frequency_values, x_fft_values = with_excitation(\n",
    "        t_end, n_out, eps, f, omega, x_0, v_0)\n",
    "\n",
    "    fig, ax = plt.subplots()\n",
    "    ax.semilogy(frequency_values, x_fft_values)\n",
    "    ax.set_xlim(0, 6)\n",
    "    ax.set_xlabel(r\"$\\omega$\")\n",
    "    ax.set_ylabel(\"$x$\")"
   ]
  }
 ],
 "metadata": {
  "kernelspec": {
   "display_name": "Python 3 (ipykernel)",
   "language": "python",
   "name": "python3"
  },
  "language_info": {
   "codemirror_mode": {
    "name": "ipython",
    "version": 3
   },
   "file_extension": ".py",
   "mimetype": "text/x-python",
   "name": "python",
   "nbconvert_exporter": "python",
   "pygments_lexer": "ipython3",
   "version": "3.12.4"
  }
 },
 "nbformat": 4,
 "nbformat_minor": 4
}
