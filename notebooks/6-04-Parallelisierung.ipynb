{
 "cells": [
  {
   "cell_type": "markdown",
   "metadata": {},
   "source": [
    "# Parallelisierung am Beispiel des Ising-Modells\n",
    "\n",
    "Siehe Wiedemann/Ingold: *Numerische Physik mit Python*, Springer-Spektrum 2024, ISBN 978-3-662-69566-1\n",
    "\n",
    "---"
   ]
  },
  {
   "cell_type": "markdown",
   "metadata": {},
   "source": [
    "Dieses Jupyter-Notebook basiert auf dem Jupyter-Notebook [4-04-Ising-Modell.ipynb](4-04-Ising-Modell.ipynb) zum Ising-Modell und demonstriert die Parallelisierung eines Python-Programms. Im Folgenden werden nur die neuen Codeteile kommentiert. Für die Beschreibung des Codes zum Ising-Modell sei auf das Jupyter-Notebook [4-04-Ising-Modell.ipynb](4-04-Ising-Modll.ipynb) verwiesen."
   ]
  },
  {
   "cell_type": "markdown",
   "metadata": {
    "jp-MarkdownHeadingCollapsed": true,
    "tags": []
   },
   "source": [
    "## Importanweisungen\n",
    "\n",
    "Die für die Parallelisierung wesentliche Importanweisung betrifft das Modul `concurrent.futures` der Python-Standardbilbiothek. Außerdem werden wir das `os`-Modul der Python-Standardbibliothek verwenden, um die Anzahl der logischen CPUs zu bestimmen."
   ]
  },
  {
   "cell_type": "code",
   "execution_count": null,
   "metadata": {
    "tags": []
   },
   "outputs": [],
   "source": [
    "import concurrent.futures\n",
    "import os\n",
    "import time\n",
    "from math import exp\n",
    "import numpy as np\n",
    "import matplotlib.pyplot as plt\n",
    "import ipywidgets as widgets\n",
    "from ipywidgets import interact, interact_manual\n",
    "\n",
    "plt.style.use(\"numphyspy.style\")"
   ]
  },
  {
   "cell_type": "markdown",
   "metadata": {
    "jp-MarkdownHeadingCollapsed": true,
    "tags": []
   },
   "source": [
    "## Temperaturabhängigkeit von spezifischer Wärme und magnetischer Suszeptibilität des Ising-Modells"
   ]
  },
  {
   "cell_type": "markdown",
   "metadata": {
    "jp-MarkdownHeadingCollapsed": false,
    "tags": []
   },
   "source": [
    "### Bestimmung der nächsten Nachbarn"
   ]
  },
  {
   "cell_type": "code",
   "execution_count": null,
   "metadata": {
    "tags": []
   },
   "outputs": [],
   "source": [
    "def neighbours(size, dimension):\n",
    "    neighbour = np.empty((size**dimension, 2*dimension),\n",
    "                         dtype=int)\n",
    "    index_shape = (size,)*dimension\n",
    "    index = np.arange(size**dimension).reshape(index_shape)\n",
    "    column = 0\n",
    "    for axis in range(dimension):\n",
    "        for shift in (-1, 1):\n",
    "            neighbour[:, column] = np.roll(index, shift,\n",
    "                                           axis=axis\n",
    "                                           ).flatten()\n",
    "            column = column + 1\n",
    "    return neighbour"
   ]
  },
  {
   "cell_type": "markdown",
   "metadata": {
    "jp-MarkdownHeadingCollapsed": false,
    "tags": []
   },
   "source": [
    "### Erzeugung des Anfangszustands"
   ]
  },
  {
   "cell_type": "code",
   "execution_count": null,
   "metadata": {
    "tags": []
   },
   "outputs": [],
   "source": [
    "rng = np.random.default_rng(123456)\n",
    "\n",
    "def initial_state(n_spins, neighbour):\n",
    "    state = rng.choice((-1, 1), size=n_spins)\n",
    "    magnetization = np.sum(state)\n",
    "    sum_nbr_spins = np.sum(state[neighbour], axis=1)\n",
    "    energy = -np.sum(state*sum_nbr_spins)/2\n",
    "    return state, energy, magnetization"
   ]
  },
  {
   "cell_type": "markdown",
   "metadata": {
    "jp-MarkdownHeadingCollapsed": false,
    "tags": []
   },
   "source": [
    "### Iterationsschritt im Wolff-Algorithmus"
   ]
  },
  {
   "cell_type": "code",
   "execution_count": null,
   "metadata": {
    "tags": []
   },
   "outputs": [],
   "source": [
    "def wolff_generator(size, dimension, beta):\n",
    "    n_spins = size**dimension\n",
    "    neighbour = neighbours(size, dimension)\n",
    "    p_limit = 1-exp(-2*beta)\n",
    "    state, energy, magnetization = initial_state(n_spins,\n",
    "                                                 neighbour)\n",
    "    while True:\n",
    "        yield energy, magnetization\n",
    "        n_start = rng.choice(n_spins)\n",
    "        to_do = {n_start}\n",
    "        cluster = {n_start}\n",
    "        state[n_start] = -state[n_start]\n",
    "        while to_do:\n",
    "            n_spin = to_do.pop()\n",
    "            for nbr in neighbour[n_spin, :]:\n",
    "                if (state[nbr] != state[n_spin]\n",
    "                        and np.random.uniform() < p_limit):\n",
    "                    to_do.add(nbr)\n",
    "                    cluster.add(nbr)\n",
    "                    state[nbr] = -state[nbr]\n",
    "        delta_m = 2*state[n_start]*len(cluster)\n",
    "        magnetization = magnetization + delta_m\n",
    "        delta_e = 0\n",
    "        for n_spin in cluster:\n",
    "            sum_nbr_spins = 0\n",
    "            for n_nbr_spin in neighbour[n_spin, :]:\n",
    "                if n_nbr_spin not in cluster:\n",
    "                    sum_nbr_spins += state[n_nbr_spin]\n",
    "            delta_e = delta_e - 2*state[n_spin]*sum_nbr_spins\n",
    "        energy = energy + delta_e"
   ]
  },
  {
   "cell_type": "markdown",
   "metadata": {
    "jp-MarkdownHeadingCollapsed": false,
    "tags": []
   },
   "source": [
    "### Energie, Magnetisierung sowie deren erste und zweite Momente"
   ]
  },
  {
   "cell_type": "code",
   "execution_count": null,
   "metadata": {
    "tags": []
   },
   "outputs": [],
   "source": [
    "def thermo_values(args):\n",
    "    (size, dimension, n_steps_init,\n",
    "        n_steps, absmagn, beta) = args\n",
    "    n_spins = size**dimension\n",
    "    state = wolff_generator(size, dimension, beta)\n",
    "    for n in range(n_steps_init):\n",
    "        next(state)\n",
    "    e_sum = 0\n",
    "    e2_sum = 0\n",
    "    m_sum = 0\n",
    "    m2_sum = 0\n",
    "    for n, (energy, magnetization) in zip(range(n_steps),\n",
    "                                          state):\n",
    "        e_sum = e_sum + energy\n",
    "        e2_sum = e2_sum + energy**2\n",
    "        if absmagn:\n",
    "            magnetization = abs(magnetization)\n",
    "        m_sum = m_sum + magnetization\n",
    "        m2_sum = m2_sum + magnetization**2\n",
    "    n_spins = size**dimension\n",
    "    spec_heat = e2_sum/n_steps-(e_sum/n_steps)**2\n",
    "    spec_heat = spec_heat * beta**2 / n_spins\n",
    "    magn_susc = m2_sum/n_steps-(m_sum/n_steps)**2\n",
    "    magn_susc = magn_susc * beta / n_spins\n",
    "    return 1/beta, spec_heat, magn_susc"
   ]
  },
  {
   "cell_type": "markdown",
   "metadata": {
    "jp-MarkdownHeadingCollapsed": false,
    "tags": []
   },
   "source": [
    "### Parallelisierte Berechnung für verschiedene Temperaturen\n",
    "\n",
    "Um die parallelisierten Berechnungen vorzubereiten, wird zunächst eine Liste `parameters` von Parametersätzen erstellt. Zur Organisation der Python-Prozesse wird ein `ProcessPoolExecutor` in einem `with`-Kontext verwendet, in dem die in `parameters` definierten Aufgaben dann mit Hilfe von `map` auf die Python-Prozesse verteilt werden. Die Ergebnisse werden anschließend in den Listen `temperature_values`, `spec_heat_values` und `magn_susc_values` zusammengeführt. Zusätzlich werden die Ergebnisse auf dem Bildschirm ausgegeben."
   ]
  },
  {
   "cell_type": "code",
   "execution_count": null,
   "metadata": {
    "tags": []
   },
   "outputs": [],
   "source": [
    "def thermo_values_of_T(size, dimension, n_steps_init,\n",
    "                       n_steps, temperature_range, n_T,\n",
    "                       absmagn, max_workers):\n",
    "    beta_values = 1 / np.linspace(*temperature_range, n_T)\n",
    "    temperature_values = []\n",
    "    spec_heat_values = []\n",
    "    magn_susc_values = []\n",
    "    if absmagn:\n",
    "        print(\"  T      C/N      χ'/N\")\n",
    "    else:\n",
    "        print(\"  T      C/N      χ/N\")\n",
    "    parameters = [(size, dimension, n_steps_init, n_steps,\n",
    "                   absmagn, beta) for beta in beta_values]\n",
    "    with concurrent.futures.ProcessPoolExecutor(\n",
    "            max_workers=max_workers) as e:\n",
    "        for temperature, spec_heat, magn_susc in e.map(\n",
    "                thermo_values, parameters):\n",
    "            print(f\"{temperature:6.4f} {spec_heat:7.4f} \"\n",
    "                  f\"{magn_susc:8.2f}\")\n",
    "            temperature_values.append(temperature)\n",
    "            spec_heat_values.append(spec_heat)\n",
    "            magn_susc_values.append(magn_susc)\n",
    "    return (temperature_values, spec_heat_values,\n",
    "            magn_susc_values)"
   ]
  },
  {
   "cell_type": "markdown",
   "metadata": {
    "jp-MarkdownHeadingCollapsed": false,
    "tags": []
   },
   "source": [
    "### Implementierung der Bedienelemente und graphische Darstellung der spezifischen Wärme und der magnetischen Suszeptibilität als Funktion der Temperatur\n",
    "\n",
    "Neben der Einstellung von Parametern im Zusammenhang mit dem Ising-Modell gibt es hier noch zusätzlich die Möglichkeit, mit einem Schieberegler die maximale Anzahl `max_workers` der Prozesse festzulegen.\n",
    "\n",
    "Zusätzlich zur graphischen Ausgabe der temperaturabhängigen spezifischen Wärme und der magnetischen Suszeptibilität wird auch noch die Rechendauer angezeigt, um diese als Funktion der Anzahl der verwendeten Prozesse untersuchen zu können."
   ]
  },
  {
   "cell_type": "code",
   "execution_count": null,
   "metadata": {
    "tags": []
   },
   "outputs": [],
   "source": [
    "wide_label = {\"description_width\": \"initial\"}\n",
    "widget_dict = {\"dimension\":\n",
    "               widgets.RadioButtons(\n",
    "                   options=[(\"eindimensional\", 1),\n",
    "                            (\"zweidimensional\", 2)],\n",
    "                   value=1, description=\"Dimension\"),\n",
    "               \"size\":\n",
    "               widgets.IntSlider(\n",
    "                   value=100, min=100, max=1000,\n",
    "                   step=100,\n",
    "                   description=r\"$n_\\text{spins}$\"),\n",
    "               \"temperature_range\":\n",
    "               widgets.FloatRangeSlider(\n",
    "                   value=(0.2, 5), min=0.05, max=5,\n",
    "                   step=0.05,\n",
    "                   description=\"Temperaturbereich\",\n",
    "                   style=wide_label),\n",
    "               \"n_T\":\n",
    "               widgets.IntSlider(\n",
    "                   value=30, min=10, max=200, step=10,\n",
    "                   description=\"Temperaturwerte\",\n",
    "                   style=wide_label),\n",
    "               \"log_n_steps_init\":\n",
    "               widgets.IntSlider(\n",
    "                   value=3, min=1, max=7, step=1,\n",
    "                   description=r\"$\\log_{10}\"\n",
    "                               r\"(n_\\text{init})$\"),\n",
    "               \"log_n_steps\":\n",
    "               widgets.IntSlider(\n",
    "                   value=4, min=3, max=9, step=1,\n",
    "                   description=r\"$\\log_{10}\"\n",
    "                               r\"(n_\\text{steps})$\"),\n",
    "               \"absmagn\":\n",
    "               widgets.RadioButtons(\n",
    "                   options=[(\"M\", False),\n",
    "                            (\"|M|\", True)],\n",
    "                   value=False,\n",
    "                   description=\"Magnetisierung\"),\n",
    "               \"max_workers\":\n",
    "               widgets.IntSlider(\n",
    "                   value=os.cpu_count()//2,\n",
    "                   min=1, max=os.cpu_count(), step=1,\n",
    "                   description=r\"$n_\\text{CPU}$\")\n",
    "               }\n",
    "\n",
    "def handle_dim_change(change):\n",
    "    attributes = {1: {\"max\": 1000, \"min\": 50, \"step\": 50,\n",
    "                      \"value\": 100},\n",
    "                  2: {\"step\": 5, \"min\": 5, \"max\": 40,\n",
    "                      \"value\": 20}}\n",
    "    for k, v in attributes[change.new].items():\n",
    "        setattr(widget_dict[\"size\"], k, v)\n",
    "\n",
    "widget_dict[\"dimension\"].observe(handle_dim_change,\n",
    "                                 names=\"value\")\n",
    "\n",
    "interact_start = interact_manual.options(\n",
    "    manual_name=\"Start Berechnung\")\n",
    "\n",
    "@interact_start(**widget_dict)\n",
    "def plot_result(dimension, size, temperature_range, n_T,\n",
    "                log_n_steps_init, log_n_steps, absmagn,\n",
    "                max_workers):\n",
    "    n_spins = size**dimension\n",
    "    n_steps_init = 10**log_n_steps_init\n",
    "    n_steps = 10**log_n_steps\n",
    "    start_time = time.time()\n",
    "    temperature_vals, spec_heat_vals, magn_susc_vals = (\n",
    "        thermo_values_of_T(size, dimension, n_steps_init,\n",
    "                           n_steps, temperature_range, n_T,\n",
    "                           absmagn, max_workers))\n",
    "    end_time = time.time()\n",
    "    print(f\"Rechenzeit: {end_time-start_time:6.1f} s\")\n",
    "\n",
    "    fig, (ax1, ax2) = plt.subplots(1, 2, figsize=(14, 5))\n",
    "    ax1.plot(temperature_vals, spec_heat_vals)\n",
    "    ax1.set_xlabel(\"$T$\")\n",
    "    ax1.set_ylabel(\"$C/N$\")\n",
    "    if absmagn:\n",
    "        ax2.plot(temperature_vals, magn_susc_vals)\n",
    "        label_chi = r\"$\\chi'/N$\"\n",
    "    else:\n",
    "        ax2.semilogy(temperature_vals, magn_susc_vals)\n",
    "        ax2.semilogy(temperature_vals,\n",
    "                     n_spins/np.array(temperature_vals))\n",
    "        label_chi = r\"$\\chi/N$\"\n",
    "    ax2.set_xlabel(\"$T$\")\n",
    "    ax2.set_ylabel(label_chi)"
   ]
  }
 ],
 "metadata": {
  "kernelspec": {
   "display_name": "Python 3 (ipykernel)",
   "language": "python",
   "name": "python3"
  },
  "language_info": {
   "codemirror_mode": {
    "name": "ipython",
    "version": 3
   },
   "file_extension": ".py",
   "mimetype": "text/x-python",
   "name": "python",
   "nbconvert_exporter": "python",
   "pygments_lexer": "ipython3",
   "version": "3.12.4"
  }
 },
 "nbformat": 4,
 "nbformat_minor": 4
}
