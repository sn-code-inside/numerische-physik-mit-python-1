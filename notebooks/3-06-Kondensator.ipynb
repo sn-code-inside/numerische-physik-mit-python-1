{
 "cells": [
  {
   "cell_type": "markdown",
   "id": "edfc32d1-7b6b-47ac-9092-922ee52304cd",
   "metadata": {},
   "source": [
    "# Elektrostatisches Potential eines Kondensators\n",
    "\n",
    "Siehe Wiedemann/Ingold: *Numerische Physik mit Python*, Springer-Spektrum 2024, ISBN 978-3-662-69566-1\n",
    "\n",
    "---"
   ]
  },
  {
   "cell_type": "markdown",
   "id": "cef3e6d7-068b-4281-8301-6c4c56514109",
   "metadata": {},
   "source": [
    "In diesem Jupyter-Notebook wird die Verwendung der Methode der finiten Differenzen zur Bestimmung des elektrostatischen Potentials eines Plattenkondensators in zwei Dimensionen demonstriert. Dazu ist die Laplace-Gleichung\n",
    "\n",
    "$$\n",
    "\\left( \\frac{\\partial^2}{\\partial x^2} + \\frac{\\partial^2}{\\partial y^2} \\right) \\Phi(x,y) = 0\n",
    "$$\n",
    "\n",
    "mit den Randbedingungen\n",
    "\n",
    "$$\n",
    "\\Phi(\\boldsymbol{x}) = \\begin{cases} 0 \\qquad & \\text{für $\\boldsymbol{x}$ am Rand des betrachteten Gebiets} \\\\\n",
    "+1 & \\text{für $\\boldsymbol{x}$ auf der oberen Platte des Kondensators} \\\\\n",
    "-1 & \\text{für $\\boldsymbol{x}$ auf der unteren Platte des Kondensators}\\end{cases} \\,.\n",
    "$$\n",
    "\n",
    "zu lösen. Es werden sowohl die Jacobi- als auch die Gauß-Seidel-Methode implementiert."
   ]
  },
  {
   "cell_type": "markdown",
   "id": "2363c32e",
   "metadata": {
    "jp-MarkdownHeadingCollapsed": true,
    "tags": []
   },
   "source": [
    "## Importanweisungen\n",
    "\n",
    "Zusätzlich zu den bereits bekannten Importanweisungen gibt es hier zwei neue Einträge.\n",
    "\n",
    "Zunächst wird aus dem `collections`-Modul der Python-Standardbibliothek die Funktion `namedtuple` importiert. Dadurch wird es möglich, Einträge in einem Tupel auch mit einem Namen anzusprechen, um damit den Code verständlicher zu machen. Wir werden die geometrischen Informationen über den Kondensator in einem *named tuple* abspeichern.\n",
    "\n",
    "Außerdem importieren wir aus dem SciPy-Paket das `ndimage`-Modul. Die Funktion `convolve` wird es uns erlauben, eine mehrdimensionale Faltung durchzuführen."
   ]
  },
  {
   "cell_type": "code",
   "execution_count": null,
   "id": "371e1315",
   "metadata": {
    "tags": []
   },
   "outputs": [],
   "source": [
    "from collections import namedtuple\n",
    "import numpy as np\n",
    "from scipy import ndimage\n",
    "import ipywidgets as widgets\n",
    "from ipywidgets import interact, interact_manual\n",
    "import matplotlib.pyplot as plt\n",
    "\n",
    "plt.style.use(\"numphyspy.style\")"
   ]
  },
  {
   "cell_type": "markdown",
   "id": "0bd95bf4-527b-471f-8156-52b364dbf4c5",
   "metadata": {
    "jp-MarkdownHeadingCollapsed": true,
    "tags": []
   },
   "source": [
    "## Durchführung eines Schritts mit der Jacobi-Methode\n",
    "\n",
    "Um die Mittelung über die vier benachbarten Gitterpunkte mit Hilfe einer Faltung durchführen zu können, werden die entsprechenden Gewichte im konstanten NumPy-Array `JAC_WEIGHTS` definiert. In jedem Jacobi-Schritt wird zunächst eine Mittelung auf dem ganzen Gitter durchgeführt, wodurch jedoch auch das Potential auf den Kondensatorplatten modifiziert wird. Daher müssen anschließend die Werte auf den Gitterplätzen, die zu den Kondensatorplatten gehören, wieder auf die durch die Randbedingungen gegebenen Werte gesetzt werden."
   ]
  },
  {
   "cell_type": "code",
   "execution_count": null,
   "id": "8823c7f7-7fca-4736-8958-8598699feb51",
   "metadata": {
    "tags": []
   },
   "outputs": [],
   "source": [
    "JAC_WEIGHTS = 0.25*np.array([[0, 1, 0],\n",
    "                             [1, 0, 1],\n",
    "                             [0, 1, 0]])\n",
    "\n",
    "def step_jacobi(v, cap):\n",
    "    v = ndimage.convolve(v, JAC_WEIGHTS, mode=\"constant\",\n",
    "                         cval=0)\n",
    "    v[cap.y_plus, cap.x_left:cap.x_right+1] = 1\n",
    "    v[cap.y_minus, cap.x_left:cap.x_right+1] = -1\n",
    "    return v"
   ]
  },
  {
   "cell_type": "markdown",
   "id": "02361c9a-c673-4c7b-b10b-78bb98a97158",
   "metadata": {
    "jp-MarkdownHeadingCollapsed": true,
    "tags": []
   },
   "source": [
    "## Durchführung eines Schritts mit der Gauß-Seidel-Methode\n",
    "\n",
    "Bei der Gauß-Seidel-Methode wird sukzessive das Potential an den einzelnen Gitterpunkten aktualisiert. Daher darf man in diesem Fall das Potential auf den Kondensatorplatten nicht verändern. Die Funktion `is_on_capacitor` dient dazu festzustellen, ob ein Gitterpunkt zu einer Kondensatorplatte gehört oder nicht. Bei der Durchführung eines Iterationsschritts in `step_gauss_seidel` wird zunächst das NumPy-Array `v` mit den anfänglichen Potentialwerten auf allen Seiten mit einer zusätzlichen Reihe von Gitterpunkten versehen, deren Potential gleich Null ist. Dadurch kann später die Mittelung in der gleichen Weise vorgenommen werden, unabhängig davon, ob der betreffende Gitterpunkt am Rand des ursprünglichen Gitters liegt oder nicht. Neben dem so erzeugten NumPy-Array `v_old` benötigt man noch ein zweites NumPy-Array `v_new`, in das die aktualisierten Werte geschrieben werden. Bei der Mittelung bedient man sich sowohl alter Werte, wenn der betreffende Gitterpunkt noch nicht aktualisiert wurde, als auch neuer Werte, wenn die Aktualisierung dort bereits erfolgt ist. Bei der Rückgabe des Resultats wird noch die eingangs hinzugefügte Berandung entfernt."
   ]
  },
  {
   "cell_type": "code",
   "execution_count": null,
   "id": "a549317d-d204-4662-a7c8-3326986b2e02",
   "metadata": {
    "tags": []
   },
   "outputs": [],
   "source": [
    "def is_on_capacitor(nx, ny, cap):\n",
    "    y_on_capacitor = ny in (cap.y_plus, cap.y_minus)\n",
    "    x_on_capacitor = cap.x_left <= nx <= cap.x_right\n",
    "    return y_on_capacitor and x_on_capacitor"
   ]
  },
  {
   "cell_type": "code",
   "execution_count": null,
   "id": "bf8a13aa-e57a-468d-b599-d81f8ce1132a",
   "metadata": {
    "tags": []
   },
   "outputs": [],
   "source": [
    "def step_gauss_seidel(v, cap):\n",
    "    ny_max, nx_max = v.shape\n",
    "    v_old = np.pad(v, 1)\n",
    "    v_new = np.zeros((ny_max+1, nx_max+1))\n",
    "    for ny in range(1, ny_max+1):\n",
    "        for nx in range(1, nx_max+1):\n",
    "            if is_on_capacitor(nx-1, ny-1, cap):\n",
    "                v_new[ny, nx] = v_old[ny, nx]\n",
    "            else:\n",
    "                v_new[ny, nx] = (v_new[ny, nx-1]\n",
    "                                 + v_new[ny-1, nx]\n",
    "                                 + v_old[ny, nx+1]\n",
    "                                 + v_old[ny+1, nx])/4\n",
    "    return v_new[1:, 1:]"
   ]
  },
  {
   "cell_type": "markdown",
   "id": "cffe4443-0021-4b07-a2c3-5d4c6a708c0c",
   "metadata": {
    "jp-MarkdownHeadingCollapsed": true,
    "tags": []
   },
   "source": [
    "## Fehlerabschätzung\n",
    "\n",
    "Um eine Abschätzung des Fehlers zu erhalten, wird das Integral\n",
    "\n",
    "$$\n",
    "\\int \\text{d}x \\text{d}y \\left[ \\left( \\frac{\\partial^2}{\\partial x^2} + \\frac{\\partial^2}{\\partial y^2} \\right) \\Phi(x,y) \\right]^2 \\, \n",
    "$$\n",
    "\n",
    "näherungsweise durch eine Summation über das Gitter ausgewertet. Dabei wird wieder eine Faltung verwendet, wobei nun die Gewichte in `RESIDUAL_WEIGHTS` hinterlegt sind. Vor der Auswertung der Summe über alle Gitterpunkte muss man den Fehler auf den Kondensatorplatten gleich null setzen, da dort das Potential den korrekten Wert annimmt ohne am Plattenrand der Laplace-Gleichung zu genügen. Neben dem Wert des Integrals wird auch das NumPy-Array `error` zurückgegeben, um später die räumliche Verteilung des Fehlers darstellen zu können."
   ]
  },
  {
   "cell_type": "code",
   "execution_count": null,
   "id": "f4ead45e-ea3d-426a-a09e-21a09c732c13",
   "metadata": {
    "tags": []
   },
   "outputs": [],
   "source": [
    "RESIDUAL_WEIGHTS = np.array([[0, -1, 0],\n",
    "                             [-1, 4, -1],\n",
    "                             [0, -1, 0]])\n",
    "\n",
    "def residual(v, cap):\n",
    "    error = ndimage.convolve(v, RESIDUAL_WEIGHTS,\n",
    "                             mode=\"constant\", cval=0)**2\n",
    "    for y in (cap.y_plus, cap.y_minus):\n",
    "        error[y, cap.x_left:cap.x_right+1] = 0\n",
    "    error_sum = np.sum(error)\n",
    "    return error, error_sum"
   ]
  },
  {
   "cell_type": "markdown",
   "id": "5a0ec4d7-3c16-4f7a-b37e-4dbde4803f5a",
   "metadata": {
    "jp-MarkdownHeadingCollapsed": true,
    "tags": []
   },
   "source": [
    "## Durchführung der Iteration\n",
    "\n",
    "Anfänglich wird das Potential $\\Phi(x)$ überall auf null gesetzt, außer auf den beiden Kondensatorplatten, wo das Potential gemäß den Randbedingungen gleich $\\pm 1$ ist. Anschließend werden Iterationsschritte mit der Funktion durchgeführt, die im Dictionary `STEP` zu dem Wert des Arguments `algorithm` gehört. Die Iterationsschleife wird bis zu einer maximalen Anzahl `n_iter_max` von Durchläufen abgearbeitet, sofern nicht zuvor die in `eps` übergebene Fehlerschranke durch den mit der Funktion `residual` erhaltenen Fehlerschätzer `error_sum` unterschritten wird. Diese Überprüfung erfolgt nur alle 100 Iterationsschritte, wobei auch der Fehlerschätzer zur Information ausgegeben wird."
   ]
  },
  {
   "cell_type": "code",
   "execution_count": null,
   "id": "4238f3e5",
   "metadata": {
    "tags": []
   },
   "outputs": [],
   "source": [
    "STEP = {\"Jacobi\": step_jacobi,\n",
    "        \"Gauß-Seidel\": step_gauss_seidel\n",
    "        }\n",
    "\n",
    "def iterations(nx_max, ny_max, cap, n_iter_max, eps,\n",
    "               algorithm):\n",
    "    v = np.zeros((ny_max, nx_max))\n",
    "    v[cap.y_plus, cap.x_left:cap.x_right+1] = 1\n",
    "    v[cap.y_minus, cap.x_left:cap.x_right+1] = -1\n",
    "    for n_iter in range(n_iter_max):\n",
    "        v = STEP[algorithm](v, cap)\n",
    "        if n_iter % 100 == 0:\n",
    "            error, error_sum = residual(v, cap)\n",
    "            print(n_iter, error_sum)\n",
    "            if error_sum < eps:\n",
    "                break\n",
    "    return v, error"
   ]
  },
  {
   "cell_type": "markdown",
   "id": "7e3d165c",
   "metadata": {
    "jp-MarkdownHeadingCollapsed": true,
    "tags": []
   },
   "source": [
    "## Implementierung der Bedienelemente und graphische Darstellung des Potentials, des elektrischen Feldes oder des Fehlers\n",
    "\n",
    "Mit den Bedienelementen können die folgenden Parameter eingestellt werden:\n",
    "- `nx_max`: Ausdehnung des Gitters in $x$-Richtung\n",
    "- `ny_max`: Ausdehnung des Gitters in $y$-Richtung\n",
    "- `nx_cap`: Anzahl der Gitterpunkte in $x$-Richtung auf den beiden Kondensatorplatten\n",
    "- `ny_cap`: Anzahl der Gitterpunkte in $y$-Richtung auf den beiden Kondensatorplatten\n",
    "- `log_n_iter_max`: Zehnerlogarithmus der maximalen Zahl von Iterationsschritten\n",
    "- `eps`: Fehlerschranke\n",
    "- `algorithm`: zu verwendender Algorithmus, entweder Jacobi oder Gauß-Seidel\n",
    "\n",
    "Die Funktion `plot_result` enthält noch eine innere Funktion, die es erlaubt, unterschiedliche Größen darzustellen, ohne das Potential jedesmal neu berechnen zu müssen. Dabei können die beiden folgenden Parameter\n",
    "eingestellt werden:\n",
    "- `fraction_display`: Anteil des darzustellenden Gitters, um in die Darstellung hineinzoomen zu können\n",
    "- `quantity`: darzustellende Größe, entweder Potential, elektrisches Feld oder Fehler\n",
    "\n",
    "In der Funktion `plot_inner` wird das elektrische Feld bei Bedarf aus dem bereits bestimmten Potential durch Bildung des Gradienten mit Hilfe der NumPy-Funktion `gradient` berechnet. Das Ergebnis wird durch Feldlinien dargestellt, die mit der matplotlib-Funktion `streamplot` bestimmt werden. Das Potential und der Fehler werden in zwei Dimensionen farblich dargestellt."
   ]
  },
  {
   "cell_type": "code",
   "execution_count": null,
   "id": "328e66b6",
   "metadata": {
    "tags": []
   },
   "outputs": [],
   "source": [
    "wide_label = {\"description_width\": \"initial\"}\n",
    "nitermax_label = r\"$\\log_{10}(n_\\text{iter,max})$\"\n",
    "\n",
    "widget_dict = {\"nx_max\":\n",
    "               widgets.IntSlider(\n",
    "                   value=400, min=100, max=1000, step=50,\n",
    "                   description=r\"$n_{x,\\text{max}}$\"),\n",
    "               \"ny_max\":\n",
    "               widgets.IntSlider(\n",
    "                   value=400, min=100, max=1000, step=50,\n",
    "                   description=r\"$n_{y,\\text{max}}$\"),\n",
    "               \"nx_cap\":\n",
    "               widgets.IntSlider(\n",
    "                   value=50, min=5, max=100, step=1,\n",
    "                   description=r\"$n_{x,\\text{capacitor}}$\"),\n",
    "               \"ny_cap\":\n",
    "               widgets.IntSlider(\n",
    "                   value=40, min=5, max=100, step=1,\n",
    "                   description=r\"$n_{y,\\text{capacitor}}$\"),\n",
    "               \"log_n_iter_max\":\n",
    "               widgets.IntSlider(\n",
    "                   value=3, min=2, max=5, step=1,\n",
    "                   description=nitermax_label,\n",
    "                   style=wide_label),\n",
    "               \"eps\":\n",
    "               widgets.FloatLogSlider(\n",
    "                   value=1e-6, min=-8, max=-1, step=1,\n",
    "                   description=r\"$\\epsilon$\"),\n",
    "               \"algorithm\":\n",
    "               widgets.RadioButtons(\n",
    "                   options=[\"Jacobi\", \"Gauß-Seidel\"],\n",
    "                   value=\"Jacobi\",\n",
    "                   description=\"Algorithmus\")\n",
    "               }\n",
    "\n",
    "widget_inner_dict = {\"fraction_display\":\n",
    "                     widgets.FloatSlider(\n",
    "                         value=1, min=0.1, max=1, step=0.1,\n",
    "                         description=r\"$f_\\text{display}$\"),\n",
    "                     \"quantity\":\n",
    "                     widgets.RadioButtons(\n",
    "                         options=[\"Potential\",\n",
    "                                  \"Elektrisches Feld\",\n",
    "                                  \"Fehler\"],\n",
    "                         value=\"Potential\",\n",
    "                         description=\"Darstellung\")\n",
    "                     }\n",
    "\n",
    "interact_start = interact_manual.options(\n",
    "    manual_name=\"Start Berechnung\")\n",
    "\n",
    "@interact_start(**widget_dict)\n",
    "def plot_result(nx_max, ny_max, nx_cap, ny_cap,\n",
    "                log_n_iter_max, eps, algorithm):\n",
    "    n_iter_max = 10**log_n_iter_max\n",
    "    Capacitor = namedtuple(\"Capacitor\",\n",
    "                           (\"y_plus\", \"y_minus\",\n",
    "                            \"x_left\", \"x_right\")\n",
    "                           )\n",
    "    cap = Capacitor((ny_max + ny_cap) // 2,\n",
    "                    (ny_max - ny_cap) // 2,\n",
    "                    (nx_max - nx_cap) // 2,\n",
    "                    (nx_max + nx_cap) // 2)\n",
    "    v, error_array = iterations(nx_max, ny_max, cap,\n",
    "                                n_iter_max, eps, algorithm)\n",
    "\n",
    "    @interact(**widget_inner_dict)\n",
    "    def plot_inner(fraction_display, quantity):\n",
    "        nx_plot = int((nx_max-1)*fraction_display/2)\n",
    "        ny_plot = int((ny_max-1)*fraction_display/2)\n",
    "        nx_half = nx_max // 2\n",
    "        ny_half = ny_max // 2\n",
    "        ny_bottom = ny_half - ny_plot\n",
    "        ny_top = ny_half + ny_plot\n",
    "        nx_left = nx_half - nx_plot\n",
    "        nx_right = nx_half + nx_plot\n",
    "        fig, ax = plt.subplots()\n",
    "        if quantity == \"Potential\":\n",
    "            v_plot = v[ny_bottom:ny_top+1,\n",
    "                       nx_left:nx_right+1]\n",
    "            potentialimg = ax.pcolormesh(v_plot)\n",
    "            fig.colorbar(potentialimg, label=\"$V$\")\n",
    "        elif quantity == \"Elektrisches Feld\":\n",
    "            xvals, yvals = np.meshgrid(\n",
    "                np.arange(2*nx_plot+1),\n",
    "                np.arange(2*ny_plot+1))\n",
    "            efield_x, efield_y = np.gradient(-v)\n",
    "            ax.streamplot(xvals, yvals,\n",
    "                          efield_y[ny_bottom:ny_top+1,\n",
    "                                   nx_left:nx_right+1],\n",
    "                          efield_x[ny_bottom:ny_top+1,\n",
    "                                   nx_left:nx_right+1],\n",
    "                          density=2)\n",
    "            for y in (cap.y_plus, cap.y_minus):\n",
    "                ax.plot((cap.x_left-nx_left,\n",
    "                         cap.x_right-nx_left),\n",
    "                        (y-ny_bottom, y-ny_bottom),\n",
    "                        color=\"black\", lw=4)\n",
    "        else:\n",
    "            error_plot = error_array[ny_bottom:ny_top+1,\n",
    "                                     nx_left:nx_right+1]\n",
    "            errorimg = ax.pcolormesh(error_plot)\n",
    "            fig.colorbar(errorimg, label=\"residual\")\n",
    "        ax.set_xlabel(\"$n_x$\")\n",
    "        ax.set_ylabel(\"$n_y$\")\n",
    "        ax.set_aspect(\"equal\")"
   ]
  }
 ],
 "metadata": {
  "kernelspec": {
   "display_name": "Python 3 (ipykernel)",
   "language": "python",
   "name": "python3"
  },
  "language_info": {
   "codemirror_mode": {
    "name": "ipython",
    "version": 3
   },
   "file_extension": ".py",
   "mimetype": "text/x-python",
   "name": "python",
   "nbconvert_exporter": "python",
   "pygments_lexer": "ipython3",
   "version": "3.12.4"
  }
 },
 "nbformat": 4,
 "nbformat_minor": 5
}
