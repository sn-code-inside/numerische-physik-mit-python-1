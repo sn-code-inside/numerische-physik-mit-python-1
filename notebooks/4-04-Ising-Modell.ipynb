{
 "cells": [
  {
   "cell_type": "markdown",
   "metadata": {},
   "source": [
    "# Ising-Modell\n",
    "\n",
    "Siehe Wiedemann/Ingold: *Numerische Physik mit Python*, Springer-Spektrum 2024, ISBN 978-3-662-69566-1\n",
    "\n",
    "---"
   ]
  },
  {
   "cell_type": "markdown",
   "metadata": {},
   "source": [
    "In diesem Jupyter-Notebook wird das Ising-Modell in ein und zwei Dimensionen mit zwei verschiedenen Algorithmen untersucht, dem Metropolis- und dem Wolff-Algorithmus. Das Ziel besteht darin, die spezifische Wärme und die magnetische Suszeptibilität als Funktion der Temperatur zu bestimmen. Auf dem Weg dorthin werden einige Zwischenschritte eingelegt. Zunächst wird die Ausrichtung der einzelnen Spins für ein eindimensionales Ising-System als Funktion der Iterationsschritte bestimmt und graphisch dargestellt.\n",
    "In den weiteren Schritten werden physikalische Größen des Gesamtsystems betrachtet. Zunächst wird die Entwicklung der Energie und der Magnetisierung als Funktion der Iterationsschritte berechnet. Anschließend erfolgt nach einer Initialisierungsphase die Mittelung dieser beiden Größen, und die Mittelwerte werden wiederum als Funktion der Iterationsschritte dargestellt, so dass eine Beurteilung der Konvergenz möglich wird. Im Folgenden wird eine entsprechende Rechnung für die spezifische Wärme und die magnetische Suszeptibilität durchgeführt. Abschließend werden diese beiden Größen dann als Funktion der Temperatur bestimmt."
   ]
  },
  {
   "cell_type": "markdown",
   "metadata": {
    "jp-MarkdownHeadingCollapsed": true,
    "tags": []
   },
   "source": [
    "## Importanweisungen\n",
    "\n",
    "Hier importieren wir zum ersten Mal das `defaultdict` aus dem `collections`-Modul der Python-Standardbibliothek. In der Funktion `thermo_values_development` werden wir das `defaultdict` verwenden, damit neue Einträge in das Dictionary automatisch mit einer leeren Liste vorbelegt werden, so dass direkt Elemente an diese Liste angehängt werden können."
   ]
  },
  {
   "cell_type": "code",
   "execution_count": 1,
   "metadata": {
    "tags": []
   },
   "outputs": [],
   "source": [
    "from collections import defaultdict, namedtuple\n",
    "from math import exp\n",
    "import numpy as np\n",
    "import matplotlib.pyplot as plt\n",
    "import ipywidgets as widgets\n",
    "from ipywidgets import interact, interact_manual\n",
    "\n",
    "plt.style.use(\"numphyspy.style\")"
   ]
  },
  {
   "cell_type": "markdown",
   "metadata": {
    "jp-MarkdownHeadingCollapsed": true,
    "tags": []
   },
   "source": [
    "## Darstellung des Zustands als Funktion der Iterationsschritte"
   ]
  },
  {
   "cell_type": "markdown",
   "metadata": {
    "jp-MarkdownHeadingCollapsed": false,
    "tags": []
   },
   "source": [
    "### Bestimmung der nächsten Nachbarn\n",
    "\n",
    "Für ein Gitter der Dimension `dimension` und der Anzahl `size` von Gitterplätzen je Raumrichtung mit periodischen Randbedingungen werden die Indizes der Gitterplätze der nächsten Nachbarn bestimmt. Dazu wird ein Array, das die Indizes der Gitterplätze enthält, in jede Raumrichtung um einen Gitterplatz vorwärts und rückwärts verschoben. Hieraus ergibt sich ein zweidimensionales Array `neighbour`, das in der $n$-ten Zeile die Indizes der nächsten Nachbarn enthält."
   ]
  },
  {
   "cell_type": "code",
   "execution_count": 2,
   "metadata": {
    "tags": []
   },
   "outputs": [],
   "source": [
    "def neighbours(size, dimension):\n",
    "    neighbour = np.empty((size**dimension, 2*dimension),\n",
    "                         dtype=int)\n",
    "    index_shape = (size,)*dimension\n",
    "    index = np.arange(size**dimension).reshape(index_shape)\n",
    "    column = 0\n",
    "    for axis in range(dimension):\n",
    "        for shift in (-1, 1):\n",
    "            neighbour[:, column] = np.roll(index, shift,\n",
    "                                           axis=axis\n",
    "                                           ).flatten()\n",
    "            column = column + 1\n",
    "    return neighbour"
   ]
  },
  {
   "cell_type": "markdown",
   "metadata": {
    "jp-MarkdownHeadingCollapsed": false,
    "tags": []
   },
   "source": [
    "### Erzeugung des Anfangszustands\n",
    "\n",
    "Im Anfangszustand sind die Spins zufällig in eine der beiden möglichen Richtungs orientiert. Dieser Zustand entspricht einer unendlichen Temperatur. Um die Ergebnisse reproduzierbar zu machen, wird bei der Initialisierung des Zufallszahlengenerators ein `seed` gesetzt, das bei Bedarf abgeändert oder entfernt werden kann. Die Funktion `initial_state` gibt neben dem Zustand selbst auch dessen Energie und Magnetisierung zurück."
   ]
  },
  {
   "cell_type": "code",
   "execution_count": null,
   "metadata": {
    "tags": []
   },
   "outputs": [],
   "source": [
    "rng = np.random.default_rng(123456)\n",
    "\n",
    "def initial_state(n_spins, neighbour):\n",
    "    state = rng.choice((-1, 1), size=n_spins)\n",
    "    magnetization = np.sum(state)\n",
    "    sum_nbr_spins = np.sum(state[neighbour], axis=1)\n",
    "    energy = -np.sum(state*sum_nbr_spins)/2\n",
    "    return state, energy, magnetization"
   ]
  },
  {
   "cell_type": "markdown",
   "metadata": {
    "jp-MarkdownHeadingCollapsed": false,
    "tags": []
   },
   "source": [
    "### Iterationsschritt im Metropolis-Algorithmus\n",
    "\n",
    "Der Metropolis-Algorithmus wird hier als Generatorfunktion implementiert. Nachdem diese Funktion einmal initialisiert wurde, können sukzessive Iterationsschritte durchgeführt werden, ohne immer wieder den Spinzustand für den nächsten Iterationsschritt übergeben zu müssen. Neben der Anzahl `size` der Gitterplätze je Raumrichtung und der Dimension `dimension` des Gitters muss auch die inverse Temperatur `beta` als Argument übergeben werden. Möchte man neben der Energie und der Magnetisierung auch den Spinzustand als Resultat erhalten, muss man das Argument `full` auf `True` setzen.\n",
    "\n",
    "Zur Ausführung eines Iterationsschritts wird zufällig ein Spin ausgewählt und die Energieänderung bestimmt, die sich beim Umklappen des Spins ergeben würde. Erfüllt die Energieänderung die Bedingung des Metropolis-Algorithmus, so wird der Spin umgeklappt, und es werden die Werte für die Energie und die Magnetisierung aktualisiert. Anschließend werden die Ergebnisse zurückgegeben und die Generatorfunktion wartet auf die Anforderung des nächsten Iterationsschritts."
   ]
  },
  {
   "cell_type": "code",
   "execution_count": null,
   "metadata": {
    "tags": []
   },
   "outputs": [],
   "source": [
    "def metropolis_generator(size, dimension, beta, full=False):\n",
    "    n_spins = size**dimension\n",
    "    neighbour = neighbours(size, dimension)\n",
    "    state, energy, magnetization = initial_state(n_spins,\n",
    "                                                 neighbour)\n",
    "    while True:\n",
    "        if full:\n",
    "            yield state, energy, magnetization\n",
    "        else:\n",
    "            yield energy, magnetization\n",
    "        n_spin = rng.choice(n_spins)\n",
    "        sum_nbr_spins = np.sum(state[neighbour[n_spin, :]])\n",
    "        delta_e = 2*state[n_spin]*sum_nbr_spins\n",
    "        if (delta_e < 0\n",
    "                or rng.uniform() < exp(-beta*delta_e)):\n",
    "            state[n_spin] = -state[n_spin]\n",
    "            energy = energy + delta_e\n",
    "            magnetization = magnetization + 2*state[n_spin]"
   ]
  },
  {
   "cell_type": "markdown",
   "metadata": {
    "jp-MarkdownHeadingCollapsed": false,
    "tags": []
   },
   "source": [
    "### Iterationsschritt im Wolff-Algorithmus\n",
    "\n",
    "Auch der Wolff-Algorithmus ist als Generatorfunktion implementiert. Sieht man vom zentralen Teil des Iterationsschritts selbst ab, ist die vorige Beschreibung der Implementation des Metropolis-Algorithmus auch hier anwendbar.\n",
    "\n",
    "Der eigentlich Wolff-Iterationsschritt beginnt mit der zufälligen Auswahl eines Spins sowie der Definition von zwei Sets. `to_do` enthält die noch abzuarbeitenden Gitterplätze und `cluster` enthält die Gitterplätze, die zum zu invertierenden Cluster gehören. Der ausgewählte Spin wird gleich invertiert. Anschließend werden alle im Set `to_do` vorhandenen Gitterplätze abgearbeitet. Dazu wird einer der Gitterplätze ausgewählt und dessen nächste Nachbarn betrachtet. Wenn die Bedingung des Wolff-Algorithmus erfüllt ist, wird der entsprechende Nachbarplatz den Sets `to_do` und `cluster` hinzugefügt und der zugehörige Spin umgeklappt. Anschließend werden die Werte der Magnetisierung sowie der Energie aktualisiert."
   ]
  },
  {
   "cell_type": "code",
   "execution_count": null,
   "metadata": {
    "tags": []
   },
   "outputs": [],
   "source": [
    "def wolff_generator(size, dimension, beta, full=False):\n",
    "    n_spins = size**dimension\n",
    "    neighbour = neighbours(size, dimension)\n",
    "    p_limit = 1-exp(-2*beta)\n",
    "    state, energy, magnetization = initial_state(n_spins,\n",
    "                                                 neighbour)\n",
    "    while True:\n",
    "        if full:\n",
    "            yield state, energy, magnetization\n",
    "        else:\n",
    "            yield energy, magnetization\n",
    "        n_start = rng.choice(n_spins)\n",
    "        to_do = {n_start}\n",
    "        cluster = {n_start}\n",
    "        state[n_start] = -state[n_start]\n",
    "        while to_do:\n",
    "            n_spin = to_do.pop()\n",
    "            for nbr in neighbour[n_spin, :]:\n",
    "                if (state[nbr] != state[n_spin]\n",
    "                        and np.random.uniform() < p_limit):\n",
    "                    to_do.add(nbr)\n",
    "                    cluster.add(nbr)\n",
    "                    state[nbr] = -state[nbr]\n",
    "        delta_m = 2*state[n_start]*len(cluster)\n",
    "        magnetization = magnetization + delta_m\n",
    "        delta_e = 0\n",
    "        for n_spin in cluster:\n",
    "            sum_nbr_spins = 0\n",
    "            for n_nbr_spin in neighbour[n_spin, :]:\n",
    "                if n_nbr_spin not in cluster:\n",
    "                    sum_nbr_spins += state[n_nbr_spin]\n",
    "            delta_e = delta_e - 2*state[n_spin]*sum_nbr_spins\n",
    "        energy = energy + delta_e"
   ]
  },
  {
   "cell_type": "markdown",
   "metadata": {
    "jp-MarkdownHeadingCollapsed": false,
    "tags": []
   },
   "source": [
    "### Entwicklung des Spinzustands\n",
    "\n",
    "Hier wird die Entwicklung des Spinzustands über `n_steps` Iterationsschritte mit Hilfe des Algorithmus `algorithm` berechnet. Auch wenn die Funktion `state_evolution` im Prinzip auch für höherdimensionale Gitter verwendbar ist, wird sie im Folgenden nur zur Berechnung der Entwicklung des Zustands eines eindimensionalen Ising-Gitters herangezogen."
   ]
  },
  {
   "cell_type": "code",
   "execution_count": null,
   "metadata": {
    "tags": []
   },
   "outputs": [],
   "source": [
    "def state_evolution(size, dimension, beta, algorithm,\n",
    "                    n_steps):\n",
    "    state_sequence = np.empty((size, n_steps))\n",
    "    for n, (state, energy, magnetization) in zip(\n",
    "            range(n_steps),\n",
    "            algorithm(size, dimension, beta, full=True)\n",
    "    ):\n",
    "        state_sequence[:, n] = state\n",
    "    return state_sequence"
   ]
  },
  {
   "cell_type": "markdown",
   "metadata": {
    "jp-MarkdownHeadingCollapsed": false,
    "tags": []
   },
   "source": [
    "### Implementierung der Bedienelemente\n",
    "\n",
    "Um die Einstellungsmöglichkeiten in den folgenden Codezellen voneinander zu entkoppeln, wird hier eine Funktion definiert, die alle benötigen Widgets bereitstellt. Die tatsächlich verwendeten Bedienelemente werden an den betreffenden Stellen dokumentiert. Da die sinnvoll wählbaren Systemgrößen von der Gitterdimension abhängen, werden die auswählbaren Systemgrößen in Abhängigkeit von der gewählten Gitterdimension in `handle_dim_change` umgestellt."
   ]
  },
  {
   "cell_type": "code",
   "execution_count": null,
   "metadata": {
    "tags": []
   },
   "outputs": [],
   "source": [
    "algorithms = {\"Metropolis\": metropolis_generator,\n",
    "              \"Wolff\": wolff_generator}\n",
    "\n",
    "def get_widget_dict():\n",
    "    wide_label = {\"description_width\": \"initial\"}\n",
    "    widget_dict = {\"size\":\n",
    "                   widgets.IntSlider(\n",
    "                       value=100, min=100, max=1000,\n",
    "                       step=100,\n",
    "                       description=r\"$n_\\text{spins}$\"),\n",
    "                   \"dimension\":\n",
    "                   widgets.RadioButtons(\n",
    "                       options=[(\"eindimensional\", 1),\n",
    "                                (\"zweidimensional\", 2)],\n",
    "                       value=1, description=\"Dimension\"),\n",
    "                   \"algorithm\":\n",
    "                   widgets.RadioButtons(\n",
    "                       value=\"Metropolis\",\n",
    "                       options=(\"Metropolis\", \"Wolff\"),\n",
    "                       description=\"Algorithmus\"),\n",
    "                   \"absmagn\":\n",
    "                   widgets.RadioButtons(\n",
    "                       options=[(\"M\", False),\n",
    "                                (\"|M|\", True)],\n",
    "                       value=False,\n",
    "                       description=\"Magnetisierung\"),\n",
    "                   \"temperature\":\n",
    "                   widgets.FloatSlider(\n",
    "                       value=1, min=0.05, max=5,\n",
    "                       step=0.05,\n",
    "                       description=\"$T$\"),\n",
    "                   \"temperature_range\":\n",
    "                   widgets.FloatRangeSlider(\n",
    "                       value=(0.2, 5), min=0.05, max=5,\n",
    "                       step=0.05,\n",
    "                       description=\"Temperaturbereich\",\n",
    "                       style=wide_label),\n",
    "                   \"n_T\":\n",
    "                   widgets.IntSlider(\n",
    "                       value=30, min=10, max=200, step=10,\n",
    "                       description=\"Temperaturwerte\",\n",
    "                       style=wide_label),\n",
    "                   \"log_n_steps_init\":\n",
    "                   widgets.IntSlider(\n",
    "                       value=3, min=1, max=7, step=1,\n",
    "                       description=r\"$\\log_{10}\"\n",
    "                                   r\"(n_\\text{init})$\"),\n",
    "                   \"log_n_steps\":\n",
    "                   widgets.IntSlider(\n",
    "                       value=4, min=3, max=9, step=1,\n",
    "                       description=r\"$\\log_{10}\"\n",
    "                                   r\"(n_\\text{steps})$\"),\n",
    "                   \"log_n_steps_min_max\":\n",
    "                   widgets.IntRangeSlider(\n",
    "                       value=(0, 5), min=0, max=9,\n",
    "                       description=r\"$\\log_{10}\"\n",
    "                                   r\"(n_\\text{steps})$\"),\n",
    "                   \"n_steps\":\n",
    "                   widgets.IntSlider(\n",
    "                       value=100, min=50, max=1000, step=50,\n",
    "                       description=r\"$n_\\text{steps}$\")\n",
    "                   }\n",
    "\n",
    "    def handle_dim_change(change):\n",
    "        attributes = {1: {\"max\": 1000, \"min\": 50, \"step\": 50,\n",
    "                          \"value\": 100},\n",
    "                      2: {\"step\": 5, \"min\": 5, \"max\": 40,\n",
    "                          \"value\": 20}}\n",
    "        for k, v in attributes[change.new].items():\n",
    "            setattr(widget_dict[\"size\"], k, v)\n",
    "\n",
    "    widget_dict[\"dimension\"].observe(handle_dim_change,\n",
    "                                     names=\"value\")\n",
    "    return widget_dict\n",
    "\n",
    "interact_start = interact_manual.options(\n",
    "    manual_name=\"Start Berechnung\")"
   ]
  },
  {
   "cell_type": "markdown",
   "metadata": {
    "jp-MarkdownHeadingCollapsed": false,
    "tags": []
   },
   "source": [
    "### Graphische Darstellung des Zustands eines eindimensionalen Ising-Systems als Funktion der Iterationsschritte\n",
    "\n",
    "Mit Hilfe der Bedienelemente können die folgenden Parameter eingestellt werden:\n",
    "- `algorithm`: zu verwendender Algorithmus (Metropolis oder Wolff)\n",
    "- `temperature`: dimensionslose Temperatur\n",
    "- `size`: Anzahl der Gitterplätze je Raumdimension\n",
    "- `n_steps`: Anzahl der Iterationsschritte\n",
    "\n",
    "Die Dimension des Gitters ist hier auf 1 festgelegt, da nur dann eine graphische Darstellung des gesamten Spinzustands als Funktion der Iterationsschritte möglich ist. Die zwei möglichen Spinzustände werden in unterschiedlichen Farben dargestellt. Horizontal läuft die Zeit und vertikal ist das eindimensionale Gitter dargestellt."
   ]
  },
  {
   "cell_type": "code",
   "execution_count": null,
   "metadata": {
    "tags": []
   },
   "outputs": [],
   "source": [
    "@interact(**get_widget_dict())\n",
    "def plot_configs(algorithm, temperature, size, n_steps):\n",
    "    dimension = 1\n",
    "    beta = 1 / temperature\n",
    "    state_sequence = state_evolution(size, dimension, beta,\n",
    "                                     algorithms[algorithm],\n",
    "                                     n_steps)\n",
    "\n",
    "    fig, ax = plt.subplots()\n",
    "    ax.imshow(state_sequence, aspect=\"auto\",\n",
    "              interpolation=\"none\")\n",
    "    ax.set_xlabel(\"$t$\")\n",
    "    ax.set_ylabel(\"$x$\")"
   ]
  },
  {
   "cell_type": "markdown",
   "metadata": {
    "jp-MarkdownHeadingCollapsed": true,
    "tags": []
   },
   "source": [
    "## Energie und Magnetisierung als Funktion der Iterationsschritte"
   ]
  },
  {
   "cell_type": "markdown",
   "metadata": {
    "jp-MarkdownHeadingCollapsed": false,
    "tags": []
   },
   "source": [
    "### Energie, Magnetisierung sowie deren erste und zweite Momente\n",
    "\n",
    "Neben der Energie und der Magnetisierung eines Spinzustands werden hier im Verlauf der Iterationen auch die Energie, die Magnetisierung sowie deren Quadrate aufsummiert und gemittelt. Die so bestimmten ersten und zweiten Momente werden später zur Berechnung der spezifischen Wärme und der magnetischen Suszeptibilität benötigt. Bevor die Mittelung beginnt; werden zuächst `n_init` Initialisierungsschritte durchgeführt. Anschließend werden laufende Mittelwerte berechnet bis `n_iters` Iterationsschritte erreicht wurden. Der Parameter `absmagn` erwartet einen Wahrheitswert, die bestimmt, ob der Betrag der Magnetisierung oder die Magnetisierung selbst gemittelt wird. Die Ergebnisse werden in einem *named tuple* zurückgegeben, so dass auf die einzelnen Elemente über entsprechende Attributnamen zugegriffen werden kann."
   ]
  },
  {
   "cell_type": "code",
   "execution_count": null,
   "metadata": {
    "tags": []
   },
   "outputs": [],
   "source": [
    "thermo_values_keys = (\"n_steps\", \"energy\", \"magnetization\",\n",
    "                      \"e_sum\", \"e2_sum\", \"m_sum\", \"m2_sum\")\n",
    "ThermoValues = namedtuple(\"ThermoValues\",\n",
    "                          thermo_values_keys)\n",
    "\n",
    "def thermo_values_development(size, dimension, beta,\n",
    "                              algorithm, n_init, n_iters,\n",
    "                              absmagn):\n",
    "    state = algorithms[algorithm](size, dimension, beta)\n",
    "    for n in range(n_init):\n",
    "        next(state)\n",
    "    thermo_values = defaultdict(list)\n",
    "    n_steps = 0\n",
    "    e_sum = 0\n",
    "    e2_sum = 0\n",
    "    m_sum = 0\n",
    "    m2_sum = 0\n",
    "    for n_todo in n_iters:\n",
    "        for n in range(n_todo):\n",
    "            energy, magnetization = next(state)\n",
    "            e_sum = e_sum + energy\n",
    "            e2_sum = e2_sum + energy**2\n",
    "            if absmagn:\n",
    "                magnetization = abs(magnetization)\n",
    "            m_sum = m_sum + magnetization\n",
    "            m2_sum = m2_sum + magnetization**2\n",
    "        n_steps = n_steps + n_todo\n",
    "        for k in thermo_values_keys:\n",
    "            value = locals()[k]\n",
    "            if k in (\"e_sum\", \"e2_sum\", \"m_sum\", \"m2_sum\"):\n",
    "                value = value / n_steps\n",
    "            thermo_values[k].append(value)\n",
    "    for k in thermo_values_keys:\n",
    "        thermo_values[k] = np.array(thermo_values[k])\n",
    "    return ThermoValues(**thermo_values)"
   ]
  },
  {
   "cell_type": "markdown",
   "metadata": {
    "jp-MarkdownHeadingCollapsed": false,
    "tags": []
   },
   "source": [
    "### Iteration auf einer logarithmischen Skala\n",
    "\n",
    "Um eine äquidistante Darstellung der Resultate auf einer logarithmischen Skala zu erreichen, wird eine Generatorfunktion definiert, die die Anzahl der Iterationsschritte bis zum nächsten Datenpunkt zurückgibt. Es sollen dabei `n_values` Datenpunkte berechnet werden, wobei die Zehnerlogarithmen der Iterationen zwischen `log_n_steps_min` und `log_n_steps_max` liegen."
   ]
  },
  {
   "cell_type": "code",
   "execution_count": null,
   "metadata": {
    "tags": []
   },
   "outputs": [],
   "source": [
    "def logarithmic_niters(log_n_steps_min, log_n_steps_max,\n",
    "                       n_values):\n",
    "    n_done = 0\n",
    "    for n in np.logspace(log_n_steps_min, log_n_steps_max,\n",
    "                         n_values, dtype=int):\n",
    "        if n_done < n:\n",
    "            yield n-n_done\n",
    "            n_done = n"
   ]
  },
  {
   "cell_type": "markdown",
   "metadata": {
    "jp-MarkdownHeadingCollapsed": false,
    "tags": []
   },
   "source": [
    "### Graphische Darstellung der Energie und der Magnetisierung als Funktion der Iterationsschritte\n",
    "\n",
    "Mit Hilfe der Bedienelemente lassen sich die folgenden Parameter einstellen:\n",
    "- `size`: Anzahl der Gitterplätze je Raumdimension\n",
    "- `dimension`: Dimension des Gitters\n",
    "- `temperature`: dimensionslose Temperatur\n",
    "- `algorithm`: zu verwendender Algorithmus (Metropolis oder Wolff)\n",
    "- `log_n_steps_min_max`: Endpunkte der Zehnerlogarithmen der Anzahl der Iterationsschritte, für die Daten dargestellt werden sollen\n",
    "\n",
    "Es werden die Energie und die Magnetisierung je Spin als Funktion der Iterationsschritte graphisch dargestellt."
   ]
  },
  {
   "cell_type": "code",
   "execution_count": null,
   "metadata": {
    "tags": []
   },
   "outputs": [],
   "source": [
    "@interact_start(**get_widget_dict())\n",
    "def plot_e_m(size, dimension, temperature,\n",
    "             algorithm, log_n_steps_min_max):\n",
    "    log_n_steps_min, log_n_steps_max = log_n_steps_min_max\n",
    "    n_spins = size**dimension\n",
    "    n_iters = logarithmic_niters(log_n_steps_min,\n",
    "                                 log_n_steps_max, 200)\n",
    "    n_steps_init = 0\n",
    "    beta = 1 / temperature\n",
    "    absmagn = False\n",
    "    thermo_values = thermo_values_development(\n",
    "        size, dimension, beta, algorithm, n_steps_init,\n",
    "        n_iters, absmagn)\n",
    "    mean_energy = np.array(thermo_values.energy) / n_spins\n",
    "    mean_magnetization = np.array(\n",
    "        thermo_values.magnetization) / n_spins\n",
    "\n",
    "    fig, (ax1, ax2) = plt.subplots(1, 2, figsize=(14, 5))\n",
    "    ax1.semilogx(thermo_values.n_steps, mean_energy)\n",
    "    ax1.set_xlabel(\"$n$\")\n",
    "    ax1.set_ylabel(\"$E/N$\")\n",
    "\n",
    "    ax2.semilogx(thermo_values.n_steps, mean_magnetization)\n",
    "    ax2.set_xlabel(\"$n$\")\n",
    "    ax2.set_ylabel(\"$M/N$\")"
   ]
  },
  {
   "cell_type": "markdown",
   "metadata": {
    "jp-MarkdownHeadingCollapsed": true,
    "tags": []
   },
   "source": [
    "## Graphische Darstellung der mittleren Energie und der mittleren Magnetisierung als Funktion der Iterationsschritte\n",
    "\n",
    "Mit Hilfe der Bedienelemente lassen sich die folgenden Parameter einstellen:\n",
    "- `size`: Anzahl der Gitterplätze je Raumdimension\n",
    "- `dimension`: Dimension des Gitters\n",
    "- `temperature`: dimensionslose Temperatur\n",
    "- `algorithm`: zu verwendender Algorithmus (Metropolis oder Wolff)\n",
    "- `log_n_steps_min_max`: Endpunkte der Zehnerlogarithmen der Anzahl der Iterationsschritte, für die Daten dargestellt werden sollen\n",
    "- `absmagn`: falls gleich `True` wird statt der Magnetisierung deren Absolutbetrag zur Berechnung herangezogen\n",
    "\n",
    "Da `n_steps_init` fest gleich null gesetzt wird, beginnt die Mittelung schon mit dem ersten Iterationsschritt. Bei Bedarf kann der Code angepasst werden, um eine Initialisierungsphase zu erreichen.\n",
    "\n",
    "Es werden die mittlere Energie und die mittlere Magnetisierung als Funktion der Iterationsschritte graphisch dargestellt. "
   ]
  },
  {
   "cell_type": "code",
   "execution_count": null,
   "metadata": {
    "tags": []
   },
   "outputs": [],
   "source": [
    "@interact_start(**get_widget_dict())\n",
    "def plot_e_m_means(size, dimension, temperature, algorithm,\n",
    "                   log_n_steps_min_max, absmagn):\n",
    "    log_n_steps_min, log_n_steps_max = log_n_steps_min_max\n",
    "    n_spins = size**dimension\n",
    "    n_iters = logarithmic_niters(log_n_steps_min,\n",
    "                                 log_n_steps_max, 200)\n",
    "    n_steps_init = 0\n",
    "    beta = 1 / temperature\n",
    "    thermo_values = thermo_values_development(\n",
    "        size, dimension, beta, algorithm, n_steps_init,\n",
    "        n_iters, absmagn)\n",
    "    mean_energy = thermo_values.e_sum / n_spins\n",
    "    mean_magnetization = thermo_values.m_sum / n_spins\n",
    "\n",
    "    fig, (ax1, ax2) = plt.subplots(1, 2, figsize=(14, 5))\n",
    "    ax1.semilogx(thermo_values.n_steps, mean_energy)\n",
    "    ax1.set_xlabel(\"$n$\")\n",
    "    ax1.set_ylabel(r\"$\\langle E \\rangle/N$\")\n",
    "\n",
    "    if absmagn:\n",
    "        label_m = r\"$\\langle \\vert M\\vert \\rangle/N$\"\n",
    "        lower_m = 0\n",
    "    else:\n",
    "        label_m = r\"$\\langle M \\rangle/N$\"\n",
    "        lower_m = -1\n",
    "    ax2.semilogx(thermo_values.n_steps, mean_magnetization)\n",
    "    ax2.set_xlabel(\"$n$\")\n",
    "    ax2.set_ylabel(label_m)\n",
    "    ax2.set_ylim((lower_m, 1))"
   ]
  },
  {
   "cell_type": "markdown",
   "metadata": {
    "jp-MarkdownHeadingCollapsed": true,
    "tags": []
   },
   "source": [
    "## Graphische Darstellung der spezifischen Wärme und der magnetischen Suszeptiblität als Funktion der Iterationsschritte\n",
    "\n",
    "Mit Hilfe der Bedienelemente lassen sich die folgenden Parameter einstellen:\n",
    "- `size`: Anzahl der Gitterplätze je Raumdimension\n",
    "- `dimension`: Dimension des Gitters\n",
    "- `temperature`: dimensionslose Temperatur\n",
    "- `algorithm`: zu verwendender Algorithmus (Metropolis oder Wolff)\n",
    "- `log_n_steps_init`: Zehnerlogarithmus der Anzahl der Initalisierungsschritte\n",
    "- `log_n_steps_min_max`: Endpunkte der Zehnerlogarithmen der Anzahl der Iterationsschritte, für die Daten dargestellt werden sollen\n",
    "- `absmagn`: falls gleich `True` wird statt der Magnetisierung deren Absolutbetrag zur Berechnung herangezogen\n",
    "\n",
    "Es werden die spezifische Wärme und die magnetische Suszeptibilität jeweils je Spin als Funktion der Iterationsschritte graphisch dargestellt. "
   ]
  },
  {
   "cell_type": "code",
   "execution_count": null,
   "metadata": {
    "tags": []
   },
   "outputs": [],
   "source": [
    "widget_dict = get_widget_dict()\n",
    "setattr(widget_dict[\"log_n_steps_min_max\"], \"value\", (3, 5))\n",
    "\n",
    "@interact_start(**widget_dict)\n",
    "def plot_c_chi(size, dimension, temperature, algorithm,\n",
    "               log_n_steps_init, log_n_steps_min_max,\n",
    "               absmagn):\n",
    "    log_n_steps_min, log_n_steps_max = log_n_steps_min_max\n",
    "    n_spins = size**dimension\n",
    "    beta = 1 / temperature\n",
    "    n_iters = logarithmic_niters(log_n_steps_min,\n",
    "                                 log_n_steps_max, 200)\n",
    "    thermo_values = thermo_values_development(\n",
    "        size, dimension, beta, algorithm,\n",
    "        10**log_n_steps_init, n_iters, absmagn)\n",
    "    spec_heat = (thermo_values.e2_sum\n",
    "                 - thermo_values.e_sum**2\n",
    "                 ) * beta**2 / n_spins\n",
    "    magn_susc = (thermo_values.m2_sum\n",
    "                 - thermo_values.m_sum**2\n",
    "                 ) * beta / n_spins\n",
    "\n",
    "    fig, (ax1, ax2) = plt.subplots(1, 2, figsize=(12, 5))\n",
    "    ax1.semilogx(thermo_values.n_steps, spec_heat)\n",
    "    ax1.set_xlabel(\"$n$\")\n",
    "    ax1.set_ylabel(\"$C/Nk$\")\n",
    "\n",
    "    if absmagn:\n",
    "        label_chi = r\"$\\chi'/N$\"\n",
    "    else:\n",
    "        label_chi = r\"$\\chi/N$\"\n",
    "    ax2.semilogx(thermo_values.n_steps, magn_susc)\n",
    "    ax2.set_xlabel(\"$n$\")\n",
    "    ax2.set_ylabel(label_chi)"
   ]
  },
  {
   "cell_type": "markdown",
   "metadata": {
    "jp-MarkdownHeadingCollapsed": true,
    "tags": []
   },
   "source": [
    "## Graphische Darstellung der spezifischen Wärme und der magnetischen Suszeptibilität als Funktion der Temperatur\n",
    "\n",
    "Mit Hilfe der Bedienelemente lassen sich die folgenden Parameter einstellen:\n",
    "- `size`: Anzahl der Gitterplätze je Raumdimension\n",
    "- `dimension`: Dimension des Gitters\n",
    "- `algorithm`: zu verwendender Algorithmus (Metropolis oder Wolff)\n",
    "- `temperature_range`: Bereich der dimensionslosen Temperatur\n",
    "- `n_T`: Anzahl der zu betrachtenden Temperaturwerte\n",
    "- `log_n_steps_init`: Zehnerlogarithmus der Anzahl der Initalisierungsschritte\n",
    "- `log_n_steps_min_max`: Endpunkte der Zehnerlogarithmen der Anzahl der Iterationsschritte, für die Daten dargestellt werden sollen\n",
    "- `absmagn`: falls gleich `True` wird statt der Magnetisierung deren Absolutbetrag zur Berechnung herangezogen\n",
    "\n",
    "Da die Rechnung typischerweise einige Zeit in Anspruch nimmt, werden im Verlauf der Rechnung die berechneten Werte für die Temperatur, die spezifische Wärme und die magnetische Suszeptibilität ausgegeben. Abschließend werden die spezifische Wärme und die magnetische Suszeptibilität jeweils je Spin als Funktion der Temperatur graphisch dargestellt. "
   ]
  },
  {
   "cell_type": "code",
   "execution_count": null,
   "metadata": {
    "tags": []
   },
   "outputs": [],
   "source": [
    "widget_dict = get_widget_dict()\n",
    "setattr(widget_dict[\"algorithm\"], \"value\", \"Wolff\")\n",
    "\n",
    "@interact_start(**widget_dict)\n",
    "def plot_c_chi_of_temp(size, dimension, algorithm,\n",
    "                       temperature_range, n_T,\n",
    "                       log_n_steps_init, log_n_steps,\n",
    "                       absmagn):\n",
    "    n_spins = size**dimension\n",
    "    temperature_min, temperature_max = temperature_range\n",
    "    temperature_vals = np.linspace(temperature_min,\n",
    "                                   temperature_max, n_T)\n",
    "    if absmagn:\n",
    "        headline = \"  T      C/N      χ'/N\"\n",
    "        label_chi = r\"$\\chi'/N$\"\n",
    "    else:\n",
    "        headline = \"  T      C/N      χ/N\"\n",
    "        label_chi = r\"$\\chi/N$\"\n",
    "    spec_heat_vals = []\n",
    "    magn_susc_vals = []\n",
    "    print(headline)\n",
    "    for temperature in temperature_vals:\n",
    "        beta = 1 / temperature\n",
    "        thermo_values = thermo_values_development(\n",
    "            size, dimension, beta, algorithm,\n",
    "            10**log_n_steps_init, (10**log_n_steps,),\n",
    "            absmagn)\n",
    "        spec_heat = (thermo_values.e2_sum[-1]\n",
    "                     - thermo_values.e_sum[-1]**2)\n",
    "        spec_heat = spec_heat * beta**2 / n_spins\n",
    "        spec_heat_vals.append(spec_heat)\n",
    "\n",
    "        magn_susc = (thermo_values.m2_sum[-1]\n",
    "                     - thermo_values.m_sum[-1]**2)\n",
    "        magn_susc = magn_susc * beta / n_spins\n",
    "        magn_susc_vals.append(magn_susc)\n",
    "        print(f\"{temperature:6.4f} {spec_heat:7.4f} \"\n",
    "              f\"{magn_susc:8.2f}\")\n",
    "\n",
    "    fig, (ax1, ax2) = plt.subplots(1, 2, figsize=(14, 5))\n",
    "    ax1.plot(temperature_vals, spec_heat_vals)\n",
    "    ax1.set_xlabel(\"$T$\")\n",
    "    ax1.set_ylabel(\"$C/N$\")\n",
    "\n",
    "\n",
    "    if absmagn:\n",
    "        ax2.plot(temperature_vals, magn_susc_vals)\n",
    "    else:\n",
    "        ax2.semilogy(temperature_vals, magn_susc_vals)\n",
    "        ax2.semilogy(temperature_vals,\n",
    "                     n_spins/np.array(temperature_vals))\n",
    "    ax2.set_xlabel(\"$T$\")\n",
    "    ax2.set_ylabel(label_chi)"
   ]
  }
 ],
 "metadata": {
  "kernelspec": {
   "display_name": "Python 3 (ipykernel)",
   "language": "python",
   "name": "python3"
  },
  "language_info": {
   "codemirror_mode": {
    "name": "ipython",
    "version": 3
   },
   "file_extension": ".py",
   "mimetype": "text/x-python",
   "name": "python",
   "nbconvert_exporter": "python",
   "pygments_lexer": "ipython3",
   "version": "3.12.4"
  }
 },
 "nbformat": 4,
 "nbformat_minor": 4
}
