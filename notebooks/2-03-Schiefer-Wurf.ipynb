{
 "cells": [
  {
   "cell_type": "markdown",
   "metadata": {},
   "source": [
    "# Schiefer Wurf mit Luftwiderstand\n",
    "\n",
    "Siehe Wiedemann/Ingold: *Numerische Physik mit Python*, Springer-Spektrum 2024, ISBN 978-3-662-69566-1\n",
    "\n",
    "---"
   ]
  },
  {
   "cell_type": "markdown",
   "metadata": {},
   "source": [
    "Während in den bisherigen Jupyter-Notebooks eine eindimensionale Bewegung betrachtet wurde, wenden wir uns nun einem zweidimensionalen Problem zu, dem schiefen Wurf mit Luftwiderstand. Da die Newton'sche Reibung quadratisch in der Geschwindigkeit ist, lässt sich das Problem nicht in zwei eindimensionale Probleme separieren wie die dimensionslosen Bewegungsgleichungen\n",
    "\n",
    "\\begin{align}\n",
    "\\frac{\\text{d}^2x}{\\text{d}t^2} &= -\\sqrt{v_x^2+v_z^2} v_x\\\\\n",
    "\\frac{\\text{d}^2z}{\\text{d}t^2} &= - 1 - \\sqrt{v_x^2+v_z^2} v_z\n",
    "\\end{align}\n",
    "\n",
    "zeigen. Die im Folgenden angewandten Lösungstechniken entsprechen denen, die in [2-02-Senkrechter-Wurf-mit-Gravitationsgesetz.ipynb](2-02-Senkrechter-Wurf-mit-Gravitationsgesetz.ipynb) verwendet wurden."
   ]
  },
  {
   "cell_type": "markdown",
   "metadata": {
    "jp-MarkdownHeadingCollapsed": false,
    "tags": []
   },
   "source": [
    "### Importanweisungen\n",
    "\n",
    "Im Vergleich zu den vorhergehenden Jupyter-Notebooks benötigen wir hier vier Funktionen aus dem `math`-Modul der Python-Standardbibliothek. Dabei handelt es sich neben zwei trigonometrischen Funktionen um die Funktion `hypot`, die in zwei Dimensionen die Länge der Hypotenuse eines rechtwinkligen Dreiecks berechnet, wenn die beiden anderen Seitenlängen gegeben sind, sowie die Funktion `radians`, die zur Umwandlung von Grad in Bogenmaß dient. "
   ]
  },
  {
   "cell_type": "code",
   "execution_count": 1,
   "metadata": {
    "tags": []
   },
   "outputs": [],
   "source": [
    "from math import cos, hypot, radians, sin\n",
    "import numpy as np\n",
    "from scipy import integrate\n",
    "import ipywidgets as widgets\n",
    "from ipywidgets import interact\n",
    "import matplotlib.pyplot as plt\n",
    "\n",
    "plt.style.use(\"numphyspy.style\")"
   ]
  },
  {
   "cell_type": "markdown",
   "metadata": {
    "jp-MarkdownHeadingCollapsed": false,
    "tags": []
   },
   "source": [
    "### Implementierung der Bewegungsgleichungen\n",
    "\n",
    "Nach der Umwandlung der beiden oben angegebenen Differentialgleichungen 2. Ordnung in vier Differentialgleichungen 1. Ordnung ergibt sich die folgende Funktion zur Berechnung der Zeitableitungen, die später von `integrate.solve_ivp` aus der SciPy-Bibliothek benötigt wird."
   ]
  },
  {
   "cell_type": "code",
   "execution_count": null,
   "metadata": {
    "tags": []
   },
   "outputs": [],
   "source": [
    "def dx_dt(t, x):\n",
    "    x_x, v_x, x_z, v_z = x\n",
    "    v = hypot(v_x, v_z)\n",
    "    return v_x, -v*v_x, v_z, -1-v*v_z"
   ]
  },
  {
   "cell_type": "markdown",
   "metadata": {
    "jp-MarkdownHeadingCollapsed": false,
    "tags": []
   },
   "source": [
    "### Abbruchbedingung\n",
    "\n",
    "Wenn die Punktmasse den Boden in einer Höhe 0 erreicht, soll die Berechnung abgebrochen werden. Die hierfür relevante $z$-Koordinate tritt im vierdimensionalen Vektor gemäß der Funktion `dx_dt` mit dem Index 2 auf. Das Attribut `direction` der Funktion `height_zero` legt fest, dass sich die Punktmasse beim Erreichen des Bodens in der Fallbewegung befindet, so dass die $z$-Koordinate abnimmt. Der Wurf könnte also aus einer Grube mit negativer Anfangshöhe erfolgen, ohne dass die Berechnung in der Steigbewegung abgebrochen würde."
   ]
  },
  {
   "cell_type": "code",
   "execution_count": null,
   "metadata": {
    "tags": []
   },
   "outputs": [],
   "source": [
    "def height_zero(t, y):\n",
    "    return y[2]\n",
    "\n",
    "height_zero.terminal = True\n",
    "height_zero.direction = -1"
   ]
  },
  {
   "cell_type": "markdown",
   "metadata": {
    "jp-MarkdownHeadingCollapsed": false,
    "tags": []
   },
   "source": [
    "### Lösung des Differentialgleichungssystems\n",
    "\n",
    "Die Bewegungsgleichungen werden mit Hilfe der SciPy-Funktion `integrate.solve_ivp` gelöst, wobei das Vorgehen demjenigen entspricht, das im Jupyter-Notebooks zum senkrechten Wurf im Newton'schen Gravitationspotential zur Anwendung kam."
   ]
  },
  {
   "cell_type": "code",
   "execution_count": null,
   "metadata": {
    "tags": []
   },
   "outputs": [],
   "source": [
    "def trajectory(t_end, n_out, x0):\n",
    "    solution = integrate.solve_ivp(\n",
    "        dx_dt, (0, t_end), x0,\n",
    "        dense_output=True, events=height_zero)\n",
    "    if solution.t_events[0].size > 0:\n",
    "        t_end = solution.t_events[0][0]\n",
    "    t_values = np.linspace(0, t_end, n_out)\n",
    "    x_values, _, z_values, _ = solution.sol(t_values)\n",
    "    return t_values, x_values, z_values"
   ]
  },
  {
   "cell_type": "markdown",
   "metadata": {
    "jp-MarkdownHeadingCollapsed": false,
    "tags": []
   },
   "source": [
    "### Implementierung der Bedienelemente und graphische Darstellung der Ergebnisse\n",
    "\n",
    "Mit den Schiebereglern können die folgenden Variablen eingestellt werden:\n",
    "- `t_end`: maximaler Zeitraum, über den die Lösung berechnet wird\n",
    "- `z_0`: Anfangshöhe relativ zum Boden\n",
    "- `v`: Betrag der Anfangsgeschwindigkeit\n",
    "- `theta`: Abwurfwinkel bezüglich der Horizontalen in Grad\n",
    "\n",
    "Innerhalb der Funktion `plot_result` wird festgelegt, dass für die Darstellung der Trajektorie 100 Punkte verwendet werden. Auch dieser Parameter kann bei Bedarf angepasst werden."
   ]
  },
  {
   "cell_type": "code",
   "execution_count": null,
   "metadata": {
    "pycharm": {
     "name": "#%%\n"
    },
    "tags": []
   },
   "outputs": [],
   "source": [
    "widget_dict = {\"t_end\":\n",
    "               widgets.FloatSlider(\n",
    "                   value=5, min=0.5, max=10, step=0.5,\n",
    "                   description=r\"$\\tau_\\text{end}$\"),\n",
    "               \"z_0\":\n",
    "               widgets.FloatSlider(\n",
    "                   value=0, min=0, max=2, step=0.1,\n",
    "                   description=\"$z_0$\"),\n",
    "               \"v\":\n",
    "               widgets.FloatSlider(\n",
    "                   value=10, min=0, max=30, step=1,\n",
    "                   description=r\"$\\vert v\\vert$\"),\n",
    "               \"theta\":\n",
    "               widgets.FloatSlider(\n",
    "                   value=45, min=0, max=90, step=5,\n",
    "                   description=r\"$\\theta$ (in Grad)\")\n",
    "               }\n",
    "\n",
    "@interact(**widget_dict)\n",
    "def plot_result(t_end, z_0, v, theta):\n",
    "    n_out = 100\n",
    "    theta_rad = radians(theta)\n",
    "    x0 = [0, v*cos(theta_rad), z_0, v*sin(theta_rad)]\n",
    "    t_values, x_values, z_values = trajectory(\n",
    "        t_end, n_out, x0)\n",
    "\n",
    "    fig, ax = plt.subplots()\n",
    "    ax.plot(x_values, z_values)\n",
    "    ax.set_xlabel(\"$x$\")\n",
    "    ax.set_ylabel(\"$z$\")"
   ]
  }
 ],
 "metadata": {
  "kernelspec": {
   "display_name": "Python 3 (ipykernel)",
   "language": "python",
   "name": "python3"
  },
  "language_info": {
   "codemirror_mode": {
    "name": "ipython",
    "version": 3
   },
   "file_extension": ".py",
   "mimetype": "text/x-python",
   "name": "python",
   "nbconvert_exporter": "python",
   "pygments_lexer": "ipython3",
   "version": "3.12.4"
  }
 },
 "nbformat": 4,
 "nbformat_minor": 4
}
