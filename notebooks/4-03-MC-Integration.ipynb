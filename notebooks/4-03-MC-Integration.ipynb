{
 "cells": [
  {
   "cell_type": "markdown",
   "metadata": {},
   "source": [
    "# Monte-Carlo-Integration\n",
    "\n",
    "Siehe Wiedemann/Ingold: *Numerische Physik mit Python*, Springer-Spektrum 2024, ISBN 978-3-662-69566-1\n",
    "\n",
    "---"
   ]
  },
  {
   "cell_type": "markdown",
   "metadata": {},
   "source": [
    "In diesem Jupyter-Notebook wird die Auswertung von ein- und mehrdimensionalen Integralen unter Verwendung von SciPy-Funktionen sowie mittels der Monte-Carlo-Methode gegenübergestellt. In einer Dimension wird das Integral\n",
    "\n",
    "$$I = \\int_{-\\infty}^{+\\infty}\\text{d}x \\frac{x^2}{\\sqrt{2\\pi}}\\exp\\left(-\\frac{x^2}{2} \\right)$$\n",
    "\n",
    "betrachtet. Dieses Integral lässt sich analytisch auswerten und ergibt $I=1$, so dass wir den tatsächlichen Fehler des numerisch erhaltenen Integral bestimmen können. Für mehrdimensionale Integrale betrachten wir\n",
    "\n",
    "$$I_d = \\int_{-\\infty}^{+\\infty}\\frac{\\text{d}x_1}{\\sqrt{2\\pi}}\\ldots\\int_{-\\infty}^{+\\infty}\\frac{\\text{d}x_d}{\\sqrt{2\\pi}}\\left(x_1^2+\\ldots+x_d^2\\right)\\exp\\left(-\\frac{x_1^2+\\ldots+x_d^2}{2} \\right)\\,.$$\n",
    "\n",
    "Auch dieses Integral lässt sich analytisch auswerten, und man erhält $I_d=d$. Somit lässt sich auch hier der tatsächliche Fehler des numerisch erhaltenen Integrals bestimmen.\n",
    "\n",
    "Im ersten Teil des Jupyter-Notebooks werden Funktionen aus dem `integrate`-Modul des SciPy-Pakets verwendet, während im zweiten Teil die Monte-Carlo-Methode verwendet wird. Interessant ist, wie sich im ersten Fall die Anzahl der erforderlichen Stützstellen und damit die Rechenzeit mit zunehmender Dimension verhält. Damit verglichen werden soll die benötigte Rechenzeit und die Genauigkeit der Auswertung mehrdimensionaler Integrale mit Hilfe der Monte-Carlo-Methode."
   ]
  },
  {
   "cell_type": "markdown",
   "metadata": {
    "jp-MarkdownHeadingCollapsed": true,
    "tags": []
   },
   "source": [
    "## Importanweisungen"
   ]
  },
  {
   "cell_type": "code",
   "execution_count": null,
   "metadata": {
    "tags": []
   },
   "outputs": [],
   "source": [
    "import numpy as np\n",
    "from numpy import linalg as LA\n",
    "from scipy import integrate\n",
    "import ipywidgets as widgets\n",
    "from ipywidgets import interact"
   ]
  },
  {
   "cell_type": "markdown",
   "metadata": {
    "jp-MarkdownHeadingCollapsed": true,
    "tags": []
   },
   "source": [
    "## Integration mit Hilfe von Funktionen aus `scipy.integrate`"
   ]
  },
  {
   "cell_type": "markdown",
   "metadata": {
    "jp-MarkdownHeadingCollapsed": false,
    "tags": []
   },
   "source": [
    "### Eindimensionale Integration\n",
    "\n",
    "Zur Ausführung des Integrals über den in der Funktion `integrand` definierten Integranden wird hier die Funktion `integrate.quad` aus dem SciPy-Paket verwendet. Dabei sind der relative Fehler `relerr` und der absolute Fehler `abserr` anzugeben, wobei nur die schwächere Bedingung zu erfüllen ist. Es kann daher zum Beispiel sinnvoll sein, den absoluten Fehler auf null zu setzen. Durch Setzen des Arguments `full_output` auf `True` erhalten wir detailliertere Informationen über die Integration, wobei wir uns in erster Linie für die Anzahl der verwendeten Stützstellen interessieren, die im Dictionary-Eintrag `info_dict['neval']` enthalten ist."
   ]
  },
  {
   "cell_type": "code",
   "execution_count": null,
   "metadata": {
    "tags": []
   },
   "outputs": [],
   "source": [
    "def integrand(x):\n",
    "    return x**2 / np.sqrt(2*np.pi) * np.exp(-x**2/2)"
   ]
  },
  {
   "cell_type": "code",
   "execution_count": null,
   "metadata": {
    "tags": []
   },
   "outputs": [],
   "source": [
    "def integral_quad(relerr, abserr):\n",
    "    int_result, int_err, info_dict = integrate.quad(\n",
    "        integrand, -np.inf, np.inf,\n",
    "        epsabs=abserr, epsrel=relerr, full_output=True)\n",
    "    return int_result, int_err, info_dict"
   ]
  },
  {
   "cell_type": "markdown",
   "metadata": {
    "jp-MarkdownHeadingCollapsed": false,
    "tags": []
   },
   "source": [
    "### Implementierung der Bedienelemente und Ausgabe des Integrationsergebnisses\n",
    "\n",
    "Mit Hilfe der Schieberegler lassen sich die folgenden beiden Parameter einstellen:\n",
    "- `abserr`: absoluter Fehler\n",
    "- `relerr`: relativer Fehler\n",
    "\n",
    "Neben dem Ergebnis für das Integral und die Fehlerabschätzung werden der tatsächliche relative Fehler, der hier gleich dem absoluten Fehler ist, sowie die Zahl der verwendeten Stützstellen ausgegeben"
   ]
  },
  {
   "cell_type": "code",
   "execution_count": null,
   "metadata": {
    "tags": []
   },
   "outputs": [],
   "source": [
    "widget_dict = {\"abserr\":\n",
    "               widgets.FloatLogSlider(\n",
    "                   value=1e-6, min=-12, max=-3, step=1,\n",
    "                   description=r\"$\\epsilon_\\text{abs}$\"),\n",
    "               \"relerr\":\n",
    "               widgets.FloatLogSlider(\n",
    "                   value=1e-6, min=-12, max=-3, step=1,\n",
    "                   description=r\"$\\epsilon_\\text{rel}$\")\n",
    "               }\n",
    "\n",
    "@interact(**widget_dict)\n",
    "def print_scipy_1d(abserr, relerr):\n",
    "    int_result_quad, int_error, info_dict = integral_quad(\n",
    "        abserr, relerr)\n",
    "    print(f\"{int_result_quad} ± {int_error:8.2e}\")\n",
    "    print(\"Tatsächlicher relativer Fehler: \"\n",
    "          f\"{abs(int_result_quad-1):8.2e}\")\n",
    "    print(f\"Zahl der Stützstellen: {info_dict['neval']}\")"
   ]
  },
  {
   "cell_type": "markdown",
   "metadata": {
    "jp-MarkdownHeadingCollapsed": false,
    "tags": []
   },
   "source": [
    "### Mehrdimensionale Integration\n",
    "\n",
    "Für die Berechnung des oben angegebenen mehrdimensionalen Integrals wird die Funktion `integrate.nquad` aus dem SciPy-Paket herangezogen. Die Funktion `integrand_ndim` gibt den Integranden an, wobei das Argument `x` der Dimension des Integrals entsprechend $d$ Komponenten besitzt."
   ]
  },
  {
   "cell_type": "code",
   "execution_count": null,
   "metadata": {
    "tags": []
   },
   "outputs": [],
   "source": [
    "def integrand_ndim(*x):\n",
    "    r = LA.norm(x)\n",
    "    return r**2 * np.exp(-r**2/2) / (2*np.pi)**(0.5*len(x))"
   ]
  },
  {
   "cell_type": "code",
   "execution_count": null,
   "metadata": {
    "tags": []
   },
   "outputs": [],
   "source": [
    "def integral_nquad_ndim(abserr, relerr, n_dim):\n",
    "    ranges = [(-np.inf, np.inf)]*n_dim\n",
    "    int_result, int_err, info_dict = integrate.nquad(\n",
    "        integrand_ndim, ranges,\n",
    "        opts=dict(epsabs=abserr, epsrel=relerr),\n",
    "        full_output=True)\n",
    "    return int_result, int_err, info_dict"
   ]
  },
  {
   "cell_type": "markdown",
   "metadata": {
    "jp-MarkdownHeadingCollapsed": false,
    "tags": []
   },
   "source": [
    "### Implementierung der Bedienelemente und Ausgabe des Integrationsergebnisses\n",
    "\n",
    "Mit Hilfe der Schieberegler lassen sich die folgenden Parameter einstellen:\n",
    "- `n_dim`: Dimension des Integrals\n",
    "- `abserr`: absoluter Fehler\n",
    "- `relerr`: relativer Fehler\n",
    "\n",
    "Neben dem Ergebnis für das mehrdimensionale Integral und die Fehlerabschätzung werden der tatsächliche relative Fehler sowie die Zahl der verwendeten Stützstellen ausgegeben. Da die Rechnung je nach Dimension des Integrals etwas länger dauern kann, wird bei Bedarf eine entsprechende Nachricht ausgegeben."
   ]
  },
  {
   "cell_type": "code",
   "execution_count": null,
   "metadata": {
    "tags": []
   },
   "outputs": [],
   "source": [
    "widget_dict = {\"n_dim\":\n",
    "               widgets.IntSlider(\n",
    "                   value=1, min=1, max=3, step=1,\n",
    "                   description=r\"$n_\\text{dim}$\"),\n",
    "               \"abserr\":\n",
    "               widgets.FloatLogSlider(\n",
    "                   value=1e-6, min=-10, max=-3, step=1,\n",
    "                   description=r\"$\\epsilon_\\text{abs}$\"),\n",
    "               \"relerr\":\n",
    "               widgets.FloatLogSlider(\n",
    "                   value=1e-6, min=-10, max=-3, step=1,\n",
    "                   description=r\"$\\epsilon_\\text{rel}$\")\n",
    "               }\n",
    "\n",
    "@interact(**widget_dict)\n",
    "def print_scipy_nd(n_dim, abserr, relerr):\n",
    "    out = widgets.Output()\n",
    "    display(out)\n",
    "    out.append_stdout(\"Bitte etwas Geduld...\")\n",
    "\n",
    "    int_result, int_error, info_dict = integral_nquad_ndim(\n",
    "        abserr, relerr, n_dim)\n",
    "\n",
    "    out.clear_output()\n",
    "    with out:\n",
    "        print(f\"{int_result} ± {int_error:8.2e}\")\n",
    "        print(\"Tatsächlicher relativer Fehler: \"\n",
    "              f\"{abs(int_result-n_dim)/n_dim:8.2e}\")\n",
    "        print(f\"Zahl der Stützstellen: {info_dict['neval']}\")"
   ]
  },
  {
   "cell_type": "markdown",
   "metadata": {
    "jp-MarkdownHeadingCollapsed": true,
    "tags": []
   },
   "source": [
    "## Integration mit Hilfe der Monte-Carlo-Methode"
   ]
  },
  {
   "cell_type": "markdown",
   "metadata": {
    "jp-MarkdownHeadingCollapsed": false,
    "tags": []
   },
   "source": [
    "### Eindimensionale Monte-Carlo-Integration\n",
    "\n",
    "Aufgrund des Gaußfaktors im Integranden werden `n_max` normalverteilte Zufallszahlen gezogen. Die Integration erfolgt dann durch eine gewichtete Summation über den restlichen Integranden, der an den Zufallszahlen ausgewertet wird. Um die Ergebnisse reproduzierbar zu machen, wird beim Initialisieren des Zufallsgenerators ein `seed` angegeben. Dieser Wert kann bei Bedarf entfernt werden, um die Variation des Ergebnisses für verschiedene Werte der Zufallszahlen zu untersuchen."
   ]
  },
  {
   "cell_type": "code",
   "execution_count": null,
   "metadata": {
    "tags": []
   },
   "outputs": [],
   "source": [
    "def integral_mc(n_max):\n",
    "    rng = np.random.default_rng(123456)\n",
    "    random_numbers = rng.normal(size=n_max)\n",
    "    int_result = np.ndarray.sum(random_numbers**2) / n_max\n",
    "    return int_result"
   ]
  },
  {
   "cell_type": "markdown",
   "metadata": {
    "jp-MarkdownHeadingCollapsed": false,
    "tags": []
   },
   "source": [
    "### Implementierung der Bedienelemente und Ausgabe des Integrationsergebnisses\n",
    "\n",
    "Mit Hilfe des Schiebereglers lässt sich der folgende Parameter einstellen:\n",
    "- `log_n_max`: Zehnerlogarithmus der Anzahl der zur Integration verwendeten Zufallszahlen\n",
    "\n",
    "Neben dem Resultat der Monte-Carlo-Integration wird auch der tatsächliche relative Fehler ausgegeben, der hier gleich dem absoluten Fehler ist."
   ]
  },
  {
   "cell_type": "code",
   "execution_count": null,
   "metadata": {
    "tags": []
   },
   "outputs": [],
   "source": [
    "widget_dict = {\"log_n_max\":\n",
    "               widgets.IntSlider(\n",
    "                   value=2, min=2, max=8, step=1,\n",
    "                   description=r\"$\\log_{10}(N)$\")\n",
    "               }\n",
    "\n",
    "@interact(**widget_dict)\n",
    "def print_mc_1d(log_n_max):\n",
    "    n_max = 10**log_n_max\n",
    "    int_result_mc = integral_mc(n_max)\n",
    "    print(int_result_mc)\n",
    "    print(\"Tatsächlicher relativer Fehler: \"\n",
    "          f\"{abs(int_result_mc-1):8.2e}\")"
   ]
  },
  {
   "cell_type": "markdown",
   "metadata": {
    "jp-MarkdownHeadingCollapsed": false,
    "tags": []
   },
   "source": [
    "### Mehrdimensionale Monte-Carlo-Integration\n",
    "\n",
    "Zur Erweiterung auf ein mehrdimensionales Integral wird hier ein zweidimensionales NumPy-Array normalverteilter Zufallszahlen erzeugt, dessen Achse 1 der Dimension des Integrals entspricht."
   ]
  },
  {
   "cell_type": "code",
   "execution_count": null,
   "metadata": {
    "tags": []
   },
   "outputs": [],
   "source": [
    "def integral_mc_ndim(n_dim, n_max):\n",
    "    rng = np.random.default_rng(123456789)\n",
    "    random_numbers = rng.normal(size=(n_max, n_dim))\n",
    "    individual_averages = np.sum(\n",
    "        random_numbers**2, axis=0) / n_max\n",
    "    int_result = np.sum(individual_averages)\n",
    "    return int_result"
   ]
  },
  {
   "cell_type": "markdown",
   "metadata": {
    "jp-MarkdownHeadingCollapsed": false,
    "tags": []
   },
   "source": [
    "### Implementierung der Bedienelemente und Ausgabe des Integrationsergebnisses\n",
    "\n",
    "Mit Hilfe der Schieberegler lassen sich die folgenden Parameter einstellen:\n",
    "- `n_dim`: Dimension des Integrals\n",
    "- `log_n_max`: Zehnerlogarithmus der Anzahl der zur Integration verwendeten Zufallszahlen je Dimension\n",
    "\n",
    "Neben dem Resultat der Monte-Carlo-Integration wird auch der tatsächliche relative Fehler ausgegeben. Da die Berechnung für größere Werte von `n_dim` etwas länger dauern kann, wird ggf. ein entsprechender Hinweis ausgegeben."
   ]
  },
  {
   "cell_type": "code",
   "execution_count": null,
   "metadata": {
    "tags": []
   },
   "outputs": [],
   "source": [
    "widget_dict = {\"n_dim\":\n",
    "               widgets.IntSlider(\n",
    "                   value=1, min=1, max=20, step=1,\n",
    "                   description=r\"$n_\\text{dim}$\",\n",
    "                   continuous_update=False),\n",
    "               \"log_n_max\":\n",
    "               widgets.IntSlider(\n",
    "                   value=2, min=2, max=7, step=1,\n",
    "                   description=r\"$\\log_{10}(N)$\")\n",
    "               }\n",
    "\n",
    "@interact(**widget_dict)\n",
    "def print_mc_nd(n_dim, log_n_max):\n",
    "    out = widgets.Output()\n",
    "    display(out)\n",
    "    out.append_stdout(\"Bitte etwas Geduld...\")\n",
    "\n",
    "    n_max = 10**log_n_max\n",
    "    int_result = integral_mc_ndim(n_dim, n_max)\n",
    "\n",
    "    out.clear_output()\n",
    "    with out:\n",
    "        print(int_result)\n",
    "        print(\"Tatsächlicher relativer Fehler: \"\n",
    "              f\"{abs(int_result-n_dim) / n_dim:8.2e}\")"
   ]
  }
 ],
 "metadata": {
  "kernelspec": {
   "display_name": "Python 3 (ipykernel)",
   "language": "python",
   "name": "python3"
  },
  "language_info": {
   "codemirror_mode": {
    "name": "ipython",
    "version": 3
   },
   "file_extension": ".py",
   "mimetype": "text/x-python",
   "name": "python",
   "nbconvert_exporter": "python",
   "pygments_lexer": "ipython3",
   "version": "3.12.4"
  }
 },
 "nbformat": 4,
 "nbformat_minor": 4
}
