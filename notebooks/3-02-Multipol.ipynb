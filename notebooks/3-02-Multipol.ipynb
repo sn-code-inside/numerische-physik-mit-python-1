{
 "cells": [
  {
   "cell_type": "markdown",
   "metadata": {},
   "source": [
    "# Multipole\n",
    "\n",
    "Siehe Wiedemann/Ingold: *Numerische Physik mit Python*, Springer-Spektrum 2024, ISBN 978-3-662-69566-1\n",
    "\n",
    "---"
   ]
  },
  {
   "cell_type": "markdown",
   "metadata": {},
   "source": [
    "In diesem Jupyter-Notebook werden die Eigenschaften elektrischer Multipole numerisch untersucht, indem die Multipole durch eine lineare Anordnung von nahe beieinander liegenden elektrischen Ladungen $q_n$ and den Orten $\\boldsymbol{r}_n$ dargestellt werden.\n",
    "\n",
    "Das zugehörige elektrische Feld lässt sich dann aus den Beiträgen der elektrischen Felder der entsprechenden Punktladungen berechnen. In skalierten Variablen ergibt sich\n",
    "\n",
    "$$\\boldsymbol{E}(\\boldsymbol{r}) = \\sum\\limits_n q_n\\frac{\\boldsymbol{r}-\\boldsymbol{r}_n}{|\\boldsymbol{r}-\\boldsymbol{r}_n|^3}$$\n",
    "\n",
    "und entsprechend für das elektrische Potential\n",
    "\n",
    "$$\\Phi(\\boldsymbol{r}) = \\sum\\limits_n \\frac{q_n}{|\\boldsymbol{r}-\\boldsymbol{r}_n|}\\,.$$"
   ]
  },
  {
   "cell_type": "markdown",
   "metadata": {
    "jp-MarkdownHeadingCollapsed": true,
    "tags": []
   },
   "source": [
    "## Importanweisungen\n",
    "\n",
    "In diesem Jupyter-Notebook verwenden wir zum ersten Mal das SciPy-Modul `special`, das die Berechnung spezieller Funktionen, hier konkret des Binomialkoeffizienten, ermöglicht. "
   ]
  },
  {
   "cell_type": "code",
   "execution_count": null,
   "metadata": {
    "tags": []
   },
   "outputs": [],
   "source": [
    "from math import cos, pi, sin\n",
    "import numpy as np\n",
    "import numpy.linalg as LA\n",
    "from scipy import integrate, special\n",
    "import ipywidgets as widgets\n",
    "from ipywidgets import interact, interact_manual\n",
    "import matplotlib.pyplot as plt\n",
    "\n",
    "plt.style.use(\"numphyspy.style\")"
   ]
  },
  {
   "cell_type": "markdown",
   "metadata": {
    "jp-MarkdownHeadingCollapsed": true,
    "tags": []
   },
   "source": [
    "## Berechnung der Abstandsabhängigkeit des elektrischen Felds eines Multipols"
   ]
  },
  {
   "cell_type": "markdown",
   "metadata": {
    "jp-MarkdownHeadingCollapsed": false,
    "tags": []
   },
   "source": [
    "### Aufbau des Multipols\n",
    "\n",
    "Um einen Multipol der Ordnung `order` aufzubauen, werden `order+1` Ladungen äquidistant entlang der $z$-Achse angeordnet. Aufgrund der Rotationssymmetrie des Problems genügt es, die Rechnung auf die $x$-$z$-Ebene zu beschränken, wobei die $x$-Koordinaten aller Ladungen gleich null sind. Die Beträge der Ladungen sind durch Binomialkoeffizienten gegeben. In der vorletzten Zeile des Codes wird dafür gesorgt, dass die Vorzeichen der Ladungen alternieren."
   ]
  },
  {
   "cell_type": "code",
   "execution_count": null,
   "metadata": {
    "tags": []
   },
   "outputs": [],
   "source": [
    "def multipole(order):\n",
    "    dists = np.arange(-order/2, order/2+1)[:, np.newaxis]\n",
    "    r_multipole = np.array([[0, 1]]) * dists\n",
    "    q_multipole = special.comb(order, np.arange(order+1))\n",
    "    q_multipole[1::2] = -q_multipole[1::2]\n",
    "    return r_multipole, q_multipole"
   ]
  },
  {
   "cell_type": "markdown",
   "metadata": {
    "jp-MarkdownHeadingCollapsed": false,
    "tags": []
   },
   "source": [
    "### Elektrisches Feld des Multipols\n",
    "\n",
    "Unter Verwendung der Orte `r_multipole` und der Ladungsstärken `q_multipole` der einzelnen Ladungen, die sich mit Hilfe der Funktion `multipole` berechnen lassen, wird unter Verwendung der eingangs angegebenen Formel das elektrische Feld berechnet.\n",
    "\n",
    "Eine zusätzliche Achse wird hier benötigt, um mittels Broadcasting die korrekte Summation über die vektoriellen Beiträgen ausführen zu können."
   ]
  },
  {
   "cell_type": "code",
   "execution_count": null,
   "metadata": {
    "tags": []
   },
   "outputs": [],
   "source": [
    "def e_field(r, r_multipole, q_multipole):\n",
    "    q_multipole = q_multipole[:, np.newaxis]\n",
    "    distance = LA.norm(r-r_multipole, axis=1)[:, np.newaxis]\n",
    "    e = np.sum(q_multipole\n",
    "               * (r-r_multipole)/distance**3, axis=0)\n",
    "    return e"
   ]
  },
  {
   "cell_type": "markdown",
   "metadata": {
    "jp-MarkdownHeadingCollapsed": false,
    "tags": []
   },
   "source": [
    "### Berechnung der Abstandsabhängigkeit des Betrags der elektrischen Feldstärke\n",
    "\n",
    "Es wird der Betrag des elektrischen Feldes als Funktion des Abstands vom Ursprung unter einem Winkel `theta` zur $z$-Achse berechnet. Da ein Potenzgesetz zu erwarten ist, werden die Abstände zwischen `r_min` und `r_max` äquidistant auf einer logarithmischen Skala gewählt.\n",
    "\n",
    "Mit Hilfe der Funktion `multipole` wird zunächst die Zerlegung des Multipols der vorgegebenen Ordnung in Einzelladungen bestimmt, um dann mit Hilfe der Funktion `e_field` das zugehörige elektrische Feld zu berechnen. Die Ergebnisse werden in einer Liste `e_values_one_order` gesammelt. Die Listen zu verschiedenen Ordnungen werden dann in der Liste `e_values` zusammengefasst und zusammen mit der Liste der verwendeten Abstände `r_values` zurückgegeben."
   ]
  },
  {
   "cell_type": "code",
   "execution_count": null,
   "metadata": {
    "tags": []
   },
   "outputs": [],
   "source": [
    "def e_of_r(order_max, theta, r_min, r_max, n_r_max):\n",
    "    e_values = []\n",
    "    r_factor = (r_max/r_min)**(1/n_r_max)\n",
    "    r_values = r_min*r_factor**np.arange(n_r_max)\n",
    "    direction = np.array([sin(theta), cos(theta)])\n",
    "\n",
    "    for order in range(order_max+1):\n",
    "        r_multipole, q_multipole = multipole(order)\n",
    "        e_values_one_order = []\n",
    "        for r in r_values:\n",
    "            x = r * direction\n",
    "            e = e_field(x, r_multipole, q_multipole)\n",
    "            e_values_one_order.append(LA.norm(e))\n",
    "        e_values.append(e_values_one_order)\n",
    "    return r_values, e_values"
   ]
  },
  {
   "cell_type": "markdown",
   "metadata": {
    "jp-MarkdownHeadingCollapsed": false,
    "tags": []
   },
   "source": [
    "### Implementierung der Bedienelemente und graphische Darstellung der Abstandsabhängigkeit des elektrischen Felds\n",
    "\n",
    "Mit Hilfe der Schieberegler lassen sich die folgenden Parameter einstellen:\n",
    "- `order_max`: maximale Ordnung des Multipols\n",
    "- `theta`: Winkel relativ zur $z$-Achse\n",
    "- `r_min`: minimaler dimensionsloser Abstand\n",
    "- `r_max`: maximaler dimensionsloser Abstand\n",
    "\n",
    "Die Zahl der berechnenden Abstände ist in der Funktion `plot_falloff` mit Hilfe der Variablen `n_r_max` vorgegeben. Bei Bedarf kann diese angepasst werden.\n",
    "\n",
    "Im Hinblick auf das erwartete Potenzgesetz wird die Abstandsabhängigkeit des Betrags der elektrischen Feldstärke doppelt-logarithmisch dargestellt."
   ]
  },
  {
   "cell_type": "code",
   "execution_count": null,
   "metadata": {
    "tags": []
   },
   "outputs": [],
   "source": [
    "widget_dict = {\"order_max\":\n",
    "               widgets.IntSlider(\n",
    "                   value=2, min=0, max=10, step=1,\n",
    "                   description=r\"$n_\\text{order max}$\"),\n",
    "               \"theta\":\n",
    "               widgets.FloatSlider(\n",
    "                   value=1, min=0, max=pi, step=0.01,\n",
    "                   description=r\"$\\theta$\"),\n",
    "               \"r_min\":\n",
    "               widgets.FloatLogSlider(\n",
    "                   value=0.1, min=-2, max=3, step=1,\n",
    "                   description=r\"$r_{\\text{min}}/\\Delta$\"),\n",
    "               \"r_max\":\n",
    "               widgets.FloatLogSlider(\n",
    "                   value=1e4, min=0, max=5, step=1,\n",
    "                   description=r\"$r_{\\text{max}}/\\Delta$\")\n",
    "               }\n",
    "\n",
    "@interact(**widget_dict)\n",
    "def plot_falloff(order_max, theta, r_min, r_max):\n",
    "    n_r_max = 1000\n",
    "    r_values, e_values = e_of_r(order_max, theta, r_min,\n",
    "                                r_max, n_r_max)\n",
    "\n",
    "    fig, ax = plt.subplots()\n",
    "    for order in range(order_max+1):\n",
    "        ax.loglog(r_values, e_values[order],\n",
    "                  label=f\"ℓ = {order}\")\n",
    "    ax.set_xlabel(r\"$r/\\Delta$\")\n",
    "    ax.set_ylabel(\"$E$\")\n",
    "    ax.legend(loc=\"upper left\",\n",
    "              bbox_to_anchor=(1.05, 1, 1.1, 0))"
   ]
  },
  {
   "cell_type": "markdown",
   "metadata": {
    "jp-MarkdownHeadingCollapsed": true,
    "tags": []
   },
   "source": [
    "## Elektrische Feldlinien eines Multipols\n",
    "\n",
    "Die Feldlinien ergeben sich dadurch, dass das elektrische Feld an jedem Punkt der Feldlinie tangential ist, so dass die Feldlinie durch die Differentialgleichung\n",
    "\n",
    "$$\\frac{\\text{d}\\boldsymbol{r}}{\\text{d}s} = \\frac{\\boldsymbol{E}(\\boldsymbol{r})}{\\vert\\boldsymbol{E}(\\boldsymbol{r})\\vert}$$\n",
    "\n",
    "gegeben ist."
   ]
  },
  {
   "cell_type": "markdown",
   "metadata": {
    "jp-MarkdownHeadingCollapsed": false,
    "tags": []
   },
   "source": [
    "### Implementierung der Differentialgleichung für die Feldlinien\n",
    "\n",
    "Die Funktion `dr_dt` implementiert die Differentialgleichung für die Feldlinie. Das Argument `direction` kann die Werte ±1 annehmen und gibt die Orientierung an, in der die Feldlinie durchlaufen wird."
   ]
  },
  {
   "cell_type": "code",
   "execution_count": null,
   "metadata": {
    "tags": []
   },
   "outputs": [],
   "source": [
    "def dr_dt(t, r, r_multipole, q_multipole, direction, eps):\n",
    "    e = e_field(r, r_multipole, q_multipole)\n",
    "    return direction * e / LA.norm(e)"
   ]
  },
  {
   "cell_type": "markdown",
   "metadata": {},
   "source": [
    "Die Berechnung der Feldlinie soll abgebrochen werden, wenn der Abstand zum Ursprung kleiner als das Argument `eps` wird."
   ]
  },
  {
   "cell_type": "code",
   "execution_count": null,
   "metadata": {
    "tags": []
   },
   "outputs": [],
   "source": [
    "def line_closed(t, r, r_multipole, q_multipole, direction,\n",
    "                eps):\n",
    "    return LA.norm(r) - eps\n",
    "\n",
    "line_closed.terminal = True\n",
    "line_closed.direction = -1"
   ]
  },
  {
   "cell_type": "markdown",
   "metadata": {
    "jp-MarkdownHeadingCollapsed": false,
    "tags": []
   },
   "source": [
    "### Berechnung einer einzelnen Feldlinie\n",
    "\n",
    "Ausgehend vom Punkt `r_0` in der $x$-$z$-Ebene wird eine Feldlinie berechnet bis entweder die maximale Bogenlänge `t_end` erreicht wurde oder die Abbruchbedingung `line_closed` erfüllt ist. Um die Feldlinie in beiden Richtungen zu erfassen, wird eine Schleife über die Richtung `dir` mit den Werten ±1 ausgeführt. Für jedes Teilstück der Feldlinie werden am Ende `n_max` Datenpunkte berechnet. "
   ]
  },
  {
   "cell_type": "code",
   "execution_count": null,
   "metadata": {
    "tags": []
   },
   "outputs": [],
   "source": [
    "def one_field_line(t_end, n_max, r_0, eps,\n",
    "                   r_multipole, q_multipole):\n",
    "    field_lines = []\n",
    "    for dir in (1, -1):\n",
    "        solution = integrate.solve_ivp(\n",
    "            dr_dt, (0, t_end), r_0,\n",
    "            args=(r_multipole, q_multipole, dir, eps),\n",
    "            events=line_closed, dense_output=True,\n",
    "            atol=1e-10, rtol=1e-10)\n",
    "        if solution.t_events[0].size > 0:\n",
    "            t_end = solution.t_events[0][0]\n",
    "        t_values = np.linspace(0, t_end, n_max)\n",
    "        field_lines.append(solution.sol(t_values))\n",
    "    return field_lines"
   ]
  },
  {
   "cell_type": "markdown",
   "metadata": {
    "jp-MarkdownHeadingCollapsed": false,
    "tags": []
   },
   "source": [
    "### Berechnung aller Feldlinien\n",
    "\n",
    "Zur Berechnung der Feldlinien für eine gegebene Ordnung `order` werden zunächst die Ladungen `q_multipole` und Orte `r_multipole` der Punktladungen bestimmt, aus denen der Multipol aufgebaut ist. Anschließend werden für gleichmäßig auf einem Kreis mit Radius `x_start` um den Ursprung angeordnete Startpunkte mit Hilfe von `one_field_line` die zugehörigen zwei Feldlinienstücke berechnet. Die Koordinaten der Feldlinienstücke werden in einer einzigen Liste `field_lines` zusammengefasst."
   ]
  },
  {
   "cell_type": "code",
   "execution_count": null,
   "metadata": {
    "tags": []
   },
   "outputs": [],
   "source": [
    "def all_field_lines(t_end, n_max, eps, x_start,\n",
    "                    n_theta_max, order):\n",
    "    r_multipole, q_multipole = multipole(order)\n",
    "    field_lines = []\n",
    "    for theta in np.linspace(0, 2*pi, n_theta_max,\n",
    "                             endpoint=False):\n",
    "        r_0 = x_start * np.array([sin(theta), cos(theta)])\n",
    "        field_line = one_field_line(\n",
    "            t_end, n_max, r_0, eps, r_multipole,\n",
    "            q_multipole)\n",
    "        field_lines.extend(field_line)\n",
    "    return field_lines"
   ]
  },
  {
   "cell_type": "markdown",
   "metadata": {
    "jp-MarkdownHeadingCollapsed": false,
    "tags": []
   },
   "source": [
    "### Implementierung der Bedienelemente und graphische Darstellung der Feldlinien\n",
    "\n",
    "Mit Hilfe der Schieberegler lassen sich die folgenden Parameter einstellen:\n",
    "- `order`: Ordnung des Multipols\n",
    "- `t_end`: maximale Bogenlänge in einer Richtung\n",
    "- `x_start`: Abstand des Startpunkts vom Ursprung\n",
    "- `n_max`: Anzahl der Datenpunkte in jedem Zweig der Feldlinie\n",
    "- `n_theta_max`: Anzahl der zu betrachtenden Richtungen, unter denen die Feldlinien starten"
   ]
  },
  {
   "cell_type": "code",
   "execution_count": null,
   "metadata": {
    "tags": []
   },
   "outputs": [],
   "source": [
    "widget_dict = {\"order\":\n",
    "               widgets.IntSlider(\n",
    "                   value=2, min=0, max=6, step=1,\n",
    "                   description=r\"$n_\\text{order}$\"),\n",
    "               \"t_end\":\n",
    "               widgets.FloatSlider(\n",
    "                   value=1000, min=100, max=2500, step=100,\n",
    "                   description=r\"$t_\\text{end}$\"),\n",
    "               \"x_start\":\n",
    "               widgets.FloatSlider(\n",
    "                   value=50, min=10, max=100, step=1,\n",
    "                   description=r\"$x_\\text{start}$\"),\n",
    "               \"n_max\":\n",
    "               widgets.IntSlider(\n",
    "                   value=500, min=0, max=1000, step=100,\n",
    "                   description=r\"$n_\\text{max}$\"),\n",
    "               \"n_theta_max\":\n",
    "               widgets.IntSlider(\n",
    "                   value=50, min=6, max=100, step=1,\n",
    "                   description=r\"$n_{\\theta,\\text{max}}$\"),\n",
    "               }\n",
    "\n",
    "interact_start = interact_manual.options(\n",
    "    manual_name=\"Start Berechnung\")\n",
    "\n",
    "@interact_start(**widget_dict)\n",
    "def plot_field(order, t_end, x_start, n_max, n_theta_max):\n",
    "    eps = order/2 + 0.1\n",
    "    field_lines = all_field_lines(\n",
    "        t_end, n_max, eps, x_start, n_theta_max, order)\n",
    "\n",
    "    fig, ax = plt.subplots()\n",
    "    ax.set_aspect(\"equal\")\n",
    "    for field_line in field_lines:\n",
    "        ax.plot(field_line[0], field_line[1], color=\"black\")\n",
    "    ax.set_xlabel(\"$x$\")\n",
    "    ax.set_xlim(-2*x_start, 2*x_start)\n",
    "    ax.set_ylabel(\"$z$\")\n",
    "    ax.set_ylim(-2*x_start, 2*x_start)"
   ]
  },
  {
   "cell_type": "markdown",
   "metadata": {
    "jp-MarkdownHeadingCollapsed": true,
    "tags": []
   },
   "source": [
    "## Elektrisches Potential eines Multipols"
   ]
  },
  {
   "cell_type": "markdown",
   "metadata": {
    "jp-MarkdownHeadingCollapsed": false,
    "tags": []
   },
   "source": [
    "### Berechnung des elektrischen Potentials\n",
    "\n",
    "Das Potential wird auf einem zweidimensionalen Gitter mit $2n_\\text{max}\\times2n_\\text{max}$ Punkten berechnet. Das Array `distance` enthält die Abstände zwischen den Gitterpunkten und den Einzelladungen, die den Multipol aufbauen. Daraus ergibt sich das Potential im Array `v` durch Summation entsprechend der eingangs angebenen Formel.\n",
    "\n",
    "In der vorletzten Zeile wird das Potential auf das Intervall zwischen $-\\pi/2$ und $\\pi/2$ abgebildet, wobei das Potential null erhalten bleibt. Der Parameter `alpha` dient dazu, die Empfindlichkeit der Farbskala um den Nullpunkt herum einzustellen."
   ]
  },
  {
   "cell_type": "code",
   "execution_count": null,
   "metadata": {
    "tags": []
   },
   "outputs": [],
   "source": [
    "def potential(order, x_max, n_max, alpha):\n",
    "    r_multipole, q_multipole = multipole(order)\n",
    "    r_grid = np.mgrid[-x_max:x_max:2j*n_max,\n",
    "                      -x_max:x_max:2j*n_max]\n",
    "    x_grid, z_grid = r_grid\n",
    "    r_grid = np.moveaxis(r_grid, 0, -1)[:, :, np.newaxis, :]\n",
    "    distance = LA.norm(r_grid-r_multipole, axis=-1)\n",
    "    v = np.sum(q_multipole/distance, axis=-1)\n",
    "    v = np.arctan(alpha*v)\n",
    "    return x_grid, z_grid, v"
   ]
  },
  {
   "cell_type": "markdown",
   "metadata": {
    "jp-MarkdownHeadingCollapsed": false,
    "tags": []
   },
   "source": [
    "### Implementierung der Bedienelemente und graphische Darstellung des elektrischen Potentials\n",
    "\n",
    "Mit Hilfe der Schieberegler lassen sich die folgenden Parameter einstellen:\n",
    "- `order`: Ordnung des Multipols\n",
    "- `x_max`: halbe Seitenlänge\n",
    "- `n_max`: halbe Zahl der Punkte je Dimension\n",
    "- `alpha`: Parameter für die Farbskalierung\n",
    "\n",
    "In der zweidimensionalen Darstellung wird der Wert des Potentials mittels der rechts gezeigten Farbskala repräsentiert."
   ]
  },
  {
   "cell_type": "code",
   "execution_count": null,
   "metadata": {
    "tags": []
   },
   "outputs": [],
   "source": [
    "widget_dict = {\"order\":\n",
    "               widgets.IntSlider(\n",
    "                   value=2, min=0, max=6, step=1,\n",
    "                   description=r\"$n_\\text{order}$\"),\n",
    "               \"x_max\":\n",
    "               widgets.FloatSlider(\n",
    "                   value=2, min=1, max=50, step=1,\n",
    "                   description=r\"$x_\\text{max}$\"),\n",
    "               \"n_max\":\n",
    "               widgets.IntSlider(\n",
    "                   value=100, min=0, max=500, step=10,\n",
    "                   description=r\"$n_\\text{max}$\"),\n",
    "               \"alpha\":\n",
    "               widgets.FloatLogSlider(\n",
    "                   value=1, min=0, max=5, step=0.1,\n",
    "                   description=r\"$\\alpha$\")\n",
    "               }\n",
    "\n",
    "interact_start = interact_manual.options(\n",
    "    manual_name=\"Start Berechnung\")\n",
    "\n",
    "@interact_start(**widget_dict)\n",
    "def plot_potential(order, x_max, n_max, alpha):\n",
    "    x_grid, z_grid, v = potential(order, x_max, n_max,\n",
    "                                  alpha)\n",
    "\n",
    "    fig, ax = plt.subplots()\n",
    "    ax.set_aspect(\"equal\")\n",
    "    mesh = ax.pcolormesh(x_grid, z_grid, v, shading=\"auto\")\n",
    "    ax.set_xlabel(\"$x$\")\n",
    "    ax.set_ylabel(\"$z$\")\n",
    "    fig.colorbar(mesh)"
   ]
  }
 ],
 "metadata": {
  "kernelspec": {
   "display_name": "Python 3 (ipykernel)",
   "language": "python",
   "name": "python3"
  },
  "language_info": {
   "codemirror_mode": {
    "name": "ipython",
    "version": 3
   },
   "file_extension": ".py",
   "mimetype": "text/x-python",
   "name": "python",
   "nbconvert_exporter": "python",
   "pygments_lexer": "ipython3",
   "version": "3.12.4"
  },
  "toc-autonumbering": false,
  "toc-showcode": false,
  "toc-showmarkdowntxt": false
 },
 "nbformat": 4,
 "nbformat_minor": 4
}
