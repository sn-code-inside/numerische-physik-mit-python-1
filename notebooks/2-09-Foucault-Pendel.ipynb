{
 "cells": [
  {
   "cell_type": "markdown",
   "metadata": {},
   "source": [
    "# Foucault'sches Pendel\n",
    "\n",
    "Siehe Wiedemann/Ingold: *Numerische Physik mit Python*, Springer-Spektrum 2024, ISBN 978-3-662-69566-1\n",
    "\n",
    "---"
   ]
  },
  {
   "cell_type": "markdown",
   "metadata": {
    "jp-MarkdownHeadingCollapsed": true,
    "tags": []
   },
   "source": [
    "In diesem Jupyter-Notebook werden in drei Abschnitten verschiedene Aspekte des Foucault'schen Pendels betrachtet. Zunächst beschränken wir uns auf den Fall kleiner Auslenkungen, der durch die dimensionslosen Bewegungsgleichungen \n",
    "\n",
    "\\begin{align}\n",
    " \\ddot x &= - x - 2 \\omega_\\text{E} v_y\\\\\n",
    " \\ddot y &= - y + 2 \\omega_\\text{E} v_x\n",
    "\\end{align}\n",
    "\n",
    "beschrieben wird, wobei $\\omega_\\text{E}$ die Rotationsfrequenz der Erde relativ zur Pendelfrequenz angibt. Im ersten Abschnitt wird die Projektion der Pendelmasse auf die $x$-$y$-Ebene numerisch bestimmt,\n",
    "wobei die Möglichkeit gegeben wird, verschiedene Löser zu verwenden und deren Effizienz zu beurteilen. Im zweiten Abschnitt werden dann die Punkte maximaler Auslenkung bestimmt, um die Drehung der Schwingungsebene numerisch zu erfassen.\n",
    "\n",
    "Da die Bewegung für kleine Auslenkungen auch analytisch berechnet werden kann, erfolgt im dritten Abschnitt die Verallgemeinerung auf beliebige Auslenkungen. Die dimensionslosen Bewegungsgleichungen lauten dann\n",
    "\n",
    "\\begin{align}\n",
    " \\ddot\\theta &= \\frac{1}{2} \\dot{\\phi}^2 \\sin(2\\theta) - \\sin(\\theta)\n",
    "- \\omega_E \\dot{\\phi} \\left[ 2 \\sin^2(\\theta)\\sin(\\phi)\\cos(\\varphi)-\\sin(2\\theta)\\sin(\\varphi) \\right]\\\\\n",
    " \\ddot\\phi &= \\frac{2 \\omega_E \\dot{\\theta} \\sin(\\theta) \\sin(\\phi) \\cos(\\varphi)-2\\cos(\\theta) \\left(\\dot{\\phi}+\\omega_E \\sin(\\varphi)\\right)\\dot{\\theta}}{\\sin(\\theta)}\\,.\n",
    "\\end{align}\n",
    "\n",
    "Der Winkel $\\varphi$ gibt hier die geographische Breite an, bei der das Pendel aufgestellt ist."
   ]
  },
  {
   "cell_type": "markdown",
   "metadata": {
    "jp-MarkdownHeadingCollapsed": true,
    "tags": []
   },
   "source": [
    "## Bahnkurve für kleine Auslenkungen"
   ]
  },
  {
   "cell_type": "markdown",
   "metadata": {
    "jp-MarkdownHeadingCollapsed": false,
    "tags": []
   },
   "source": [
    "### Importanweisungen"
   ]
  },
  {
   "cell_type": "code",
   "execution_count": null,
   "metadata": {
    "tags": []
   },
   "outputs": [],
   "source": [
    "from math import cos, pi, sin, tan\n",
    "import numpy as np\n",
    "from scipy import integrate\n",
    "import ipywidgets as widgets\n",
    "from ipywidgets import interact, interact_manual\n",
    "import matplotlib.pyplot as plt\n",
    "\n",
    "plt.style.use(\"numphyspy.style\")"
   ]
  },
  {
   "cell_type": "markdown",
   "metadata": {
    "jp-MarkdownHeadingCollapsed": false,
    "tags": []
   },
   "source": [
    "### Definition der Benutzerschnittstelle\n",
    "\n",
    "Um eine Kopplung der Parametereinstellungen in verschiedenen Abschnitten des Jupyter-Notebooks zu vermeiden, wird hier eine Funktion definiert, die bei jedem Aufruf ein Dictionary mit den benötigten Widgets neu zur Verfügung stellt."
   ]
  },
  {
   "cell_type": "code",
   "execution_count": null,
   "metadata": {
    "tags": []
   },
   "outputs": [],
   "source": [
    "def get_widgets():\n",
    "    widget_dict = {\n",
    "        \"t_end\":\n",
    "        widgets.FloatSlider(\n",
    "            value=100, min=10, max=10000, step=10,\n",
    "            description=r\"$t_\\text{end}$\"),\n",
    "        \"n_out\":\n",
    "        widgets.IntSlider(\n",
    "            value=500, min=10, max=2000, step=10,\n",
    "            description=r\"$n_\\text{out}$\"),\n",
    "        \"atol\":\n",
    "        widgets.FloatLogSlider(\n",
    "            value=1e-8, min=-10, max=-3, step=1,\n",
    "            description=\"atol\"),\n",
    "        \"rtol\":\n",
    "        widgets.FloatLogSlider(\n",
    "            value=1e-8, min=-10, max=-3, step=1,\n",
    "            description=\"rtol\"),\n",
    "        \"scale\":\n",
    "        widgets.RadioButtons(\n",
    "            options=(1, 100), value=100,\n",
    "            description=\"Skalierung der Erddrehrate\"),\n",
    "        \"algorithm\":\n",
    "        widgets.RadioButtons(\n",
    "            options=[\"RK45\", \"RK23\", \"DOP853\",\n",
    "                     \"Radau\", \"BDF\", \"LSODA\"],\n",
    "            value=\"RK45\",\n",
    "            description=\"Lösungsalgorithmus\")\n",
    "    }\n",
    "    return widget_dict"
   ]
  },
  {
   "cell_type": "markdown",
   "metadata": {
    "jp-MarkdownHeadingCollapsed": false,
    "tags": []
   },
   "source": [
    "### Implementierung der Differentialgleichungen\n",
    "\n",
    "Neben einer Funktion, die die vier Differentialgleichungen 1. Ordnung implementiert, wird hier auch eine Funktion für die Jacobi-Matrix definiert, die von einigen der von `integrate.solve_ivp` unterstützten Löser benötigt wird."
   ]
  },
  {
   "cell_type": "code",
   "execution_count": null,
   "metadata": {
    "tags": []
   },
   "outputs": [],
   "source": [
    "def dx_dt(t, x, omega_E):\n",
    "    x1, v1, x2, v2 = x\n",
    "    return v1, -x1 + 2*omega_E*v2, v2, -x2 - 2*omega_E*v1"
   ]
  },
  {
   "cell_type": "code",
   "execution_count": null,
   "metadata": {
    "tags": []
   },
   "outputs": [],
   "source": [
    "def jac(t, x, omega_E):\n",
    "    return ([0, 1, 0, 0], [-1, 0, 0, 2*omega_E],\n",
    "            [0, 0, 0, 1], [0, -2*omega_E, -1, 0])"
   ]
  },
  {
   "cell_type": "markdown",
   "metadata": {
    "jp-MarkdownHeadingCollapsed": false,
    "tags": []
   },
   "source": [
    "### Lösung des Differentialgleichungssystems\n",
    "\n",
    "Die Lösung des Differentialgleichungssystems erfolgt wieder mit Hilfe der SciPy-Funktion `integrate.solve_ivp`. Für bestimmte Löser wird zusätzlich zu den anderen Parametern die Funktion zur Berechnung der Jacobi-Matrix im Dictionary `kwargs` gesetzt. Neben den Ergebnissen für die Koordinaten der Projektion der Position der Pendelmasse in die $x$-$y$-Ebene wird auch die Anzahl der Aufrufe der Funktionen `dx_dt` und `jac` zurückgegeben, um die Effizienz des betreffenden Lösers beurteilen zu können."
   ]
  },
  {
   "cell_type": "code",
   "execution_count": null,
   "metadata": {
    "tags": []
   },
   "outputs": [],
   "source": [
    "def trajectory(t_end, n_out, x0, atol, rtol, algorithm,\n",
    "               omega_E):\n",
    "    t_values = np.linspace(0, t_end, n_out)\n",
    "    kwargs = {\"t_eval\": t_values, \"args\": (omega_E,),\n",
    "              \"atol\": atol, \"rtol\": rtol,\n",
    "              \"method\": algorithm, \"dense_output\": True}\n",
    "    if algorithm in (\"BDF\", \"LSODA\", \"Radau\"):\n",
    "        kwargs[\"jac\"] = jac\n",
    "    solution = integrate.solve_ivp(dx_dt, (0, t_end),\n",
    "                                   x0, **kwargs)\n",
    "    return (solution.y[0], solution.y[2],\n",
    "            solution.nfev, solution.njev)"
   ]
  },
  {
   "cell_type": "markdown",
   "metadata": {
    "jp-MarkdownHeadingCollapsed": false,
    "tags": []
   },
   "source": [
    "### Implementierung der Bedienelemente und graphische Darstellung der Ergebnisse\n",
    "\n",
    "Mit Hilfe der graphischen Benutzerschnittstelle lassen sich die folgenden Parameter einstellen:\n",
    "- `t_end`: Länge des zu betrachtenden Zeitintervalls\n",
    "- `n_out`: Anzahl der zu betrachtenden Zeitpunkte\n",
    "- `atol`: Schranke für den absoluten Fehler\n",
    "- `rtol`: Schranke für den relativen Fehler\n",
    "- `scale`: Skalierung der dimensionslosen Rotationsfrequenz der Erde bezogen auf das historische Pendel mit einer Länge von 67m und der geographischen Breite von Paris. Da diese Rotationsfrequenz sehr klein ist, gibt es die Möglichkeit einer Beschleunigung der Rotation um einen Faktor 100.\n",
    "- `algorithm`: zu verwendender Löser\n",
    "\n",
    "Innerhalb der Funktion `plot_trajectory` ist der Wert für die Rotationsfrequenz der Erde fest kodiert. Ferner ist die Anfangsbedingung festgelegt, wobei das in $x$-Richtung ausgelenkte Pendel aus der Ruhe losgelassen wird.\n",
    "\n",
    "Bei der graphischen Darstellung der Bahnkurve wird mit Hilfe der Anweisung `ax.set_aspect(\"equal\")` sichergestellt, dass keine Verzerrung auftritt. Ferner wird die Zahl der Aufrufe von `dx_dt` und von `jac` ausgegeben."
   ]
  },
  {
   "cell_type": "code",
   "execution_count": null,
   "metadata": {
    "pycharm": {
     "name": "#%%\n"
    },
    "tags": []
   },
   "outputs": [],
   "source": [
    "@interact(**get_widgets())\n",
    "def plot_trajectory(t_end, n_out, atol, rtol, scale,\n",
    "                    algorithm):\n",
    "    omega_E = 1.43e-4*scale\n",
    "    x0 = [1, 0, 0, 0]\n",
    "    x_values, y_values, count1, count2 = trajectory(\n",
    "        t_end, n_out, x0, atol, rtol, algorithm, omega_E)\n",
    "\n",
    "    print(f\"{count1} Aufrufe von dx_dt\")\n",
    "    print(f\"{count2} Aufrufe von jac\")\n",
    "    print(\"\")\n",
    "    fig, ax = plt.subplots()\n",
    "    ax.set_aspect(\"equal\")\n",
    "    ax.plot(x_values, y_values)\n",
    "    ax.set_xlim(-1, 1)\n",
    "    ax.set_ylim(-1, 1)\n",
    "    ax.set_xlabel(\"$x$\")\n",
    "    ax.set_ylabel(\"$y$\")"
   ]
  },
  {
   "cell_type": "markdown",
   "metadata": {
    "jp-MarkdownHeadingCollapsed": true,
    "tags": []
   },
   "source": [
    "## Drehung der Schwingungsebene"
   ]
  },
  {
   "cell_type": "markdown",
   "metadata": {
    "jp-MarkdownHeadingCollapsed": false,
    "tags": []
   },
   "source": [
    "### Festlegung der Zeitpunkte der Maximalauslenkungen\n",
    "\n",
    "Die Richtung der Schwingung soll zu den Zeitpunkten berechnet werden, an denen die Maximalauslenkung erreicht ist. Zu diesen Zeitpunkten verschwindet die Radialgeschwindigkeit, so dass $x v_x + y v_y$ null sein muss. Um die Zeitpunkte auszuschließen, an denen die Minimalauslenkung erreicht wird, muss zusätzlich die Richtung `r_maximal.direction` auf -1 gessetzt werden."
   ]
  },
  {
   "cell_type": "code",
   "execution_count": null,
   "metadata": {
    "tags": []
   },
   "outputs": [],
   "source": [
    "def r_maximal(t, x, *args):\n",
    "    x1, v1, x2, v2 = x\n",
    "    return x1*v1 + x2*v2\n",
    "\n",
    "r_maximal.direction = -1"
   ]
  },
  {
   "cell_type": "markdown",
   "metadata": {
    "jp-MarkdownHeadingCollapsed": false,
    "tags": []
   },
   "source": [
    "### Generierung der Lösung\n",
    "\n",
    "Die Bewegungsgleichungen werden auch hier wieder mit Hilfe von `integrate.solve_ivp` gelöst, wobei der Löser explizit ausgewählt werden kann. Das Attribut `t_events` des Lösungsobjekts `solution` enthält die Zeitpunkte, an denen der maximale Abstand erreicht wird, und die zugehörigen Koordinaten lassen sich aus dem Attribut `y_events` entnehmen. Zur Bestimmung der Orientierung der Schwingungsebene wird hier die NumPy-Funktion `arctan2` verwendet, die  zwei separate Argumente verlangt und nicht deren Verhältnis, wie dies bei der NumPy-Funktion `arctan` der Fall ist. Damit können auch Fälle, in denen zum Beispiel das zweite Argument verschwindet, problemlos behandelt werden können.\n",
    "\n",
    "Die zurückgegebenen Zeiten und Winkel werden in zwei Gruppen aufgeteilt, die zu jeweils gegenüberliegenden Umkehrpunkten gehören. Außerdem wird die Zahl der Aufrufe von `dx_dt` und `jac` übergeben."
   ]
  },
  {
   "cell_type": "code",
   "execution_count": null,
   "metadata": {
    "tags": []
   },
   "outputs": [],
   "source": [
    "def orientation(t_end, n_out, x0, atol, rtol, algorithm,\n",
    "                omega_E):\n",
    "    t_values = np.linspace(0, t_end, n_out)\n",
    "    kwargs = {\"t_eval\": t_values, \"args\": (omega_E,),\n",
    "              \"events\": r_maximal,\n",
    "              \"atol\": atol, \"rtol\": rtol,\n",
    "              \"method\": algorithm, \"dense_output\": True}\n",
    "    if algorithm in (\"BDF\", \"LSODA\", \"Radau\"):\n",
    "        kwargs[\"jac\"] = jac\n",
    "    solution = integrate.solve_ivp(dx_dt, (0, t_end),\n",
    "                                   x0, **kwargs)\n",
    "\n",
    "    t_values = solution.t_events[0]\n",
    "    phi_values = np.arctan2(solution.y_events[0][:, 2],\n",
    "                            solution.y_events[0][:, 0])\n",
    "    return (t_values[::2], phi_values[::2],\n",
    "            t_values[1::2], phi_values[1::2],\n",
    "            solution.nfev, solution.njev)"
   ]
  },
  {
   "cell_type": "markdown",
   "metadata": {
    "jp-MarkdownHeadingCollapsed": false,
    "tags": []
   },
   "source": [
    "### Implementierung der Bedienelemente und graphische Darstellung der Ergebnisse\n",
    "\n",
    "Mit Hilfe der graphischen Benutzerschnittstelle lassen sich die folgenden Parameter einstellen:\n",
    "- `n_out`: Anzahl der zu betrachtenden Zeitpunkte\n",
    "- `atol`: Schranke für den absoluten Fehler\n",
    "- `rtol`: Schranke für den relativen Fehler\n",
    "- `scale`: Skalierung der dimensionslosen Rotationsfrequenz der Erde bezogen auf das historische Pendel mit einer Länge von 67m und der geographischen Breite von Paris. Da diese Rotationsfrequenz sehr klein ist, gibt es die Möglichkeit einer Beschleunigung der Rotation um einen Faktor 100.\n",
    "- `algorithm`: zu verwendender Löser\n",
    "\n",
    "Die Anfangsbedingungen werden in der Funktion `plot_angle` definiert und entsprechen den zuvor verwendeten Werten. Das zu betrachtende Zeitintervall umfasst einen gesamten Umlauf der Schwingungsebene.\n",
    "\n",
    "Vor der graphischen Darstellung der zeitabhängigen Orientierung der Schwingungsebene wird noch die Zahl der Aufrufe von `dx_dt` und `jac` ausgegeben."
   ]
  },
  {
   "cell_type": "code",
   "execution_count": null,
   "metadata": {
    "pycharm": {
     "name": "#%%\n"
    },
    "tags": []
   },
   "outputs": [],
   "source": [
    "interact_start = interact_manual.options(\n",
    "    manual_name=\"Start Berechnung\")\n",
    "\n",
    "@interact_start(**get_widgets())\n",
    "def plot_angle(n_out, atol, rtol, scale, algorithm):\n",
    "    omega_E = 1.43e-4*scale\n",
    "    t_end = 2*pi/omega_E\n",
    "    x0 = [1, 0, 0, 0]\n",
    "    (t_1_values, phi_1_values, t_2_values, phi_2_values,\n",
    "     count1, count2) = orientation(\n",
    "        t_end, n_out, x0, atol, rtol, algorithm, omega_E)\n",
    "\n",
    "    print(f\"{count1} Aufrufe von dx_dt\")\n",
    "    print(f\"{count2} Zahl der Aufrufe von jac\")\n",
    "    print(\"\")\n",
    "    fig, ax = plt.subplots()\n",
    "    ax.plot(t_1_values, phi_1_values, linestyle=\"None\",\n",
    "            marker=\"o\")\n",
    "    ax.plot(t_2_values, phi_2_values, linestyle=\"None\",\n",
    "            marker=\"o\")\n",
    "    ax.set_xlabel(r\"$\\omega_\\mathrm{E}\\sin(\\varphi)t$\")\n",
    "    ax.set_ylabel(r\"$\\phi$\")"
   ]
  },
  {
   "cell_type": "markdown",
   "metadata": {
    "jp-MarkdownHeadingCollapsed": true,
    "tags": []
   },
   "source": [
    "## Sphärisches Foucault-Pendel"
   ]
  },
  {
   "cell_type": "markdown",
   "metadata": {
    "jp-MarkdownHeadingCollapsed": false,
    "tags": []
   },
   "source": [
    "### Implementierung der Differentialgleichungen\n",
    "\n",
    "Die nachfolgende Funktion implementiert das nichtlineare  Differentialgleichungssystem. Dazu wandelt man den zweiten Satz an Bewegungsgleichungen, der in der Einleitung zu diesem Jupyter-Notebook angegeben ist, in vier Differentialgleichungen 1. Ordnung um."
   ]
  },
  {
   "cell_type": "code",
   "execution_count": null,
   "metadata": {
    "tags": []
   },
   "outputs": [],
   "source": [
    "def dx_dt_spherical(t, y, omega_E, latitude):\n",
    "    phi, theta, v_phi, v_theta = y\n",
    "    a_theta = (0.5*v_phi**2*sin(2*theta)\n",
    "               - sin(theta)\n",
    "               - omega_E*v_phi * (\n",
    "                   2*sin(theta)**2*sin(phi)*cos(latitude)\n",
    "                   - sin(2*theta)*sin(latitude)))\n",
    "    a_phi = (2*omega_E*v_theta*sin(phi)*cos(latitude)\n",
    "             - 2*(v_phi+omega_E*sin(latitude))\n",
    "                * v_theta/tan(theta))\n",
    "    return v_phi, v_theta, a_phi, a_theta"
   ]
  },
  {
   "cell_type": "markdown",
   "metadata": {
    "jp-MarkdownHeadingCollapsed": false,
    "tags": []
   },
   "source": [
    "### Lösung des Differentialgleichungssystems\n",
    "\n",
    "Die Lösung des Differentialgleichungssystems erfolgt mit `integrate.solve_ivp` unter Verwendung des Defaultlösers.\n",
    "\n",
    "Neben den Zeitabhängigkeiten der beiden Winkel und Winkelgeschwindigkeiten wird auch die Zahl der Aufrufe von `dx_dt_spherical` zurückgegeben."
   ]
  },
  {
   "cell_type": "code",
   "execution_count": null,
   "metadata": {
    "tags": []
   },
   "outputs": [],
   "source": [
    "def solution(t_end, n_out, phi_0, theta_0, v_phi_0,\n",
    "             v_theta_0, atol, rtol, omega_E, latitude):\n",
    "    t_values = np.linspace(0, t_end, n_out)\n",
    "    solution = integrate.solve_ivp(\n",
    "        dx_dt_spherical, (0, t_end),\n",
    "        [phi_0, theta_0, v_phi_0, v_theta_0],\n",
    "        t_eval=t_values, atol=atol, rtol=rtol,\n",
    "        args=(omega_E, latitude))\n",
    "    phi, theta, v_phi, v_theta = solution.y[:]\n",
    "    t = solution.t\n",
    "    return t, phi, theta, v_phi, v_theta, solution.nfev"
   ]
  },
  {
   "cell_type": "markdown",
   "metadata": {
    "jp-MarkdownHeadingCollapsed": false,
    "tags": []
   },
   "source": [
    "### Implementierung der Bedienelemente und graphische Darstellung der Ergebnisse\n",
    "\n",
    "Mit den Schiebereglern können die folgenden Parameter eingestellt werden:\n",
    "- `t_end`: Länge des zu betrachtenden Zeitintervalls\n",
    "- `n_out`: Anzahl der zu betrachtenden Zeitpunkte\n",
    "- `v_phi_0`: anfängliche Winkelgeschwindigkeit $\\dot\\phi$\n",
    "- `theta_0`: Anfangswinkel $\\theta$\n",
    "- `v_theta_0`: anfängliche Winkelgeschwindigkeit $\\dot\\theta$\n",
    "- `omega_E`: dimensionslose Rotationsfrequenz der Erde\n",
    "- `latitude`: geographische Breite\n",
    "\n",
    "Der anfängliche Winkel $\\phi$ und die Fehlerschranken für die Integration werden in der Funktion `plot_trajectory_spherical` festgelegt und können dort bei Bedarf angepasst werden.\n",
    "\n",
    "Die Ergebnisse werden als Projektion der Bahnkurve in die $x$-$y$-Ebene dargestellt."
   ]
  },
  {
   "cell_type": "code",
   "execution_count": null,
   "metadata": {
    "tags": []
   },
   "outputs": [],
   "source": [
    "widget_dict = {\"t_end\":\n",
    "               widgets.FloatSlider(\n",
    "                   value=130, min=10, max=300, step=10,\n",
    "                   description=r\"$t_\\text{end}$\"),\n",
    "               \"n_out\":\n",
    "               widgets.IntSlider(\n",
    "                   value=500, min=10, max=2000, step=10,\n",
    "                   description=r\"$n_\\text{out}$\"),\n",
    "               \"v_phi_0\":\n",
    "               widgets.FloatSlider(\n",
    "                   value=0.1, min=-1, max=1, step=0.1,\n",
    "                   description=r\"$v_\\varphi(0)$\"),\n",
    "               \"theta_0\":\n",
    "               widgets.FloatSlider(\n",
    "                   value=pi/4, min=-3.14, max=3.14,\n",
    "                   step=0.1, description=r\"$\\theta(0)$\"),\n",
    "               \"v_theta_0\":\n",
    "               widgets.FloatSlider(\n",
    "                   value=0, min=-2.5, max=2.5, step=0.1,\n",
    "                   description=r\"$v_\\theta(0)$\"),\n",
    "               \"omega_E\":\n",
    "               widgets.FloatSlider(\n",
    "                   value=0.5, min=0.01, max=1, step=0.01,\n",
    "                   description=r\"$\\omega_\\text{E}$\"),\n",
    "               \"latitude\":\n",
    "               widgets.FloatSlider(\n",
    "                   value=pi/4, min=-pi/2, max=pi/2,\n",
    "                   step=0.001, description=r\"$\\varphi$\")\n",
    "               }\n",
    "\n",
    "@interact(**widget_dict)\n",
    "def plot_trajectory_spherical(\n",
    "        t_end, n_out, v_phi_0, theta_0, v_theta_0, omega_E,\n",
    "        latitude):\n",
    "    phi_0 = 0\n",
    "    atol = 1e-10\n",
    "    rtol = 1e-10\n",
    "    t, phi, theta, v_phi, v_theta, count = solution(\n",
    "        t_end, n_out, phi_0, theta_0, v_phi_0, v_theta_0,\n",
    "        atol, rtol, omega_E, latitude)\n",
    "\n",
    "    print(f\"{count} Aufrufe von dx_dt_spherical\")\n",
    "    print(\"\")\n",
    "    fig, ax = plt.subplots()\n",
    "    ax.set_aspect(\"equal\")\n",
    "    ax.plot(np.cos(phi)*np.sin(theta),\n",
    "            np.sin(phi)*np.sin(theta))\n",
    "    ax.set_xlabel(\"$x$\")\n",
    "    ax.set_ylabel(\"$y$\")"
   ]
  }
 ],
 "metadata": {
  "kernelspec": {
   "display_name": "Python 3 (ipykernel)",
   "language": "python",
   "name": "python3"
  },
  "language_info": {
   "codemirror_mode": {
    "name": "ipython",
    "version": 3
   },
   "file_extension": ".py",
   "mimetype": "text/x-python",
   "name": "python",
   "nbconvert_exporter": "python",
   "pygments_lexer": "ipython3",
   "version": "3.12.4"
  }
 },
 "nbformat": 4,
 "nbformat_minor": 4
}
