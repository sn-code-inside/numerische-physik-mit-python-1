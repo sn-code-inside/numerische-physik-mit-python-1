{
 "cells": [
  {
   "cell_type": "markdown",
   "metadata": {},
   "source": [
    "# Helium-Atom\n",
    "\n",
    "Siehe Wiedemann/Ingold: *Numerische Physik mit Python*, Springer-Spektrum 2024, ISBN 978-3-662-69566-1\n",
    "\n",
    "---"
   ]
  },
  {
   "cell_type": "markdown",
   "metadata": {},
   "source": [
    "In diesem Jupyter-Notebook wird die Grundzustandsenergie des Helium-Atoms im Rahmen der Hartree-Näherung berechnet. Für die numerische Rechnung ist es günstig, statt der Wellenfunktion $\\psi(r)$ die Funktion\n",
    "\n",
    "$$f(r) = \\sqrt{4 \\pi}r\\psi(r)$$\n",
    "\n",
    "zu verwenden, die der Hartree-Gleichung \n",
    "\n",
    "$$\\left( \\frac{1}{2} \\frac{\\text{d}^2}{\\text{d} r^2} - \\frac{2}{r} + V_\\text{H}(r) \\right) f(r) = \\epsilon f(r)$$\n",
    "\n",
    "genügen soll. Dabei ist das Hartree-Potential durch\n",
    "\n",
    "$$V_\\text{H}(r) = -\\int\\limits_r^\\infty\\text{d}r' \\frac{q(r')}{r^2}$$\n",
    "\n",
    "mit\n",
    "\n",
    "$$q(r') = - \\int \\limits_0^r' f^2(r'') \\, \\text{d}r''$$\n",
    "\n",
    "gegeben. Da das Hartree-Potential von $f(r)$ abhängt, lösen wir die Hartree-Gleichung iterativ. Mit der konvergierten Lösung für $f(r)$ erhält man die Grundzustandsenergie als\n",
    "\n",
    "$$E = 2\\epsilon - \\int_0^\\infty\\text{d}r V_\\text{H}(r)f^2(r)\\,.$$"
   ]
  },
  {
   "cell_type": "markdown",
   "metadata": {
    "jp-MarkdownHeadingCollapsed": true,
    "tags": []
   },
   "source": [
    "## Importanweisungen\n",
    "\n",
    "In diesem Jupyter-Notebook importieren wir zwei neue Module aus dem SciPy-Paket. Das `constants`-Modul enthält Informationen über physikalische Konstanten, die z.B. mit Hilfe der Funktion `physical_constant` erhalten werden können. Auf diese Weise werden wir uns am Ende den Referenzwert für die Hartree-Energie beschaffen. Außerdem verwenden wir das `sparse`-Modul und das zugehörige `linalg`-Modul, um effizient mit dünnbesetzten Matrizen arbeiten zu können."
   ]
  },
  {
   "cell_type": "code",
   "execution_count": null,
   "metadata": {},
   "outputs": [],
   "source": [
    "from math import pi, sqrt\n",
    "import numpy as np\n",
    "from scipy.constants import physical_constants\n",
    "from scipy import sparse\n",
    "from scipy.sparse import linalg\n",
    "import ipywidgets as widgets\n",
    "from ipywidgets import interact\n",
    "import matplotlib.pyplot as plt\n",
    "\n",
    "plt.style.use(\"numphyspy.style\")"
   ]
  },
  {
   "cell_type": "markdown",
   "metadata": {
    "jp-MarkdownHeadingCollapsed": true,
    "tags": []
   },
   "source": [
    "## Berechnung des Hartree-Potentials\n",
    "\n",
    "Das Hartree-Potential wird für eine Funktion $f(r)$, die auf dem Ortsgitter `r` mit der Schrittweite `dr` im NumPy-Array `f` übergeben wird, mittels der oben angegebenen Formeln für $V_\\text{H}(r)$ und $q(r)$ berechnet. Um die Integrationsergebnisse auf dem gesamten Ortsgitter zu erhalten, berechnen wir unter Verwendung der Funktion `cumsum` aus dem NumPy-Paket kumulative Summen.\n",
    "\n",
    "Da wir nur auf einem endlich großen Gitter rechnen, das bis zu einem Abstand $r_\\text{max}$ vom Atomkern reicht, können wir das Integral für das Hartree-Potential nicht bis unendlich berechnen. Um dennoch sicherzustellen, dass das Potential im Unendlichen verschwindet, nehmen wir an, dass sich die gesamte Ladungsverteilung innerhalb der Kugel mit Radius $r_\\text{max}$ befindet und das Hartree-Potential außerhalb deswegen durch 1/r gegeben ist. Deswegen wird vom berechneten Hartree-Potential der Wert beim maximalen Radius abgezogen und dafür der Wert $1/r_\\text{max}$ hinzugezählt.\n",
    "\n",
    "Als Ergebnis wird nicht nur das Hartree-Potential zurückgegeben, sondern auch die effektive Ladung $q_\\text{eff}(r)$, die das Elektron sieht und die sich aus der positiven Ladung des Kerns mit der Kernladungszahl 2 und der abschirmenden Ladung des anderen Elektrons zusammensetzt."
   ]
  },
  {
   "cell_type": "code",
   "execution_count": null,
   "metadata": {},
   "outputs": [],
   "source": [
    "def h_potential(r, dr, f):\n",
    "    q = -np.cumsum(f*f) * dr\n",
    "    hartree_potential = np.cumsum(q/r**2) * dr\n",
    "    correction = -hartree_potential[-1] + 1/r[-1]\n",
    "    hartree_potential = hartree_potential + correction\n",
    "    return hartree_potential, 2+q"
   ]
  },
  {
   "cell_type": "markdown",
   "metadata": {
    "jp-MarkdownHeadingCollapsed": true,
    "tags": []
   },
   "source": [
    "## Berechnung des Hamilton-Operators\n",
    "\n",
    "Die diskretisierte Version des Hamilton-Operators wird als dünnbesetzte Matrix definiert. Dazu diskretisieren wir den Operator der kinetischen Energie wie in [5-05-Freies-Teilchen.ipynb](5-05-Freies-Teilchen.ipynb), verwenden dann aber Funktionen aus dem SciPy-Modul `sparse`. Außerdem sind das Potential des Atomkerns und das Hartree-Potential zu berücksichtigen. "
   ]
  },
  {
   "cell_type": "code",
   "execution_count": null,
   "metadata": {},
   "outputs": [],
   "source": [
    "def hamilton_operator(r, dr, f):\n",
    "    n_max = r.shape[0]\n",
    "    h_kin = (sparse.eye(n_max)\n",
    "             - 0.5*(sparse.eye(n_max, k=1)\n",
    "                    + sparse.eye(n_max, k=-1))\n",
    "             )/dr**2\n",
    "    hartree_potential, q_eff = h_potential(r, dr, f)\n",
    "    h = h_kin + sparse.diags(-2/r + hartree_potential)\n",
    "    return h"
   ]
  },
  {
   "cell_type": "markdown",
   "metadata": {
    "jp-MarkdownHeadingCollapsed": true,
    "tags": []
   },
   "source": [
    "## Berechnung der Eigenwerte und Eigenvektoren\n",
    "\n",
    "Für die Hamilton-Matrix `h` werden die Eigenwerte `ew` und Eigenvektoren `ev` mit Hilfe der Funktion `sparse.linalg.eigsh` aus dem SciPy-Paket bestimmt, die für hermische Matrizen geeignet ist. Diese Funktion für dünnbesetzte Matrizen ist nicht geeignet, um das gesamte Spektrum zu berechnen. Da wir uns ohnehin nur für den Grundzustand, also einen einzigen Zustand, interessieren, setzen wir das Argument `k` auf 1. Um den richtigen Eigenzustand zu erwischen, geben wir mit dem Argument `sigma` an, dass der Eigenwert in der Nähe von -2 liegen soll."
   ]
  },
  {
   "cell_type": "code",
   "execution_count": null,
   "metadata": {},
   "outputs": [],
   "source": [
    "def get_groundstate(r, dr, f):\n",
    "    h = hamilton_operator(r, dr, f)\n",
    "    ew, ev = sparse.linalg.eigsh(h, k=1, sigma=-2)\n",
    "    return ew[0], ev[:, 0]/sqrt(dr)"
   ]
  },
  {
   "cell_type": "markdown",
   "metadata": {
    "jp-MarkdownHeadingCollapsed": true,
    "tags": []
   },
   "source": [
    "## Berechnung der Grundzustandsenergie\n",
    "\n",
    "Zur Auswertung der eingangs angegebenen Formel für $E$ nähern wir das Integral durch eine Summe über den Integranden auf dem verwendeten radialen Gitter."
   ]
  },
  {
   "cell_type": "code",
   "execution_count": null,
   "metadata": {},
   "outputs": [],
   "source": [
    "def energy(r, dr, f, epsilon):\n",
    "    hartree_potential, q_eff = h_potential(r, dr, f)\n",
    "    e = 2*epsilon - sum(hartree_potential*f*f) * dr\n",
    "    return e"
   ]
  },
  {
   "cell_type": "markdown",
   "metadata": {
    "jp-MarkdownHeadingCollapsed": true,
    "tags": []
   },
   "source": [
    "## Berechnung der selbstkonsistenten Lösung durch Iteration\n",
    "\n",
    "Zur iterativen Bestimmung der selbstkonsistenten Lösung setzen wir die Funktion $f(r)$ in der Variablen `f` anfänglich zu null und führen dann Iterationsschritte durch Aufruf der Funktion `get_groundstate` durch. Dabei ergibt sich ein neues NumPy-Array `f`, das dann in die nächste Iteration eingeht. Die Berechnung wird beendet, wenn entweder die relative Änderung der Energie $\\epsilon$ kleiner als die vorgegebene Genauigkeit `delta` ist oder wenn die maximale Zahl an Iterationen `n_iter_max` erreicht wurde. Danach wird aus der Einelektronenenergie `epsilon` die Grundzustandsenergie `e` bestimmt und diese zusammen mit der Funktion `f` und der Anzahl der Iteration zurückgegeben."
   ]
  },
  {
   "cell_type": "code",
   "execution_count": null,
   "metadata": {},
   "outputs": [],
   "source": [
    "def hartree_iterations(r, dr, n_iter_max, delta):\n",
    "    f = np.zeros_like(r)\n",
    "    epsilon_old = 0\n",
    "    for n_iter in range(n_iter_max):\n",
    "        epsilon, f = get_groundstate(r, dr, f)\n",
    "        if abs((epsilon-epsilon_old)/epsilon) < delta:\n",
    "            break\n",
    "        epsilon_old = epsilon\n",
    "    e = energy(r, dr, f, epsilon)\n",
    "    return e, f, n_iter+1"
   ]
  },
  {
   "cell_type": "markdown",
   "metadata": {
    "jp-MarkdownHeadingCollapsed": true,
    "tags": []
   },
   "source": [
    "## Implementierung der Bedienelemente und Ausgabe der Ergebnisse\n",
    "\n",
    "Mit Hilfe der Schieberegler lassen sich die folgenden Parameter einstellen:\n",
    "- `r_max`: maximaler Radius\n",
    "- `n_max`: Anzahl der zu verwendenden Radiuswerte ohne den Ursprung\n",
    "- `n_iter_max`: maximale Anzahl der Iterationen\n",
    "\n",
    "Nach Ausführung des Hartree-Verfahrens bis zu der zu Beginn der Funktion `plot_result` festgelegten Genauigkeit werden die Anzahl der Iterationen, die numerisch bestimmte Grundzustandsenergie sowie zum Vergleich der experimentell ermittelte Wert ausgegeben. In den Diagrammen werden die Wellenfunktion $\\psi(r)$, die damit zusammenhängende Funktion $f(r)$, das Hartree-Potential $V_\\text{H}(r)$ sowie die effektive Kernladung $q_\\text{eff}(r)$ als Funktion des Abstands vom Atomkern dargestellt. Im letzten Diagramm ist deutlich die Abschirmung der Kerns durch das andere Elektron zu erkennen."
   ]
  },
  {
   "cell_type": "code",
   "execution_count": null,
   "metadata": {},
   "outputs": [],
   "source": [
    "widget_dict = {\"r_max\":\n",
    "               widgets.FloatSlider(\n",
    "                   value=30, min=5, max=100, step=5,\n",
    "                   description=r\"$r_\\text{max}$\"),\n",
    "               \"n_max\":\n",
    "               widgets.IntSlider(\n",
    "                   value=10000, min=1000, max=20000,\n",
    "                   description=r\"$n_\\text{max}$\"),\n",
    "               \"n_iter_max\":\n",
    "               widgets.IntSlider(\n",
    "                   value=30, min=10, max=100, step=10,\n",
    "                   description=r\"$n_\\text{iter max}$\")\n",
    "               }\n",
    "\n",
    "@interact(**widget_dict)\n",
    "def plot_result(r_max, n_max, n_iter_max):\n",
    "    delta = 1e-6\n",
    "    r_plot_max = 10\n",
    "    r_all, dr = np.linspace(0, r_max, n_max+1, retstep=True)\n",
    "    r = r_all[1:]\n",
    "    e, f, n_iter = hartree_iterations(\n",
    "        r, dr, n_iter_max, delta)\n",
    "    print(f\"{n_iter} Iterationen\")\n",
    "    e_h = physical_constants[\"Hartree energy in eV\"][0]\n",
    "    print(f\"Numerischer Wert    : {e*e_h:6.3f} eV\")\n",
    "    print(\"Experimenteller Wert: -79.005 eV\")\n",
    "    ground_state = f/(sqrt(4*pi)*r)\n",
    "    hartree_potential, q_eff = h_potential(r, dr, f)\n",
    "    fig, axs = plt.subplots(2, 2)\n",
    "    axs[0, 0].plot(r, ground_state)\n",
    "    axs[0, 0].set_ylabel(r\"$\\psi(r)$\")\n",
    "    axs[0, 0].set_xlim((0, r_plot_max))\n",
    "    axs[0, 1].plot(r, f)\n",
    "    axs[0, 1].set_ylabel(\"$f(r)$\")\n",
    "    axs[0, 1].set_xlim((0, r_plot_max))\n",
    "    axs[1, 0].plot(r, hartree_potential)\n",
    "    axs[1, 0].set_xlabel(\"$r$\")\n",
    "    axs[1, 0].set_ylabel(r\"$V_\\mathrm{H}(r)$\")\n",
    "    axs[1, 0].set_xlim((0, r_plot_max))\n",
    "    axs[1, 1].plot(r, q_eff)\n",
    "    axs[1, 1].set_xlabel(\"$r$\")\n",
    "    axs[1, 1].set_ylabel(r\"$q_\\mathrm{eff}(r)$\")\n",
    "    axs[1, 1].set_xlim((0, r_plot_max))"
   ]
  }
 ],
 "metadata": {
  "kernelspec": {
   "display_name": "Python 3 (ipykernel)",
   "language": "python",
   "name": "python3"
  },
  "language_info": {
   "codemirror_mode": {
    "name": "ipython",
    "version": 3
   },
   "file_extension": ".py",
   "mimetype": "text/x-python",
   "name": "python",
   "nbconvert_exporter": "python",
   "pygments_lexer": "ipython3",
   "version": "3.12.4"
  }
 },
 "nbformat": 4,
 "nbformat_minor": 4
}
