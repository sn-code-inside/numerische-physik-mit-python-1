{
 "cells": [
  {
   "cell_type": "markdown",
   "metadata": {},
   "source": [
    "# Fluktuationen und Dissipation\n",
    "\n",
    "Siehe Wiedemann/Ingold: *Numerische Physik mit Python*, Springer-Spektrum 2024, ISBN 978-3-662-69566-1\n",
    "\n",
    "---"
   ]
  },
  {
   "cell_type": "markdown",
   "metadata": {},
   "source": [
    "In diesem Jupyter-Notebook wird die Brown'sche Bewegung dadurch modelliert, dass ein Teilchen vielen Stößen mit leichteren Teilchen ausgesetzt wird. Dabei wird die Dynamik der leichteren Teilchen außer Acht gelassen und nur angenommen, dass die Stöße statistisch unabhängig voneinander stattfinden und die Geschwindigkeit der leichteren Teilchen vor dem Stoß normalverteilt ist."
   ]
  },
  {
   "cell_type": "markdown",
   "metadata": {
    "jp-MarkdownHeadingCollapsed": true,
    "tags": []
   },
   "source": [
    "## Importanweisungen\n",
    "\n",
    "Zusätzlich zu bereits bekannten Importanweisungen wird hier der Namensraum des SciPy-Moduls `stats` importiert, aus dem wir eine Funktion zur Durchführung einer linearen Regression verwenden werden."
   ]
  },
  {
   "cell_type": "code",
   "execution_count": null,
   "metadata": {
    "tags": []
   },
   "outputs": [],
   "source": [
    "from math import sqrt\n",
    "import numpy as np\n",
    "from scipy import stats\n",
    "import ipywidgets as widgets\n",
    "from ipywidgets import interact\n",
    "import matplotlib.pyplot as plt\n",
    "\n",
    "plt.style.use(\"numphyspy.style\")"
   ]
  },
  {
   "cell_type": "markdown",
   "metadata": {
    "jp-MarkdownHeadingCollapsed": true,
    "tags": []
   },
   "source": [
    "## Zeitentwicklung des Ensembles"
   ]
  },
  {
   "cell_type": "markdown",
   "metadata": {
    "jp-MarkdownHeadingCollapsed": false,
    "tags": []
   },
   "source": [
    "### Stoßzeitpunkte\n",
    "\n",
    "Für statistisch voneinander unabhängige Stöße sind die Zeitintervalle zwischen aufeinanderfolgenden Stößen exponentiell verteilt. Dabei ist die mittlere Zeit zwischen zwei Stößen durch `dt_coll` gegeben. Die Größe des zweidimensionalen NumPy-Arrays `delta_t` ist durch die Zahl der Realisierung `n_ensemble` und die Zahl der Stöße `n_coll` bestimmt. Die Zeitpunkte `t` der einzelnen Stöße ergeben sich aus diesen Intervallen durch Bildung einer kumulativen Summe."
   ]
  },
  {
   "cell_type": "code",
   "execution_count": null,
   "metadata": {
    "tags": []
   },
   "outputs": [],
   "source": [
    "def kick_times(rng, dt_coll, n_coll, n_ensemble):\n",
    "    delta_t = rng.exponential(scale=dt_coll,\n",
    "                              size=(n_ensemble, n_coll))\n",
    "    t = np.cumsum(delta_t, axis=1)\n",
    "    return t"
   ]
  },
  {
   "cell_type": "markdown",
   "metadata": {
    "jp-MarkdownHeadingCollapsed": false,
    "tags": []
   },
   "source": [
    "### Geschwindigkeit des Brown'schen Teilchens\n",
    "\n",
    "Die Geschwindigkeit der leichten Teilchen ist normalverteilt, wobei die Standardabweichung durch `v2_stdev` festgelegt ist. Ausgehend von der Geschwindigkeit `v_1_init` des Brown'schen Teilchens werden dessen Geschwindigkeiten nach den jeweiligen Stößen berechnet und mit Hilfe des zweidimensionalen NumPy-Arrays `v1` zurückgegeben."
   ]
  },
  {
   "cell_type": "code",
   "execution_count": null,
   "metadata": {
    "tags": []
   },
   "outputs": [],
   "source": [
    "def velocity_of_heavy_particle(rng, v2_stdev, v_1_init, m2,\n",
    "                               n_coll, n_ensemble):\n",
    "    v2 = rng.normal(scale=v2_stdev,\n",
    "                    size=(n_ensemble, n_coll))\n",
    "    v1 = np.zeros((n_ensemble, n_coll+1))\n",
    "    v1[:, 0] = v_1_init\n",
    "    prefactor1 = (1-m2)/(1+m2)\n",
    "    prefactor2 = 2*m2/(1+m2)\n",
    "    for nc in range(n_coll):\n",
    "        v1[:, nc+1] = (prefactor1*v1[:, nc]\n",
    "                       + prefactor2*v2[:, nc])\n",
    "    return v1"
   ]
  },
  {
   "cell_type": "markdown",
   "metadata": {
    "jp-MarkdownHeadingCollapsed": false,
    "tags": []
   },
   "source": [
    "### Geschwindigkeit als Funktion der Zeit\n",
    "\n",
    "Der zu betrachtende Zeitraum erstreckt sich bis zu dem Zeitpunkt `t_max`, an dem zum ersten Mal ein Teilchen des Ensembles seinen letzten Stoß erfährt. Dieser Zeitraum wird in Intervalle der Länge `dt` eingeteilt. Anschließend werden für jedes Teilchen des Ensembles die Stoßzeitpunkte den durch `t_vals` gegebenen Zeitintervallen zugeordnet. Damit ergibt sich ein zweidimensionales NumPy-Array `v_time`, das für alle Teilchen des Ensembles die Geschwindigkeiten des Brown'schen Teilchens am Ende des jeweiligen Zeitintervalls enthält."
   ]
  },
  {
   "cell_type": "code",
   "execution_count": null,
   "metadata": {
    "tags": []
   },
   "outputs": [],
   "source": [
    "def velocity_time(t, v1, dt, n_ensemble):\n",
    "    t_max = np.min(t[:, -1])\n",
    "    t_vals = np.arange(0, t_max, dt)\n",
    "    v_time = np.zeros((n_ensemble, t_vals.shape[0]))\n",
    "    v_time[:, 0] = v1[:, 0]\n",
    "    for ensemble in range(n_ensemble):\n",
    "        time_idx = np.searchsorted(t[ensemble, :], t_vals)\n",
    "        for nr, idx in enumerate(time_idx):\n",
    "            v_time[ensemble, nr] = v1[ensemble, idx]\n",
    "    return v_time"
   ]
  },
  {
   "cell_type": "markdown",
   "metadata": {
    "jp-MarkdownHeadingCollapsed": false,
    "tags": []
   },
   "source": [
    "### Geschwindigkeit und Beschleunigung\n",
    "\n",
    "Unter Verwendung der zuvor definierten Funktionen werden zunächst die Zeiten der Stöße und die Geschwindigkeit des Brown'schen Teilchens nach den Stößen berechnet und in `t` sowie `v1` gespeichert. Anschließend werden diese Daten zusammengeführt, um die Geschwindigkeit auf einem äquidistanten Zeitgitter zu erhalten. Durch Differenzbildung lässt sich daraus die Beschleunigung als Funktion der Zeit bestimmen."
   ]
  },
  {
   "cell_type": "code",
   "execution_count": null,
   "metadata": {
    "tags": []
   },
   "outputs": [],
   "source": [
    "def time_development(v_1_init, dt_coll, m2, v2_stdev,\n",
    "                     n_coll, n_ensemble, dt):\n",
    "    rng = np.random.default_rng(123456)\n",
    "    t = kick_times(rng, dt_coll, n_coll, n_ensemble)\n",
    "    v1 = velocity_of_heavy_particle(rng, v2_stdev, v_1_init,\n",
    "                                    m2, n_coll, n_ensemble)\n",
    "    v_time = velocity_time(t, v1, dt, n_ensemble)\n",
    "    a_time = np.diff(v_time, axis=1) / dt\n",
    "    return v_time, a_time"
   ]
  },
  {
   "cell_type": "markdown",
   "metadata": {
    "jp-MarkdownHeadingCollapsed": false,
    "tags": []
   },
   "source": [
    "### Statistische Eigenschaften\n",
    "\n",
    "Durch Mittelung über das Ensemble erhält man die Mittelwerte von Geschwindigkeit und Beschleunigung, die Varianz der Geschwindigkeit sowie die zeitliche Entwicklung der Kovarianz zwischen Geschwindigkeit und Beschleunigung. Im letzten Teil werden die Daten von Geschwindigkeit und Beschleunigung so aufbereitet, dass der Zusammenhang der beiden Größen als Punktewolke dargestellt und einer linearen Regression unterworfen werden kann."
   ]
  },
  {
   "cell_type": "code",
   "execution_count": null,
   "metadata": {
    "tags": []
   },
   "outputs": [],
   "source": [
    "def statistics(v_time, a_time):\n",
    "    v_time = np.delete(v_time, -1, 1)\n",
    "    v_mean = np.mean(v_time, axis=0)\n",
    "    v_var = np.var(v_time, axis=0)\n",
    "    a_mean = np.mean(a_time, axis=0)\n",
    "    va_cov = np.mean(v_time*a_time, axis=0) - v_mean*a_mean\n",
    "\n",
    "    v_all = np.ndarray.flatten(v_time)\n",
    "    a_all = np.ndarray.flatten(a_time)\n",
    "    lr_result = stats.linregress(v_all, a_all)\n",
    "    return v_mean, v_var, va_cov, v_all, a_all, lr_result"
   ]
  },
  {
   "cell_type": "markdown",
   "metadata": {
    "jp-MarkdownHeadingCollapsed": true,
    "tags": []
   },
   "source": [
    "## Implementierung der Bedienelemente und graphische Darstellung der Ergebnisse\n",
    "\n",
    "Mit Hilfe der Schieberegler können die folgenden Parameter eingestellt werden:\n",
    "- `v_1_init`: Anfangsgeschwindigkeit des Brown'schen Teilchens\n",
    "- `dt_coll`: mittlere Zeit zwischen zwei Stößen\n",
    "- `dt_relative`: Zeitintervalllänge bezogen auf die mittlere Zeit zwischen Kollisionen\n",
    "- `log_n_coll`: Zehnerlogarithmus der Anzahl der Kollisionen\n",
    "- `n_ensemble`: Anzahl der Teilchen im Ensemble\n",
    "\n",
    "Neben der graphischen Darstellung der statistischen Ergebnisse werden auch Daten zur linearen Regression ausgegeben."
   ]
  },
  {
   "cell_type": "code",
   "execution_count": null,
   "metadata": {
    "tags": []
   },
   "outputs": [],
   "source": [
    "widget_dict = {\"v_1_init\":\n",
    "               widgets.FloatSlider(\n",
    "                   value=1, min=-3, max=3, step=0.5,\n",
    "                   description=\"$v_1(0)$\"),\n",
    "               \"dt_coll\":\n",
    "               widgets.FloatSlider(\n",
    "                   value=0.001, min=0.0001, max=0.01,\n",
    "                   step=0.0001,\n",
    "                   description=r\"$\\Delta t_\\text{coll}$\"),\n",
    "               \"dt_relative\":\n",
    "               widgets.IntSlider(\n",
    "                   value=10, min=10, max=100, step=10,\n",
    "                   description=r\"$\\Delta t/\"\n",
    "                               r\"\\Delta t_\\text{coll}$\"),\n",
    "               \"log_n_coll\":\n",
    "               widgets.IntSlider(\n",
    "                   value=4, min=3, max=5, step=1,\n",
    "                   description=r\"$\\log_{10}\"\n",
    "                               r\"(n_\\text{coll})$\"),\n",
    "               \"n_ensemble\":\n",
    "               widgets.IntSlider(\n",
    "                   value=1000, min=100, max=5000, step=100,\n",
    "                   description=\"$N$\"),\n",
    "               }\n",
    "\n",
    "@interact(**widget_dict)\n",
    "def plot_result(v_1_init, dt_coll, dt_relative, log_n_coll,\n",
    "                n_ensemble):\n",
    "    dt = dt_coll * dt_relative\n",
    "    m2 = dt_coll\n",
    "    v2_stdev = sqrt(1 / m2)\n",
    "    n_coll = 10**log_n_coll\n",
    "    v_time, a_time = time_development(\n",
    "        v_1_init, dt_coll, m2, v2_stdev, n_coll, n_ensemble,\n",
    "        dt)\n",
    "    (v_mean, v_var, va_cov, v_all, a_all,\n",
    "        lr_result) = statistics(v_time, a_time)\n",
    "    t = np.arange(v_mean.size)*dt\n",
    "\n",
    "    print(\"Lineare Regression:\")\n",
    "    print()\n",
    "    print(f\"Steigung:          {lr_result.slope:8.4f}\"\n",
    "          f\" ± {lr_result.stderr:5.3f}\")\n",
    "    print(f\"y-Achsenabschnitt: {lr_result.intercept:8.4f}\"\n",
    "          f\" ± {lr_result.intercept_stderr:5.3f}\")\n",
    "    print(\"Pearson-Korrelationskoeffizient:      \"\n",
    "          f\"{lr_result.rvalue:9.6f}\")\n",
    "    print(\"Wahrscheinlichkeit der Nullhypothese: \"\n",
    "          f\"{lr_result.pvalue:9.6f}\")\n",
    "\n",
    "    fig, axs = plt.subplots(2, 2)\n",
    "    axs[0, 0].plot(t, v_mean, label=r\"$\\langle x \\rangle$\")\n",
    "    axs[0, 0].set_xlabel(\"$t$\")\n",
    "    axs[0, 0].set_ylabel(r\"$\\langle v \\rangle$\")\n",
    "\n",
    "    axs[0, 1].plot(t, v_var, label=r\"$\\langle x^2 \\rangle$\")\n",
    "    axs[0, 1].set_xlabel(\"$t$\")\n",
    "    axs[0, 1].set_ylabel(r\"$\\sigma_v^2$\")\n",
    "\n",
    "    axs[1, 0].plot(t, va_cov, label=r\"$\\langle x \\rangle$\")\n",
    "    axs[1, 0].set_xlabel(\"$t$\")\n",
    "    axs[1, 0].set_ylabel(\"$C(v,a)$\")\n",
    "\n",
    "    axs[1, 1].scatter(v_all, a_all, s=1)\n",
    "    axs[1, 1].set_xlabel(\"$v$\")\n",
    "    axs[1, 1].set_ylabel(\"$a$\")\n",
    "    axs[1, 1].axline((0, lr_result.intercept),\n",
    "                     slope=lr_result.slope, color=\"black\")"
   ]
  }
 ],
 "metadata": {
  "kernelspec": {
   "display_name": "Python 3 (ipykernel)",
   "language": "python",
   "name": "python3"
  },
  "language_info": {
   "codemirror_mode": {
    "name": "ipython",
    "version": 3
   },
   "file_extension": ".py",
   "mimetype": "text/x-python",
   "name": "python",
   "nbconvert_exporter": "python",
   "pygments_lexer": "ipython3",
   "version": "3.12.4"
  }
 },
 "nbformat": 4,
 "nbformat_minor": 4
}
