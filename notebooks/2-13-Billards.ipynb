{
 "cells": [
  {
   "cell_type": "markdown",
   "metadata": {},
   "source": [
    "# Billards\n",
    "\n",
    "Siehe Wiedemann/Ingold: *Numerische Physik mit Python*, Springer-Spektrum 2024, ISBN 978-3-662-69566-1\n",
    "\n",
    "---"
   ]
  },
  {
   "cell_type": "markdown",
   "metadata": {},
   "source": [
    "In diesem Jupyter-Notebook untersuchen wir die Bewegung einer Punktmasse in zweidimensionalen Billards. Innerhalb des Billards bewegt sich die Punktmasse frei, während sie an der Berandung elastisch reflektiert wird. Zwischen aufeinanderfolgenden Reflexionen ist die Bewegung analytisch bekannt, so dass numerisch nur die Auftreffpunkte auf die Berandung und die Geschwindigkeitsvektoren nach den Reflexionen zu bestimmen sind. Konkret betrachten wir ein symmetriereduziertes quadratisches Billard und ein symmetriereduziertes Sinai-Billard."
   ]
  },
  {
   "cell_type": "markdown",
   "metadata": {
    "jp-MarkdownHeadingCollapsed": false,
    "tags": []
   },
   "source": [
    "### Importanweisungen\n",
    "\n",
    "Aus dem `functools`-Modul der Python-Standardbibliothek wird die Funktion `partial` importiert, die es erlaubt, einige der Argumente einer Funktion vorab festzulegen. Konkret werden wir diese Möglichkeit im Zusammenhang mit den Funktionen `time_to_straight_line` und `v_refl_straight_line` nutzen.\n",
    "\n",
    "Um die Umrandung der Billards zu definieren und darzustellen, verwenden wir `Path` und `PathPatch` aus den `matplotlib`-Modulen `path` bzw. `patches`."
   ]
  },
  {
   "cell_type": "code",
   "execution_count": null,
   "metadata": {
    "tags": []
   },
   "outputs": [],
   "source": [
    "from functools import partial\n",
    "from math import atan2, cos, hypot, pi, sin, sqrt\n",
    "import ipywidgets as widgets\n",
    "from ipywidgets import interact\n",
    "import matplotlib.pyplot as plt\n",
    "from matplotlib.path import Path\n",
    "from matplotlib.patches import PathPatch\n",
    "\n",
    "plt.style.use(\"numphyspy.style\")"
   ]
  },
  {
   "cell_type": "markdown",
   "metadata": {
    "jp-MarkdownHeadingCollapsed": true,
    "tags": []
   },
   "source": [
    "## Quadratisches Billard"
   ]
  },
  {
   "cell_type": "markdown",
   "metadata": {
    "jp-MarkdownHeadingCollapsed": false,
    "tags": []
   },
   "source": [
    "### Kollision mit einer geraden Linie\n",
    "\n",
    "Da das quadratische Billard genauso wie seine symmetriereduzierte Version, also ein Dreiecksbillard, durch Geradenstücke begrenzt ist, ist im Rahmen der stroboskopischen Abbildung zu bestimmen, welche Zeit eine Punktmasse von einem Anfangsort $(x|y)$ mit dem Geschwindigkeitsvektor\n",
    "\n",
    "$$\\boldsymbol{v} = \\begin{pmatrix}v_x\\\\ v_y\\end{pmatrix}$$\n",
    "\n",
    "bis zum Auftreffen auf eine gerade Berandung benötigt und welche Geschwindigkeit sie nach der elastischen Kollision haben wird. Die Zeit, die von `time_to_straight_line` bestimmt wird, wird später bei mehreren Berandungsstücken benötigt, um zu entscheiden, welche Kollision für die weitere Bewegung relevant ist. Der Ort der Kollision zusammen mit dem von `v_refl_straight_line` berechneten Geschwindigkeitsvektor bildet die Anfangsbedingung für den nächsten Schritt der stroboskopischen Abbildung.\n",
    "\n",
    "Die gerade Linie wird durch einen Punkt $(x_0|y_0)$ auf der Geraden und den Vektor in Richtung der Geraden mit den Komponenten `dir_x` und `dir_y` beschrieben.\n",
    "\n",
    "Die beiden Funktionen werden später auch im Zusammenhang mit dem Sinai-Billard verwendet."
   ]
  },
  {
   "cell_type": "code",
   "execution_count": 2,
   "metadata": {
    "tags": []
   },
   "outputs": [],
   "source": [
    "def time_to_straight_line(x_0, y_0, dir_x, dir_y, x, y,\n",
    "                          v_x, v_y):\n",
    "    denominator = v_x*dir_y - v_y*dir_x\n",
    "    if denominator != 0:\n",
    "        numerator = (x_0-x)*dir_y - (y_0-y)*dir_x\n",
    "        return numerator / denominator\n",
    "    else:\n",
    "        return float(\"inf\")\n",
    "\n",
    "def v_refl_straight_line(dir_x, dir_y, x, y, v_x, v_y):\n",
    "    projection = v_x*dir_x + v_y*dir_y\n",
    "    return (-v_x + 2*dir_x*projection,\n",
    "            -v_y + 2*dir_y*projection)"
   ]
  },
  {
   "cell_type": "markdown",
   "metadata": {
    "jp-MarkdownHeadingCollapsed": false,
    "tags": []
   },
   "source": [
    "### Definition der Geometrie des symmetriereduzierten quadratischen Billards\n",
    "\n",
    "Das quadratische Billard kann aufgrund seiner Symmetrie auf ein rechtwinkliges, gleichschenkliges Dreieck reduziert werden. Die Geometrie dieses Billards beschreiben wir mit Hilfe eines Dictionaries, das die folgenden Einträge enthält:\n",
    "- `time`: Dieser Eintrag verweist auf eine Liste, die für jede der drei geraden Berandungslinien des Dreiecks eine Funktion enthält, die die Zeit bis zum Auftreffen auf der Berandungslinie berechnet. Hierbei wird die `partial`-Funktion verwendet, um die Eigenschaften der Berandunglinie festzulegen. Beim Aufruf der Funktion in der Liste müssen dann nur noch der Ort und die Geschwindigkeit der Punktmasse übergeben werden.\n",
    "- `v_refl`: Dieser Eintrag verweist auf eine Liste, die für jede der drei geraden\n",
    "Berandungslinien des Dreiecks eine Funktion enthält, die den Geschwindigkeitsvektor nach der Reflexion berechnet. Auch hier wird wieder von der `partial`-Funktion Gebrauch gemacht.\n",
    "- `boundary_path`: Dieser Eintrag beschreibt die Berandung, um sie später graphisch darstellen zu können."
   ]
  },
  {
   "cell_type": "code",
   "execution_count": null,
   "metadata": {
    "tags": []
   },
   "outputs": [],
   "source": [
    "TRIANGLE = {\"time\":\n",
    "            [partial(time_to_straight_line, 0, 0, 1, 0),\n",
    "             partial(time_to_straight_line, 1, 0, 0, 1),\n",
    "             partial(time_to_straight_line,\n",
    "                     0, 0, sqrt(0.5), sqrt(0.5))\n",
    "             ],\n",
    "            \"v_refl\":\n",
    "            [partial(v_refl_straight_line, 1, 0),\n",
    "             partial(v_refl_straight_line, 0, 1),\n",
    "             partial(v_refl_straight_line,\n",
    "                     sqrt(0.5), sqrt(0.5))\n",
    "             ],\n",
    "            \"boundary_path\":\n",
    "            Path([(0, 0), (1, 0), (1, 1), (0, 0)],\n",
    "                 [Path.MOVETO, Path.LINETO,\n",
    "                 Path.LINETO, Path.CLOSEPOLY]\n",
    "                 )\n",
    "            }"
   ]
  },
  {
   "cell_type": "markdown",
   "metadata": {
    "jp-MarkdownHeadingCollapsed": false,
    "tags": []
   },
   "source": [
    "### Stroboskopische Abbildung\n",
    "\n",
    "Die nachfolgende Generatorfunktion liefert ausgehend von einem Startpunkt und einem Geschwindigkeitsvektor auf Anfrage den nächsten Ort einer Kollision mit der Berandung sowie den Geschwindigkeitsvektor nach der Kollision.\n",
    "\n",
    "Dazu wird für jedes Berandungsstück ermittelt, wann eine Kollision mit diesem stattfinden würde. Die tatsächlich stattfindende Kollision ist dann diejenige mit der kleinsten positiven Zeit. Startet man auf der Berandung, so ist immer eine der Zeiten gleich null. Da diese Zeit aufgrund von Rundungsfehlern einen kleinen positiven Wert annehmen kann, wird gefordert, dass die Zeit größer als eine kleine Schranke `eps` ist. Anschließend werden der Ort der Kollision und der Geschwindigkeitsvektor nach der Kolision berechnet und abschließend zusammen mit dem Index des Berandungsstücks übergeben.\n",
    "\n",
    "Diese Generatorfunktion wird auch beim Sinai-Billard verwendet."
   ]
  },
  {
   "cell_type": "code",
   "execution_count": null,
   "metadata": {
    "tags": []
   },
   "outputs": [],
   "source": [
    "def stroboscopic_map(billard_type, x, y, v_x, v_y, eps):\n",
    "    time_funcs = billard_type[\"time\"]\n",
    "    while True:\n",
    "        dt_min = float(\"inf\")\n",
    "        n_min = None\n",
    "        for n_boundary, time_func in enumerate(time_funcs):\n",
    "            dt = time_func(x, y, v_x, v_y)\n",
    "            if eps < dt < dt_min:\n",
    "                dt_min = dt\n",
    "                n_min = n_boundary\n",
    "        if n_min is None:\n",
    "            raise ValueError(\"kein Wandkontakt gefunden\")\n",
    "        x = x + v_x * dt_min\n",
    "        y = y + v_y * dt_min\n",
    "        v_ref_func = billard_type[\"v_refl\"][n_min]\n",
    "        v_x, v_y = v_ref_func(x, y, v_x, v_y)\n",
    "        yield (n_min, x, y, v_x, v_y)"
   ]
  },
  {
   "cell_type": "markdown",
   "metadata": {
    "jp-MarkdownHeadingCollapsed": false,
    "tags": []
   },
   "source": [
    "### Berechnung der Trajektorie\n",
    "\n",
    "Da beide hier betrachteten Billards einen horizontalen Rand bei $y=0$ besitzen, lassen wir die Punktmasse dort starten, so dass nur noch die $x$-Koordinate des Startpunkts festgelegt werden muss. Da der Betrag der Geschwindigkeit irrelevant ist, wird er auf 1 gesetzt, so dass sich der Geschwindigkeitsvektor durch den Winkel $\\alpha$ relativ zur $x$-Achse angeben lässt. \n",
    "\n",
    "Mit Hilfe von `stroboscopic_map` wird ein Generator `contacts` erzeugt, der unter Verwendung von `next` in der Schleife nacheinander die Orte der nächsten Kollisionen liefert."
   ]
  },
  {
   "cell_type": "code",
   "execution_count": null,
   "metadata": {
    "tags": []
   },
   "outputs": [],
   "source": [
    "def trajectory(billard_type, x, alpha, n_out):\n",
    "    y = 0\n",
    "    v_x, v_y = (cos(alpha), sin(alpha))\n",
    "    eps = 1e-8\n",
    "    x_values = [x]\n",
    "    y_values = [y]\n",
    "    contacts = stroboscopic_map(\n",
    "        billard_type, x, y, v_x, v_y, eps)\n",
    "    n = 0\n",
    "    while n < n_out:\n",
    "        n_boundary, x, y, v_x, v_y = next(contacts)\n",
    "        x_values.append(x)\n",
    "        y_values.append(y)\n",
    "        n = n+1\n",
    "    return x_values, y_values"
   ]
  },
  {
   "cell_type": "markdown",
   "metadata": {
    "jp-MarkdownHeadingCollapsed": false,
    "tags": []
   },
   "source": [
    "### Definition der Bedienelemente\n",
    "\n",
    "Um eine Kopplung zwischen den Bedienelementen in den verschiedenen Abschnitten dieses Jupyter-Notebooks zu vermeiden, wird das Dictionary, das die Schieberegler, definiert, innerhalb einer Funktion neu erzeugt. Die einstellbaren Parameter sind\n",
    "- `x`: $x$-Koordinate des Startpunkts auf der horizontalen Berandung bei $y=0$\n",
    "- `alpha`: Winkel des Geschwindigkeitsvektors relativ zur $x$-Achse\n",
    "- `n_out`: Anzahl der Punkte (wird nur in `plot_result_triangle` und `plot_result_sinai` verwendet)\n",
    "- `n_out_poincare`: Anzahl der Punkte (wird nur in `plot_result_poincare` verwendet)"
   ]
  },
  {
   "cell_type": "code",
   "execution_count": null,
   "metadata": {
    "tags": []
   },
   "outputs": [],
   "source": [
    "def get_widgets():\n",
    "    widget_dict = {\n",
    "        \"x\":\n",
    "        widgets.FloatSlider(\n",
    "            value=0.75, min=0.55, max=0.95, step=0.05,\n",
    "            description=\"$x$\"),\n",
    "        \"alpha\":\n",
    "        widgets.FloatSlider(\n",
    "            value=0.6, min=0.05, max=3.10, step=0.05,\n",
    "            description=r\"$\\alpha$\"),\n",
    "        \"n_out\":\n",
    "        widgets.IntSlider(\n",
    "            value=25, min=1, max=100, step=1,\n",
    "            description=r\"$n_\\text{out}$\"),\n",
    "        \"n_out_poincare\":\n",
    "            widgets.IntSlider(\n",
    "            value=10000, min=10, max=20000, step=10,\n",
    "            description=r\"$n_\\text{out}$\")\n",
    "    }\n",
    "    return widget_dict"
   ]
  },
  {
   "cell_type": "markdown",
   "metadata": {
    "jp-MarkdownHeadingCollapsed": false,
    "tags": []
   },
   "source": [
    "### Graphische Darstellung der Trajektorie\n",
    "\n",
    "Es wird die berechnete Trajektorie innerhalb der Dreiecksberandung dargestellt. Um die Seitenverhältnisse korrekt darzustellen, wird `set_aspect(\"equal\")` verwendet."
   ]
  },
  {
   "cell_type": "code",
   "execution_count": null,
   "metadata": {
    "pycharm": {
     "name": "#%%\n"
    },
    "tags": []
   },
   "outputs": [],
   "source": [
    "@interact(**get_widgets())\n",
    "def plot_result_triangle(x, alpha, n_out):\n",
    "    x_values, y_values = trajectory(TRIANGLE, x, alpha,\n",
    "                                    n_out)\n",
    "    path = TRIANGLE[\"boundary_path\"]\n",
    "    pathpatch = PathPatch(path, facecolor=\"none\")\n",
    "    fig, ax = plt.subplots()\n",
    "    ax.add_patch(pathpatch)\n",
    "    ax.set_axis_off()\n",
    "    ax.set_aspect(\"equal\")\n",
    "    ax.plot(x_values, y_values)"
   ]
  },
  {
   "cell_type": "markdown",
   "metadata": {
    "jp-MarkdownHeadingCollapsed": true,
    "tags": []
   },
   "source": [
    "## Sinai-Billard\n",
    "\n",
    "Das Sinai-Billard entsteht aus dem quadratischen Billard, indem man innerhalb des Quadrats eine zusätzliche kreisförmige Berandung einführt, die im Mittelpunkt des Quadrats zentriert wird. Die Punktmasse kann sich somit innerhalb der quadratischen Berandung, aber nur außerhalb der kreisförmigen Berandung bewegen.\n",
    "\n",
    "Auch hier werden wir wieder eine symmetriereduzierte Version des Billards betrachten, die ein Achtel des Sinai-Billards darstellt."
   ]
  },
  {
   "cell_type": "markdown",
   "metadata": {
    "jp-MarkdownHeadingCollapsed": false,
    "tags": []
   },
   "source": [
    "### Kollision mit einem Kreis\n",
    "\n",
    "Zusätzlich zu den bereits definierten Funktionen `time_to_straight_line` und `v_refl_straight_line` für gerade Berandungen benötigen wir für das Sinai-Billard noch die entsprechende Funktionen für die Kollision mit einer kreisförmigen Berandung. Um die neuen Funktionen `time_to_circle` und `v_refl_circle` allgemein benutzen zu können, sind sowohl der Radius als auch der Ursprung des Kreises frei wählbar.\n",
    "\n",
    "Das Problem des Schnittes einer Geraden mit einem Kreis führt auf eine quadratische Gleichung. Wenn die zugehörige Diskrimante negativ ist, trifft die Punktmasse gar nicht auf den Kreis. In diesem Fall wird die Zeit bis zur Kollision auf\n",
    "unendlich gesetzt. Da die Kollision mit dem Berandungsstück stattfindet, das die kürzeste Zeit liefert, hat das zur Folge, dass es sich in diesem Fall nicht um den Kreis handelt."
   ]
  },
  {
   "cell_type": "code",
   "execution_count": null,
   "metadata": {
    "tags": []
   },
   "outputs": [],
   "source": [
    "def time_to_circle(x_0, y_0, r, x, y, v_x, v_y):\n",
    "    a = v_x**2 + v_y**2\n",
    "    b = (x-x_0)*v_x + (y-y_0)*v_y\n",
    "    c = (x-x_0)**2 + (y-y_0)**2 - r**2\n",
    "    diskriminante = b**2 - a*c\n",
    "    if diskriminante > 0:\n",
    "        return (-b-sqrt(diskriminante))/a\n",
    "    else:\n",
    "        return float(\"inf\")\n",
    "\n",
    "def v_refl_circle(x_0, y_0, r, x, y, v_x, v_y):\n",
    "    dir_x = -(y-y_0)/r\n",
    "    dir_y = (x-x_0)/r\n",
    "    return v_refl_straight_line(dir_x, dir_y, x, y,\n",
    "                                v_x, v_y)"
   ]
  },
  {
   "cell_type": "markdown",
   "metadata": {
    "jp-MarkdownHeadingCollapsed": false,
    "tags": []
   },
   "source": [
    "### Definition der Geometrie des symmetriereduzierten Sinai-Billards\n",
    "\n",
    "Wie schon beim quadratischen Billard wird die Geometrie des symmetriereduzierten Sinai-Billards in einem Dictionary definiert. Neben drei geraden Berandungsstücken kommt hier noch ein kreisförmiges Berandungsstück hinzu."
   ]
  },
  {
   "cell_type": "code",
   "execution_count": null,
   "metadata": {
    "tags": []
   },
   "outputs": [],
   "source": [
    "SINAI = {\"time\":\n",
    "         [partial(time_to_straight_line, 0, 0, 1, 0),\n",
    "          partial(time_to_straight_line, 1, 0, 0, 1),\n",
    "          partial(time_to_straight_line, 0, 0,\n",
    "                  sqrt(0.5), sqrt(0.5)),\n",
    "          partial(time_to_circle, 0, 0, 0.5)\n",
    "          ],\n",
    "         \"v_refl\":\n",
    "         [partial(v_refl_straight_line, 1, 0),\n",
    "          partial(v_refl_straight_line, 0, 1),\n",
    "          partial(v_refl_straight_line,\n",
    "                  sqrt(0.5), sqrt(0.5)),\n",
    "          partial(v_refl_circle, 0, 0, 0.5)\n",
    "          ],\n",
    "         \"boundary_path\":\n",
    "         Path([*(0.5*Path.arc(0, 45).vertices),\n",
    "               (1, 1), (1, 0), (0, 0)],\n",
    "              [*Path.arc(0, 45).codes, Path.LINETO,\n",
    "               Path.LINETO, Path.CLOSEPOLY]\n",
    "              )\n",
    "         }"
   ]
  },
  {
   "cell_type": "markdown",
   "metadata": {
    "jp-MarkdownHeadingCollapsed": false,
    "tags": []
   },
   "source": [
    "### Graphische Darstellung der Trajektorie"
   ]
  },
  {
   "cell_type": "code",
   "execution_count": null,
   "metadata": {
    "pycharm": {
     "name": "#%%\n"
    },
    "tags": []
   },
   "outputs": [],
   "source": [
    "@interact(**get_widgets())\n",
    "def plot_result_sinai(x, alpha, n_out):\n",
    "    x_values, y_values = trajectory(SINAI, x, alpha, n_out)\n",
    "    path = SINAI[\"boundary_path\"]\n",
    "    pathpatch = PathPatch(path, facecolor=\"none\")\n",
    "    fig, ax = plt.subplots()\n",
    "    ax.add_patch(pathpatch)\n",
    "    ax.set_axis_off()\n",
    "    ax.set_aspect(\"equal\")\n",
    "    ax.plot(x_values, y_values)"
   ]
  },
  {
   "cell_type": "markdown",
   "metadata": {
    "jp-MarkdownHeadingCollapsed": false,
    "tags": []
   },
   "source": [
    "### Berechnung der Punkte für einen Poincaré-Plot\n",
    "\n",
    "Für einen Startpunkt am Ort $(x|0)$ und eine anfängliche Bewegungsrichtung, die den Winkel $\\alpha$ mit der Horizontalen bildet, werden `n_out` Punkte für einen Poincaré-Plot berechnet. Hierzu werden die Kollisionen mit dem Berandungsstück 2, also der schrägen Wand im symmetriereduzierten Modell, herangezogen."
   ]
  },
  {
   "cell_type": "code",
   "execution_count": null,
   "metadata": {
    "tags": []
   },
   "outputs": [],
   "source": [
    "def poincare_points(x, alpha, n_out):\n",
    "    y = 0\n",
    "    v_x, v_y = (cos(alpha), sin(alpha))\n",
    "    eps = 1e-8\n",
    "    s_values = []\n",
    "    alpha_values = []\n",
    "    contacts = stroboscopic_map(SINAI, x, y, v_x, v_y, eps)\n",
    "    n = 0\n",
    "    while n < n_out:\n",
    "        n_boundary, x, y, v_x, v_y = next(contacts)\n",
    "        if n_boundary == 2:\n",
    "            n = n+1\n",
    "            s_values.append((2*hypot(x, y)-1)/(2*sqrt(2)-1))\n",
    "            alpha_values.append(atan2(v_y, v_x)+pi/4)\n",
    "    return s_values, alpha_values"
   ]
  },
  {
   "cell_type": "markdown",
   "metadata": {
    "jp-MarkdownHeadingCollapsed": false,
    "tags": []
   },
   "source": [
    "### Graphische Darstellung des Poincaré-Plots\n",
    "\n",
    "Für einen ausgewählten Startpunkt auf der horizontalen Berandung bei $y=0$ wird ein Poincaré-Plot dargestellt."
   ]
  },
  {
   "cell_type": "code",
   "execution_count": null,
   "metadata": {
    "pycharm": {
     "name": "#%%\n"
    },
    "tags": []
   },
   "outputs": [],
   "source": [
    "@interact(**get_widgets())\n",
    "def plot_result_poincare(x, alpha, n_out_poincare):\n",
    "    s_values, alpha_values = poincare_points(\n",
    "        x, alpha, n_out_poincare)\n",
    "\n",
    "    fig, ax = plt.subplots()\n",
    "    ax.plot(s_values, alpha_values, linestyle=\"None\",\n",
    "            marker=\"o\", markersize=2)\n",
    "    ax.set_xlabel(\"$s$\")\n",
    "    ax.set_ylabel(r\"$\\alpha$\")"
   ]
  }
 ],
 "metadata": {
  "kernelspec": {
   "display_name": "Python 3 (ipykernel)",
   "language": "python",
   "name": "python3"
  },
  "language_info": {
   "codemirror_mode": {
    "name": "ipython",
    "version": 3
   },
   "file_extension": ".py",
   "mimetype": "text/x-python",
   "name": "python",
   "nbconvert_exporter": "python",
   "pygments_lexer": "ipython3",
   "version": "3.12.4"
  }
 },
 "nbformat": 4,
 "nbformat_minor": 4
}
