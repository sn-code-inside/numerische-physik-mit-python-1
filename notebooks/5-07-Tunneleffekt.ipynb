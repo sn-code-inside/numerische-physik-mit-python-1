{
 "cells": [
  {
   "cell_type": "markdown",
   "metadata": {
    "tags": []
   },
   "source": [
    "# Tunneleffekt\n",
    "\n",
    "Siehe Wiedemann/Ingold: *Numerische Physik mit Python*, Springer-Spektrum 2024, ISBN 978-3-662-69566-1\n",
    "\n",
    "---"
   ]
  },
  {
   "cell_type": "markdown",
   "metadata": {},
   "source": [
    "In diesem Jupyter-Notebook werden wir uns drei verschiedene Szenarien ansehen, in denen der Tunneleffekt eine Rolle spielt.\n",
    "\n",
    "1. Tunneleffekt an einer Rechteck-Barriere   \n",
    "   Hier sehen wir uns die Dynamik eines Wellenpakets an, das auf eine Rechteck-Barriere trifft. Abgesehen von der Anwesenheit der \n",
    "   Barriere entspricht das Vorgehen demjenigen bei der Betrachtung des freien Wellenpakets in\n",
    "   [5-05-Freies-Teilchen.ipynb](5-05-Freies-Teilchen.ipynb). Neben einer Darstellung der zeitabhängigen \n",
    "   Aufenthaltswahrscheinlichkeit als Animation sehen wir uns den zeitlichen Verlauf der Wahrscheinlichkeit an, das Teilchen in \n",
    "   einem der drei Teilbereiche konstanten Potentials zu finden.\n",
    "   \n",
    "2. Tunneln im Doppeltopfpotential   \n",
    "   Auch hier betrachten wird die Dynamik eines anfänglichen gaußförmigen Wellenpakets, das sich nun aber in einem \n",
    "   Doppeltopfpotential bewegt. Dessen Parameter sind so gewählt, dass zwei gleich tiefe Potentialminima vorliegen. Das Tunneln\n",
    "   zwischen den beiden Potentialminima durch die dazwischen liegende Potentialbarriere untersuchen wir anhand der \n",
    "   Aufenthaltswahrscheinlichkeit im linken und rechten Teil des Potentials.\n",
    "   \n",
    "3. Metastabilität durch Tunneln   \n",
    "   Im letzten Teil wenden wir uns einem kubischen Potential zu, dessen Parameter so gewählt sind, dass ein Potentialminimum \n",
    "   vorliegt. Dieses ist durch eine Potentialbarriere von einem Bereich getrennt, in dem das Potential gegen $-\\infty$ strebt. \n",
    "   Anfänglich liege im Potentialminimum ein gaußförmiges Wellenpaket vor, dessen Norm aufgrund des Tunneleffekts abnimmt. Aus der\n",
    "   zeitlichen Änderung lässt sich eine Zerfallsrate bestimmen."
   ]
  },
  {
   "cell_type": "markdown",
   "metadata": {
    "jp-MarkdownHeadingCollapsed": false,
    "tags": []
   },
   "source": [
    "### Importanweisungen\n",
    "\n",
    "*Hinweis:* Sollte die Animation nicht funktionieren, stellen Sie sicher, dass Sie dieses Jupyter-Notebook in JupyterLab ausführen."
   ]
  },
  {
   "cell_type": "code",
   "execution_count": null,
   "metadata": {
    "tags": []
   },
   "outputs": [],
   "source": [
    "from math import pi, sqrt\n",
    "import numpy as np\n",
    "from scipy import fft, stats\n",
    "import ipywidgets as widgets\n",
    "from ipywidgets import interact, interact_manual\n",
    "from IPython.display import clear_output, display, HTML\n",
    "import matplotlib.pyplot as plt\n",
    "from matplotlib import animation\n",
    "\n",
    "plt.style.use(\"numphyspy.style\")"
   ]
  },
  {
   "cell_type": "markdown",
   "metadata": {
    "jp-MarkdownHeadingCollapsed": true,
    "tags": []
   },
   "source": [
    "## Tunneleffekt an einer Rechteck-Barriere\n",
    "\n",
    "In dimensionslosen Variablen ist die Rechteck-Barriere durch das Potential\n",
    "\n",
    "$$V(x) = \\begin{cases} 1 & \\text{für $|x| < a$} \\\\ 0 & \\text{sonst} \\end{cases}$$\n",
    "\n",
    "gegeben. Um Randeffekte zu vermeiden, fügen wir wie in [5-05-Freies-Teilchen.ipynb](5-05-Freies-Teilchen.ipynb) ein geeignetes optisches Potential hinzu. Da wir auch hier die Split-Operator-Methode verwenden, können wir den Code vom freien Teilchen weitestgehend übernehmen und müssen nur darauf achten, wo nötig das Barrierenpotential zu berücksichtigen. An den Stellen, an denen wir Code unverändert übernehmen, verzichten wir auf eine weitere Diskussion des Codes."
   ]
  },
  {
   "cell_type": "markdown",
   "metadata": {
    "jp-MarkdownHeadingCollapsed": false,
    "tags": []
   },
   "source": [
    "### Transformation vom Orts- in den Impulsraum und zurück"
   ]
  },
  {
   "cell_type": "code",
   "execution_count": null,
   "metadata": {
    "tags": []
   },
   "outputs": [],
   "source": [
    "def position_to_momentum(psi_position):\n",
    "    psi_momentum = fft.fft(psi_position)\n",
    "    return psi_momentum"
   ]
  },
  {
   "cell_type": "code",
   "execution_count": null,
   "metadata": {
    "tags": []
   },
   "outputs": [],
   "source": [
    "def momentum_to_position(psi_momentum):\n",
    "    psi_position = fft.ifft(psi_momentum)\n",
    "    return psi_position"
   ]
  },
  {
   "cell_type": "markdown",
   "metadata": {
    "jp-MarkdownHeadingCollapsed": false,
    "tags": []
   },
   "source": [
    "### Zeitschritt"
   ]
  },
  {
   "cell_type": "code",
   "execution_count": null,
   "metadata": {
    "tags": []
   },
   "outputs": [],
   "source": [
    "def time_step(psi_position, dt, v, k):\n",
    "    psi_position = psi_position * np.exp(-1j*v*dt/2)\n",
    "    psi_momentum = position_to_momentum(psi_position)\n",
    "    psi_momentum = psi_momentum * np.exp(-1j*k**2/2*dt)\n",
    "    psi_position = momentum_to_position(psi_momentum)\n",
    "    psi_position = psi_position * np.exp(-1j*v*dt/2)\n",
    "    return psi_position"
   ]
  },
  {
   "cell_type": "markdown",
   "metadata": {
    "jp-MarkdownHeadingCollapsed": false,
    "tags": []
   },
   "source": [
    "### Lösung der Schrödingergleichung\n",
    "\n",
    "Im Vergleich zur gleichnamigen Funktion in [5-05-Freies-Teilchen.ipynb](5-05-Freies-Teilchen.ipynb) muss hier zu Beginn neben dem optischen Potential noch das Barrierenpotential berücksichtigt werden. Um diesen Code weiter unten wiederverwenden zu können, wird hier als erstes Argument `potential` eine Funktion übergeben, die das Barrierenpotential definiert. In diesem Abschnitt wird beim Aufruf die Funktion `rectangular_barrier` im Argument `potential` übergeben."
   ]
  },
  {
   "cell_type": "code",
   "execution_count": null,
   "metadata": {
    "tags": []
   },
   "outputs": [],
   "source": [
    "def time_development(potential, potential_parameter,\n",
    "                     psi_position, n_time, dt, x_values, dx,\n",
    "                     v_opt, sigma_opt, x_max):\n",
    "    v = potential(x_values, potential_parameter,\n",
    "                  v_opt, sigma_opt, x_max)\n",
    "    xdim = x_values.shape[0]\n",
    "    psi_squared_of_time = np.zeros((n_time+1, xdim))\n",
    "    k = fft.fftfreq(xdim, dx) * 2*pi\n",
    "    psi_squared_of_time[0, :] = np.absolute(psi_position)**2\n",
    "    for n in range(n_time):\n",
    "        psi_position = time_step(psi_position, dt, v, k)\n",
    "        psi_squared_of_time[n+1, :] = (\n",
    "            np.absolute(psi_position)**2)\n",
    "    return psi_squared_of_time"
   ]
  },
  {
   "cell_type": "markdown",
   "metadata": {
    "jp-MarkdownHeadingCollapsed": false,
    "tags": []
   },
   "source": [
    "### Erzeugung des Anfangszustands\n",
    "\n",
    "Der Anfangszustand ist durch eine Gauß-Funktion gegeben, deren Zentrum, Breite und mittlerer Impuls durch die Parameter `x_0`, `sigma_0` und `k_0` festgelegt werden können. Der Zustandsvektor wird numerisch normiert.  "
   ]
  },
  {
   "cell_type": "code",
   "execution_count": null,
   "metadata": {
    "tags": []
   },
   "outputs": [],
   "source": [
    "def gaussian_wavepacket(x, x_0, sigma_0, k_0, dx):\n",
    "    psi_position = np.exp(-0.25*((x-x_0)/sigma_0)**2\n",
    "                          + 1j*k_0*x)\n",
    "    norm = np.sum(np.absolute(psi_position)**2) * dx\n",
    "    return psi_position / sqrt(norm)"
   ]
  },
  {
   "cell_type": "markdown",
   "metadata": {
    "jp-MarkdownHeadingCollapsed": false,
    "tags": []
   },
   "source": [
    "### Definition des Potentials\n",
    "\n",
    "Die Funktion `rectangular barrier` berücksichtigt neben der Rechteck-Barriere auch den Beitrag eines optischen Potentials."
   ]
  },
  {
   "cell_type": "code",
   "execution_count": null,
   "metadata": {
    "tags": []
   },
   "outputs": [],
   "source": [
    "def v_optical(x, v, x_max, sigma):\n",
    "    return -1j*v*(np.exp(-(-x+x_max)**2/(2*sigma**2))\n",
    "                  + np.exp(-(-x-x_max)**2/(2*sigma**2)))"
   ]
  },
  {
   "cell_type": "code",
   "execution_count": null,
   "metadata": {
    "tags": []
   },
   "outputs": [],
   "source": [
    "def rectangular_barrier(x, a, v_opt, sigma_opt, x_max):\n",
    "    v_barrier = np.where(np.abs(x) < a, 1, 0)\n",
    "    v = v_barrier + v_optical(x, v_opt, x_max, sigma_opt)\n",
    "    return v"
   ]
  },
  {
   "cell_type": "markdown",
   "metadata": {
    "jp-MarkdownHeadingCollapsed": false,
    "tags": []
   },
   "source": [
    "### Implementierung des Bedienelements und animierte Darstellung der Aufenthaltswahrscheinlichkeit\n",
    "\n",
    "Mit Hilfe des Schiebereglers lässt sich der folgende Parameter einstellen:\n",
    "- `k_0`: mittlerer Impuls. Hiermit kann die mittlere kinetische Energie des einfallenden Wellenpakets variiert werden. Der voreingestellte Wert ist so gewählt, dass die zugehörige Energie knapp unterhalb der Barrierenhöhe liegt, die dem Wert $k_0=\\sqrt{2}$ entspricht.\n",
    "\n",
    "Weitere Parameter sind zu Beginn der Funktion `make_animation_rectangular_barrier` sinnvoll vorgegeben, können dort aber bei Bedarf verändert werden.\n",
    "\n",
    "Für die graphische Darstellung wird zunächst die maximale Aufenthaltswahrscheinlichkeit `y_max` im gesamten Zeitintervall bestimmt. Durch die Festlegung der Achsenbegrenzungen mit `ax.set_xlim` und `ax.set_ylim` wird sichergestellt, dass die Achsen während der gesamten Animation unverändert bleiben. Mit dem Aufruf der Funktion `ax.fill` wird der Barrierenbereich grau markiert."
   ]
  },
  {
   "cell_type": "code",
   "execution_count": null,
   "metadata": {
    "tags": []
   },
   "outputs": [],
   "source": [
    "k_0_widget = widgets.FloatSlider(\n",
    "    value=1.4, min=0.1, max=1.5, step=0.01,\n",
    "    description=\"$k_0$\")\n",
    "\n",
    "interact_start = interact_manual.options(\n",
    "    manual_name=\"Start Berechnung\")\n",
    "\n",
    "@interact_start(k_0=k_0_widget)\n",
    "def make_animation_rectangular_barrier(k_0):\n",
    "    barrier_width = 2\n",
    "    v_opt = 2\n",
    "    sigma_opt = 5\n",
    "    t_end = 50/k_0\n",
    "    n_time = 300\n",
    "    n_max = 4096\n",
    "    x_max = 50\n",
    "    sigma_0 = 5\n",
    "    x_values, dx = np.linspace(-x_max, x_max, 2*n_max,\n",
    "                               endpoint=False, retstep=True)\n",
    "    psi_position = gaussian_wavepacket(x_values, -x_max/2,\n",
    "                                       sigma_0, k_0, dx)\n",
    "    psi_squared_of_time = time_development(\n",
    "        rectangular_barrier, barrier_width/2, psi_position,\n",
    "        n_time, t_end/n_time, x_values, dx, v_opt,\n",
    "        sigma_opt, x_max)\n",
    "\n",
    "    def init():\n",
    "        line.set_data(x_values, psi_squared_of_time[0, :])\n",
    "        return line,\n",
    "\n",
    "    def animate(i):\n",
    "        line.set_data(x_values, psi_squared_of_time[i, :])\n",
    "        return line,\n",
    "\n",
    "    clear_output()\n",
    "    fig, ax = plt.subplots()\n",
    "    line, = ax.plot([], [])\n",
    "    ax.set_xlim((-x_max, x_max))\n",
    "    y_max = np.max(psi_squared_of_time)\n",
    "    ax.set_ylim((0, y_max))\n",
    "    ax.fill([-1, -1, 1, 1], [0, y_max, y_max, 0], \"#ccc\")\n",
    "    ax.set_xlabel(r\"$\\bar x$\")\n",
    "    ax.set_ylabel(r\"$\\vert\\Psi(x, t)\\vert^2$\")\n",
    "    anim = animation.FuncAnimation(\n",
    "        fig, animate, init_func=init, frames=n_time,\n",
    "        interval=10, blit=True, repeat=False)\n",
    "    plt.close()\n",
    "    display(HTML(anim.to_jshtml()))"
   ]
  },
  {
   "cell_type": "markdown",
   "metadata": {
    "jp-MarkdownHeadingCollapsed": false,
    "tags": []
   },
   "source": [
    "### Berechnung der Aufenthaltswahrscheinlichkeiten in den Bereichen I, II und III\n",
    "\n",
    "Um die Aufenthaltswahrscheinlichkeiten in den Bereichen konstanten Potentials zu berechnen, werden die drei Regionen durch Vergleiche der verwendeten Gitterpositionen mit den Koordinaten der Barrierenränder bestimmt. Damit lassen sich die zeitabhängigen\n",
    "Aufenthaltswahrscheinlichkeiten in diesen Bereichen leicht durch Summation über die Achse 1 bestimmen."
   ]
  },
  {
   "cell_type": "code",
   "execution_count": null,
   "metadata": {
    "tags": []
   },
   "outputs": [],
   "source": [
    "def norms_rectangular_barrier(psi_squared_of_time, n_time,\n",
    "                              x_values, dx, a):\n",
    "    norms = []\n",
    "    for region in (x_values <= -a,\n",
    "                   np.abs(x_values) < a,\n",
    "                   a <= x_values):\n",
    "        norms.append(np.sum(psi_squared_of_time[:, region],\n",
    "                            axis=1\n",
    "                            )*dx)\n",
    "    norms.append(sum(norms))\n",
    "    return norms"
   ]
  },
  {
   "cell_type": "markdown",
   "metadata": {
    "jp-MarkdownHeadingCollapsed": false,
    "tags": []
   },
   "source": [
    "### Implementierung des Bedienelements und graphische Darstellung der Aufenthaltswahrscheinlichkeiten in den Bereichen I, II und III\n",
    "\n",
    "Mit Hilfe des Schiebereglers lässt sich der folgende Parameter einstellen:\n",
    "- `k_0`: mittlerer Impuls. Hiermit kann die mittlere kinetische Energie des einfallenden Wellenpakets variiert werden. Der voreingestellte Wert ist so gewählt, dass die zugehörige Energie knapp unterhalb der Barrierenhöhe liegt, die dem Wert $k_0=\\sqrt{2}$ entspricht.\n",
    "\n",
    "Weitere Parameter sind zu Beginn der Funktion `plot_norms_rectangular_barrier` sinnvoll vorgegeben, können dort aber bei Bedarf verändert werden.\n",
    "\n",
    "Neben den Aufenthaltswahrscheinlichkeiten in den Bereichen I, II und III wird die Norm des Gesamtzustands graphisch dargestellt. Damit lässt sich beurteilen, wann Teile der Wellenfunktion durch das optische Potential an den Rändern absorbiert werden. Außerdem wird zur leichteren Interpretation der Daten die Zeit angegeben, die das Zentrum des Wellenpakets bis zum Erreichen der Potentialbarriere benötigt."
   ]
  },
  {
   "cell_type": "code",
   "execution_count": null,
   "metadata": {
    "tags": []
   },
   "outputs": [],
   "source": [
    "k_0_widget = widgets.FloatSlider(value=1.4,\n",
    "                                 min=0.1, max=1.5, step=0.01,\n",
    "                                 description=\"$k_0$\")\n",
    "\n",
    "@interact(k_0=k_0_widget)\n",
    "def plot_norms_rectangular_barrier(k_0):\n",
    "    barrier_width = 2\n",
    "    v_opt = 2\n",
    "    sigma_opt = 5\n",
    "    t_end = 100\n",
    "    n_time = 2000\n",
    "    n_max = 4096\n",
    "    x_max = 80\n",
    "    sigma_0 = 5\n",
    "    t_values, dt = np.linspace(0, t_end, n_time+1,\n",
    "                               retstep=True)\n",
    "    x_values, dx = np.linspace(-x_max, x_max, 2*n_max,\n",
    "                               endpoint=False, retstep=True)\n",
    "    psi_position = gaussian_wavepacket(x_values, -x_max/2,\n",
    "                                       sigma_0, k_0, dx)\n",
    "    psi_squared_of_time = time_development(\n",
    "        rectangular_barrier, barrier_width/2, psi_position,\n",
    "        n_time, dt, x_values, dx, v_opt, sigma_opt, x_max)\n",
    "    norms = norms_rectangular_barrier(\n",
    "        psi_squared_of_time, n_time, x_values, dx,\n",
    "        barrier_width/2)\n",
    "    labels = (\"$p_I$\", \"$p_{II}$\", \"$p_{III}$\", \"Norm\")\n",
    "\n",
    "    fig, ax = plt.subplots()\n",
    "    for norm, label in zip(norms, labels):\n",
    "        ax.plot(t_values, norm, label=label)\n",
    "    ax.set_xlabel(\"$t$\")\n",
    "    ax.set_ylabel(\"$p$\")\n",
    "    ax.legend(bbox_to_anchor=(1, 1.01), loc=\"upper left\")\n",
    "    fig.suptitle(\"Zeit bis zum Erreichen der Barriere: \"\n",
    "                 f\"{(x_max - barrier_width) / (2*k_0):5.1f}\",\n",
    "                 fontsize=10)"
   ]
  },
  {
   "cell_type": "markdown",
   "metadata": {
    "jp-MarkdownHeadingCollapsed": true,
    "tags": []
   },
   "source": [
    "## Tunneleffekt im Doppeltopfpotential\n",
    "\n",
    "In diesem Abschnitt betrachten wir das Tunneln im Doppeltopfpotential\n",
    "\n",
    "$$V(x) = -\\frac{1}{4} x^2 + \\alpha^2 x^4\\,$$\n",
    "\n",
    "das zwei gleich tiefe Potentialminima an den Stellen\n",
    "\n",
    "$$x_0 = \\pm\\frac{1}{2\\sqrt{2}\\alpha}$$\n",
    "\n",
    "besitzt. In der Nähe der Minima lässt sich das Potential harmonisch durch\n",
    "\n",
    "$$V(x_0+\\Delta x) \\approx -\\frac{1}{64\\alpha^2} +\\frac{1}{2}(x-x_0)^2$$\n",
    "\n",
    "nähern. Im Folgenden betrachten wir die Zeitentwicklung des Zustands\n",
    "\n",
    "$$\\Psi(x, 0) = \\frac{1}{\\pi^{1/4}}\\exp\\left(-\\frac{(x+\\frac{1}{2\\sqrt{2}\\alpha})^2}{2}\\right)\\,$$\n",
    "\n",
    "der dem Grundzustand in der harmonischen Näherung der linken Potentialmulde entspricht."
   ]
  },
  {
   "cell_type": "markdown",
   "metadata": {
    "jp-MarkdownHeadingCollapsed": false,
    "tags": []
   },
   "source": [
    "### Definition des Potentials\n",
    "\n",
    "Neben dem Doppeltopfpotential mit Parameter `alpha` wird hier auch das optische Potential berücksichtigt. Für das Argument `x` sind sowohl skalare Werte als auch NumPy-Arrays zulässig. "
   ]
  },
  {
   "cell_type": "code",
   "execution_count": null,
   "metadata": {
    "tags": []
   },
   "outputs": [],
   "source": [
    "def double_well(x, alpha, v_opt, sigma_opt, x_max):\n",
    "    v_real = -x**2/4 + alpha**2*x**4\n",
    "    v = v_real + v_optical(x, v_opt, x_max, sigma_opt)\n",
    "    return v"
   ]
  },
  {
   "cell_type": "markdown",
   "metadata": {
    "jp-MarkdownHeadingCollapsed": false,
    "tags": []
   },
   "source": [
    "### Berechnung der Aufenthaltswahrscheinlichkeiten links und rechts der Potentialbarriere\n",
    "\n",
    "Das Vorgehen entspricht derjenigen bei der Rechteck-Barriere, wobei hier nur zwei Bereiche links und rechts der Potentialbarriere bei $x=0$ zu definieren sind."
   ]
  },
  {
   "cell_type": "code",
   "execution_count": null,
   "metadata": {
    "tags": []
   },
   "outputs": [],
   "source": [
    "def norms_double_well(psi_squared_of_time, n_time, x_values,\n",
    "                      dx):\n",
    "    norms = []\n",
    "    for region in (x_values < 0,\n",
    "                   x_values >= 0):\n",
    "        norms.append(np.sum(psi_squared_of_time[:, region],\n",
    "                            axis=1\n",
    "                            )*dx)\n",
    "    norms.append(sum(norms))\n",
    "    return norms"
   ]
  },
  {
   "cell_type": "markdown",
   "metadata": {
    "jp-MarkdownHeadingCollapsed": false,
    "tags": []
   },
   "source": [
    "### Implementierung der Bedienelemente und graphische Darstellung der Aufenthaltswahrscheinlichkeiten links und rechts der Potentialbarriere\n",
    "\n",
    "Mit Hilfe der Schiebregler lassen sich die folgenden Parameter einstellen:\n",
    "- `alpha`: Potentialparameter\n",
    "- `t_end`: Länge des zu betrachtenden Zeitintervalls\n",
    "\n",
    "Weitere Parameter sind zu Beginn der Funktion `plot_norms_double_well` mit sinnvollen Werten vorbelegt, die dort bei Bedarf geändert werden können. Auch wenn Randeffekte wegen des quartischen Potentials keine große Rolle spielen, wie man am zeitlichen Verhalten der Gesamtnorm sehen kann, wird ein optisches Potential an den Rändern hinzugefügt.\n",
    "\n",
    "In der graphischen Darstellung der zeitabhängigen Aufenthaltswahrscheinlichkeiten in den Bereichen links und rechts der Potentialbarriere ist eine Oszillation zu erkennen, die sich qualitativ mit Hilfe der beiden niedrigsten Eigenzustände verstehen lässt. Weitere Strukturen weisen auf den Einfluss höher angeregter Zustände hin."
   ]
  },
  {
   "cell_type": "code",
   "execution_count": null,
   "metadata": {
    "tags": []
   },
   "outputs": [],
   "source": [
    "widget_dict = {\"alpha\":\n",
    "               widgets.FloatSlider(\n",
    "                   value=0.15, min=0.1, max=0.5, step=0.01,\n",
    "                   description=r\"$\\alpha$\"),\n",
    "               \"t_end\":\n",
    "               widgets.FloatLogSlider(\n",
    "                   value=200, min=1, max=4, step=0.01,\n",
    "                   description=r\"$t_\\text{end}$\")\n",
    "               }\n",
    "\n",
    "interact_start = interact_manual.options(\n",
    "    manual_name=\"Start Berechnung\")\n",
    "\n",
    "@interact_start(**widget_dict)\n",
    "def plot_norms_double_well(alpha, t_end):\n",
    "    v_opt = 2\n",
    "    sigma_opt = 5\n",
    "    n_time = int(t_end*10)\n",
    "    n_max = 2048\n",
    "    x_max = 80\n",
    "    t_values, dt = np.linspace(0, t_end, n_time+1,\n",
    "                               retstep=True)\n",
    "    x_values, dx = np.linspace(-x_max, x_max, 2*n_max,\n",
    "                               endpoint=False, retstep=True)\n",
    "    psi_position = gaussian_wavepacket(\n",
    "        x_values, -1/(2*sqrt(2)*alpha), 1/sqrt(2), 0, dx)\n",
    "    psi_squared_of_time = time_development(\n",
    "        double_well, alpha, psi_position, n_time, dt,\n",
    "        x_values, dx, v_opt, sigma_opt, x_max)\n",
    "    norms = norms_double_well(psi_squared_of_time, n_time,\n",
    "                              x_values, dx)\n",
    "    labels = (\"Norm links\", \"Norm rechts\", \"Norm\")\n",
    "    fig, ax = plt.subplots()\n",
    "    for norm, label in zip(norms, labels):\n",
    "        ax.plot(t_values, norm, label=label)\n",
    "    ax.set_xlabel(\"$t$\")\n",
    "    ax.set_ylabel(r\"$\\langle \\Psi \\vert \\Psi \\rangle$\")\n",
    "    ax.legend(bbox_to_anchor=(1, 1.01), loc=\"upper left\")"
   ]
  },
  {
   "cell_type": "markdown",
   "metadata": {
    "jp-MarkdownHeadingCollapsed": true,
    "tags": []
   },
   "source": [
    "## Metastabilität durch Tunneln\n",
    "\n",
    "Abschließend betrachten wir das kubische Potential\n",
    "\n",
    "$$V(x) = \\frac{1}{2} x^2 - \\alpha x^3\\,,$$\n",
    "\n",
    "das eine Mulde bei $x=0$ aufweist, die durch eine Potentialbarriere der Höhe $1/54\\alpha^2$ bei $x=1/3\\alpha$ von einem Bereich getrennt ist, in dem das Potential für $x\\to\\infty$ immer schneller abfällt. Auch hier interessieren wir uns für einen Anfangszustand, der dem Grunzustand im bei $x=0$ harmonisch genäherten Potential entspricht, und bestimmen aus dem zeitlichen Abfall der Aufenthaltswahrscheinlichkeit links der Potentialbarriere eine Zerfallsrate."
   ]
  },
  {
   "cell_type": "markdown",
   "metadata": {
    "jp-MarkdownHeadingCollapsed": false,
    "tags": []
   },
   "source": [
    "### Definition des Potentials\n",
    "\n",
    "Dem kubischen Potential kann hier auch wieder ein optisches Potential an den Rändern hinzugefügt werden."
   ]
  },
  {
   "cell_type": "code",
   "execution_count": null,
   "metadata": {
    "tags": []
   },
   "outputs": [],
   "source": [
    "def cubic_potential(x, alpha, v_opt, sigma_opt, x_max):\n",
    "    v_real = x**2/2 - alpha*x**3\n",
    "    v = v_real + v_optical(x, v_opt, x_max, sigma_opt)\n",
    "    return v"
   ]
  },
  {
   "cell_type": "markdown",
   "metadata": {
    "jp-MarkdownHeadingCollapsed": false,
    "tags": []
   },
   "source": [
    "### Berechnung der Norm als Funktion der Zeit sowie der Zerfallsrate\n",
    "\n",
    "Nach der Berechnung der zeitabhängigen Aufenthaltswahrscheinlichkeit links der Barriere wird der Logarithmus dieser Werte in `log_norm_of_t` abgespeichert. Mit Hilfe der Funktion `stats.linregress` aus dem SciPy-Paket wird für die logarithmischen Daten eine Ausgleichsgerade berechnet, deren Steigung bis auf das Vorzeichen die Zerfallsrate `decay_rate` liefert."
   ]
  },
  {
   "cell_type": "code",
   "execution_count": null,
   "metadata": {
    "tags": []
   },
   "outputs": [],
   "source": [
    "def norm_and_decay_rate(psi_squared_of_time, t_values,\n",
    "                        x_values, dx, alpha):\n",
    "    well_region = x_values < 1/(3*alpha)\n",
    "    norm_of_t = np.sum(psi_squared_of_time[:, well_region],\n",
    "                       axis=1) * dx\n",
    "    log_norm_values = np.log(norm_of_t)\n",
    "    lr_result = stats.linregress(t_values, log_norm_values)\n",
    "    decay_rate = -lr_result.slope\n",
    "    return norm_of_t, decay_rate"
   ]
  },
  {
   "cell_type": "markdown",
   "metadata": {
    "jp-MarkdownHeadingCollapsed": false,
    "tags": []
   },
   "source": [
    "### Implementierung des Bedienelements und graphische Darstellung der Aufenthaltswahrscheinlichkeit links der Potentialbarriere\n",
    "\n",
    "Mit Hilfe des Schiebereglers lässt sich der folgende Parameter einstellen:\n",
    "- `alpha`: Potentialparameter\n",
    "\n",
    "Auch hier werden wieder einige Parameter zu Beginn der Funktion `plot_norm_cubic_potential` auf sinnvolle Werte eingestellt.\n",
    "\n",
    "Die Zeitabhängigkeit der Aufenthaltswahrscheinlichkeit links der Potentialbarriere wird in einer linear-logarithmischen Darstellung gezeigt, für die ein exponentieller Zerfall einem linearen Kurvenverlauf entspricht. Zudem wird die berechnete Zerfallsrate ausgegeben."
   ]
  },
  {
   "cell_type": "code",
   "execution_count": null,
   "metadata": {
    "tags": []
   },
   "outputs": [],
   "source": [
    "alpha_widget = widgets.FloatSlider(\n",
    "    value=0.2, min=0.01, max=0.5, step=0.01,\n",
    "    description=r\"$\\alpha$\")\n",
    "\n",
    "interact_start = interact_manual.options(\n",
    "    manual_name=\"Start Berechnung\")\n",
    "\n",
    "@interact_start(alpha=alpha_widget)\n",
    "def plot_norm_cubic_potential(alpha):\n",
    "    v_opt = 2\n",
    "    sigma_opt = 5\n",
    "    t_end = 1000\n",
    "    n_time = 10000\n",
    "    n_max = 4096\n",
    "    x_max = 20\n",
    "    t_values, dt = np.linspace(0, t_end, n_time+1,\n",
    "                               retstep=True)\n",
    "    x_values, dx = np.linspace(-x_max, x_max, 2*n_max,\n",
    "                               endpoint=False, retstep=True)\n",
    "    psi_position = gaussian_wavepacket(\n",
    "        x_values, 0, 1/sqrt(2), 0, dx)\n",
    "    psi_squared_of_time = time_development(\n",
    "        cubic_potential, alpha, psi_position, n_time, dt,\n",
    "        x_values, dx, v_opt, sigma_opt, x_max)\n",
    "    norm_of_t, decay_rate = norm_and_decay_rate(\n",
    "        psi_squared_of_time, t_values, x_values, dx, alpha)\n",
    "\n",
    "    fig, ax = plt.subplots()\n",
    "    ax.semilogy(t_values, norm_of_t,\n",
    "                label=f\"Zerfallsrate = {decay_rate:8.5f}\")\n",
    "    ax.set_xlabel(\"$t$\")\n",
    "    ax.set_ylabel(\"$p$\")\n",
    "    ax.legend(loc=\"lower left\")"
   ]
  }
 ],
 "metadata": {
  "kernelspec": {
   "display_name": "Python 3 (ipykernel)",
   "language": "python",
   "name": "python3"
  },
  "language_info": {
   "codemirror_mode": {
    "name": "ipython",
    "version": 3
   },
   "file_extension": ".py",
   "mimetype": "text/x-python",
   "name": "python",
   "nbconvert_exporter": "python",
   "pygments_lexer": "ipython3",
   "version": "3.12.4"
  }
 },
 "nbformat": 4,
 "nbformat_minor": 4
}
