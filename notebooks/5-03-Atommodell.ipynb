{
 "cells": [
  {
   "cell_type": "markdown",
   "metadata": {},
   "source": [
    "# Atommodell\n",
    "\n",
    "Siehe Wiedemann/Ingold: *Numerische Physik mit Python*, Springer-Spektrum 2024, ISBN 978-3-662-69566-1\n",
    "\n",
    "---"
   ]
  },
  {
   "cell_type": "markdown",
   "metadata": {
    "jp-MarkdownHeadingCollapsed": true,
    "tags": []
   },
   "source": [
    "In diesem Jupyter-Notebook werden wir analog zum ersten Teil des Jupyter-Notebooks [5-02-Harmonischer-Oszillator.ipynb](5-02-Harmonischer-Oszillator.ipynb) über den harmonischen Oszillator vorgehen. Allerdings werden wir jetzt ein Potential betrachten, für das die Eigenenergien und die dazugehörigen Eigenzustände nicht analytisch berechnet werden können. Das Potential \n",
    "\n",
    "$$ V(x) = - \\frac{\\alpha^3}{\\sqrt{\\alpha^2+x^2}} $$\n",
    "\n",
    "soll dabei ein eindimensionales Modellpotential für ein Atom darstellen. Im Gegensatz zum harmonischen Oszillator wird es hier auch möglich sein, ungebundene Zustände zu berechnen. Allerdings muss man dabei bedenken, dass das verwendete Ortsgitter das Atommodell effektiv in einen unendlich tiefen Potentialtopf einbettet."
   ]
  },
  {
   "cell_type": "markdown",
   "metadata": {
    "jp-MarkdownHeadingCollapsed": true,
    "tags": []
   },
   "source": [
    "## Importanweisungen"
   ]
  },
  {
   "cell_type": "code",
   "execution_count": null,
   "metadata": {
    "tags": []
   },
   "outputs": [],
   "source": [
    "import numpy as np\n",
    "import numpy.linalg as LA\n",
    "import ipywidgets as widgets\n",
    "from ipywidgets import interact_manual\n",
    "import matplotlib.pyplot as plt\n",
    "\n",
    "plt.style.use(\"numphyspy.style\")"
   ]
  },
  {
   "cell_type": "markdown",
   "metadata": {
    "jp-MarkdownHeadingCollapsed": true,
    "tags": []
   },
   "source": [
    "## Berechnung des Potentials\n",
    "\n",
    "Durch die Verwendung der Wurzelfunktion aus dem NumPy-Paket kann die Funktion `potential` neben skalaren Werten für das Argument `x` auch NumPy-Arrays verarbeiten."
   ]
  },
  {
   "cell_type": "code",
   "execution_count": null,
   "metadata": {
    "tags": []
   },
   "outputs": [],
   "source": [
    "def potential(x, alpha):\n",
    "    return -alpha**3/np.sqrt(alpha**2+x**2)"
   ]
  },
  {
   "cell_type": "markdown",
   "metadata": {
    "jp-MarkdownHeadingCollapsed": true,
    "tags": []
   },
   "source": [
    "## Berechnung des Hamilton-Operators\n",
    "\n",
    "Diese Funktion ist identisch mit der Funktion `hamilton_operator` aus dem Jupyter-Notebook [5-02-Harmonischer-Oszillator.ipynb](5-02-Harmonischer-Oszillator.ipynb)."
   ]
  },
  {
   "cell_type": "code",
   "execution_count": null,
   "metadata": {
    "tags": []
   },
   "outputs": [],
   "source": [
    "def hamilton_operator(n_max, x_max, alpha):\n",
    "    ndim = 2*n_max+1\n",
    "    x, dx = np.linspace(-x_max, x_max, ndim, retstep=True)\n",
    "    h = (np.eye(ndim)\n",
    "         - 0.5*(np.eye(ndim, k=1) + np.eye(ndim, k=-1)))\n",
    "    h = h/dx**2 + np.diag(potential(x, alpha))\n",
    "    return h"
   ]
  },
  {
   "cell_type": "markdown",
   "metadata": {
    "jp-MarkdownHeadingCollapsed": true,
    "tags": []
   },
   "source": [
    "## Berechnung der Eigenwerte und Eigenvektoren\n",
    "\n",
    "Diese Funktion ist identisch mit der Funktion `eigenproblem` aus dem Jupyter-Notebook [5-02-Harmonischer-Oszillator.ipynb](5-02-Harmonischer-Oszillator.ipynb)."
   ]
  },
  {
   "cell_type": "code",
   "execution_count": null,
   "metadata": {
    "tags": []
   },
   "outputs": [],
   "source": [
    "def eigenproblem(n_max, x_max, alpha):\n",
    "    h = hamilton_operator(n_max, x_max, alpha)\n",
    "    evals, evecs = LA.eigh(h)\n",
    "    return evals, evecs"
   ]
  },
  {
   "cell_type": "markdown",
   "metadata": {
    "jp-MarkdownHeadingCollapsed": true,
    "tags": []
   },
   "source": [
    "## Implementierung der Bedienelemente und graphische Darstellung ausgewählter Eigenzustände\n",
    "\n",
    "Mit den Schiebereglern lassen sich die folgenden Parameter einstellen:\n",
    "- `n_max`: Anzahl der Gitterpunkte auf einer Seite des Ursprungs. Insgesamt werden `2*n_max+1` Gitterpunkte verwendet.\n",
    "- `x_max`: Ausdehnung des Gitters von `-x_max` bis `x_max`\n",
    "- `x_plot_max`: Ausdehnung des darzustellenden Bereichs von `-x_plot_max` bis `x_plot_max`\n",
    "- `alpha`: Potentialparameter\n",
    "\n",
    "Es werden die fünf energetisch niedrigsten Eigenzustände sowie der vierzigste angeregte Eigenzustand dargestellt, wobei die Nulllinie um die jeweilige Eigenenergie verschoben ist. Zur besseren Interpretation der Resultate wird des Potential ebenfalls eingezeichnet."
   ]
  },
  {
   "cell_type": "code",
   "execution_count": null,
   "metadata": {
    "pycharm": {
     "name": "#%%\n"
    },
    "tags": []
   },
   "outputs": [],
   "source": [
    "widget_dict = {\"n_max\":\n",
    "               widgets.IntSlider(\n",
    "                   value=1000, min=50, max=1000, step=10,\n",
    "                   description=r\"$n_\\text{max}$\"),\n",
    "               \"x_max\":\n",
    "               widgets.FloatSlider(\n",
    "                   value=80, min=10, max=100, step=1,\n",
    "                   description=r\"$x_\\text{max}$\"),\n",
    "               \"x_plot_max\":\n",
    "               widgets.FloatSlider(\n",
    "                   value=20, min=1, max=100, step=1,\n",
    "                   description=r\"$x_\\text{plot, max}$\"),\n",
    "               \"alpha\":\n",
    "               widgets.FloatSlider(\n",
    "                   value=2, min=0.5, max=10, step=0.1,\n",
    "                   description=r\"$\\alpha$\")\n",
    "               }\n",
    "\n",
    "interact_start = interact_manual.options(\n",
    "    manual_name=\"Start Berechnung\")\n",
    "\n",
    "@interact_start(**widget_dict)\n",
    "def plot_result(n_max, x_max, x_plot_max, alpha):\n",
    "    evals, evecs = eigenproblem(n_max, x_max, alpha)\n",
    "    x_values = np.linspace(-x_max, x_max, 2*n_max+1)\n",
    "\n",
    "    fig, ax = plt.subplots()\n",
    "    for n in range(5):\n",
    "        ax.plot(x_values, evecs[:, n]+evals[n])\n",
    "    ax.plot(x_values, 4*evecs[:, 40]+evals[40])\n",
    "    ax.plot(x_values, potential(x_values, alpha),\n",
    "            color=\"black\")\n",
    "    ax.set_xlabel(\"$x$\")\n",
    "    ax.set_ylabel(r\"$\\psi(x)$\")\n",
    "    ax.set_xlim((-x_plot_max, x_plot_max))"
   ]
  }
 ],
 "metadata": {
  "kernelspec": {
   "display_name": "Python 3 (ipykernel)",
   "language": "python",
   "name": "python3"
  },
  "language_info": {
   "codemirror_mode": {
    "name": "ipython",
    "version": 3
   },
   "file_extension": ".py",
   "mimetype": "text/x-python",
   "name": "python",
   "nbconvert_exporter": "python",
   "pygments_lexer": "ipython3",
   "version": "3.12.4"
  }
 },
 "nbformat": 4,
 "nbformat_minor": 4
}
