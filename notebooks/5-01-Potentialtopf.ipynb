{
 "cells": [
  {
   "cell_type": "markdown",
   "metadata": {},
   "source": [
    "# Gebundene Eigenzustände des endlichen Potentialtops\n",
    "\n",
    "Siehe Wiedemann/Ingold: *Numerische Physik mit Python*, Springer-Spektrum 2024, ISBN 978-3-662-69566-1\n",
    "\n",
    "---"
   ]
  },
  {
   "cell_type": "markdown",
   "metadata": {},
   "source": [
    "In diesem Jupyter-Notebook werden die gebundenen Zustände für einen endlich tiefen Potentialtopf untersucht. Dazu werden die Eigenzustände der zeitunabhängigen Schrödingergleichung gesucht, die in dimensionsloser Form durch\n",
    "\n",
    "$$-\\frac{\\text{d}^2}{\\text{d}x^2}\\psi(x) + \\alpha^2 v(x)\\psi(x) = E \\psi(x)$$\n",
    "\n",
    "gegeben ist. Der Parameter $\\alpha^2$ gibt die Tiefe des Potentials an. Das dimensionslose Potential lautet\n",
    "\n",
    "$$v(x) = \\begin{cases} -1 & \\text{für $\\vert x\\vert < 1$}\\\\ 0 & \\text{sonst}\\end{cases}$$\n",
    "\n",
    "Im ersten Teil des Jupyter-Notebooks sehen wir uns die Lösungen der Schrödingergleichung für beliebige negative Energien an. Dabei wird sich zeigen, dass sich nur für bestimmte Werte der Energie normierbare Zustände ergeben. Anschließend werden wir uns die analytisch erhaltenen Eigenwertbedingungen ansehen und diese durch eine Nullstellensuche lösen. Damit sind wir dann auch in der Lage, die zugehörigen Eigenfunktionen graphisch darzustellen. Im letzten Teil betrachten wir noch den Übergang zum Deltapotential."
   ]
  },
  {
   "cell_type": "markdown",
   "metadata": {
    "jp-MarkdownHeadingCollapsed": true,
    "tags": []
   },
   "source": [
    "## Importanweisungen"
   ]
  },
  {
   "cell_type": "code",
   "execution_count": null,
   "metadata": {
    "tags": []
   },
   "outputs": [],
   "source": [
    "from math import cos, exp, floor, pi, sin, sqrt, tan\n",
    "import numpy as np\n",
    "from scipy import optimize\n",
    "import ipywidgets as widgets\n",
    "from ipywidgets import interact\n",
    "import matplotlib.pyplot as plt\n",
    "\n",
    "plt.style.use(\"numphyspy.style\")"
   ]
  },
  {
   "cell_type": "markdown",
   "metadata": {
    "jp-MarkdownHeadingCollapsed": true,
    "tags": []
   },
   "source": [
    "## Lösungen der Schrödingergleichung als Funktion der Energie\n",
    "\n",
    "Zunächst sehen wir uns an, was passiert, wenn wir die Schrödingergleichung für eine beliebige negative Energie lösen. Da die Lösungen in den Teilbereichen konstanten Potentials analytisch bekannt sind, verzichten wir hier auf eine numerische Lösung. Wir müssen jedoch dafür sorgen, dass die Anschlussbedingungen für die Wellenfunktion an den Sprungstellen des Potentials erfüllt sind. In der graphischen Darstellung werden wir feststellen, dass die Lösungen im Unendlichen normalerweise divergieren und somit nicht normierbar sind. Allerdings wechselt die Wellenfunktion im Unendlichen für bestimmte Energien ihr Vorzeichen. Auch wenn diese Energien mit dem Schieberegler schwer exakt einzustellen sind, liegen dort die physikalisch relevanten Lösungen der Schrödingergleichung.\n",
    "\n",
    "Mit Hilfe der Bedienelemente lassen sich die folgenden Parameter einstellen:\n",
    "- `symmetry`: Symmetrie des Zustands (symmetrisch oder antisymmetrisch)\n",
    "- `energy`: Energie in Einheiten von $\\alpha^2$. Der Boden des Potentialtopfs liegt in diesen Einheiten bei -1."
   ]
  },
  {
   "cell_type": "code",
   "execution_count": null,
   "metadata": {
    "tags": []
   },
   "outputs": [],
   "source": [
    "widget_dict = {\"symmetry\":\n",
    "               widgets.RadioButtons(\n",
    "                   options=[\"symmetrisch\",\n",
    "                            \"antisymmetrisch\"],\n",
    "                   description=\"Symmetrie\"),\n",
    "               \"energy\":\n",
    "               widgets.FloatSlider(\n",
    "                   value=-0.5, min=-1, max=-1e-3,\n",
    "                   step=0.001,\n",
    "                   description=r\"$E/\\alpha^2$\",\n",
    "                   readout_format=\".3f\")\n",
    "               }\n",
    "\n",
    "@interact(**widget_dict)\n",
    "def plot_state(symmetry, energy):\n",
    "    alpha = 5.5\n",
    "    energy = energy * alpha**2\n",
    "    x_max = 3\n",
    "    x_I = np.linspace(0, 1, 100)\n",
    "    x_II = np.linspace(1, x_max, 100)\n",
    "    k = sqrt(alpha**2+energy)\n",
    "    kappa = sqrt(-energy)\n",
    "    if symmetry == \"symmetrisch\":\n",
    "        factor = 1\n",
    "        psi_I = np.cos(k*x_I)\n",
    "        b = 0.5*exp(kappa)*(cos(k)+k/kappa*sin(k))\n",
    "        c = 0.5*exp(-kappa)*(cos(k)-k/kappa*sin(k))\n",
    "    else:\n",
    "        factor = -1\n",
    "        psi_I = np.sin(k*x_I)\n",
    "        b = 0.5*exp(kappa)*(sin(k)-k/kappa*cos(k))\n",
    "        c = 0.5*exp(-kappa)*(sin(k)+k/kappa*cos(k))\n",
    "    psi_II = b*np.exp(-kappa*x_II) + c*np.exp(kappa*x_II)\n",
    "\n",
    "    fig, ax = plt.subplots()\n",
    "    ax.plot(x_I, psi_I, \"blue\")\n",
    "    ax.plot(-x_I, factor*psi_I, \"blue\")\n",
    "    ax.plot(x_II, psi_II, \"blue\")\n",
    "    ax.plot(-x_II, factor*psi_II, \"blue\")\n",
    "    ax.vlines([-1, 1], [-2, -2], [2, 2],\n",
    "              linestyle=\"dashed\", color=\"black\")\n",
    "    ax.set_xlabel(\"$x$\")\n",
    "    ax.set_ylabel(r\"$\\psi(x)$\")\n",
    "    ax.set_ylim(-2, 2)"
   ]
  },
  {
   "cell_type": "markdown",
   "metadata": {
    "jp-MarkdownHeadingCollapsed": true,
    "tags": []
   },
   "source": [
    "## Eigenenergien und Eigenzustände aus den analytischen Eigenwertbedingungen"
   ]
  },
  {
   "cell_type": "markdown",
   "metadata": {
    "jp-MarkdownHeadingCollapsed": false,
    "tags": []
   },
   "source": [
    "### Darstellung der Eigenwertbedingungen\n",
    "\n",
    "Aus der Normierbarkeitsbedingung für die Eigenzustände ergeben sich Eigenwertbedingungen für die Wellenzahl $k$, die mit der Energie über\n",
    "\n",
    "$$k = \\sqrt{\\alpha^2+E}$$\n",
    "\n",
    "zusammenhängt. Die Eigenwertbedingungen lauten für symmetrische Eigenzustände\n",
    "\n",
    "$$\\sqrt{\\alpha^2-k^2} = k\\tan(k)$$\n",
    "\n",
    "und für antisymmetrische Eigenzustände\n",
    "\n",
    "$$\\sqrt{\\alpha^2-k^2} = -k\\cot(k)\\,.$$\n",
    "\n",
    "Im Folgenden stellen wir die linke sowie die beiden rechten Seiten dieser Eigenwertbedingungen dar. Jeder Schnittpunkt der rot dargestellten linken Seite mit der blau dargestellten rechten Seite der ersten Eigenwertbedingung ergibt die Energie eines symmetrischen Eigenzustands. In jedem Intervall\n",
    "$[n \\pi/\\alpha, (n+1/2) \\pi/\\alpha]$ liegt genau ein solcher Schnittpunkt. Umgekehrt entspricht jeder Schnittpunkt der roten und der grünen Kurve der Energie eines antisymmetrischen Eigenzustands. Diese Schnittpunkte liegen jeweils in den Intervallen $[(n+1/2)\\pi/\\alpha, (n+1) \\pi/\\alpha]$.\n",
    "\n",
    "Mit Hilfe des Schiebereglers lässt sich der folgende Parameter einstellen:\n",
    "- `alpha`: Wurzel aus der dimensionslosen Potentialtopftiefe"
   ]
  },
  {
   "cell_type": "code",
   "execution_count": null,
   "metadata": {
    "tags": []
   },
   "outputs": [],
   "source": [
    "widget_dict = {\"alpha\":\n",
    "               widgets.FloatSlider(\n",
    "                   value=5.5, min=0.5, max=10, step=0.1,\n",
    "                   description=r\"$\\alpha$\")\n",
    "               }\n",
    "\n",
    "@interact(**widget_dict)\n",
    "def plot_ev_condition(alpha):\n",
    "    k = np.linspace(1e-5, alpha, 300)\n",
    "    lhs = np.sqrt(alpha**2-k**2)\n",
    "    rhs_symm = k*np.tan(k)\n",
    "    rhs_antisymm = -k/np.tan(k)\n",
    "\n",
    "    fig, ax = plt.subplots()\n",
    "    ax.plot(k, lhs, label=\"linke Seite\", color=\"red\")\n",
    "    ax.plot(k, rhs_symm, label=\"rechte Seite, symm.\",\n",
    "            color=\"blue\")\n",
    "    ax.plot(k, rhs_antisymm,\n",
    "            label=\"rechte Seite, antisymm.\", color=\"green\")\n",
    "    ax.set_xlabel(\"$k$\")\n",
    "    ax.legend(loc=\"lower left\")\n",
    "    ax.set_ylim(-6, 6)"
   ]
  },
  {
   "cell_type": "markdown",
   "metadata": {
    "jp-MarkdownHeadingCollapsed": false,
    "tags": []
   },
   "source": [
    "### Berechnung der Eigenenergien\n",
    "\n",
    "Die Eigenenergien können wir nun mit Hilfe einer Nullstellensuche unter Verwendung der Funktion `optimize.brentq` aus der SciPy-Bibliothek bestimmen. Hierbei hilft uns, dass wir die Intervalle kennen, in denen Nullstellen zu finden sind. In der Funktion `eigenvalue_condition` nutzen wir aus, dass wir die beiden Eigenwertbedingungen in gleicher Weise formulieren können, indem wir den Parameter `symm` mit den Werten +1 und -1 für symmetrische bzw. antisymmetrische Eigenzustände einführen. Da wir die Anzahl der Eigenenergien nicht kennen, gibt die Generatorfunktion `get_eigenenergies` nacheinander die jeweiligen Werte der Eigenenergien zurück."
   ]
  },
  {
   "cell_type": "code",
   "execution_count": null,
   "metadata": {
    "tags": []
   },
   "outputs": [],
   "source": [
    "def eigenvalue_condition(k, symm, alpha):\n",
    "    return sqrt(alpha**2-k**2) - symm*k*tan(k)**symm"
   ]
  },
  {
   "cell_type": "code",
   "execution_count": null,
   "metadata": {
    "tags": []
   },
   "outputs": [],
   "source": [
    "def get_eigenenergies(alpha):\n",
    "    a = 0\n",
    "    b = min(alpha, pi/2)\n",
    "    symm = 1\n",
    "    eps = 1e-12\n",
    "    while alpha > a:\n",
    "        k = optimize.brentq(eigenvalue_condition,\n",
    "                            a+eps, b-eps, (symm, alpha,))\n",
    "        yield k**2-alpha**2\n",
    "        a, b = b, min(alpha, b+pi/2)\n",
    "        symm = -symm"
   ]
  },
  {
   "cell_type": "markdown",
   "metadata": {
    "jp-MarkdownHeadingCollapsed": false,
    "tags": []
   },
   "source": [
    "### Berechnung der Eigenzustände\n",
    "\n",
    "Für einen Potentialtopf, dessen Tiefe durch den Parameter `alpha` bestimmt ist, wird für den bereits erwähnten Symmetrieparameter `symm` und die Energie `energy` der zugehörige Eigenzustand auf einem Gitter mit `n_max` Punkten zwischen `-x_max` und `x_max` berechnet. Dabei werden die analytisch bekannten Ausdrücke für die Eigenfunktionen verwendet. Auf eine Normierung wird hier verzichtet."
   ]
  },
  {
   "cell_type": "code",
   "execution_count": null,
   "metadata": {
    "tags": []
   },
   "outputs": [],
   "source": [
    "def eigenstate(symm, alpha, energy, n_max, x_max):\n",
    "    if symm == 1:\n",
    "        f_osc = np.cos\n",
    "    else:\n",
    "        f_osc = np.sin\n",
    "    x_values = np.linspace(-x_max, x_max, 2*n_max+1)\n",
    "    psi_values = np.empty(2*n_max+1)\n",
    "    n_1 = floor(n_max/x_max)\n",
    "    k = sqrt(alpha**2 + energy)\n",
    "    kappa = sqrt(-energy)\n",
    "    x_I = x_values[n_max-n_1:n_max+n_1+1]\n",
    "    psi_values[n_max-n_1:n_max+n_1+1] = f_osc(k*x_I)\n",
    "    x_II = x_values[:n_max-n_1]\n",
    "    a_II = symm * f_osc(k) * exp(kappa)\n",
    "    psi_II = a_II*np.exp(kappa*x_II)\n",
    "    psi_values[:n_max-n_1] = psi_II\n",
    "    psi_values[n_max+n_1+1:] = symm * psi_II[::-1]\n",
    "    return x_values, psi_values"
   ]
  },
  {
   "cell_type": "markdown",
   "metadata": {
    "jp-MarkdownHeadingCollapsed": false,
    "tags": []
   },
   "source": [
    "### Implementierung des Bedienelements und graphische Darstellung der Eigenzustände\n",
    "\n",
    "Mit dem Schieberegler lässt sich der folgende Parameter einstellen:\n",
    "- `alpha`: Wurzel aus der dimensionslosen Potentialtopftiefe\n",
    "\n",
    "In der graphischen Darstellung der Eigenfunktionen wird die Nulllinie um die jeweilige Eigenenergie verschoben. Außerdem wird zur besseren Interpretation der Eigenfunktionen der Potentialverlauf dargestellt. Durch Variation des Parameters `alpha` verändert sich die Anzahl der Eigenzustände."
   ]
  },
  {
   "cell_type": "code",
   "execution_count": null,
   "metadata": {
    "tags": []
   },
   "outputs": [],
   "source": [
    "widget_dict = {\"alpha\":\n",
    "               widgets.FloatSlider(\n",
    "                   value=5.5, min=0.5, max=10, step=0.5,\n",
    "                   description=r\"$\\alpha$\")\n",
    "               }\n",
    "\n",
    "@interact(**widget_dict)\n",
    "def plot_eigenstates(alpha):\n",
    "    n_max = 200\n",
    "    x_max = 3\n",
    "\n",
    "    fig, ax = plt.subplots()\n",
    "    ax.plot([-x_max, -1, -1, 1, 1, x_max],\n",
    "            [0, 0, -alpha**2, -alpha**2, 0, 0], \"black\")\n",
    "    symm = 1\n",
    "    for energy in get_eigenenergies(alpha):\n",
    "        x_values, psi_values = eigenstate(\n",
    "            symm, alpha, energy, n_max, x_max)\n",
    "        ax.plot(x_values, 2*psi_values+energy)\n",
    "        symm = -symm\n",
    "    ax.set_xlabel(\"$x$\")\n",
    "    ax.set_ylabel(r\"$\\psi$\")"
   ]
  },
  {
   "cell_type": "markdown",
   "metadata": {
    "jp-MarkdownHeadingCollapsed": true,
    "tags": []
   },
   "source": [
    "## Übergang zum Delta-Potential\n",
    "\n",
    "Indem man in unskalierten Einheiten die Breite $2 x_0$ des Potentialtopfs gegen null und dessen Tiefe $V_0$ gegen unendlich gehen lässt, wobei das Produkt $\\eta$ dieser beiden Größen konstant gehalten wird, erhält man das Delta-Potential:\n",
    "\n",
    "$$ V(x) = \\eta \\delta(x)\\,.$$\n",
    "\n",
    "Im Gegensatz zu den Eigenfunktionen des endlichen Potentialtopfs ist dessen Grundzustand an der Stelle $x=0$ nicht differenzierbar, sondern weist einen Knick auf. Links und rechts dieser Stelle ist die Wellenfunktion durch eine abfallende Exponentialfunktion gegeben. Da im Deltapotential nur ein einziger gebundener Zustand existiert, wird hier lediglich der Grundzustand als Funktion von $\\alpha$ dargestellt, wobei uns das Verhalten für immer kleinere Werte von $\\alpha$ interessiert. Da $\\alpha$ hier variabel ist und es damit nicht mehr sinnvoll ist, Längen in Einheiten von $x_0$ zu nehmen, wählen wir für die Ordinate $\\alpha^2 x$. Damit werden Längen in Einheiten von $\\hbar^2/2mx_0V_0=\\hbar^2/\\eta m$ genommen.\n",
    "\n",
    "Mit dem Schieberegler lässt sich der folgende Parameter einstellen:\n",
    "- `alpha`: Wurzel aus der dimensionslosen Potentialtopftiefe"
   ]
  },
  {
   "cell_type": "code",
   "execution_count": null,
   "metadata": {
    "tags": []
   },
   "outputs": [],
   "source": [
    "widget_dict = {\"alpha\":\n",
    "               widgets.FloatLogSlider(\n",
    "                   value=1, min=-2, max=0, step=0.1,\n",
    "                   description=r\"$\\alpha$\")\n",
    "               }\n",
    "\n",
    "@interact(**widget_dict)\n",
    "def plot_groundstate(alpha):\n",
    "    x_0 = alpha**2 / 2\n",
    "    n_max = 200\n",
    "    x_max = 5\n",
    "    x_scaled_max = x_max / alpha**2\n",
    "    groundstate_energy = next(get_eigenenergies(alpha))\n",
    "    x_values, psi_values = eigenstate(\n",
    "        1, alpha, groundstate_energy, n_max, x_scaled_max)\n",
    "    x_values = x_values * alpha**2\n",
    "\n",
    "    fig, ax = plt.subplots()\n",
    "    ax.plot(x_values, psi_values)\n",
    "    ax.set_xlabel(r\"$\\alpha^2 x$\")\n",
    "    ax.set_ylabel(r\"$\\psi$\")"
   ]
  }
 ],
 "metadata": {
  "kernelspec": {
   "display_name": "Python 3 (ipykernel)",
   "language": "python",
   "name": "python3"
  },
  "language_info": {
   "codemirror_mode": {
    "name": "ipython",
    "version": 3
   },
   "file_extension": ".py",
   "mimetype": "text/x-python",
   "name": "python",
   "nbconvert_exporter": "python",
   "pygments_lexer": "ipython3",
   "version": "3.12.4"
  }
 },
 "nbformat": 4,
 "nbformat_minor": 4
}
