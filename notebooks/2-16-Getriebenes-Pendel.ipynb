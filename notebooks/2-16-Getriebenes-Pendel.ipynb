{
 "cells": [
  {
   "cell_type": "markdown",
   "metadata": {},
   "source": [
    "# Periodisch angetriebenes Pendel\n",
    "\n",
    "Siehe Wiedemann/Ingold: *Numerische Physik mit Python*, Springer-Spektrum 2024, ISBN 978-3-662-69566-1\n",
    "\n",
    "---"
   ]
  },
  {
   "cell_type": "markdown",
   "metadata": {},
   "source": [
    "In diesem Jupyter-Notebook wird das gedämpfte mathematische Pendel unter dem Einfluss eines harmonischen Antriebs untersucht. Zunächst wird die zugehörige Bewegungsgleichung in dimensionsloser Form\n",
    "\n",
    "$$\\ddot\\theta + k \\dot\\theta + \\sin(\\theta) = F \\cos(\\Omega t)%$$\n",
    "\n",
    "gelöst. Im zweiten Teil wird dann die Periode des Attraktors als Funktion der Antriebsstärke $F$ für feste Werte der dimensionslosen Dämpfungsstärke $k=1/2$ und der dimensionslosen Antriebsfrequenz $\\Omega=2/3$ bestimmt. Die dabei auftretende Periodenverdoppelung wird abschließend in einem Bifurkationsdiagramm veranschaulicht. "
   ]
  },
  {
   "cell_type": "markdown",
   "metadata": {
    "jp-MarkdownHeadingCollapsed": true,
    "tags": []
   },
   "source": [
    "## Auslenkung als Funktion der Zeit"
   ]
  },
  {
   "cell_type": "markdown",
   "metadata": {
    "jp-MarkdownHeadingCollapsed": false,
    "tags": []
   },
   "source": [
    "### Importanweisungen\n",
    "\n",
    "Zu den bereits bekannten Importanweisungen kommt hier der Import der Funktionen `clear_output` und `display` aus `IPython.display` hinzu. Diese beiden Funktionen werden zum schrittweisen Aufbau des Bifurkationsdiagramms im letzten Teil dieses Jupyter-Notebooks verwendet."
   ]
  },
  {
   "cell_type": "code",
   "execution_count": null,
   "metadata": {
    "tags": []
   },
   "outputs": [],
   "source": [
    "from math import cos, pi, sin\n",
    "import numpy as np\n",
    "from scipy import integrate\n",
    "from IPython.display import clear_output, display\n",
    "import ipywidgets as widgets\n",
    "from ipywidgets import interact, interact_manual\n",
    "import matplotlib.pyplot as plt\n",
    "\n",
    "plt.style.use(\"numphyspy.style\")"
   ]
  },
  {
   "cell_type": "markdown",
   "metadata": {
    "jp-MarkdownHeadingCollapsed": false,
    "tags": []
   },
   "source": [
    "### Implementierung des Differentialgleichungssystems\n",
    "\n",
    "Die Bewegungsgleichung wird durch zwei gekoppelte Differentialgleichungen 1. Ordnung mit drei Parametern dargestellt, der Dämpfungsstärke `k`, der Antriebsstärke `f` und der Antriebsfrequenz `omega`."
   ]
  },
  {
   "cell_type": "code",
   "execution_count": null,
   "metadata": {
    "tags": []
   },
   "outputs": [],
   "source": [
    "def dx_dt(t, x, k, f, omega):\n",
    "    v = x[1]\n",
    "    a = f*cos(omega*t)-k*x[1]-sin(x[0])\n",
    "    return v, a"
   ]
  },
  {
   "cell_type": "markdown",
   "metadata": {
    "jp-MarkdownHeadingCollapsed": false,
    "tags": []
   },
   "source": [
    "### Lösung des Differentialgleichungssystems\n",
    "\n",
    "Die Bewegungsgleichung wird mit Hilfe der SciPy-Funktion `integrate.solve_ivp` gelöst, wobei ein Runge-Kutta-Verfahren der Ordnung 8 verwendet wird."
   ]
  },
  {
   "cell_type": "code",
   "execution_count": null,
   "metadata": {
    "tags": []
   },
   "outputs": [],
   "source": [
    "def trajectory(t_end, n_out, k, f, omega, x_0, v_0):\n",
    "    t = np.linspace(0, t_end, n_out)\n",
    "    solution = integrate.solve_ivp(\n",
    "        dx_dt, (0, t_end), [x_0, v_0], t_eval=t,\n",
    "        args=(k, f, omega), method=\"DOP853\",\n",
    "        atol=1e-10, rtol=1e-10)\n",
    "    return t, solution.y[0, :]"
   ]
  },
  {
   "cell_type": "markdown",
   "metadata": {
    "jp-MarkdownHeadingCollapsed": false,
    "tags": []
   },
   "source": [
    "### Implementierung der Bedienelemente und graphische Darstellung der Zeitabhängigkeit der Schwingungsamplitude\n",
    "\n",
    "Mit Hilfe der Schieberegler lassen sich die folgenden Parameter einstellen:\n",
    "- `t_end`: Länge des zu betrachtenden Zeitintervalls\n",
    "- `f`: dimensionslose Antriebsstärke\n",
    "- `theta_0`: Anfangsauslenkung\n",
    "- `v_theta_0`: anfängliche Winkelgeschwindigkeit\n",
    "\n",
    "Da uns hier vor allem die Abhängigkeit von der Antriebsstärke interessiert, sind die Werte für die dimensionslose Dämpfungsstärke und die dimensionslose Antriebsfrequenz in der Funktion `plot_dynamics` festgelegt und können dort bei Bedarf angepasst werden. Zudem wird dort die Zahl `n_out` der Ausgabepunkte fest vorgegeben."
   ]
  },
  {
   "cell_type": "code",
   "execution_count": null,
   "metadata": {
    "tags": []
   },
   "outputs": [],
   "source": [
    "widget_dict = {\"t_end\":\n",
    "               widgets.FloatSlider(\n",
    "                   value=100, min=100, max=500, step=100,\n",
    "                   description=r\"$\\tau_\\text{end}$\"),\n",
    "               \"f\":\n",
    "               widgets.FloatSlider(\n",
    "                   value=1.05, min=1.05, max=1.09,\n",
    "                   step=0.001, readout_format=\".3f\",\n",
    "                   description=\"$F$\"),\n",
    "               \"theta_0\":\n",
    "               widgets.FloatSlider(\n",
    "                   value=0.5, min=-1, max=1, step=0.1,\n",
    "                   description=r\"$\\theta(0)$\"),\n",
    "               \"v_theta_0\":\n",
    "               widgets.FloatSlider(\n",
    "                   value=0, min=-2.5, max=2.5, step=0.1,\n",
    "                   description=r\"$v_\\theta(0)$\")\n",
    "               }\n",
    "\n",
    "@interact(**widget_dict)\n",
    "def plot_dynamics(t_end, f, theta_0, v_theta_0):\n",
    "    omega = 2/3\n",
    "    k = 0.5\n",
    "    n_out = 1000\n",
    "    t, theta = trajectory(t_end, n_out, k, f, omega,\n",
    "                          theta_0, v_theta_0)\n",
    "\n",
    "    fig, ax = plt.subplots()\n",
    "    ax.plot(t, theta)\n",
    "    ax.set_xlabel(\"$t$\")\n",
    "    ax.set_ylabel(r\"$\\theta$\")"
   ]
  },
  {
   "cell_type": "markdown",
   "metadata": {
    "jp-MarkdownHeadingCollapsed": true,
    "tags": []
   },
   "source": [
    "## Periodendauer als Funktion der Antriebsstärke"
   ]
  },
  {
   "cell_type": "markdown",
   "metadata": {
    "jp-MarkdownHeadingCollapsed": false,
    "tags": []
   },
   "source": [
    "### Berechnung der Periodendauer als Funktion der Antriebsstärke\n",
    "\n",
    "Für `n_f` Werte der Antriebsstärke zwischen `f_min` und `f_max` wird die Periodendauer in Einheiten der Anregungsperiode `t_period` berechnet.\n",
    "\n",
    "Innerhalb der Funktion wird ein Startpunkt `x_0, v_0` im Phasenraum festgelegt. Um von dort möglichst nahe an den Attraktor für die minimiale Antriebsstärke zu gelangen, wird zunächst eine Propagation über `n_initial` Antriebsperioden durchgeführt.\n",
    "\n",
    "In der folgenden Schleife über die Antriebsstärken werden zunächst die Parameter für die folgenden Integrationen gesetzt. Die anschließende Propagation über `n_between` Anregungsperioden soll dafür sorgen, dass der Attraktor für die neue Antriebsstärke möglichst gut erreicht wird. `n_between` kann dabei kleiner als `n_initial`gewählt werden.\n",
    "\n",
    "Nun beginnt die eigentliche Bestimmung der Periode, in der jeweils über eine Anregungsperiode integriert wird und untersucht wird, ob der Endpunkt im Phasenraum hinreichend nahe am Anfangspunkt liegt. Da es hier passieren kann, dass die `while`-Schleife nicht beendet wird, wird die Bestimmung der Periode bei einer maximalen Anzahl von Perioden `MAX_PERIOD` für die betreffende Antriebsstärke ergebnislos abgebrochen. Der betreffende Wert wird zu Beginn der folgenden Codezelle gesetzt und kann dort bei Bedarf angepasst werden. "
   ]
  },
  {
   "cell_type": "code",
   "execution_count": null,
   "metadata": {
    "tags": []
   },
   "outputs": [],
   "source": [
    "MAX_PERIOD = 8\n",
    "\n",
    "def period(n_initial, n_between, f_min, f_max, n_f,\n",
    "           k, omega, eps):\n",
    "    t_period = 2*pi / omega\n",
    "    x_0, v_0 = 0.5, 0\n",
    "    f_values = []\n",
    "    np_values = []\n",
    "\n",
    "    t_end = n_initial * t_period\n",
    "    solution = integrate.solve_ivp(\n",
    "        dx_dt, (0, t_end), [x_0, v_0],\n",
    "        args=(f_min, k, omega), method=\"DOP853\",\n",
    "        atol=1.e-10, rtol=1e-10)\n",
    "    x_0, v_0 = solution.y[:, -1]\n",
    "\n",
    "    for f in np.linspace(f_min, f_max, n_f):\n",
    "        kwargs = {\"args\": (k, f, omega),\n",
    "                  \"method\": \"DOP853\",\n",
    "                  \"atol\": 1e-10, \"rtol\": 1e-10}\n",
    "\n",
    "        t_end = n_between * t_period\n",
    "        solution = integrate.solve_ivp(\n",
    "            dx_dt, (0, t_end), [x_0, v_0], **kwargs)\n",
    "        x_0, v_0 = solution.y[:, -1]\n",
    "\n",
    "        first_run = True\n",
    "        n_period = 0\n",
    "        x_1, v_1 = x_0, v_0\n",
    "        while first_run or (x_1-x_0)**2+(v_1-v_0)**2 > eps:\n",
    "            first_run = False\n",
    "            solution = integrate.solve_ivp(\n",
    "                dx_dt, (0, t_period), [x_1, v_1], **kwargs)\n",
    "            x_1, v_1 = solution.y[:, -1]\n",
    "            n_period = n_period + 1\n",
    "            if n_period > MAX_PERIOD:\n",
    "                break\n",
    "        else:\n",
    "            f_values.append(f)\n",
    "            np_values.append(n_period)\n",
    "            print(f\"{f:.4f} {n_period:5}\", end=\"\\r\")\n",
    "    return f_values, np_values"
   ]
  },
  {
   "cell_type": "markdown",
   "metadata": {
    "jp-MarkdownHeadingCollapsed": false,
    "tags": []
   },
   "source": [
    "### Implementierung der Bedienelemente und graphische Darstellung der Periodenverdopplung\n",
    "\n",
    "Mit Hilfe der Schieberegler lassen sich die folgenden Parameter einstellen:\n",
    "- `n_initial`: Anzahl der Anregungsperioden, um für die geringste Antriebsstärke einen Punkt auf dem Attraktor zu erreichen\n",
    "- `n_between`: Anzahl der Anregungsperioden, um für die nächste Antriebsstärke einen Punkt auf dem Attraktor zu erreichen\n",
    "- `n_f`: Anzahl der zu betrachtenden Antriebsstärken\n",
    "- `eps`: Abstandsschwelle im Phasenraum zur Detektion der Periode\n",
    "\n",
    "In der Funktion `plot_period_doubling` werden die dimensionslose Anregungsfrequenz `omega` und die dimensionslose Dämpfungsstärke `k` festgelegt. Bei Bedarf können sie dort geändert werden. Zudem wird ein passendes Intervall für die Antriebsstärke zwischen `f_min` und `f_max` fest vorgegeben.\n",
    "\n",
    "Da die Berechnung der Periodenwerte einige Zeit in Anspruch nimmt, muss sie jeweils nach Einstellung neuer Parameter explizit gestartet werden."
   ]
  },
  {
   "cell_type": "code",
   "execution_count": null,
   "metadata": {
    "tags": []
   },
   "outputs": [],
   "source": [
    "widget_dict = {\"n_initial\":\n",
    "               widgets.IntSlider(\n",
    "                   value=1000, min=100, max=2000, step=100,\n",
    "                   description=r\"$n_\\text{init}$\"),\n",
    "               \"n_between\":\n",
    "               widgets.IntSlider(\n",
    "                   value=500, min=100, max=2000, step=100,\n",
    "                   description=r\"$n_\\text{between}$\"),\n",
    "               \"n_f\":\n",
    "               widgets.IntSlider(\n",
    "                   value=50, min=10, max=200, step=10,\n",
    "                   description=\"$N_F$\"),\n",
    "               \"eps\":\n",
    "               widgets.FloatLogSlider(\n",
    "                   value=1e-10, min=-16, max=-6, step=1,\n",
    "                   description=r\"$\\varepsilon$\")\n",
    "               }\n",
    "\n",
    "interact_start = interact_manual.options(\n",
    "    manual_name=\"Start Berechnung\")\n",
    "\n",
    "@interact_start(**widget_dict)\n",
    "def plot_period_doubling(n_initial, n_between, n_f, eps):\n",
    "    omega = 2/3\n",
    "    k = 0.5\n",
    "    f_min, f_max = 1.05, 1.09\n",
    "    f_values, np_values = period(\n",
    "        n_initial, n_between, f_min, f_max, n_f, k, omega,\n",
    "        eps)\n",
    "\n",
    "    fig, ax = plt.subplots()\n",
    "    ax.plot(f_values, np_values, linestyle=\"None\",\n",
    "            marker=\"o\", markersize=1)\n",
    "    ax.set_xlabel(\"$F$\")\n",
    "    ax.set_ylabel(r\"$(\\Omega/2\\pi)T$\")"
   ]
  },
  {
   "cell_type": "markdown",
   "metadata": {
    "jp-MarkdownHeadingCollapsed": true,
    "tags": []
   },
   "source": [
    "## Bifurkationsdiagramm"
   ]
  },
  {
   "cell_type": "markdown",
   "metadata": {
    "jp-MarkdownHeadingCollapsed": false,
    "tags": []
   },
   "source": [
    "### Propagation zum Attraktor\n",
    "\n",
    "Ausgehend von einem beliebigen Anfangszustand `x_0, v_0` im Phasenraum wird über eine große Zahl `n_initial` von Anregungsperioden propagiert, um möglichst gut den Attraktor zu erreichen. Dadurch erhält man den Anfangszustand für die weitere Rechnung."
   ]
  },
  {
   "cell_type": "code",
   "execution_count": null,
   "metadata": {
    "tags": []
   },
   "outputs": [],
   "source": [
    "def initial_attractor(n_initial, k, f, omega, x0, v0):\n",
    "    t_initial = 2*pi/omega * n_initial\n",
    "    solution = integrate.solve_ivp(\n",
    "        dx_dt, (0, t_initial), [x0, v0],\n",
    "        args=(k, f, omega), method=\"DOP853\",\n",
    "        atol=1e-10, rtol=1e-10)\n",
    "    return solution.y[:, -1]"
   ]
  },
  {
   "cell_type": "markdown",
   "metadata": {
    "jp-MarkdownHeadingCollapsed": false,
    "tags": []
   },
   "source": [
    "### Berechnung der Punkte für das Bifurkationsdiagramm\n",
    "\n",
    "Nachdem mit Hilfe der Funktion `initial_attractor` ein Punkt im Phasenraum bestimmt wurde, der hinreichend nahe am Attraktor liegt, werden nun `n_display` Phasenraumpunkte berechnet, die jeweils einen zeitlichen Abstand von einer Anregungsperiode besitzen. Neben den Werten der Pendelauslenkungen wird der Endpunkt im Phasenraum zurückgegeben, der für die folgende Rechnung mit einer anderen Antriebsstärke verwendet wird."
   ]
  },
  {
   "cell_type": "code",
   "execution_count": null,
   "metadata": {
    "tags": []
   },
   "outputs": [],
   "source": [
    "def bifurcation_points(n_display, k, f, omega, x0, v0):\n",
    "    x0, v0 = initial_attractor(n_display, k, f, omega,\n",
    "                               x0, v0)\n",
    "    x_values = []\n",
    "    for n in range(n_display):\n",
    "        solution = integrate.solve_ivp(\n",
    "            dx_dt, (0, 2*pi/omega), [x0, v0],\n",
    "            args=(k, f, omega), method=\"DOP853\",\n",
    "            atol=1e-10, rtol=1e-10)\n",
    "        x0, v0 = solution.y[:, -1]\n",
    "        x_values.append(x0)\n",
    "    return x_values, x0, v0"
   ]
  },
  {
   "cell_type": "markdown",
   "metadata": {
    "jp-MarkdownHeadingCollapsed": false,
    "tags": []
   },
   "source": [
    "### Implementierung der Bedienelemente und graphische Darstellung des Bifurkationsdiagramms\n",
    "\n",
    "Mit Hilfe der Schieberegler lassen sich die folgenden Parameter einstellen:\n",
    "- `n_initial`: Anzahl der Antriebsperioden zur Erreichung des Attraktors für die minimale Antriebsstärke\n",
    "- `n_display`: Anzahl der darzustellenden Auslenkungen im Abstand von jeweils einer Anregungsperiode\n",
    "- `omega`: dimensionslose Anregungsfrequenz\n",
    "- `k`: dimensionslose Dämpfungsstärke\n",
    "- `f_min`: minimale dimensionslose Antriebsstärke\n",
    "- `f_max`: maximale dimensionslose Antriebsstärke\n",
    "- `n_f`: Anzahl der zu betrachtenden Antriebsstärken\n",
    "\n",
    "Die Parameter für den zu `omega` gehörigen Schieberegler sind so gewählt, dass der Wert 2/3 exakt eingestellt werden kann.\n",
    "\n",
    "Zu Beginn der Funktion `plot_bifurcation_diagramm` wird sichergestellt, dass `f_min` tatsächlich der minimalen Antriebsstärke entspricht. Anschließend werden für `n_f` Antriebsstärken zwischen `f_min` und `f_max` jeweils `n_display` Auslenkungen im Abstand einer Anregungsperiode berechnet und dargestellt. Da die Rechnung relativ zeitaufwändig ist, wird die graphische Darstellung schrittweise aufgebaut, um die Veränderung der Periodendauern schon während der Berechnung mitverfolgen zu können."
   ]
  },
  {
   "cell_type": "code",
   "execution_count": null,
   "metadata": {
    "tags": []
   },
   "outputs": [],
   "source": [
    "widget_dict = {\"n_initial\":\n",
    "               widgets.IntSlider(\n",
    "                   value=3000, min=1000, max=10000,\n",
    "                   step=1000,\n",
    "                   description=r\"$n_\\text{initial}$\"),\n",
    "               \"n_display\":\n",
    "               widgets.IntSlider(\n",
    "                   value=300, min=100, max=1000, step=100,\n",
    "                   description=r\"$n_\\text{display}$\"),\n",
    "               \"omega\":\n",
    "               widgets.FloatSlider(\n",
    "                   value=2/3, min=0.5, max=1, step=1/90,\n",
    "                   description=r\"$\\Omega$\"),\n",
    "               \"k\":\n",
    "               widgets.FloatSlider(\n",
    "                   value=0.5, min=0.1, max=1, step=0.1,\n",
    "                   description=\"$k$\"),\n",
    "               \"f_min\":\n",
    "               widgets.FloatSlider(\n",
    "                   value=1.05, min=0.5, max=2, step=0.01,\n",
    "                   description=r\"$F_\\text{min}$\"),\n",
    "               \"f_max\":\n",
    "               widgets.FloatSlider(\n",
    "                   value=1.09, min=0.5, max=2, step=0.01,\n",
    "                   description=r\"$F_\\text{max}$\"),\n",
    "               \"n_f\":\n",
    "               widgets.IntSlider(\n",
    "                   value=300, min=100, max=1000, step=100,\n",
    "                   description=\"$n_F$\")\n",
    "               }\n",
    "\n",
    "@interact_start(**widget_dict)\n",
    "def plot_bifurcation_diagramm(n_initial, n_display, omega,\n",
    "                              k, f_min, f_max, n_f):\n",
    "    if f_min > f_max:\n",
    "        f_min, f_max = f_max, f_min\n",
    "    x0, v0 = 0.5, 0\n",
    "    x0, v0 = initial_attractor(n_initial, k, f_min, omega,\n",
    "                               x0, v0)\n",
    "    fvals = []\n",
    "    xvals = []\n",
    "    fig, ax = plt.subplots()\n",
    "    ax.set_xlim(f_min, f_max)\n",
    "    ax.set_xlabel(\"$F$\")\n",
    "    ax.set_ylabel(r\"$\\theta$\")\n",
    "\n",
    "    for f in np.linspace(f_min, f_max, n_f):\n",
    "        x_values, x0, v0 = bifurcation_points(\n",
    "            n_display, k, f, omega, x0, v0)\n",
    "        xvals.extend(x_values)\n",
    "        fvals.extend(f*np.ones_like(x_values))\n",
    "        ax.plot(fvals, xvals, linestyle=\"None\", color=\"blue\",\n",
    "                marker=\"o\", markersize=0.1)\n",
    "        display(fig)\n",
    "        clear_output(wait=True)"
   ]
  }
 ],
 "metadata": {
  "kernelspec": {
   "display_name": "Python 3 (ipykernel)",
   "language": "python",
   "name": "python3"
  },
  "language_info": {
   "codemirror_mode": {
    "name": "ipython",
    "version": 3
   },
   "file_extension": ".py",
   "mimetype": "text/x-python",
   "name": "python",
   "nbconvert_exporter": "python",
   "pygments_lexer": "ipython3",
   "version": "3.12.4"
  }
 },
 "nbformat": 4,
 "nbformat_minor": 4
}
