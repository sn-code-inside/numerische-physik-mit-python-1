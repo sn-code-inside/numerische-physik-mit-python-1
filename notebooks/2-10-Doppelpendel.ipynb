{
 "cells": [
  {
   "cell_type": "markdown",
   "metadata": {
    "tags": []
   },
   "source": [
    "# Doppelpendel\n",
    "\n",
    "Siehe Wiedemann/Ingold: *Numerische Physik mit Python*, Springer-Spektrum 2024, ISBN 978-3-662-69566-1\n",
    "\n",
    "---"
   ]
  },
  {
   "cell_type": "markdown",
   "metadata": {
    "jp-MarkdownHeadingCollapsed": true,
    "tags": []
   },
   "source": [
    "Am Beispiel eines Doppelpendels werden in diesem Jupyter-Notebook Aspekte der nichtlinearen Dynamik wie Integrabilität und chaotisches Verhalten untersucht. Insgesamt besteht dieses Jupyter-Notebook aus vier Teilen, auf die in mehreren Abschnitten des Buches Bezug genommen wird.\n",
    "\n",
    "Zunächst wird mit den gleichen Methoden wie in den meisten anderen Jupyter-Notebooks zu Problemen der Mechanik die Lösung der Bewegungungsgleichungen des Doppelpendels untersucht, die in dimensionsloser Form durch\n",
    "\n",
    "\\begin{align}\n",
    " \\ddot\\phi_1 &= \\frac{\\alpha\\sin\\phi_2\\cos\\phi_2-\\phi_1-\\alpha\\beta\\dot\\phi_2-(1+\\alpha)\\sin\\phi_1 - \\alpha \\dot\\phi_1\\sin(\\Delta\\phi)}{1+\\alpha\\sin^2(\\Delta \\phi)}\\\\\n",
    " \\ddot\\phi_2 &= \\frac{\\dot\\phi_1^2\\sin(\\Delta\\phi)-\\ddot\\phi_1\\cos(\\Delta\\phi)-\\sin(\\phi_2)}{\\beta}\n",
    "\\end{align}\n",
    "\n",
    "gegeben sind. Dabei ist $\\Delta\\phi=\\phi_1-\\phi_2$. Die Parameter $\\alpha$ und $\\beta$ geben das Verhältnis der beiden beteiligten Massen bzw. der beiden Fadenlängen an.\n",
    "\n",
    "Im zweiten und dritten Teil wird auf die Untersuchung von nichtlinearer Dynamik mit Hilfe von Poincaré-Plots eingegangen. Dabei wird zunächst ein einzelner Startpunkt für die Dynamik betrachtet. Anschließend wird durch Verwendung mehrerer Startpunkte gezeigt, wie sich ein Gesamtbild für den Poincaré-Plot zusammensetzt.\n",
    "\n",
    "Im vierten Teil wird schließlich der Ljapunov-Exponent als Maß für das chaotische Verhalten einer Dynamik berechnet."
   ]
  },
  {
   "cell_type": "markdown",
   "metadata": {
    "jp-MarkdownHeadingCollapsed": true,
    "tags": []
   },
   "source": [
    "## Ort und Geschwindigkeit als Funktion der Zeit"
   ]
  },
  {
   "cell_type": "markdown",
   "metadata": {
    "jp-MarkdownHeadingCollapsed": false,
    "tags": []
   },
   "source": [
    "### Importanweisungen"
   ]
  },
  {
   "cell_type": "code",
   "execution_count": null,
   "metadata": {
    "tags": []
   },
   "outputs": [],
   "source": [
    "from math import cos, log, sin, sqrt\n",
    "from scipy import integrate\n",
    "import numpy as np\n",
    "import numpy.linalg as LA\n",
    "import ipywidgets as widgets\n",
    "from ipywidgets import interact, interact_manual\n",
    "import matplotlib.pyplot as plt\n",
    "\n",
    "plt.style.use(\"numphyspy.style\")"
   ]
  },
  {
   "cell_type": "markdown",
   "metadata": {
    "jp-MarkdownHeadingCollapsed": false,
    "tags": []
   },
   "source": [
    "### Implementierung des Differentialgleichungssystems\n",
    "\n",
    "Die beiden oben genannten Bewegungsgleichungen werden in vier Differentialgleichungen 1. Ordnung umgewandelt, um die Ausdrücke in der nachfolgenden Funktion zu erhalten."
   ]
  },
  {
   "cell_type": "code",
   "execution_count": null,
   "metadata": {
    "tags": []
   },
   "outputs": [],
   "source": [
    "def dx_dt(t, x, alpha, beta):\n",
    "    phi1, omega1, phi2, omega2 = x\n",
    "    dphi = phi1-phi2\n",
    "    a_phi1_numer = (-alpha*beta*omega2**2*sin(dphi)\n",
    "                    - (1+alpha)*sin(phi1)\n",
    "                    - alpha*omega1**2*sin(dphi)*cos(dphi)\n",
    "                    + alpha*sin(phi2)*cos(dphi))\n",
    "    a_phi1_denom = 1+alpha*sin(dphi)**2\n",
    "    a_phi1 = a_phi1_numer / a_phi1_denom\n",
    "    a_phi2 = (omega1**2*sin(dphi)\n",
    "              - sin(phi2)\n",
    "              - a_phi1*cos(dphi)) / beta\n",
    "    return omega1, a_phi1, omega2, a_phi2"
   ]
  },
  {
   "cell_type": "markdown",
   "metadata": {
    "jp-MarkdownHeadingCollapsed": false,
    "tags": []
   },
   "source": [
    "### Lösung des Differentialgleichungssystems\n",
    "\n",
    "Die Bewegungsgleichungen werden mit Hilfe der SciPy-Funktion `integrate.solve_ivp` gelöst, wobei die Schranken für den absoluten und den relativen Fehler hier fest auf 10⁻¹² gesetzt werden. Der Lösungsvektor `solution.y` enthält die Zeitverläufe von $\\phi_1, \\dot\\phi_1, \\phi_2$ und $\\dot\\phi_2$."
   ]
  },
  {
   "cell_type": "code",
   "execution_count": null,
   "metadata": {
    "tags": []
   },
   "outputs": [],
   "source": [
    "def trajectory(t_end, n_out, alpha, beta, phi1_0, omega1_0,\n",
    "               phi2_0, omega2_0):\n",
    "    t_values = np.linspace(0, t_end, n_out)\n",
    "    x_0 = (phi1_0, omega1_0, phi2_0, omega2_0)\n",
    "    solution = integrate.solve_ivp(dx_dt, (0, t_end), x_0,\n",
    "                                   args=(alpha, beta),\n",
    "                                   t_eval=t_values,\n",
    "                                   atol=1e-12, rtol=1e-12)\n",
    "    return t_values, solution.y"
   ]
  },
  {
   "cell_type": "markdown",
   "metadata": {
    "jp-MarkdownHeadingCollapsed": false,
    "tags": []
   },
   "source": [
    "### Implementierung der Bedienelemente und graphische Darstellung der Ergebnisse\n",
    "\n",
    "Mit Hilfe der Schieberegler können die folgenden Parameter eingestellt werden:\n",
    "- `t_end`: Länge des zu betrachtenden Zeitintervalls\n",
    "- `n_out`: Anzahl der zu betrachtenden Zeitpunkte\n",
    "- `alpha`: Verhältnis der Pendelmassen $m_2/m_1$\n",
    "- `beta`: Verhältnis der Pendellängen $l_2/l_1$\n",
    "- `phi1_0`: Anfangswinkel $\\phi_1$\n",
    "- `omega1_0`: anfängliche Winkelgeschwindigkeit $\\dot\\phi_1$\n",
    "- `phi2_0`: Anfangswinkel $\\phi_2$\n",
    "- `omega2_0`: anfängliche Winkelgeschwindigkeit $\\dot\\phi_2$\n",
    "\n",
    "Die Zeitverläufe von $\\phi_1, \\dot{\\phi}_1, \\phi_2$ und $\\dot{\\phi}_2$ werden graphisch dargestellt."
   ]
  },
  {
   "cell_type": "code",
   "execution_count": null,
   "metadata": {
    "pycharm": {
     "name": "#%%\n"
    },
    "tags": []
   },
   "outputs": [],
   "source": [
    "widget_dict = {\"t_end\":\n",
    "               widgets.FloatSlider(\n",
    "                   value=50, min=0.1, max=200, step=0.1,\n",
    "                   description=r\"$t_\\text{end}$\"),\n",
    "               \"n_out\":\n",
    "               widgets.IntSlider(\n",
    "                   value=500, min=10, max=2000, step=10,\n",
    "                   description=r\"$n_\\text{out}$\"),\n",
    "               \"alpha\":\n",
    "               widgets.FloatSlider(\n",
    "                   value=1, min=0, max=2, step=0.1,\n",
    "                   description=r\"$\\alpha$\"),\n",
    "               \"beta\":\n",
    "               widgets.FloatSlider(\n",
    "                   value=0.8, min=0, max=2, step=0.1,\n",
    "                   description=r\"$\\beta$\"),\n",
    "               \"phi1_0\":\n",
    "               widgets.FloatSlider(\n",
    "                   value=0.09, min=0, max=1, step=0.01,\n",
    "                   description=r\"$\\phi_1(0)$\"),\n",
    "               \"omega1_0\":\n",
    "               widgets.FloatSlider(\n",
    "                   value=0.16, min=0, max=1, step=0.01,\n",
    "                   description=r\"$\\omega_1(0)$\"),\n",
    "               \"phi2_0\":\n",
    "               widgets.FloatSlider(\n",
    "                   value=0, min=-0.5, max=0.5, step=0.01,\n",
    "                   description=r\"$\\phi_2(0)$\"),\n",
    "               \"omega2_0\":\n",
    "               widgets.FloatSlider(\n",
    "                   value=-2.58, min=-3, max=3, step=0.01,\n",
    "                   description=r\"$\\omega_2(0)$\")\n",
    "               }\n",
    "\n",
    "@interact(**widget_dict)\n",
    "def plot_time_dependence(t_end, n_out, alpha, beta, phi1_0,\n",
    "                         omega1_0, phi2_0, omega2_0):\n",
    "    t_values, solution_y = trajectory(t_end, n_out,\n",
    "                                      alpha, beta,\n",
    "                                      phi1_0, omega1_0,\n",
    "                                      phi2_0, omega2_0)\n",
    "    (phi1_values, omega1_values,\n",
    "     phi2_values, omega2_values) = solution_y\n",
    "\n",
    "    fig, axs = plt.subplots(2, 2)\n",
    "    axs[0, 0].plot(t_values, phi1_values)\n",
    "    axs[0, 0].set_xlabel(\"$t$\")\n",
    "    axs[0, 0].set_ylabel(r\"$\\phi_1$\")\n",
    "\n",
    "    axs[0, 1].plot(t_values, phi2_values)\n",
    "    axs[0, 1].set_xlabel(\"$t$\")\n",
    "    axs[0, 1].set_ylabel(r\"$\\phi_2$\")\n",
    "\n",
    "    axs[1, 0].plot(t_values, omega1_values)\n",
    "    axs[1, 0].set_xlabel(\"$t$\")\n",
    "    axs[1, 0].set_ylabel(r\"$\\omega_1$\")\n",
    "\n",
    "    axs[1, 1].plot(t_values, omega2_values)\n",
    "    axs[1, 1].set_xlabel(\"$t$\")\n",
    "    axs[1, 1].set_ylabel(r\"$\\omega_2$\")"
   ]
  },
  {
   "cell_type": "markdown",
   "metadata": {
    "jp-MarkdownHeadingCollapsed": true,
    "tags": []
   },
   "source": [
    "## Erzeugung des Poincaré-Plots für einen Startpunkt"
   ]
  },
  {
   "cell_type": "markdown",
   "metadata": {
    "jp-MarkdownHeadingCollapsed": false,
    "tags": []
   },
   "source": [
    "### Abbruchbedingungen für $\\dot\\phi_1=0$\n",
    "\n",
    "Der Poincaré-Schnitt soll durch die Bedingung $\\dot\\phi_1=0$ definiert sein, wobei die Winkelgeschwindigkeit beim Nulldurchgang zunehmen soll. Da die Integration später abschnittsweise erfolgen wird, definieren wir hier zwei Abbruchbedingungen, die zu Nulldurchgängen von $\\dot\\phi_1$ in zunehmender bzw. abnehmender Richtung gehören."
   ]
  },
  {
   "cell_type": "code",
   "execution_count": null,
   "metadata": {
    "tags": []
   },
   "outputs": [],
   "source": [
    "def omega1_null_pos(t, x, alpha, beta):\n",
    "    return x[1]\n",
    "\n",
    "omega1_null_pos.terminal = True\n",
    "omega1_null_pos.direction = 1"
   ]
  },
  {
   "cell_type": "code",
   "execution_count": null,
   "metadata": {
    "tags": []
   },
   "outputs": [],
   "source": [
    "def omega1_null_neg(t, x, alpha, beta):\n",
    "    return x[1]\n",
    "\n",
    "omega1_null_neg.terminal = True\n",
    "omega1_null_neg.direction = -1"
   ]
  },
  {
   "cell_type": "markdown",
   "metadata": {
    "jp-MarkdownHeadingCollapsed": false,
    "tags": []
   },
   "source": [
    "###  Berechnung der Punkte für den Poincaré-Plot\n",
    "\n",
    "Die Integration der Bewegungsgleichungen erfolgt mit Hilfe der SciPy-Funktion `integrate.solve_ivp` stückweise zwischen Durchgängen durch die Hyperebene $\\dot\\phi_1=0$. Da im Poincaré-Schnitt nur Durchgänge aufgenommen werden dürfen, die in die gleiche Richtung erfolgen, werden die Werte von $\\phi_1$ und $\\phi_2$ nur gespeichert, wenn die durch `omega_null_pos` definierte Bedingung erfüllt ist."
   ]
  },
  {
   "cell_type": "code",
   "execution_count": null,
   "metadata": {
    "pycharm": {
     "name": "#%%\n"
    },
    "tags": []
   },
   "outputs": [],
   "source": [
    "def poincare_points(dt, n_out, alpha, beta,\n",
    "                    phi1_0, omega1_0, phi2_0, omega2_0):\n",
    "    x_0 = (phi1_0, omega1_0, phi2_0, omega2_0)\n",
    "    phi1_values = []\n",
    "    phi2_values = []\n",
    "    n = 0\n",
    "    t_start = 0\n",
    "    t_end = dt\n",
    "    while n < n_out:\n",
    "        for event, store in ((omega1_null_pos, True),\n",
    "                             (omega1_null_neg, False)):\n",
    "            solution = integrate.solve_ivp(\n",
    "                dx_dt, (t_start, t_end), x_0,\n",
    "                args=(alpha, beta),\n",
    "                events=event, atol=1e-12, rtol=1e-12)\n",
    "            if solution.t_events[0].size > 0:\n",
    "                t_end = solution.t_events[0][0]\n",
    "                if store:\n",
    "                    phi1_values.append(solution.y[0][-1])\n",
    "                    phi2_values.append(solution.y[2][-1])\n",
    "                    n = n+1\n",
    "            t_start = t_end\n",
    "            t_end = t_start+dt\n",
    "            x_0 = solution.y[:, -1]\n",
    "    return phi1_values, phi2_values"
   ]
  },
  {
   "cell_type": "markdown",
   "metadata": {
    "jp-MarkdownHeadingCollapsed": false,
    "tags": []
   },
   "source": [
    "### Implementierung der Bedienelemente und graphische Darstellung des Poincaré-Plots\n",
    "\n",
    "Mit Hilfe der Schieberegler können die folgenden Parameter eingestellt werden:\n",
    "- `dt`: Länge des Integrationsintervalls, in dem nach einem Durchgang durch die Hyperebene $\\dot\\phi_1=0$ gesucht werden soll\n",
    "- `n_out`: Anzahl der Punkte im Poincaré-Plot\n",
    "- `alpha`: Verhältnis der Pendelmassen $m_2/m_1$\n",
    "- `beta`: Verhältnis der Pendellängen $l_2/l_1$\n",
    "- `phi1_0`: Anfangswinkel $\\phi_1$\n",
    "- `omega1_0`: anfängliche Winkelgeschwindigkeit $\\dot\\phi_1$\n",
    "- `phi2_0`: Anfangswinkel $\\phi_2$\n",
    "- `omega2_0`: anfängliche Winkelgeschwindigkeit $\\dot\\phi_2$\n",
    "\n",
    "Die Darstellung des Poincaré-Plots erfolgt in der $\\phi_1$-$\\phi_2$-Ebene."
   ]
  },
  {
   "cell_type": "code",
   "execution_count": null,
   "metadata": {
    "pycharm": {
     "name": "#%%\n"
    },
    "tags": []
   },
   "outputs": [],
   "source": [
    "widget_dict = {\"dt\":\n",
    "               widgets.FloatSlider(\n",
    "                   value=50, min=0.1, max=200, step=0.1,\n",
    "                   description=r\"$\\Delta t$\"),\n",
    "               \"n_out\":\n",
    "               widgets.IntSlider(\n",
    "                   value=2000, min=10, max=100000, step=10,\n",
    "                   description=r\"$n_\\text{out}$\"),\n",
    "               \"alpha\":\n",
    "               widgets.FloatSlider(\n",
    "                   value=1, min=0, max=2, step=0.1,\n",
    "                   description=r\"$\\alpha$\"),\n",
    "               \"beta\":\n",
    "               widgets.FloatSlider(\n",
    "                   value=1, min=0, max=2, step=0.1,\n",
    "                   description=r\"$\\beta$\"),\n",
    "               \"phi1_0\":\n",
    "               widgets.FloatSlider(\n",
    "                   value=0, min=-1, max=1, step=0.1,\n",
    "                   description=r\"$\\phi_1(0)$\"),\n",
    "               \"omega1_0\":\n",
    "               widgets.FloatSlider(\n",
    "                   value=1, min=-1, max=1, step=0.1,\n",
    "                   description=r\"$\\omega_1(0)$\"),\n",
    "               \"phi2_0\":\n",
    "               widgets.FloatSlider(\n",
    "                   value=1, min=0, max=2, step=0.1,\n",
    "                   description=r\"$\\phi_2(0)$\"),\n",
    "               \"omega2_0\":\n",
    "               widgets.FloatSlider(\n",
    "                   value=0, min=0, max=2, step=0.1,\n",
    "                   description=r\"$\\omega_2(0)$\")\n",
    "               }\n",
    "\n",
    "interact_start = interact_manual.options(\n",
    "    manual_name=\"Start Berechnung\")\n",
    "\n",
    "@interact_start(**widget_dict)\n",
    "def plot_poincare(dt, n_out, alpha, beta, phi1_0, omega1_0,\n",
    "                  phi2_0, omega2_0):\n",
    "    phi1_values, phi2_values = poincare_points(\n",
    "        dt, n_out, alpha, beta, phi1_0, omega1_0, phi2_0,\n",
    "        omega2_0)\n",
    "\n",
    "    fig, ax = plt.subplots()\n",
    "    ax.plot(phi1_values, phi2_values, linestyle=\"None\",\n",
    "            marker=\"o\", markersize=1)\n",
    "    ax.set_xlabel(r\"$\\phi_1$\")\n",
    "    ax.set_ylabel(r\"$\\phi_2$\")"
   ]
  },
  {
   "cell_type": "markdown",
   "metadata": {
    "jp-MarkdownHeadingCollapsed": true,
    "tags": []
   },
   "source": [
    "## Erzeugung eines Poincaré-Plots mit mehreren Startpunkten"
   ]
  },
  {
   "cell_type": "markdown",
   "metadata": {
    "jp-MarkdownHeadingCollapsed": false,
    "tags": []
   },
   "source": [
    "### Berechnung der Punkte für den Poincaré-Plot\n",
    "\n",
    "Um einen besseren Überblick über die Struktur des Poincaré-Plots zu erhalten, werden ausgehend von einem ganzen Gitter von Startpunkten $\\phi_1(0)$ und $\\phi_2(0)$ die Durchstoßpunkte durch die Hyperebene $\\dot\\phi_1=0$ berechnet. Die Startpunkte werden äquidistant zwischen $-\\phi_{1,\\text{max}}$ und $\\phi_{1,\\text{max}}$ bzw. $-\\phi_{2,\\text{max}}$ und $\\phi_{2,\\text{max}}$ gewählt. Alle Startpunkte gehören zur gleichen Gesamtenergie $E_\\text{ges}$, so sich mit der dritten Anfangsbedingung $\\dot\\phi_1(0)=0$ der Anfangswert für $\\dot\\phi_2(0)$ berechnen lässt, wobei das positive Vorzeichen gewählt wird. Startpunkte, für die sich die Bedingung an die Gesamtenergie nicht erfüllen lässt, werden ausgeschlossen. Für jeden Startpunkt wird die Funktion `poincare_points` aufgerufen, um die folgenden Punkte im Poincaré-Plot zu berechnen. Als Ergebnis werden zwei Listen `all_phi1_values` und `all_phi2_values` zurückgegeben, die wiederum Listen für die Punkte enthalten, die sich aus einem Startpunkt ergeben haben. Damit ist es möglich, die verschiedenen Punktefamilien farblich unterschiedlich darzustellen.\n",
    "\n",
    "Da die Berechnung des Poincaré-Plots für mehrere Startpunkte relativ lange dauern kann, werden die bereits abgearbeiteten Startpunkte angezeigt. Zudem ist die maximale Zahl der Gitterpunkte je Winkel mit Hilfe der Variable `n_max` auf `2*n_max+1` gleich 9 festgelegt. Ist man bereit, mehr Rechenzeit zu investieren, so kann man den Wert von `n_max` in der Funktion `poincare_points_mult` angepassen. Die Rechenzeit wird allerdings quadratisch mit `n_max` ansteigen."
   ]
  },
  {
   "cell_type": "code",
   "execution_count": null,
   "metadata": {
    "pycharm": {
     "name": "#%%\n"
    },
    "tags": []
   },
   "outputs": [],
   "source": [
    "def poincare_points_mult(dt, n_out, alpha, beta,\n",
    "                         phi1_max, phi2_max, e_ges):\n",
    "    all_phi1_values = []\n",
    "    all_phi2_values = []\n",
    "    n_max = 4\n",
    "    for phi1_start in np.linspace(-phi1_max, phi1_max,\n",
    "                                  2*n_max+1):\n",
    "        for phi2_start in np.linspace(-phi2_max, phi2_max,\n",
    "                                      2*n_max+1):\n",
    "            e_pot = (-(1+alpha)*cos(phi1_start)\n",
    "                     - alpha*beta*cos(phi2_start))\n",
    "            e_kin = e_ges - e_pot\n",
    "            omega1_start = 0\n",
    "            if e_kin >= 0:\n",
    "                omega2_start = sqrt(2*e_kin/alpha) / beta\n",
    "                phi1_values, phi2_values = poincare_points(\n",
    "                    dt, n_out, alpha, beta,\n",
    "                    phi1_start, omega1_start,\n",
    "                    phi2_start, omega2_start)\n",
    "                all_phi1_values.append(phi1_values)\n",
    "                all_phi2_values.append(phi2_values)\n",
    "                print(phi1_start, phi2_start)\n",
    "    return all_phi1_values, all_phi2_values"
   ]
  },
  {
   "cell_type": "markdown",
   "metadata": {
    "jp-MarkdownHeadingCollapsed": false,
    "tags": []
   },
   "source": [
    "### Implementierung der Bedienelemente und graphische Darstellung des Poincaré-Plots\n",
    "\n",
    "Mit Hilfe der Schieberegler lassen sich die folgenden Parameter einstellen:\n",
    "- `dt`: Länge des Integrationsintervalls, in dem nach einem Durchgang durch die Hyperebene $\\dot\\phi_1=0$ gesucht werden soll\n",
    "- `n_out`: Anzahl der Punkte im Poincaré-Plot pro Startpunkt\n",
    "- `alpha`: Verhältnis der Pendelmassen $m_2/m_1$\n",
    "- `beta`: Verhältnis der Pendellängen $l_2/l_1$\n",
    "- `phi1_max`: betragsmäßige Grenze für 9 Gitterpunkte des Startwerts $\\phi_1(0)$\n",
    "- `phi2_max`: betragsmäßige Grenze für 9 Gitterpunkte des Startwerts $\\phi_2(0)$\n",
    "- `e_ges`: dimensionslose Gesamtenergie\n",
    "\n",
    "Punkte des Poincaré-Plots, die zu unterschiedlichen Startpunkten gehören, sind in verschiedenen Farben dargestellt."
   ]
  },
  {
   "cell_type": "code",
   "execution_count": null,
   "metadata": {
    "pycharm": {
     "name": "#%%\n"
    },
    "tags": []
   },
   "outputs": [],
   "source": [
    "widget_dict = {\"dt\":\n",
    "               widgets.FloatSlider(\n",
    "                   value=50, min=0.1, max=200, step=0.1,\n",
    "                   description=r\"$\\Delta t$\"),\n",
    "               \"n_out\":\n",
    "               widgets.IntSlider(\n",
    "                   value=100, min=100, max=10000, step=100,\n",
    "                   description=r\"$n_\\text{out}$\"),\n",
    "               \"alpha\":\n",
    "               widgets.FloatSlider(\n",
    "                   value=1, min=0, max=2, step=0.1,\n",
    "                   description=r\"$\\alpha$\"),\n",
    "               \"beta\":\n",
    "               widgets.FloatSlider(\n",
    "                   value=1, min=0, max=2, step=0.1,\n",
    "                   description=r\"$\\beta$\"),\n",
    "               \"phi1_max\":\n",
    "               widgets.FloatSlider(\n",
    "                   value=2, min=0, max=2, step=0.1,\n",
    "                   description=r\"$\\phi_{1,\\text{max}}$\"),\n",
    "               \"phi2_max\":\n",
    "               widgets.FloatSlider(\n",
    "                   value=2, min=0, max=2, step=0.1,\n",
    "                   description=r\"$\\phi_{2,\\text{max}}$\"),\n",
    "               \"e_ges\":\n",
    "               widgets.FloatSlider(\n",
    "                   value=-1.5, min=-2, max=2, step=0.1,\n",
    "                   description=r\"$E_\\text{ges}$\")\n",
    "               }\n",
    "\n",
    "@interact_start(**widget_dict)\n",
    "def plot_poincare_mult(dt, n_out, alpha, beta, phi1_max,\n",
    "                       phi2_max, e_ges):\n",
    "    phi1_list, phi2_list = poincare_points_mult(\n",
    "        dt, n_out, alpha, beta, phi1_max, phi2_max, e_ges)\n",
    "\n",
    "    fig, ax = plt.subplots()\n",
    "    for phi1_values, phi2_values in zip(phi1_list,\n",
    "                                        phi2_list):\n",
    "        ax.plot(phi1_values, phi2_values, linestyle=\"None\",\n",
    "                marker=\"o\", markersize=1)\n",
    "    ax.set_xlabel(r\"$\\phi_1$\")\n",
    "    ax.set_ylabel(r\"$\\phi_2$\")"
   ]
  },
  {
   "cell_type": "markdown",
   "metadata": {
    "jp-MarkdownHeadingCollapsed": true,
    "tags": []
   },
   "source": [
    "## Ljapunov-Exponent\n",
    "\n",
    "Im letzten Abschnitt soll eine Näherung für den Ljapunov-Exponenten\n",
    "\n",
    "$$\\lambda = \\lim_{t \\to \\infty} \\lim_{\\Delta(0) \\to 0} \\frac{1}{t} \\ln\\left( \\frac{\\Delta(t)}{\\Delta(0)} \\right)$$\n",
    "\n",
    "berechnet werden, wobei wir den Grenzwert $\\Delta(0) \\to 0$ durch einen sehr kleinen Anfangsabstand `delta_0` ersetzen, der durch die schrittweise Skalierung des Abstandes nach jedem Zeitschritt effektiv noch um viele Größenordnungen reduziert wird. Der Grenzwert $t \\to \\infty$ wird durch eine Zeit $t$ ersetzt, die in jedem Zeitschritt vergrößert wird, bis die Rechnung bei $t_\\text{end}$ beendet wird."
   ]
  },
  {
   "cell_type": "markdown",
   "metadata": {
    "jp-MarkdownHeadingCollapsed": false,
    "tags": []
   },
   "source": [
    "### Berechnung des Ljapunov-Exponenten\n",
    "\n",
    "Neben dem Startpunkt `x_0` mit den Komponenten $(\\phi_1(0), \\dot\\phi_1(0), \\phi_2(0), \\dot\\phi_2(0))$ definieren wir einen zweiten, um $\\Delta(0)$ in Richtung von $\\phi_1$ verschobenen Startpunkt `x_1`. Ausgehend von diesen Startpunkten wird die SciPy-Funktion `integrate.solve_ivp` benutzt, um die Trajektorie vom jeweiligen Startzeitpunkt `t_start` bis `t_start+delta_t` zu berechnen. Da uns nur die Phasenraumpunkte am Ende des Zeitintervalls interessieren, wird dem Argument `t_eval` ein Tupel übergeben, das nur die entsprechende Zeit enthält.\n",
    "\n",
    "Aus den so erhaltenen Endpunkten berechnet man die neuen Startpunkte. `x_0` kann direkt übernommen werden, während `x_1` so in Richtung von `x_0` verschoben wird, dass der neue Abstand wieder gleich `delta_0` ist.\n",
    "\n",
    "Aus dem Abstand `delta_1` der Phasenraumpunkte `x_0` und `x_1` und dem anfänglichen Abstand `delta_0` wird der Ljapunov-Exponent für das betreffende Zeitintervall berechnet. Anschließend wird noch der Mittelwert für den Ljapunov-Exponenten für den gesamten, bisher betrachteten Zeitraum berechnet. Neben den Startzeiten der Zeitintervalle wird eine Liste mit den, wie gerade beschrieben gemittelten Ljapunov-Exponenten übergeben."
   ]
  },
  {
   "cell_type": "code",
   "execution_count": null,
   "metadata": {
    "tags": []
   },
   "outputs": [],
   "source": [
    "def ljapunov_exponent(t_end, n_out, alpha, beta,\n",
    "                      phi1_0, omega1_0,\n",
    "                      phi2_0, omega2_0, delta_0):\n",
    "    x_0 = (phi1_0, omega1_0, phi2_0, omega2_0)\n",
    "    x_1 = (phi1_0 + delta_0, omega1_0, phi2_0, omega2_0)\n",
    "    ljapunov_values = []\n",
    "    ljapunov_exp = 0\n",
    "    t_start, delta_t = np.linspace(0, t_end, n_out+1,\n",
    "                                   retstep=True)\n",
    "    for n, (t0, t1) in enumerate(zip(t_start[:-1],\n",
    "                                     t_start[1:])):\n",
    "        solution = integrate.solve_ivp(\n",
    "            dx_dt, (t0, t1), x_0, args=(alpha, beta),\n",
    "            t_eval=(t1,), atol=1e-12, rtol=1e-12)\n",
    "        x_0 = solution.y[:, 0]\n",
    "        solution = integrate.solve_ivp(\n",
    "            dx_dt, (t0, t1), x_1, args=(alpha, beta),\n",
    "            t_eval=(t1,), atol=1e-12, rtol=1e-12)\n",
    "        x_1 = solution.y[:, 0]\n",
    "        delta_1 = LA.norm(x_1-x_0)\n",
    "        x_1 = x_0 + (x_1-x_0) * delta_0/delta_1\n",
    "        incr_ljapunov_exp = log(delta_1 / delta_0)\n",
    "        incr_ljapunov_exp = incr_ljapunov_exp / delta_t\n",
    "        ljapunov_exp = n*ljapunov_exp + incr_ljapunov_exp\n",
    "        ljapunov_exp = ljapunov_exp / (n+1)\n",
    "        ljapunov_values.append(ljapunov_exp)\n",
    "    return t_start[:-1], ljapunov_values"
   ]
  },
  {
   "cell_type": "markdown",
   "metadata": {
    "jp-MarkdownHeadingCollapsed": false,
    "tags": []
   },
   "source": [
    "### Implementierung der Eingabeelemente und graphische Darstellung des Ljapunov-Exponenten\n",
    "\n",
    "Mit Hilfe der Schieberegler lassen sich die folgenden Parameter einstellen:\n",
    "- `t_end`: Länge des zu betrachtenden Zeitintervalls\n",
    "- `n_out`: Anzahl der zu betrachtenden Zeitpunkte\n",
    "- `alpha`: Verhältnis der Pendelmassen $m_2/m_1$\n",
    "- `beta`: Verhältnis der Pendellängen $l_2/l_1$\n",
    "- `phi1_0`: Anfangswinkel $\\phi_1(0)$\n",
    "- `omega1_0`: anfängliche Winkelgeschwindigkeit $\\dot\\phi_1(0)$\n",
    "- `phi2_0`: Anfangswinkel $\\phi_2(0)$\n",
    "- `omega2_0`: anfängliche Winkelgeschwindigkeit $\\dot\\phi_2(0)$\n",
    "- `delta_0`: Anfangsabstand für $\\phi_1(0)$\n",
    "\n",
    "Die Voreinstellungen für die Anfangsbedingungen sind so gewählt, dass man sich im chaotischen Bereich befindet, weswegen der Ljapunov-Exponent positiv ist. Wenn man die Werte von `omega_1` und `phi_2` halbiert, befindet man sich in einer regulären Insel, so dass der Ljapunov-Exponent gegen null konvergiert."
   ]
  },
  {
   "cell_type": "code",
   "execution_count": null,
   "metadata": {
    "pycharm": {
     "name": "#%%\n"
    },
    "tags": []
   },
   "outputs": [],
   "source": [
    "widget_dict = {\"t_end\":\n",
    "               widgets.FloatSlider(\n",
    "                   value=1000, min=0.1, max=2000, step=0.1,\n",
    "                   description=r\"$t_\\text{end}$\"),\n",
    "               \"n_out\":\n",
    "               widgets.IntSlider(\n",
    "                   value=10000, min=10, max=20000, step=10,\n",
    "                   description=r\"$n_\\text{out}$\"),\n",
    "               \"alpha\":\n",
    "               widgets.FloatSlider(\n",
    "                   value=1, min=0, max=2, step=0.1,\n",
    "                   description=r\"$\\alpha$\"),\n",
    "               \"beta\":\n",
    "               widgets.FloatSlider(\n",
    "                   value=1., min=0, max=2, step=0.1,\n",
    "                   description=r\"$\\beta$\"),\n",
    "               \"phi1_0\":\n",
    "               widgets.FloatSlider(\n",
    "                   value=0, min=0, max=2, step=0.1,\n",
    "                   description=r\"$\\phi_1(0)$\"),\n",
    "               \"omega1_0\":\n",
    "               widgets.FloatSlider(\n",
    "                   value=1.6, min=0, max=2, step=0.1,\n",
    "                   description=r\"$\\omega_1(0)$\"),\n",
    "               \"phi2_0\":\n",
    "               widgets.FloatSlider(\n",
    "                   value=0.8, min=0, max=2, step=0.1,\n",
    "                   description=r\"$\\phi_2(0)$\"),\n",
    "               \"omega2_0\":\n",
    "               widgets.FloatSlider(\n",
    "                   value=0, min=0, max=2, step=0.1,\n",
    "                   description=r\"$\\omega_2(0)$\"),\n",
    "               \"delta_0\":\n",
    "               widgets.FloatLogSlider(\n",
    "                   value=1e-6, min=-10, max=-2, step=0.1,\n",
    "                   description=r\"$\\Delta_{0}$\")\n",
    "               }\n",
    "\n",
    "@interact_start(**widget_dict)\n",
    "def plot_ljapunov(t_end, n_out, alpha, beta, phi1_0,\n",
    "                  omega1_0, phi2_0, omega2_0, delta_0):\n",
    "    t_values, ljapunov_values = ljapunov_exponent(\n",
    "        t_end, n_out, alpha, beta, phi1_0, omega1_0,\n",
    "        phi2_0, omega2_0, delta_0)\n",
    "\n",
    "    fig, ax = plt.subplots()\n",
    "    ax.plot(t_values, ljapunov_values)\n",
    "    ax.set_xlabel(\"$t$\")\n",
    "    ax.set_ylabel(r\"$\\lambda$\")\n",
    "    ax.set_ylim(0, 0.5)"
   ]
  }
 ],
 "metadata": {
  "kernelspec": {
   "display_name": "Python 3 (ipykernel)",
   "language": "python",
   "name": "python3"
  },
  "language_info": {
   "codemirror_mode": {
    "name": "ipython",
    "version": 3
   },
   "file_extension": ".py",
   "mimetype": "text/x-python",
   "name": "python",
   "nbconvert_exporter": "python",
   "pygments_lexer": "ipython3",
   "version": "3.12.4"
  }
 },
 "nbformat": 4,
 "nbformat_minor": 4
}
