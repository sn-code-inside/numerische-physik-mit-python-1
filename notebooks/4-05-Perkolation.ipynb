{
 "cells": [
  {
   "cell_type": "markdown",
   "metadata": {
    "tags": []
   },
   "source": [
    "# Perkolation\n",
    "\n",
    "Siehe Wiedemann/Ingold: *Numerische Physik mit Python*, Springer-Spektrum 2024, ISBN 978-3-662-69566-1\n",
    "\n",
    "---"
   ]
  },
  {
   "cell_type": "markdown",
   "metadata": {},
   "source": [
    "In diesem Jupyter-Notebook werden die Knoten- und die Kantenperkolation untersucht, wobei zur Identifikation von Clustern der Hoshen-Kopelman-Algorithmus herangezogen wird. Im ersten Teil des Jupyter-Notebooks wird für eine vorgegebene Besetzungswahrscheinlichkeit die Clustereinteilung eines zufälligen Zustands bestimmt und farblich dargestellt. Im zweiten Teil wird dann die Perkolationswahrscheinlichkeit als Funktion der Besetzungswahrscheinlichkeit untersucht."
   ]
  },
  {
   "cell_type": "markdown",
   "metadata": {
    "jp-MarkdownHeadingCollapsed": true,
    "tags": []
   },
   "source": [
    "## Importanweisungen\n",
    "\n",
    "Neben bereits bekannten Importanweisungen wird hier auch das `time`-Modul aus der Python-Standardbibliothek importiert, um bei der typischerweise etwas länger dauernden Berechnung der Perkolationswahrscheinlichkeit die Rechenzeit in Abhängigkeit von der Systemgröße im Blick haben zu können."
   ]
  },
  {
   "cell_type": "code",
   "execution_count": null,
   "metadata": {
    "tags": []
   },
   "outputs": [],
   "source": [
    "from math import isqrt\n",
    "import time\n",
    "import numpy as np\n",
    "import ipywidgets as widgets\n",
    "from ipywidgets import interact, interact_manual\n",
    "import matplotlib\n",
    "import matplotlib.pyplot as plt\n",
    "\n",
    "plt.style.use(\"numphyspy.style\")"
   ]
  },
  {
   "cell_type": "markdown",
   "metadata": {
    "jp-MarkdownHeadingCollapsed": true,
    "tags": []
   },
   "source": [
    "## Aufteilung eines Zustands in Cluster mit dem Hoshen-Kopelman-Algorithmus"
   ]
  },
  {
   "cell_type": "markdown",
   "metadata": {
    "jp-MarkdownHeadingCollapsed": false,
    "tags": []
   },
   "source": [
    "### Erzeugung eines zufälligen Zustands\n",
    "\n",
    "Für eine vorgegebene Wahrscheinlichkeit `p` wird die Besetzung von `n_total` Gitterplätzen zufällig festgelegt. Da die Besetzung eines Knotens oder einer Kante unabhängig von den benachbarten Knoten bzw. Kanten erfolgt, spielt die Form des Gitters hier keine Rolle. Dem Wahrheitswert `True` im Boole'schen Array `state` entsprechen besetzte Knoten oder Kanten."
   ]
  },
  {
   "cell_type": "code",
   "execution_count": null,
   "metadata": {
    "tags": []
   },
   "outputs": [],
   "source": [
    "rng = np.random.default_rng()\n",
    "\n",
    "def generate_state(n_total, p):\n",
    "    random_numbers = rng.uniform(size=n_total)\n",
    "    state = (random_numbers < p)\n",
    "    return state"
   ]
  },
  {
   "cell_type": "markdown",
   "metadata": {
    "jp-MarkdownHeadingCollapsed": false,
    "tags": []
   },
   "source": [
    "### Indizes der nächsten Nachbarn\n",
    "\n",
    "Die Generatorfunktionen `neighbours_sites` und `neighbors_bonds` geben die Indizes der nächsten Nachbarn mit niedrigeren Indizes für Knoten bzw. Kanten auf einem Quadratgitter zurück. Im ersten Fall kann es maximal zwei benachbarte Knoten geben, während sich im zweiten Fall bis zu drei Kanten ergeben. Am Rand kann die Anzahl der nächsten Nachbarn geringer sein."
   ]
  },
  {
   "cell_type": "code",
   "execution_count": null,
   "metadata": {
    "tags": []
   },
   "outputs": [],
   "source": [
    "def neighbours_sites(n, n_edge):\n",
    "    n1, n2 = divmod(n, n_edge)\n",
    "    if n1 > 0:\n",
    "        yield n-n_edge\n",
    "    if n2 > 0:\n",
    "        yield n-1"
   ]
  },
  {
   "cell_type": "code",
   "execution_count": null,
   "metadata": {
    "tags": []
   },
   "outputs": [],
   "source": [
    "def neighbours_bonds(n, n_edge):\n",
    "    n1, n2 = divmod(n, n_edge)\n",
    "    if n1 % 2:\n",
    "        if n2 > 0:\n",
    "            yield n-n_edge-1\n",
    "            yield n-1\n",
    "        yield n-n_edge\n",
    "    else:\n",
    "        if n1 > 0:\n",
    "            yield n-2*n_edge\n",
    "            yield n-n_edge\n",
    "            if n2 < n_edge-1:\n",
    "                yield n-n_edge+1"
   ]
  },
  {
   "cell_type": "markdown",
   "metadata": {
    "jp-MarkdownHeadingCollapsed": false,
    "tags": []
   },
   "source": [
    "### Aufteilung in Cluster\n",
    "\n",
    "Die Aufteilung des Zustands `state` in zusammenhängende Cluster wird mit Hilfe des Hoshen-Kopelman-Algorithmus durchgeführt. Dazu geht man einmal durch das gesamte Gitter und betrachtet besetzte Gitterplätze. Im Set `neighbour_clusters` werden die Clusterindizes von benachbarten besetzten Gitterplätzen gesammelt. Falls dieses Set keine Elemente enthält, wird ein neuer Clusterindex vergeben. Andernfalls geht man zunächst davon aus, dass ein neuer Clusterindex `good_index` vergeben wird, betrachtet dann aber die Indizes der benachbarten Cluster. Im Set `affected_cluster_numbers` werden die Indizes gesammelt, die eventuell umzubennen sind. Anschließend wird `good_index` ggf. durch einen niedrigeren Index im verbundenen Cluster ersetzt. Dann wird noch im Array `indices` für die betroffenen Indizes in `affected_cluster_numbers` der neue Clusterindex `good_index` hinterlegt. Entscheidend ist hier, dass die Aktualisierung des Clusterindex nicht für alle betroffenen Gitterplätze erfolgt, sondern nur im Array `indices` vermerkt wird. Abschließend wird das Array `indices` noch einmal aktualisiert, um die spätere Vereinigung entfernter Cluster zu berücksichtigen. Als Ergebnis werden die vergegebenen Clusterindizes `cluster_numbers` und die Abbildung auf gute Clusterindizes `indices` übergeben. "
   ]
  },
  {
   "cell_type": "code",
   "execution_count": null,
   "metadata": {
    "tags": []
   },
   "outputs": [],
   "source": [
    "def get_clusters(state, n_edge, neighbours_fct):\n",
    "    n_total = state.size\n",
    "    cluster_numbers = np.zeros(n_total, dtype=int)\n",
    "    indices = np.zeros(n_total, dtype=int)\n",
    "    next_index = 1\n",
    "\n",
    "    for n in range(n_total):\n",
    "        if state[n]:\n",
    "            neighbour_clusters = set()\n",
    "            affected_cluster_numbers = set()\n",
    "            for nbr in neighbours_fct(n, n_edge):\n",
    "                if cluster_numbers[nbr] > 0:\n",
    "                    neighbour_clusters.add(\n",
    "                        cluster_numbers[nbr])\n",
    "            if len(neighbour_clusters) == 0:\n",
    "                cluster_numbers[n] = next_index\n",
    "                indices[next_index] = next_index\n",
    "                next_index = next_index+1\n",
    "            else:\n",
    "                good_index = next_index\n",
    "                for nbr_cluster in neighbour_clusters:\n",
    "                    idx = nbr_cluster\n",
    "                    affected_cluster_numbers.add(idx)\n",
    "                    while indices[idx] != idx:\n",
    "                        idx = indices[idx]\n",
    "                        affected_cluster_numbers.add(idx)\n",
    "                    good_index = min(good_index, idx)\n",
    "                cluster_numbers[n] = good_index\n",
    "            for index in affected_cluster_numbers:\n",
    "                indices[index] = good_index\n",
    "\n",
    "    for n in range(next_index):\n",
    "        indices[n] = indices[indices[n]]\n",
    "    return cluster_numbers, indices"
   ]
  },
  {
   "cell_type": "markdown",
   "metadata": {
    "jp-MarkdownHeadingCollapsed": false,
    "tags": []
   },
   "source": [
    "### Überprüfung auf einen perkolierenden Cluster\n",
    "\n",
    "Es wird das Auftreten eines perkolierenden Clusters, der den oberen und den unteren Rand des Gitters verbindet, überprüft. Dazu muss zumindest ein Clusterindex sowohl am oberen als auch am unteren Rand vorkommen. Um den korrekten Clusterindex zu erhalten, muss die in der Funktion `get_clusters` erzeugte Abbildung mit Hilfe des Arrays `indices` berücksichtigt werden."
   ]
  },
  {
   "cell_type": "code",
   "execution_count": null,
   "metadata": {
    "tags": []
   },
   "outputs": [],
   "source": [
    "def isconnected(state, n_edge, cluster_numbers, indices):\n",
    "    lower_clusters = indices[cluster_numbers[-n_edge:]]\n",
    "    upper_clusters = indices[cluster_numbers[:n_edge]]\n",
    "    common_indices = np.intersect1d(upper_clusters,\n",
    "                                    lower_clusters)\n",
    "    connected = np.count_nonzero(common_indices)\n",
    "    return min(1, connected)"
   ]
  },
  {
   "cell_type": "markdown",
   "metadata": {
    "jp-MarkdownHeadingCollapsed": false,
    "tags": []
   },
   "source": [
    "### Aufbereitung der Clusterinformation für die graphische Darstellung\n",
    "\n",
    "Da die Cluster unterschiedlich eingefärbt werden sollen, ist es sinnvoll, Lücken in den vergebenen Clusterindizes zu vermeiden um in den Funktionen `colorize_sites` und `colorize_bonds` eine gleichmäßige Abbildung auf Farben mit Hilfe des Arrays `color_idx` durchführen zu können. Dazu benennt man die Indizes im Array `indices` zunächst mit Hilfe der Funktion `compress` um. Die Abbildung von den alten Clusterindizes auf die neuen Clusterindizes wird dabei im Dictionary `idx_trans` abgespeichert."
   ]
  },
  {
   "cell_type": "code",
   "execution_count": null,
   "metadata": {
    "tags": []
   },
   "outputs": [],
   "source": [
    "def compress(x):\n",
    "    new_x = []\n",
    "    idx_trans = {0: 0}\n",
    "    idx = 1\n",
    "    for elem in x:\n",
    "        try:\n",
    "            new_x.append(idx_trans[elem])\n",
    "        except KeyError:\n",
    "            idx_trans[elem] = idx\n",
    "            new_x.append(idx)\n",
    "            idx = idx + 1\n",
    "    return new_x"
   ]
  },
  {
   "cell_type": "markdown",
   "metadata": {},
   "source": [
    "Für die Knotenperkolation wird zunächst einmal für jeden Knoten der Wert -1 vergeben, der für belegte Knoten durch den zugehörigen Farbindex `color_idx`, der zwischen 0 und 1 läuft, überschrieben wird. Anschließend werden alle Einträge, die zu unbelegten Knoten gehören, maskiert, so dass später nur die belegten Knoten eingefärbt werden. Um die Cluster farblich besser unterscheiden zu können, ist es sinnvoll, das Array `color_idx` vor der Benutzung mit `rng.shuffle` durchzumischen."
   ]
  },
  {
   "cell_type": "code",
   "execution_count": null,
   "metadata": {
    "tags": []
   },
   "outputs": [],
   "source": [
    "def colorize_sites(state, cluster_numbers, indices):\n",
    "    n_total = state.size\n",
    "    indices = compress(indices)\n",
    "    largest_idx = max(indices)\n",
    "    color_idx = np.arange(largest_idx)/largest_idx\n",
    "    rng.shuffle(color_idx)\n",
    "    state_for_plot = -np.ones(n_total)\n",
    "    for n in range(n_total):\n",
    "        if state[n]:\n",
    "            cluster_num = indices[cluster_numbers[n]]\n",
    "            state_for_plot[n] = color_idx[cluster_num-1]\n",
    "    return np.ma.masked_equal(state_for_plot, -1)"
   ]
  },
  {
   "cell_type": "markdown",
   "metadata": {},
   "source": [
    "Für die Kantenperkolation ist es günstig, neben den zuvor beschriebenen Schritten auch noch die Anfangs- und Endkoordinaten der Kanten vorzubereiten. Außerdem erfolgt hier schon die Abbildung von den Farbindizes auf Farben mit Hilfe von `cmap`. Bei Interesse kann man die verwendete Farbpalette in `matplotlib.colormaps` anpassen. Die möglichen Farbpaletten findet man in der [Dokumentation zu `matplotlib`](https://matplotlib.org/stable/gallery/color/colormap_reference.html). In der vorigen Funktion `colorize_sites` wird diese Abbildung auf die Farbe noch nicht vorgenommen, da die Farbpalette zur graphischen Darstellung noch weiter modifiziert wird."
   ]
  },
  {
   "cell_type": "code",
   "execution_count": null,
   "metadata": {
    "tags": []
   },
   "outputs": [],
   "source": [
    "def colorize_bonds(state, cluster_numbers, indices):\n",
    "    n_total = state.size\n",
    "    n_edge = isqrt(n_total//2)\n",
    "    indices = compress(indices)\n",
    "    largest_idx = max(indices)\n",
    "    cmap = matplotlib.colormaps[\"hsv\"]\n",
    "    color_idx = np.arange(largest_idx)/largest_idx\n",
    "    rng.shuffle(color_idx)\n",
    "    for n in range(n_total):\n",
    "        if state[n]:\n",
    "            cluster_num = indices[cluster_numbers[n]]\n",
    "            color = cmap(color_idx[cluster_num-1])\n",
    "            n1, n2 = divmod(n, n_edge)\n",
    "            if n1 % 2:\n",
    "                x1 = n2\n",
    "                x2 = n2+1\n",
    "                y1 = n_edge-(n1-1)//2-1\n",
    "                yield x1, x2, y1, y1, color\n",
    "            else:\n",
    "                x1 = n2+1\n",
    "                y1 = n_edge-n1//2\n",
    "                y2 = n_edge-n1//2-1\n",
    "                yield x1, x1, y1, y2, color"
   ]
  },
  {
   "cell_type": "markdown",
   "metadata": {
    "jp-MarkdownHeadingCollapsed": false,
    "tags": []
   },
   "source": [
    "### Implementierung der Bedienelemente und graphische Darstellung des Zustands\n",
    "\n",
    "Mit Hilfe der Bedienelemente lassen sich die folgenden Parameter einstellen:\n",
    "- `n_edge`: Seitenlänge des Gitters\n",
    "- `p`: Besetzungswahrscheinlichkeit. Die Anfangseinstellung liegt an oder in der Nähe der Perkolationsschwelle.\n",
    "- `percolation_type`: Auswahl zwischen Knoten- und Kantenperkolation auf dem Quadratgitter\n",
    "\n",
    "Die Erzeugung der graphischen Darstellung ist in separate Funktionen ausgelagert. Zunächst erzeugt die Funktion `get_state_cluster` mit Hilfe der weiter oben definierten Funktionen einen Zustand und zerlegt diesen in Cluster. Ferner wird untersucht, ob ein perkolierender Cluster vorliegt und eine entsprechende Information ausgegeben. Die farbliche Darstellung erfolgt durch die Funktionen `plot_sites` und `plot_bonds`. Dabei gibt es in der Funktion `plot_sites` noch die Besonderheit, dass die Farbpalette so modifiziert wird, dass ein unerlaubter Wert für die Abbildung auf eine Farbe die Farbe weiß ergibt."
   ]
  },
  {
   "cell_type": "code",
   "execution_count": null,
   "metadata": {},
   "outputs": [],
   "source": [
    "def get_state_cluster(n_edge, p, n_total, neighbours_fct):\n",
    "    state = generate_state(n_total, p)\n",
    "    cluster_numbers, indices = get_clusters(state, n_edge,\n",
    "                                            neighbours_fct)\n",
    "    connected = isconnected(state, n_edge,\n",
    "                            cluster_numbers, indices)\n",
    "    print(f\"{'einen' if connected else 'keinen'} \"\n",
    "          \"perkolierenden Cluster gefunden\")\n",
    "    return state, cluster_numbers, indices"
   ]
  },
  {
   "cell_type": "code",
   "execution_count": null,
   "metadata": {
    "tags": []
   },
   "outputs": [],
   "source": [
    "def plot_sites(n_edge, p):\n",
    "    state, cluster_numbers, indices = get_state_cluster(\n",
    "        n_edge, p, n_edge**2, neighbours_sites)\n",
    "    colored_state = np.reshape(\n",
    "        colorize_sites(state, cluster_numbers, indices),\n",
    "        (n_edge, n_edge))\n",
    "    cmap = matplotlib.cm.hsv\n",
    "    cmap.set_bad(\"white\")\n",
    "    plt.imshow(colored_state, aspect=1,\n",
    "               interpolation=\"none\", cmap=cmap)"
   ]
  },
  {
   "cell_type": "code",
   "execution_count": null,
   "metadata": {
    "tags": []
   },
   "outputs": [],
   "source": [
    "def plot_bonds(n_edge, p):\n",
    "    state, cluster_numbers, indices = get_state_cluster(\n",
    "        n_edge, p, 2*n_edge**2, neighbours_bonds)\n",
    "    bonds = colorize_bonds(state, cluster_numbers, indices)\n",
    "    fig, ax = plt.subplots()\n",
    "    for x1, x2, y1, y2, color in bonds:\n",
    "        ax.plot((x1, x2), (y1, y2), color=color)\n",
    "    ax.set_aspect(\"equal\")\n",
    "    ax.invert_yaxis()"
   ]
  },
  {
   "cell_type": "code",
   "execution_count": null,
   "metadata": {
    "tags": []
   },
   "outputs": [],
   "source": [
    "widget_dict = {\"n_edge\":\n",
    "               widgets.IntSlider(\n",
    "                   value=100, min=3, max=100, step=1,\n",
    "                   description=r\"$n_\\text{edge}$\"),\n",
    "               \"p\":\n",
    "               widgets.FloatSlider(\n",
    "                   value=0.6, min=0, max=1, step=0.01,\n",
    "                   description=\"$p$\"),\n",
    "               \"percolation_type\":\n",
    "               widgets.RadioButtons(\n",
    "                   value=\"Knotenperkolation\",\n",
    "                   options=[\"Knotenperkolation\",\n",
    "                            \"Kantenperkolation\"],\n",
    "                   description=\"Perkolationstyp\")\n",
    "               }\n",
    "\n",
    "def handle_type_change(change):\n",
    "    if change.new == \"Knotenperkolation\":\n",
    "        setattr(widget_dict[\"p\"], \"value\", 0.6)\n",
    "    else:\n",
    "        setattr(widget_dict[\"p\"], \"value\", 0.5)\n",
    "\n",
    "widget_dict[\"percolation_type\"].observe(handle_type_change,\n",
    "                                        names=\"value\")\n",
    "\n",
    "interact_start = interact_manual.options(\n",
    "    manual_name=\"Start Berechnung\")\n",
    "\n",
    "@interact_start(**widget_dict)\n",
    "def plot_realization(n_edge, p, percolation_type):\n",
    "    if percolation_type == \"Knotenperkolation\":\n",
    "        plot_sites(n_edge, p)\n",
    "    else:\n",
    "        plot_bonds(n_edge, p)"
   ]
  },
  {
   "cell_type": "markdown",
   "metadata": {
    "jp-MarkdownHeadingCollapsed": true,
    "tags": []
   },
   "source": [
    "## Perkolationswahrscheinlichkeit als Funktion von $p$"
   ]
  },
  {
   "cell_type": "markdown",
   "metadata": {
    "jp-MarkdownHeadingCollapsed": false,
    "tags": []
   },
   "source": [
    "### Berechnung der Perkolationswahrscheinlichkeit für einen Wert von $p$\n",
    "\n",
    "Für eine Besetzungswahrscheinlichkeit `p` wird die Perkolationswahrscheinlichkeit durch Untersuchung von `n_ensemble` verschiedenen Zuständen berechnet."
   ]
  },
  {
   "cell_type": "code",
   "execution_count": null,
   "metadata": {
    "tags": []
   },
   "outputs": [],
   "source": [
    "def probability(p, n_edge, n_ensemble, n_total,\n",
    "                neighbours_fct):\n",
    "    incidence = 0\n",
    "    for n in range(n_ensemble):\n",
    "        state = generate_state(n_total, p)\n",
    "        cluster_numbers, indices = get_clusters(\n",
    "            state, n_edge, neighbours_fct)\n",
    "        connected = isconnected(state, n_edge,\n",
    "                                cluster_numbers, indices)\n",
    "        incidence = incidence + connected\n",
    "    return incidence / n_ensemble"
   ]
  },
  {
   "cell_type": "markdown",
   "metadata": {
    "jp-MarkdownHeadingCollapsed": false,
    "tags": []
   },
   "source": [
    "### Berechnung der Perkolationswahrscheinlichkeit als Funktion von $p$\n",
    "\n",
    "Unter Benutzung der vorigen Funktion `probability` wird nun die Perkolationswahrscheinlichkeit $\\Pi$ als Funktion der Besetzungswahrscheinlichkeit $p$ berechnet. Dabei wird der Fall $p=0$ ausgelassen, da hier offensichtlich $\\Pi=0$ ist."
   ]
  },
  {
   "cell_type": "code",
   "execution_count": null,
   "metadata": {
    "tags": []
   },
   "outputs": [],
   "source": [
    "def percolation(n_edge, n_p, n_ensemble, n_total,\n",
    "                neighbours_fct):\n",
    "    dp = 1 / n_p\n",
    "    p_values = np.linspace(dp, 1, n_p)\n",
    "    probabilities = np.zeros(n_p)\n",
    "    for m, p in enumerate(p_values):\n",
    "        probabilities[m] = probability(\n",
    "            p, n_edge, n_ensemble, n_total, neighbours_fct)\n",
    "    return p_values, probabilities"
   ]
  },
  {
   "cell_type": "markdown",
   "metadata": {
    "jp-MarkdownHeadingCollapsed": false,
    "tags": []
   },
   "source": [
    "### Implementierung der Bedienelemente und graphische Darstellung der Perkolationswahrscheinlichkeit\n",
    "\n",
    "Mit Hilfe der Bedienelemente können die folgenden Parameter eingestellt werden:\n",
    "- `n_edge`: Seitenlänge des Gitters\n",
    "- `n_p`: Anzahl der äquidistanten Besetzungswahrscheinlichkeiten\n",
    "- `n_ensemble`: Größe des Ensembles zur Berechnung der Perkolationswahrscheinlichkeit\n",
    "- `percolation_type`: Auswahl zwischen Knoten- und Kantenperkolation auf dem Quadratgitter\n",
    "\n",
    "Der Verlauf der Perkolationswahrscheinlichkeit als Funktion der Besetzungwahrscheinlichkeit wird graphisch für die gewählte Ensemblegröße dargestellt. Außerdem wird die entsprechende Kurve für ein System mit einem Fünftel der gewählten Kantenlänge gezeigt, um den Einfluss der Systemgröße zu verdeutlichen. Da die Rechnung etwas länger dauern kann, wird am Ende die benötigte Rechenzeit angegeben. Durch Vergleich der Angabe für verschiedene Systemgrößen lässt sich der Rechenzeitbedarf für größere System abschätzen."
   ]
  },
  {
   "cell_type": "code",
   "execution_count": null,
   "metadata": {
    "tags": []
   },
   "outputs": [],
   "source": [
    "widget_dict = {\"n_edge\":\n",
    "               widgets.IntSlider(\n",
    "                   value=100, min=20, max=100, step=1,\n",
    "                   description=r\"$n_\\text{edge}$\"),\n",
    "               \"n_p\":\n",
    "               widgets.IntSlider(\n",
    "                   value=50, min=10, max=200, step=5,\n",
    "                   description=\"$n_p$\"),\n",
    "               \"n_ensemble\":\n",
    "               widgets.IntSlider(\n",
    "                   value=200, min=10, max=200, step=5,\n",
    "                   description=r\"$n_\\text{Ensemble}$\"),\n",
    "               \"percolation_type\":\n",
    "               widgets.RadioButtons(\n",
    "                   value=\"Knotenperkolation\",\n",
    "                   options=[\"Knotenperkolation\",\n",
    "                            \"Kantenperkolation\"],\n",
    "                   description=\"Perkolationstyp\")\n",
    "               }\n",
    "\n",
    "interact_start = interact_manual.options(\n",
    "    manual_name=\"Start Berechnung\")\n",
    "\n",
    "@interact_start(**widget_dict)\n",
    "def plot_transition(n_edge, n_p, n_ensemble,\n",
    "                    percolation_type):\n",
    "    n_edge_reduced = n_edge // 5\n",
    "    if percolation_type == \"Knotenperkolation\":\n",
    "        n_total = n_edge**2\n",
    "        n_total_reduced = n_edge_reduced**2\n",
    "        neighbours_fct = neighbours_sites\n",
    "    else:\n",
    "        n_total = 2*n_edge**2\n",
    "        n_total_reduced = 2*n_edge_reduced**2\n",
    "        neighbours_fct = neighbours_bonds\n",
    "\n",
    "    start_time = time.time()\n",
    "    fig, ax = plt.subplots()\n",
    "    for n_edge_val, n_total_val in (\n",
    "            (n_edge, n_total),\n",
    "            (n_edge_reduced, n_total_reduced)):\n",
    "        result = percolation(n_edge_val, n_p, n_ensemble,\n",
    "                             n_total_val, neighbours_fct)\n",
    "        ax.plot(*result)\n",
    "    ax.set_xlabel(\"$p$\")\n",
    "    ax.set_ylabel(r\"$\\Pi$\")\n",
    "    end_time = time.time()\n",
    "    print(f\"benötigte Zeit: {end_time-start_time:6.1f}s\")"
   ]
  }
 ],
 "metadata": {
  "kernelspec": {
   "display_name": "Python 3 (ipykernel)",
   "language": "python",
   "name": "python3"
  },
  "language_info": {
   "codemirror_mode": {
    "name": "ipython",
    "version": 3
   },
   "file_extension": ".py",
   "mimetype": "text/x-python",
   "name": "python",
   "nbconvert_exporter": "python",
   "pygments_lexer": "ipython3",
   "version": "3.12.4"
  }
 },
 "nbformat": 4,
 "nbformat_minor": 4
}
