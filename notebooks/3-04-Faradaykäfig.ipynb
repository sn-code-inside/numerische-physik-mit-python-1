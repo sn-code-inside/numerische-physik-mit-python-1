{
 "cells": [
  {
   "cell_type": "markdown",
   "id": "0d14efb6-2009-4f79-b678-5af4492bb677",
   "metadata": {},
   "source": [
    "# Elektrisches Feld im Faradaykäfig\n",
    "\n",
    "Siehe Wiedemann/Ingold: *Numerische Physik mit Python*, Springer-Spektrum 2024, ISBN 978-3-662-69566-1\n",
    "\n",
    "---"
   ]
  },
  {
   "cell_type": "markdown",
   "id": "a1c2b533-ca8d-4c64-bd6a-803775d39144",
   "metadata": {
    "jp-MarkdownHeadingCollapsed": true,
    "tags": []
   },
   "source": [
    "Das elektrische Feld sowie das elektrische Potential einer Punktladung in einem quaderförmigen Faradaykäfig mit leitenden Wänden lassen sich mit Hilfe der Methode der Spiegelladungen berechnen, wobei allerdings streng genommen über eine unendliche Anzahl von Spiegelladungen zu summieren ist. Da der Beitrag der Spiegelladungen mit dem Abstand vom Faradaykäfig abnimmt, kann man sich näherungsweise auf endlich viele Spiegelladungen beschränken. Auf diese Weise wird in diesem Jupyter-Notebook das elektrische Feld und das zugehörige Potential berechnet und graphisch dargestellt."
   ]
  },
  {
   "cell_type": "markdown",
   "id": "2363c32e",
   "metadata": {
    "jp-MarkdownHeadingCollapsed": true,
    "tags": []
   },
   "source": [
    "## Importanweisungen"
   ]
  },
  {
   "cell_type": "code",
   "execution_count": null,
   "id": "371e1315",
   "metadata": {
    "tags": []
   },
   "outputs": [],
   "source": [
    "import numpy as np\n",
    "import numpy.linalg as LA\n",
    "import ipywidgets as widgets\n",
    "from ipywidgets import interact_manual\n",
    "import matplotlib.pyplot as plt\n",
    "\n",
    "plt.style.use(\"numphyspy.style\")"
   ]
  },
  {
   "cell_type": "markdown",
   "id": "492a1817",
   "metadata": {
    "jp-MarkdownHeadingCollapsed": true,
    "tags": []
   },
   "source": [
    "## Berechnung des elektrischen Feldes und des Potentials einer Punktladung\n",
    "\n",
    "Die Funktionen `e_point` und `v_point` berechnen das elektrische Feld $\\boldsymbol{E}$ bzw. das elektrische Potential $\\Phi$ am Ort $\\boldsymbol{r}$ einer Einheitspunktladung, die sich am Ort $\\boldsymbol{r}_0$ befindet. Dabei können die Argumente `r`und `r0` durch Arrays gegeben sein. Die drei Ortskomponenten müssen dann entlang der Achse 1 liegen."
   ]
  },
  {
   "cell_type": "code",
   "execution_count": null,
   "id": "a6496d24",
   "metadata": {
    "tags": []
   },
   "outputs": [],
   "source": [
    "def e_point(r, r0):\n",
    "    distance = LA.norm(r-r0, axis=1)[..., np.newaxis]\n",
    "    return (r-r0)/distance**3"
   ]
  },
  {
   "cell_type": "code",
   "execution_count": null,
   "id": "4238f3e5",
   "metadata": {
    "tags": []
   },
   "outputs": [],
   "source": [
    "def v_point(r, r0):\n",
    "    distance = LA.norm(r-r0, axis=1)[..., np.newaxis]\n",
    "    return -1/distance"
   ]
  },
  {
   "cell_type": "markdown",
   "id": "e3453c58",
   "metadata": {
    "jp-MarkdownHeadingCollapsed": true,
    "tags": []
   },
   "source": [
    "## Berechnung der Spiegelladungen und ihrer Orte\n",
    "\n",
    "Die Funktion `image_charges` berechnet alle Variablen, die zur Modellierung der Punktladung inklusive aller Spiegelladungen erforderlich sind. `r_image_charges` ist ein Array, das die Orte der Ladungen in der Elementarzelle enthält, die sich in $x$-Richtung von $-l_x$ bis $l_x$ und entsprechend in $y$-Richtung von $-l_y$ bis $l_y$ sowie in $z$-Richtung von $-l_z$ bis $l_z$ erstreckt. Das Array `q_image_charges` enthält die dazugehörigen Einheitsladungen -1 bzw. +1. Das Array `delta_image` enthält die Verschiebungen der Elementarzelle, mit der sich die anderen zu berücksichtigenden Elementarzellen ergeben."
   ]
  },
  {
   "cell_type": "code",
   "execution_count": null,
   "id": "397bbffd",
   "metadata": {
    "tags": []
   },
   "outputs": [],
   "source": [
    "def image_charges(lx, ly, lz, r0, n_max):\n",
    "    mirroring = np.array([[1, 1, 1],\n",
    "                          [1, 1, -1],\n",
    "                          [1, -1, 1],\n",
    "                          [1, -1, -1],\n",
    "                          [-1, 1, 1],\n",
    "                          [-1, 1, -1],\n",
    "                          [-1, -1, 1],\n",
    "                          [-1, -1, -1]])\n",
    "    r_image_charges = r0*mirroring\n",
    "    q_image_charges = np.prod(mirroring, axis=1)\n",
    "    n_idx = np.mgrid[-n_max:n_max+1,\n",
    "                     -n_max:n_max+1,\n",
    "                     -n_max:n_max+1]\n",
    "    n_idx = np.moveaxis(n_idx, 0, 3).reshape(-1, 3)\n",
    "    delta_image = 2*np.array([lx, ly, lz])*n_idx\n",
    "    return r_image_charges, q_image_charges, delta_image"
   ]
  },
  {
   "cell_type": "markdown",
   "id": "964d89c8",
   "metadata": {
    "jp-MarkdownHeadingCollapsed": true,
    "tags": []
   },
   "source": [
    "## Berechnung des elektrischen Feldes und des Potentials an einem Punkt\n",
    "\n",
    "Die Funktionen `e_field_point` und `v_field_point` berechnen das elektrische Feld bzw. das Potential am Ort $\\boldsymbol{r}$ durch Summation über die Beiträge der \n",
    "Punktladungen. Die hierzu benötigten Argumente `r_image_charges`, `q_image_charges` und `delta_image` können mit Hilfe der Funktion `image_charges` berechnet werden."
   ]
  },
  {
   "cell_type": "code",
   "execution_count": null,
   "id": "528a332d",
   "metadata": {
    "tags": []
   },
   "outputs": [],
   "source": [
    "def e_field_point(r, r_image_charges, q_image_charges,\n",
    "                  delta_image):\n",
    "    e = 0\n",
    "    for r0, q in zip(r_image_charges, q_image_charges):\n",
    "        e = e + q*np.sum(e_point(r, r0+delta_image),\n",
    "                         axis=0)\n",
    "    return e"
   ]
  },
  {
   "cell_type": "code",
   "execution_count": null,
   "id": "da70d867",
   "metadata": {
    "tags": []
   },
   "outputs": [],
   "source": [
    "def v_field_point(r, r_image_charges, q_image_charges,\n",
    "                  delta_image):\n",
    "    v = 0\n",
    "    for r0, q in zip(r_image_charges, q_image_charges):\n",
    "        v = v + q*np.sum(v_point(r, r0+delta_image))\n",
    "    return v"
   ]
  },
  {
   "cell_type": "markdown",
   "id": "c75af8b5",
   "metadata": {
    "jp-MarkdownHeadingCollapsed": true,
    "tags": []
   },
   "source": [
    "## Berechnung des gesamten elektrischen Feldes und des Potentials\n",
    "\n",
    "Nun werden die zuvor definierten Funktionen verwendet, um das elektrische Feld und das elektrische Potential auf dem gesamten Gitter zu berechnen. Dabei unterscheiden sich die beiden Funktionen `e_field` und `v_field` lediglich in der Form des Arrays `efield` bzw. `vfield` sowie in der Funktion `e_field_point` bzw. `v_field_point` zur Berechnung an einem einzelnen Punkt.\n",
    "\n",
    "Zunächst werden mit der Funktion `image_charges` die benötigten Parameter der Bildladungen beschafft. Das Gitter, auf dem elektrisches Feld und Potential zu berechnen sind, wird durch die Arrays `xvals` und `yvals` festgelegt. In der Doppelschleife werden dann die zugehörigen Feld- bzw. Potentialwerte auf dem sich in $x$-$y$-Richtung erstreckenden Gitter auf halber Höhe in $z$-Richtung berechnet. "
   ]
  },
  {
   "cell_type": "code",
   "execution_count": null,
   "id": "20e1acd9",
   "metadata": {
    "tags": []
   },
   "outputs": [],
   "source": [
    "def e_field(lx, ly, lz, r0, n_max, n_out):\n",
    "    images_data = image_charges(lx, ly, lz, r0, n_max)\n",
    "    efield = np.empty((3, n_out, n_out))\n",
    "    yvals, xvals = np.mgrid[0:ly:n_out*1j, 0:lx:n_out*1j]\n",
    "    for nx in range(n_out):\n",
    "        for ny in range(n_out):\n",
    "            efield[:, ny, nx] = e_field_point(\n",
    "                np.array([xvals[ny, nx],\n",
    "                          yvals[ny, nx],\n",
    "                          0.5*lz]),\n",
    "                *images_data)\n",
    "    return xvals, yvals, efield[0], efield[1], efield[2]"
   ]
  },
  {
   "cell_type": "code",
   "execution_count": null,
   "id": "a086b286",
   "metadata": {
    "tags": []
   },
   "outputs": [],
   "source": [
    "def v_field(lx, ly, lz, r0, n_max, n_out):\n",
    "    images_data = image_charges(lx, ly, lz, r0, n_max)\n",
    "    vfield = np.empty((n_out, n_out))\n",
    "    yvals, xvals = np.mgrid[0:ly:n_out*1j, 0:lx:n_out*1j]\n",
    "    for nx in range(n_out):\n",
    "        for ny in range(n_out):\n",
    "            vfield[ny, nx] = v_field_point(\n",
    "                np.array([xvals[ny, nx],\n",
    "                          yvals[ny, nx],\n",
    "                          0.5*lz]),\n",
    "                *images_data)\n",
    "    return xvals, yvals, vfield"
   ]
  },
  {
   "cell_type": "markdown",
   "id": "7e3d165c",
   "metadata": {
    "jp-MarkdownHeadingCollapsed": true,
    "tags": []
   },
   "source": [
    "## Implementierung der Bedienelemente und graphische Darstellung des elektrischen Feldes und des Potentials\n",
    "\n",
    "Mit Hilfe der Schieberegler lassen sich die folgenden Parameter einstellen:\n",
    "- `lx`: Ausdehnung des Faradaykäfigs in $x$-Richtung\n",
    "- `ly`: Ausdehnung des Faradaykäfigs in $y$-Richtung\n",
    "- `lz`: Ausdehnung des Faradaykäfigs in $z$-Richtung\n",
    "- `r0_x`: Position der Punktladung in Einheiten von `lx`\n",
    "- `r0_y`: Position der Punktladung in Einheiten von `ly`\n",
    "- `r0_z`: Position der Punktladung in Einheiten von `lz`\n",
    "- `n_max`: legt die Gesamtzahl der zu berücksichtigenden Ladungen $8(2n_\\text{max}+1)^3$ fest\n",
    "- `n_out`: Anzahl der Gitterpunkte in $x$- und in $y$-Richtung auf denen das Feld und das Potential zu berechnen sind\n",
    "- `alpha`: Parameter für die Empfindlichkeit der Farbe auf Potentialänderung in der Nähe des Potentialnullpunkts\n",
    "\n",
    "Das elektrische Feld wird mit Hilfe der matplotlib-Funktion `streamplot` durch Feldlinien dargestellt. Hinterlegt ist eine farbliche Darstellung des elektrischen Potentials."
   ]
  },
  {
   "cell_type": "code",
   "execution_count": null,
   "id": "328e66b6",
   "metadata": {
    "tags": []
   },
   "outputs": [],
   "source": [
    "widget_dict = {\"lx\":\n",
    "               widgets.FloatSlider(\n",
    "                   value=2, min=0, max=5, step=0.1,\n",
    "                   description=\"$l_x$\"),\n",
    "               \"ly\":\n",
    "               widgets.FloatSlider(\n",
    "                   value=1, min=0, max=5, step=0.1,\n",
    "                   description=\"$l_y$\"),\n",
    "               \"lz\":\n",
    "               widgets.FloatSlider(\n",
    "                   value=1, min=0, max=5, step=0.1,\n",
    "                   description=\"$l_z$\"),\n",
    "               \"r0_x\":\n",
    "               widgets.FloatSlider(\n",
    "                   value=0.8, min=0, max=1, step=0.05,\n",
    "                   description=\"$x_0$\"),\n",
    "               \"r0_y\":\n",
    "               widgets.FloatSlider(\n",
    "                   value=0.7, min=0, max=1, step=0.05,\n",
    "                   description=\"$y_0$\"),\n",
    "               \"r0_z\":\n",
    "               widgets.FloatSlider(\n",
    "                   value=0.5, min=0, max=1, step=0.05,\n",
    "                   description=\"$z_0$\"),\n",
    "               \"n_max\":\n",
    "               widgets.IntSlider(\n",
    "                   value=10, min=1, max=20, step=1,\n",
    "                   description=r\"$n_\\text{max}$\"),\n",
    "               \"n_out\":\n",
    "               widgets.IntSlider(\n",
    "                   value=60, min=5, max=100, step=5,\n",
    "                   description=r\"$n_\\text{out}$\"),\n",
    "               \"alpha\":\n",
    "               widgets.FloatSlider(\n",
    "                   value=2, min=1, max=10, step=1,\n",
    "                   description=r\"$\\alpha$\")\n",
    "               }\n",
    "\n",
    "interact_start = interact_manual.options(\n",
    "    manual_name=\"Start Berechnung\")\n",
    "\n",
    "@interact_start(**widget_dict)\n",
    "def plot_result(lx, ly, lz, r0_x, r0_y, r0_z, n_max, n_out,\n",
    "                alpha):\n",
    "    r0 = np.array([r0_x*lx, r0_y*ly, r0_z*lz])\n",
    "    args = lx, ly, lz, r0, n_max, n_out\n",
    "    xvals, yvals, vfield = v_field(*args)\n",
    "\n",
    "    fig, ax = plt.subplots()\n",
    "    ax.set_aspect(\"equal\")\n",
    "    ax.pcolormesh(xvals, yvals, np.arctan(alpha*vfield),\n",
    "                  shading=\"auto\")\n",
    "    ax.streamplot(*e_field(*args)[:4])\n",
    "    ax.set_xlabel(\"$x$\")\n",
    "    ax.set_ylabel(\"$y$\")"
   ]
  }
 ],
 "metadata": {
  "kernelspec": {
   "display_name": "Python 3 (ipykernel)",
   "language": "python",
   "name": "python3"
  },
  "language_info": {
   "codemirror_mode": {
    "name": "ipython",
    "version": 3
   },
   "file_extension": ".py",
   "mimetype": "text/x-python",
   "name": "python",
   "nbconvert_exporter": "python",
   "pygments_lexer": "ipython3",
   "version": "3.12.4"
  }
 },
 "nbformat": 4,
 "nbformat_minor": 5
}
