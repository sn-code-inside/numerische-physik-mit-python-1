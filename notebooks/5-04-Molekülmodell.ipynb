{
 "cells": [
  {
   "cell_type": "markdown",
   "metadata": {},
   "source": [
    "# Molekülmodell\n",
    "\n",
    "Siehe Wiedemann/Ingold: *Numerische Physik mit Python*, Springer-Spektrum 2024, ISBN 978-3-662-69566-1\n",
    "\n",
    "---"
   ]
  },
  {
   "cell_type": "markdown",
   "metadata": {},
   "source": [
    "In Erweiterung des Jupyter-Notebooks [5-03-Atommodell.ipynb](5-03-Atommodell.ipynb), in dem wir ein eindimensionales Modellpotential für ein Atom betrachtet haben, untersuchen wir nun ein eindimensionales Modellpotential\n",
    "\n",
    "$$ V(x) = - \\frac{\\alpha^3}{\\sqrt{\\alpha^2+(x+\\Delta/2)^2}} - \\frac{\\alpha^3}{\\sqrt{\\alpha^2+(x-\\Delta/2)^2}} $$\n",
    "\n",
    "für ein zweiatomiges Molekül. Die Berechnung der Eigenenergien und Eigenvektoren erfolgt wie in den Jupyter-Notebooks [5-02-Harmonischer-Oszillator.ipynb](5-02-Harmonischer-Oszillator.ipynb) und [5-03-Atommodell.ipynb](5-03-Atommodell.ipynb). Am Ende dieses Jupyter-Notebooks wird zusätzlich noch untersucht, wie sich die niedrigsten Eigenenergien als Funktion des Abstands $\\Delta$ zwischen den Potentialminima verhalten."
   ]
  },
  {
   "cell_type": "markdown",
   "metadata": {
    "jp-MarkdownHeadingCollapsed": true,
    "tags": []
   },
   "source": [
    "## Importanweisungen"
   ]
  },
  {
   "cell_type": "code",
   "execution_count": null,
   "metadata": {
    "tags": []
   },
   "outputs": [],
   "source": [
    "import numpy as np\n",
    "import numpy.linalg as LA\n",
    "import ipywidgets as widgets\n",
    "from ipywidgets import interact, interact_manual\n",
    "import matplotlib.pyplot as plt\n",
    "\n",
    "plt.style.use(\"numphyspy.style\")"
   ]
  },
  {
   "cell_type": "markdown",
   "metadata": {
    "jp-MarkdownHeadingCollapsed": true,
    "tags": []
   },
   "source": [
    "## Energetisch niedrigste Eigenzustände"
   ]
  },
  {
   "cell_type": "markdown",
   "metadata": {
    "jp-MarkdownHeadingCollapsed": false,
    "tags": []
   },
   "source": [
    "### Berechnung des Potentials\n",
    "\n",
    "Durch die Verwendung der Wurzelfunktion aus dem NumPy-Paket kann die Funktion `potential` neben skalaren Werten für das Argument `x` auch NumPy-Arrays verarbeiten."
   ]
  },
  {
   "cell_type": "code",
   "execution_count": 2,
   "metadata": {
    "tags": []
   },
   "outputs": [],
   "source": [
    "def potential(x, alpha, delta):\n",
    "    return -alpha**3*(1/np.sqrt(alpha**2+(x+delta/2)**2)\n",
    "                      + 1/np.sqrt(alpha**2+(x-delta/2)**2))"
   ]
  },
  {
   "cell_type": "markdown",
   "metadata": {
    "jp-MarkdownHeadingCollapsed": false,
    "tags": []
   },
   "source": [
    "### Berechnung des Hamilton-Operators\n",
    "\n",
    "Diese Funktion ist identisch mit der Funktion `hamilton_operator` aus dem Jupyter-Notebook [5-02-Harmonischer-Oszillator.ipynb](5-02-Harmonischer-Oszillator.ipynb)."
   ]
  },
  {
   "cell_type": "code",
   "execution_count": null,
   "metadata": {
    "tags": []
   },
   "outputs": [],
   "source": [
    "def hamilton_operator(n_max, x_max, alpha, delta):\n",
    "    ndim = 2*n_max+1\n",
    "    x, dx = np.linspace(-x_max, x_max, ndim, retstep=True)\n",
    "    h = (np.eye(ndim)\n",
    "         - 0.5*(np.eye(ndim, k=1) + np.eye(ndim, k=-1)))\n",
    "    h = h/dx**2 + np.diag(potential(x, alpha, delta))\n",
    "    return h"
   ]
  },
  {
   "cell_type": "markdown",
   "metadata": {
    "jp-MarkdownHeadingCollapsed": false,
    "tags": []
   },
   "source": [
    "### Berechnung der Eigenwerte und Eigenvektoren\n",
    "\n",
    "Diese Funktion ist identisch mit der Funktion `eigenproblem` aus dem Jupyter-Notebook [5-02-Harmonischer-Oszillator.ipynb](5-02-Harmonischer-Oszillator.ipynb)."
   ]
  },
  {
   "cell_type": "code",
   "execution_count": null,
   "metadata": {
    "pycharm": {
     "name": "#%%\n"
    },
    "tags": []
   },
   "outputs": [],
   "source": [
    "def eigenproblem(n_max, x_max, alpha, delta):\n",
    "    h = hamilton_operator(n_max, x_max, alpha, delta)\n",
    "    evals, evecs = LA.eigh(h)\n",
    "    return evals, evecs"
   ]
  },
  {
   "cell_type": "markdown",
   "metadata": {
    "jp-MarkdownHeadingCollapsed": false,
    "tags": []
   },
   "source": [
    "### Implementierung der Bedienelemente und graphische Darstellung der sechs niedrigsten Eigenzustände\n",
    "\n",
    "Mit den Schiebereglern lassen sich die folgenden Parameter einstellen:\n",
    "- `n_max`: Anzahl der Gitterpunkte auf einer Seite des Ursprungs. Insgesamt werden `2*n_max+1` Gitterpunkte verwendet.\n",
    "- `x_max`: Ausdehnung des Gitters von `-x_max` bis `x_max`\n",
    "- `alpha`: Potentialparameter\n",
    "- `delta`: Abstand der Potentialminima\n",
    "\n",
    "Da das Verhalten der energetisch niedrigsten Eigenzustände als Funktion der Barrierenhöhe am interessantesten ist, wird die Darstellung auf sechs Eigenzustände beschränkt. Bei Bedarf kann die Anzahl durch Anpassung der Variable `n_states` zu Beginn der Funktion `plot_eigenstates` angepasst werden."
   ]
  },
  {
   "cell_type": "code",
   "execution_count": null,
   "metadata": {
    "pycharm": {
     "name": "#%%\n"
    },
    "tags": []
   },
   "outputs": [],
   "source": [
    "widget_dict = {\"n_max\":\n",
    "               widgets.IntSlider(\n",
    "                   value=500, min=10, max=1000, step=10,\n",
    "                   description=r\"$n_\\text{max}$\"),\n",
    "               \"x_max\":\n",
    "               widgets.FloatSlider(\n",
    "                   value=80, min=10, max=100, step=1,\n",
    "                   description=r\"$x_\\text{max}$\"),\n",
    "               \"alpha\":\n",
    "               widgets.FloatSlider(\n",
    "                   value=2, min=0.1, max=10, step=0.1,\n",
    "                   description=r\"$\\alpha$\"),\n",
    "               \"delta\":\n",
    "               widgets.FloatSlider(\n",
    "                   value=8, min=1, max=20, step=0.5,\n",
    "                   description=r\"$\\Delta$\")\n",
    "               }\n",
    "\n",
    "\n",
    "interact_start = interact_manual.options(\n",
    "    manual_name=\"Start Berechnung\")\n",
    "\n",
    "@interact_start(**widget_dict)\n",
    "def plot_eigenstates(n_max, x_max, alpha, delta):\n",
    "    n_states = 6\n",
    "    evals, evecs = eigenproblem(n_max, x_max, alpha, delta)\n",
    "    x_values = np.linspace(-x_max, x_max, 2*n_max+1)\n",
    "\n",
    "    fig, ax = plt.subplots()\n",
    "    for n in range(n_states):\n",
    "        ax.plot(x_values, evecs[:, n]/2+evals[n],\n",
    "                label=f\"E={evals[n]:.5f}\")\n",
    "    ax.plot(x_values, potential(x_values, alpha, delta),\n",
    "            color=\"black\")\n",
    "    ax.set_xlim((-2*delta, 2*delta))\n",
    "    ax.set_xlabel(\"$x$\")\n",
    "    ax.set_ylabel(r\"$\\psi(x)$\")\n",
    "    ax.legend(bbox_to_anchor=(0.5, 1.01),\n",
    "              loc=\"lower center\", ncol=2)"
   ]
  },
  {
   "cell_type": "markdown",
   "metadata": {
    "jp-MarkdownHeadingCollapsed": true,
    "tags": []
   },
   "source": [
    "## Abstandsabhängigkeit der Eigenenergien"
   ]
  },
  {
   "cell_type": "markdown",
   "metadata": {
    "jp-MarkdownHeadingCollapsed": false,
    "tags": []
   },
   "source": [
    "### Berechnung der Eigenenergien als Funktion des Abstands zwischen den Potentialminima\n",
    "\n",
    "Zur Berechnung der Eigenenergien wird statt `LA.eigh` die Funktion `LA.eigvalsh` aus der NumPy-Bibliothek verwendet. Dadurch wird die hier unnötige Berechnung der Eigenvektoren vermieden. Diese Funktion ist für hermitesche Matrizen gedacht und garantiert reelle Eigenwerte, die in aufsteigender Reihenfolge geordnet sind. Das zweidimensionale NumPy-Array `energies` enthält zu jedem Wert des Abstands $\\Delta$ eine Zeile mit den berechneten Eigenwerten."
   ]
  },
  {
   "cell_type": "code",
   "execution_count": null,
   "metadata": {
    "tags": []
   },
   "outputs": [],
   "source": [
    "def lowest_energies_over_delta(n_max, x_max, alpha,\n",
    "                               delta_values, n_states):\n",
    "    energies = np.zeros((len(delta_values), n_states))\n",
    "    for n_delta, delta in enumerate(delta_values):\n",
    "        h = hamilton_operator(n_max, x_max, alpha, delta)\n",
    "        evals = LA.eigvalsh(h)\n",
    "        energies[n_delta, :] = evals[0:n_states]\n",
    "    return energies"
   ]
  },
  {
   "cell_type": "markdown",
   "metadata": {
    "jp-MarkdownHeadingCollapsed": false,
    "tags": []
   },
   "source": [
    "### Implementierung der Bedienelemente und graphische Darstellung der Abstandsabhängigkeit der niedrigsten Eigenenergien\n",
    "\n",
    "Mit den Schiebereglern lassen sich die folgenden Parameter einstellen:\n",
    "- `n_max`: Anzahl der Gitterpunkte auf einer Seite des Ursprungs. Insgesamt werden `2*n_max+1` Gitterpunkte verwendet.\n",
    "- `x_max`: Ausdehnung des Gitters von `-x_max` bis `x_max`\n",
    "- `alpha`: Potentialparameter\n",
    "- `delta_max`: maximaler Abstand der Potentialminima\n",
    "- `n_delta_max`: Anzahl der zu betrachtenden Abstandswerte $\\Delta$\n",
    "\n",
    "Wie zuvor bei den Eigenzuständen zu festem $\\Delta$ werden hier die sechs niedrigsten Eigenenergien betrachtet. Der Wert kann bei Bedarf zu Beginn der Funktion `plot_energy_over_delta` mit Hilfe der Variable `n_states` angepasst werden."
   ]
  },
  {
   "cell_type": "code",
   "execution_count": null,
   "metadata": {
    "pycharm": {
     "name": "#%%\n"
    },
    "tags": []
   },
   "outputs": [],
   "source": [
    "widget_dict = {\"n_max\":\n",
    "               widgets.IntSlider(\n",
    "                   value=500, min=10, max=1000, step=10,\n",
    "                   description=r\"$n_\\text{max}$\"),\n",
    "               \"x_max\":\n",
    "               widgets.FloatSlider(\n",
    "                   value=80, min=10, max=100, step=1,\n",
    "                   description=r\"$x_\\text{max}$\"),\n",
    "               \"alpha\":\n",
    "               widgets.FloatSlider(\n",
    "                   value=2, min=0.1, max=10, step=0.1,\n",
    "                   description=r\"$\\alpha$\"),\n",
    "               \"delta_max\":\n",
    "               widgets.FloatSlider(\n",
    "                   value=20, min=1, max=20, step=0.1,\n",
    "                   description=r\"$\\Delta_\\text{max}$\"),\n",
    "               \"n_delta_max\":\n",
    "               widgets.IntSlider(\n",
    "                   value=100, min=10, max=500, step=10,\n",
    "                   description=r\"$n_\\Delta$\")\n",
    "               }\n",
    "\n",
    "@interact_start(**widget_dict)\n",
    "def plot_energy_over_delta(n_max, x_max, alpha, delta_max,\n",
    "                           n_delta_max):\n",
    "    n_states = 6\n",
    "    delta_values = np.linspace(0, delta_max, n_delta_max)\n",
    "    lowest_energies = lowest_energies_over_delta(\n",
    "        n_max, x_max, alpha, delta_values, n_states)\n",
    "\n",
    "    fig, ax = plt.subplots()\n",
    "    for n in range(n_states):\n",
    "        ax.plot(delta_values, lowest_energies[:, n])\n",
    "    ax.set_xlabel(r\"$\\Delta$\")\n",
    "    ax.set_ylabel(\"$E_0$\")\n",
    "    ax.set_xlim((0, delta_max))"
   ]
  }
 ],
 "metadata": {
  "kernelspec": {
   "display_name": "Python 3 (ipykernel)",
   "language": "python",
   "name": "python3"
  },
  "language_info": {
   "codemirror_mode": {
    "name": "ipython",
    "version": 3
   },
   "file_extension": ".py",
   "mimetype": "text/x-python",
   "name": "python",
   "nbconvert_exporter": "python",
   "pygments_lexer": "ipython3",
   "version": "3.12.4"
  }
 },
 "nbformat": 4,
 "nbformat_minor": 4
}
