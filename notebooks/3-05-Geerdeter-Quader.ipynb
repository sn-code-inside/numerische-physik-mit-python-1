{
 "cells": [
  {
   "cell_type": "markdown",
   "id": "7bf6788c",
   "metadata": {},
   "source": [
    "# Geerdete Schachtel mit Potentialverteilung auf Deckel\n",
    "\n",
    "Siehe Wiedemann/Ingold: *Numerische Physik mit Python*, Springer-Spektrum 2024, ISBN 978-3-662-69566-1\n",
    "\n",
    "---"
   ]
  },
  {
   "cell_type": "markdown",
   "id": "c13fa6f2-d1f8-46aa-ac04-08836ac18448",
   "metadata": {},
   "source": [
    "In diesem Jupyter-Notebook wird die Laplace-Gleichung innerhalb eines an den Seiten und auf dem Boden geerdeten Quaders gelöst. Auf dem Deckel des Quaders wird die Potentialverteilung vorgegeben. Zur Bestimmung des Potentials im Innern des Quaders werden Lösungen der Laplace-Gleichung verwendet, die an die Dirichlet-Randbedingungen auf den geerdeten Rändern angepasst sind. Diese Lösungen sind durch\n",
    "\n",
    "$$\\Phi_{m, n}(x, y, z) = \\sin(m\\pi\\frac{x}{L})\\sin(n\\pi\\frac{y}{L})\\sinh(\\sqrt{m^2+n^2}\\pi\\frac{z}{L})$$\n",
    "\n",
    "gegeben. Die Entwicklungskoeffizienten ergeben sich durch eine zweidimensionale Fouriertransformation des Potentials auf dem Deckel bei $z=h$."
   ]
  },
  {
   "cell_type": "markdown",
   "id": "2363c32e",
   "metadata": {
    "jp-MarkdownHeadingCollapsed": true,
    "tags": []
   },
   "source": [
    "## Importanweisungen"
   ]
  },
  {
   "cell_type": "code",
   "execution_count": null,
   "id": "371e1315",
   "metadata": {
    "tags": []
   },
   "outputs": [],
   "source": [
    "import numpy as np\n",
    "from scipy import fft\n",
    "import ipywidgets as widgets\n",
    "from ipywidgets import interact\n",
    "import matplotlib.pyplot as plt\n",
    "\n",
    "plt.style.use(\"numphyspy.style\")"
   ]
  },
  {
   "cell_type": "markdown",
   "id": "a9000b24",
   "metadata": {
    "jp-MarkdownHeadingCollapsed": true,
    "tags": []
   },
   "source": [
    "## Zwei Deckelpotentiale\n",
    "\n",
    "Im Folgenden werden zwei Potentialverteilungen auf dem Deckel definiert:\n",
    "- `constant_potential`: Das dimensionslose Potential wird auf dem gesamten Deckel gleich eins gesetzt.\n",
    "- `two_disk_potential`: Das dimensionslose Potential wird in zwei Scheiben mit Radius $L/8$ an den Stellen $x=L/4, y=L/2$ und $x=3L/4, y=L/2$ gleich eins gesetzt. Ansonsten ist das Potential gleich null.\n",
    "\n",
    "Bei Bedarf können weitere Potentialverteilungen definiert werden. Als Argument muss die Zahl `n` der Gitterpunkte je Dimension eines Quadratgitters übergeben werden. Zurückgegeben werden muss ein NumPy-Array der Form `(n, n)`, das die Potentialwerte auf dem Gitter enthält."
   ]
  },
  {
   "cell_type": "code",
   "execution_count": null,
   "id": "29bbee62",
   "metadata": {
    "tags": []
   },
   "outputs": [],
   "source": [
    "def constant_potential(n):\n",
    "    return np.ones((n, n), dtype=float)\n",
    "\n",
    "def two_disk_potential(n):\n",
    "    potential = np.zeros((n, n), dtype=float)\n",
    "    xidx, yidx = np.ogrid[:n, :n]\n",
    "    y0 = n/2\n",
    "    r = n/8\n",
    "    for x0 in (n/4, 3*n/4):\n",
    "        disk = (xidx-x0)**2 + (yidx-y0)**2 <= r**2\n",
    "        potential[disk] = 1\n",
    "    return potential"
   ]
  },
  {
   "cell_type": "markdown",
   "id": "a19f7dcf",
   "metadata": {
    "jp-MarkdownHeadingCollapsed": true,
    "tags": []
   },
   "source": [
    "## Potential im Quaderinnern\n",
    "\n",
    "Um das Potential im Quader zu bestimmen, wird zunächst das Deckelpotential auf einem Gitter der Form `(nx, nx)` berechnet und anschließend fouriertransformiert. Die Funktion zur Berechnung des Deckelpotentials wird im Argument `potential_cover` übergeben. Das Argument `h_over_l` gibt das Verhältnis von Quaderhöhe zu Seitenlänge an. Nachdem die Fouriertransformierte mit der benötigten $z$-Abhängigkeit aus den Lösungen $\\Phi_{m,n}$ multipliziert wurde, kann die Fourierrücktransformation erfolgen, um das Potential auf einem zweidimensionalen vertikalen Schnitt bei $y=L/2$ in einem Array der Form `(nx, nz)` zu erhalten."
   ]
  },
  {
   "cell_type": "code",
   "execution_count": null,
   "id": "cfe2c5ac",
   "metadata": {
    "tags": []
   },
   "outputs": [],
   "source": [
    "def potential(potential_cover, h_over_l, nx, nz):\n",
    "    v = potential_cover(nx)\n",
    "    v_tilde = fft.dstn(v)\n",
    "    coeffs = v_tilde[:, :, np.newaxis]\n",
    "    xidx, yidx, zidx = np.ogrid[1:nx+1, 1:nx+1,\n",
    "                                0:h_over_l:nz*1j]\n",
    "    arg1 = np.sqrt(xidx**2 + yidx**2)*np.pi\n",
    "    coeffs = (coeffs*np.exp(arg1*(zidx-h_over_l))\n",
    "              * (1-np.exp(-2*arg1*zidx))\n",
    "              / (1-np.exp(-2*arg1*h_over_l)))\n",
    "    phi = fft.idstn(coeffs, axes=(0, 1))\n",
    "    return phi[:, nx//2, :]"
   ]
  },
  {
   "cell_type": "markdown",
   "id": "7e3d165c",
   "metadata": {
    "jp-MarkdownHeadingCollapsed": true,
    "tags": []
   },
   "source": [
    "## Implementierung der Bedienelemente und graphische Darstellung des elektrischen Potentials\n",
    "\n",
    "Mit Hilfe der Bedienelemente lassen sich die folgenden Parameter einstellen:\n",
    "- `v`: Funktion zur Berechnung des Potentials. Es kann zwischen einem konstanten Potential und einem Zweischeibenpotential gewählt werden.\n",
    "- `h_over_l`: Verhältnis von Quaderhöhe zu Seitenlänge\n",
    "- `log_nx`: Zweierlogarithmus der Anzahl der Gitterpunkte für $x$- und $y$-Richtung\n",
    "- `nz`: Zahl der zu betrachtenden Punkte in $z$-Richtung\n",
    "\n",
    "Das Potential wird in der $x$-$z$-Ebene bei $y=L/2$ farblich dargestellt. Zur besseren Interpretierbarkeit werden noch weiße Äquipotentiallinien eingezeichnet. Die Höhe der Farbskala passt sich der Quaderhöhe an. "
   ]
  },
  {
   "cell_type": "code",
   "execution_count": null,
   "id": "328e66b6",
   "metadata": {
    "tags": []
   },
   "outputs": [],
   "source": [
    "v_options = [(\"konstantes Potential\", constant_potential),\n",
    "             (\"Zweischeibenpotential\", two_disk_potential)]\n",
    "widget_dict = {\"v\":\n",
    "               widgets.widgets.Dropdown(\n",
    "                   options=v_options,\n",
    "                   description=r\"$\\Phi_\\text{D}(x,y)$\"),\n",
    "               \"h_over_l\":\n",
    "               widgets.FloatSlider(\n",
    "                   value=1, min=0.1, max=1, step=0.05,\n",
    "                   description=\"$h/L$\"),\n",
    "               \"log_nx\":\n",
    "               widgets.IntSlider(\n",
    "                   value=7, min=5, max=9,\n",
    "                   description=r\"$\\log_2(n_x)$\"),\n",
    "               \"nz\":\n",
    "               widgets.IntSlider(\n",
    "                   value=200, min=50, max=1000, step=50,\n",
    "                   description=\"$n_z$\")\n",
    "               }\n",
    "\n",
    "@interact(**widget_dict)\n",
    "def plot_result(v, h_over_l, log_nx, nz):\n",
    "    nx = 2**log_nx\n",
    "    phi = potential(v, h_over_l, nx, nz)\n",
    "\n",
    "    fig, ax = plt.subplots(figsize=(8, 8))\n",
    "    mesh = ax.imshow(phi.T, origin=\"lower\", cmap=\"plasma\",\n",
    "                     extent=(0, 1, 0, h_over_l))\n",
    "    ax.contour(phi.T,\n",
    "               levels=[0.05+n*0.1 for n in range(10)],\n",
    "               colors=\"white\", origin=\"lower\",\n",
    "               extent=(0, 1, 0, h_over_l))\n",
    "    ax.set_xlabel(\"$x/L$\")\n",
    "    ax.set_ylabel(\"$z/L$\")\n",
    "    fig.colorbar(mesh, fraction=0.05*h_over_l)"
   ]
  }
 ],
 "metadata": {
  "kernelspec": {
   "display_name": "Python 3 (ipykernel)",
   "language": "python",
   "name": "python3"
  },
  "language_info": {
   "codemirror_mode": {
    "name": "ipython",
    "version": 3
   },
   "file_extension": ".py",
   "mimetype": "text/x-python",
   "name": "python",
   "nbconvert_exporter": "python",
   "pygments_lexer": "ipython3",
   "version": "3.12.4"
  }
 },
 "nbformat": 4,
 "nbformat_minor": 5
}
