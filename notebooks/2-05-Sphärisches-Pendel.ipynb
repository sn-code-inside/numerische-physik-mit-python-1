{
 "cells": [
  {
   "cell_type": "markdown",
   "metadata": {},
   "source": [
    "# Sphärisches Pendel\n",
    "\n",
    "Siehe Wiedemann/Ingold: *Numerische Physik mit Python*, Springer-Spektrum 2024, ISBN 978-3-662-69566-1\n",
    "\n",
    "---"
   ]
  },
  {
   "cell_type": "markdown",
   "metadata": {},
   "source": [
    "Als Verallgemeinerung des mathematischen Pendels wird nun das sphärische Pendel betrachtet. Bei der numerischen Lösung wird ausgenutzt, dass die Komponente $L_z$ des Drehimpulses erhalten ist und sich somit die Zahl der Differentialgleichungen 1. Ordnung um eins reduzieren lässt. Die verbleibenden drei Differentialgleichungen lauten dann in dimensionsloser Form\n",
    "\n",
    "\\begin{align}\n",
    "\\frac{\\text{d}\\varphi}{\\text{d}t} &= \\frac{L_z}{\\sin^2(\\theta)}\\\\\n",
    "\\frac{\\text{d}\\theta}{\\text{d}t} &= v_\\theta\\\\\n",
    "\\frac{\\text{d}v_\\theta}{\\text{d}t} &= L_z^2\\frac{\\cos(\\theta)}{\\sin^3(\\theta)} - \\sin(\\theta)\n",
    "\\end{align}"
   ]
  },
  {
   "cell_type": "markdown",
   "metadata": {
    "jp-MarkdownHeadingCollapsed": false,
    "tags": []
   },
   "source": [
    "### Importanweisungen"
   ]
  },
  {
   "cell_type": "code",
   "execution_count": null,
   "metadata": {
    "tags": []
   },
   "outputs": [],
   "source": [
    "from math import cos, sin\n",
    "import numpy as np\n",
    "from scipy import integrate\n",
    "import ipywidgets as widgets\n",
    "from ipywidgets import interact\n",
    "import matplotlib.pyplot as plt\n",
    "\n",
    "plt.style.use(\"numphyspy.style\")"
   ]
  },
  {
   "cell_type": "markdown",
   "metadata": {
    "jp-MarkdownHeadingCollapsed": false,
    "tags": []
   },
   "source": [
    "### Implementierung der Differentialgleichung\n",
    "\n",
    "Die nachfolgende Routine stellt die Differentialgleichung auf."
   ]
  },
  {
   "cell_type": "code",
   "execution_count": null,
   "metadata": {
    "tags": []
   },
   "outputs": [],
   "source": [
    "def dy_dt(t, y, l_z):\n",
    "    phi, theta, v_theta = y\n",
    "    return (l_z/sin(theta)**2, v_theta,\n",
    "            l_z**2*cos(theta)/sin(theta)**3 - sin(theta))"
   ]
  },
  {
   "cell_type": "markdown",
   "metadata": {
    "jp-MarkdownHeadingCollapsed": false,
    "tags": []
   },
   "source": [
    "### Lösung des Differentialgleichungssystems\n",
    "\n",
    "Das Differentialgleichungssystems wird wieder mit der SciPy-Funktion `integrate.solve_ivp` gelöst, wobei nun die $z$-Komponente des Drehimpulses als Tupel im Argument `args` übergeben wird. Die Fehlerschranken für den absoluten und relativen Fehler sind auf feste Werte gesetzt.\n",
    "\n",
    "Zurückgegeben werden neben den Zeitpunkten die zugehörigen Werte der Winkel $\\varphi$ und $\\theta$, die Winkelgeschwindigkeit $v_\\theta$ sowie die Anzahl der Aufrufe von `dy_dt`."
   ]
  },
  {
   "cell_type": "code",
   "execution_count": null,
   "metadata": {
    "tags": []
   },
   "outputs": [],
   "source": [
    "def trajectory(t_end, n_out, phi_0, theta_0, v_theta_0,\n",
    "               l_z):\n",
    "    t_eval = np.linspace(0, t_end, n_out)\n",
    "    solution = integrate.solve_ivp(\n",
    "        dy_dt, (0, t_end), [phi_0, theta_0, v_theta_0],\n",
    "        args=(l_z,), t_eval=t_eval, atol=1e-8, rtol=1e-8)\n",
    "    phi, theta, v_theta = solution.y[:]\n",
    "    t = solution.t\n",
    "    return t, phi, theta, v_theta, solution.nfev"
   ]
  },
  {
   "cell_type": "markdown",
   "metadata": {
    "jp-MarkdownHeadingCollapsed": false,
    "tags": []
   },
   "source": [
    "### Implementierung der Bedienelemente und graphische Darstellung der Ergebnisse\n",
    "\n",
    "Die folgenden Parameter können mit Hilfe von Schiebereglern eingestellt werden:\n",
    "- `t_end`: Länge des Zeitintervalls\n",
    "- `n_out`: Anzahl der Zeitpunkte\n",
    "- `v_phi_0`: Anfangswinkelgeschwindigkeit des Azimutwinkels\n",
    "- `theta_0`: anfänglicher Polarwinkel\n",
    "- `v_theta_0`: Anfangswinkelgeschwindigkeit des Polarwinkels\n",
    "\n",
    "Der Anfangswinkel $\\varphi(0)$ wird in der Funktion `plot_result` auf null gesetzt.\n",
    "\n",
    "Die graphische Darstellung der Bewegung erfolgt durch Projektion der Bahnkurve auf die $x$-$y$-Ebene."
   ]
  },
  {
   "cell_type": "code",
   "execution_count": null,
   "metadata": {
    "tags": []
   },
   "outputs": [],
   "source": [
    "widget_dict = {\"t_end\":\n",
    "               widgets.FloatSlider(\n",
    "                   value=75, min=10, max=300, step=1,\n",
    "                   description=r\"$\\tau_\\text{end}$\"),\n",
    "               \"n_out\":\n",
    "               widgets.IntSlider(\n",
    "                   value=1000, min=100, max=5000, step=100,\n",
    "                   description=r\"$n_\\text{out}$\"),\n",
    "               \"v_phi_0\":\n",
    "               widgets.FloatSlider(\n",
    "                   value=0.1, min=-1, max=1, step=0.1,\n",
    "                   description=r\"$v_\\varphi(0)$\"),\n",
    "               \"theta_0\":\n",
    "               widgets.FloatSlider(\n",
    "                   value=2.6, min=0.1, max=3.14, step=0.1,\n",
    "                   description=r\"$\\theta(0)$\"),\n",
    "               \"v_theta_0\":\n",
    "               widgets.FloatSlider(\n",
    "                   value=0, min=-2.5, max=2.5, step=0.1,\n",
    "                   description=r\"$v_\\theta(0)$\")\n",
    "               }\n",
    "\n",
    "@interact(**widget_dict)\n",
    "def plot_result(t_end, n_out, v_phi_0, theta_0, v_theta_0):\n",
    "    l_z = v_phi_0 * sin(theta_0)**2\n",
    "    phi_0 = 0\n",
    "    t, phi, theta, v_theta, count = trajectory(\n",
    "        t_end, n_out, phi_0, theta_0, v_theta_0, l_z)\n",
    "\n",
    "    fig, ax = plt.subplots()\n",
    "    ax.set_aspect(\"equal\")\n",
    "    ax.plot(np.cos(phi)*np.sin(theta),\n",
    "            np.sin(phi)*np.sin(theta))\n",
    "    ax.set_xlabel(\"$x$\")\n",
    "    ax.set_ylabel(\"$y$\")\n",
    "    print(f\"{count} Aufrufe von dy_dt\")"
   ]
  }
 ],
 "metadata": {
  "kernelspec": {
   "display_name": "Python 3 (ipykernel)",
   "language": "python",
   "name": "python3"
  },
  "language_info": {
   "codemirror_mode": {
    "name": "ipython",
    "version": 3
   },
   "file_extension": ".py",
   "mimetype": "text/x-python",
   "name": "python",
   "nbconvert_exporter": "python",
   "pygments_lexer": "ipython3",
   "version": "3.12.4"
  }
 },
 "nbformat": 4,
 "nbformat_minor": 4
}
