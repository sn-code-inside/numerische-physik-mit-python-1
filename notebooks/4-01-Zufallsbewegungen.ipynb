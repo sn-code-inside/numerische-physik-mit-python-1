{
 "cells": [
  {
   "cell_type": "markdown",
   "metadata": {},
   "source": [
    "# Zufallsbewegungen\n",
    "\n",
    "Siehe Wiedemann/Ingold: *Numerische Physik mit Python*, Springer-Spektrum 2024, ISBN 978-3-662-69566-1\n",
    "\n",
    "---"
   ]
  },
  {
   "cell_type": "markdown",
   "metadata": {},
   "source": [
    "In diesem Jupyter-Notebook werden zufällige Bewegungen in diskreten Zeitschritten in einer Raumdimension betrachtet. Im ersten Teil ist die Schrittweite konstant, aber das Teilchen kann sich mit gleicher Wahrscheinlichkeit entweder nach links oder nach rechts bewegen. Im zweiten Teil wird eine normalverteilte Schrittweite betrachtet. Aufgrund des Zufallscharakters werden ganze Ensembles von Teilchen behandelt und Mittelwerte von relevanten Größen berechnet."
   ]
  },
  {
   "cell_type": "markdown",
   "metadata": {
    "jp-MarkdownHeadingCollapsed": false,
    "tags": []
   },
   "source": [
    "### Importanweisungen\n",
    "\n",
    "Neben bereits bekannten Importanweisungen wird für die Achseneinteilung bei einem Balkendiagramm der Namensraum des `ticker`-Moduls von `matplotlib` importiert."
   ]
  },
  {
   "cell_type": "code",
   "execution_count": null,
   "metadata": {
    "tags": []
   },
   "outputs": [],
   "source": [
    "from math import pi, sqrt\n",
    "import numpy as np\n",
    "from scipy import special\n",
    "import ipywidgets as widgets\n",
    "from ipywidgets import interact\n",
    "import matplotlib.pyplot as plt\n",
    "from matplotlib import ticker\n",
    "\n",
    "plt.style.use(\"numphyspy.style\")"
   ]
  },
  {
   "cell_type": "markdown",
   "metadata": {
    "jp-MarkdownHeadingCollapsed": true,
    "tags": []
   },
   "source": [
    "## Zufallsbewegung mit fester Schrittweite"
   ]
  },
  {
   "cell_type": "markdown",
   "metadata": {
    "jp-MarkdownHeadingCollapsed": false,
    "tags": []
   },
   "source": [
    "### Zeitentwicklung des Ensembles\n",
    "\n",
    "Zunächst wird ein zweidimensionales Array erzeugt, das zufällig verteilt die Werte -1 und +1 enthält, die angeben, ob die Bewegung nach links oder nach rechts erfolgt. Die Achse 0 des Arrays entspricht den Zeitschritten, während die Achse 1 zu den verschiedenen Realisierungen des Ensembles gehört. Die zeitliche Bewegung erhält man durch eine kumulative Summe über die Achse 0, deren Ergebnisse im Array `trajectories` gespeichert wird. Bei der Initialisierung wird eine zusätzliche Zeile zu Beginn hinzugefügt, die den Anfangsort auf null setzt. Durch Mittelung über die einzelnen Realisierungen, also entlang der Achse 1, werden mit Hilfe der NumPy-Funktionen `mean` und `var` sowohl der Mittelwert des Orts als auch die zugehörige Varianz bestimmt."
   ]
  },
  {
   "cell_type": "code",
   "execution_count": null,
   "metadata": {
    "tags": []
   },
   "outputs": [],
   "source": [
    "def time_development_choice(n_steps, n_ensemble):\n",
    "    rng = np.random.default_rng()\n",
    "    steps = rng.choice((-1, 1), size=(n_steps, n_ensemble))\n",
    "    trajectories = np.zeros((n_steps+1, n_ensemble))\n",
    "    trajectories[1:, :] = np.cumsum(steps, axis=0)\n",
    "    x_mean = np.mean(trajectories, axis=1)\n",
    "    x_var = np.var(trajectories, axis=1)\n",
    "    return trajectories[-1, :], x_mean, x_var"
   ]
  },
  {
   "cell_type": "markdown",
   "metadata": {
    "jp-MarkdownHeadingCollapsed": false,
    "tags": []
   },
   "source": [
    "### Berechnung der Normalverteilung\n",
    "\n",
    "Die Funktion `gaussian` berechnet eine bei null zentrierte Normalverteilung mit Varianz `mu_2`."
   ]
  },
  {
   "cell_type": "code",
   "execution_count": null,
   "metadata": {
    "tags": []
   },
   "outputs": [],
   "source": [
    "def gaussian(x, mu_2):\n",
    "    return np.exp(-0.5*x**2/mu_2) / sqrt(2*pi*mu_2)"
   ]
  },
  {
   "cell_type": "markdown",
   "metadata": {
    "jp-MarkdownHeadingCollapsed": false,
    "tags": []
   },
   "source": [
    "### Berechnung der exakten Lösung der Mastergleichung\n",
    "\n",
    "In der Funktion `solution_master` wird die exakte Lösung der Mastergleichung nach `n_steps` Schritten berechnet. Das Ergebnis ist ein Array, dessen erster Wert zum Ort `-n_steps` und dessen letzter Wert zum Ort `n_steps` gehört."
   ]
  },
  {
   "cell_type": "code",
   "execution_count": null,
   "metadata": {
    "tags": []
   },
   "outputs": [],
   "source": [
    "def solution_master(n_steps):\n",
    "    p = np.zeros(2*n_steps+1)\n",
    "    j = np.arange(-n_steps, n_steps+1, 2)\n",
    "    p[::2] = special.binom(n_steps, (n_steps+j)//2\n",
    "                           ) / 2**n_steps\n",
    "    return p"
   ]
  },
  {
   "cell_type": "markdown",
   "metadata": {
    "jp-MarkdownHeadingCollapsed": false,
    "tags": []
   },
   "source": [
    "### Implementierung der Bedienelemente und graphische Darstellung der Verteilung\n",
    "\n",
    "Mit Hilfe der Schieberegler lassen sich die folgenden Parameter einstellen:\n",
    "- `n_steps_1`: Zahl der Schritte bis zur darzustellenden Verteilung\n",
    "- `log_n_ensemble_1`: Zehnerlogarithmus der Ensemblegröße\n",
    "\n",
    "Die Verteilung nach der vorgegebenen Anzahl von Schritten wird als Balkendiagramm dargestellt. Zur Berechnung der Verteilung wird dabei die NumPy-Funktion `unique` verwendet. Zum Vergleich wird die exakte Lösung der Mastergleichung durch schwarze Punkte angedeutet. Die rote Linie stellt eine Normalverteilung mit einer Varianz dar, die durch die Anzahl der Zeitschritte gegeben ist."
   ]
  },
  {
   "cell_type": "code",
   "execution_count": null,
   "metadata": {
    "tags": []
   },
   "outputs": [],
   "source": [
    "widget_dict = {\"n_steps_1\":\n",
    "               widgets.IntSlider(\n",
    "                   value=10, min=1, max=20, step=1,\n",
    "                   description=r\"$n_\\text{steps}$\"),\n",
    "               \"log_n_ensemble_1\":\n",
    "               widgets.IntSlider(\n",
    "                   value=2, min=1, max=5, step=1,\n",
    "                   description=r\"$\\log_{10}(N)$\")\n",
    "               }\n",
    "\n",
    "@interact(**widget_dict)\n",
    "def plot_result_choice_1(n_steps_1, log_n_ensemble_1):\n",
    "    n_ensemble_1 = 10**log_n_ensemble_1\n",
    "    p, x_mean, x_var = time_development_choice(n_steps_1,\n",
    "                                               n_ensemble_1)\n",
    "\n",
    "    x_max = int(3*sqrt(n_steps_1))\n",
    "    unique_values, counts = np.unique(p, return_counts=True)\n",
    "\n",
    "    fig, ax = plt.subplots()\n",
    "    ax.bar(unique_values, counts/n_ensemble_1, 1)\n",
    "    ax.xaxis.set_major_locator(\n",
    "        ticker.MaxNLocator(integer=True))\n",
    "    x = np.linspace(-x_max, x_max, 100)\n",
    "    ax.plot(x, 2*gaussian(x, n_steps_1), color=\"red\",\n",
    "            label=\"Normalverteilung\")\n",
    "    x = np.arange(-n_steps_1, n_steps_1+1)\n",
    "    p_exact = solution_master(n_steps_1)\n",
    "    ax.plot(x, p_exact, color=\"black\", linestyle=\"None\",\n",
    "            marker=\"o\", label=\"exakte Lösung\")\n",
    "    ax.set_xlim([-x_max, x_max])\n",
    "    ax.set_xlabel(\"$j$\")\n",
    "    ax.set_ylabel(\"$P_j$\")\n",
    "    ax.legend(loc=\"upper left\", fontsize=\"small\")"
   ]
  },
  {
   "cell_type": "markdown",
   "metadata": {
    "jp-MarkdownHeadingCollapsed": false,
    "tags": []
   },
   "source": [
    "### Implementierung der Bedienelemente und graphische Darstellung der Zeitentwicklung von Mittelwert und Varianz\n",
    "\n",
    "Mit Hilfe der Schieberegler lassen sich die folgenden Parameter einstellen:\n",
    "- `n_steps_2`: Zahl der Schritte bis zur darzustellenden Verteilung\n",
    "- `log_n_ensemble_2`: Zehnerlogarithmus der Ensemblegröße\n",
    "\n",
    "Die Variablen werden hier anders benannt als in der vorigen Zelle, um Kopplungen zwischen den Parametern zu vermeiden.\n",
    "\n",
    "Graphisch dargestellt werden die Entwicklung des Mittelwerts sowie der Abweichung der Varianz vom erwarteten linearen Verhalten."
   ]
  },
  {
   "cell_type": "code",
   "execution_count": null,
   "metadata": {
    "tags": []
   },
   "outputs": [],
   "source": [
    "widget_dict = {\"n_steps_2\":\n",
    "               widgets.IntSlider(\n",
    "                   value=100, min=100, max=1000, step=100,\n",
    "                   description=r\"$n_\\text{steps}$\"),\n",
    "               \"log_n_ensemble_2\":\n",
    "               widgets.IntSlider(\n",
    "                   value=3, min=1, max=5, step=1,\n",
    "                   description=r\"$\\log_{10}(N)$\")\n",
    "               }\n",
    "\n",
    "@interact(**widget_dict)\n",
    "def plot_result_choice_2(n_steps_2, log_n_ensemble_2):\n",
    "    n_ensemble_2 = 10**log_n_ensemble_2\n",
    "    p, x_mean, x_var = time_development_choice(n_steps_2,\n",
    "                                               n_ensemble_2)\n",
    "    n = np.arange(n_steps_2+1)\n",
    "\n",
    "    fig, (ax0, ax1) = plt.subplots(1, 2)\n",
    "    ax0.plot(n, x_mean)\n",
    "    ax0.set_xlabel(\"$n$\")\n",
    "    ax0.set_ylabel(r\"$\\mu_1$\")\n",
    "    ax1.plot(n, x_var-n)\n",
    "    ax1.set_xlabel(\"$n$\")\n",
    "    ax1.set_ylabel(r\"$\\mu_2-n$\")"
   ]
  },
  {
   "cell_type": "markdown",
   "metadata": {
    "jp-MarkdownHeadingCollapsed": true,
    "tags": []
   },
   "source": [
    "## Random-Walk mit normalverteilter Schrittweite\n",
    "\n",
    "Nun lassen wir eine variable Schrittweite zu, die einer Normalverteilung gehorcht. Die Standardabweichung der Verteilung ist gleich 1."
   ]
  },
  {
   "cell_type": "markdown",
   "metadata": {
    "jp-MarkdownHeadingCollapsed": false,
    "tags": []
   },
   "source": [
    "### Zeitentwicklung des Ensembles\n",
    "\n",
    "Der Code entspricht im Wesentlichen dem Vorgehen in der obigen Funktion `time_development_choice`, wobei hier jedoch Zufallszahlen aus einer Normalverteilung gezogen werden, die bei null zentriert ist und Standardabweichung 1 besitzt. Zudem wird beim Initialisieren des Zufallszahlengenerators ein `seed` angegeben, der die Ergebnisse trotz des Zufallscharakters reproduzierbar macht."
   ]
  },
  {
   "cell_type": "code",
   "execution_count": null,
   "metadata": {
    "tags": []
   },
   "outputs": [],
   "source": [
    "def time_development_normal(n_steps, n_ensemble):\n",
    "    rng = np.random.default_rng(12345)\n",
    "    steps = rng.normal(size=(n_steps, n_ensemble))\n",
    "    trajectories = np.zeros((n_steps+1, n_ensemble))\n",
    "    trajectories[1:, :] = np.cumsum(steps, axis=0)\n",
    "    x_mean = np.mean(trajectories, axis=1)\n",
    "    x_var = np.var(trajectories, axis=1)\n",
    "    return trajectories[-1, :], x_mean, x_var"
   ]
  },
  {
   "cell_type": "markdown",
   "metadata": {
    "jp-MarkdownHeadingCollapsed": false,
    "tags": []
   },
   "source": [
    "### Implementierung der Bedienelemente und graphische Darstellung der Ergebnisse\n",
    "\n",
    "Mit Hilfe der Schieberegler lassen sich die folgenden Parameter einstellen:\n",
    "- `n_steps_3`: Zahl der Schritte bis zur darzustellenden Verteilung\n",
    "- `log_n_ensemble_3`: Zehnerlogarithmus der Ensemblegröße\n",
    "\n",
    "Die graphische Darstellung umfasst die Funktionen $\\langle x(n) \\rangle$ und $\\langle x^2(n) \\rangle-n$ sowie ein Histogramm der Verteilung am Ende der Zeitentwicklung. Zum Vergleich ist eine Normalverteilung mit der zu erwartenden Varianz eingezeichnet."
   ]
  },
  {
   "cell_type": "code",
   "execution_count": null,
   "metadata": {
    "tags": []
   },
   "outputs": [],
   "source": [
    "widget_dict = {\"n_steps_3\":\n",
    "               widgets.IntSlider(\n",
    "                   value=100, min=100, max=1000, step=100,\n",
    "                   description=r\"$n_\\text{steps}$\"),\n",
    "               \"log_n_ensemble_3\":\n",
    "               widgets.IntSlider(\n",
    "                   value=3, min=1, max=5, step=1,\n",
    "                   description=r\"$\\log_{10}(N)$\")\n",
    "               }\n",
    "\n",
    "@interact(**widget_dict)\n",
    "def plot_result_normal(n_steps_3, log_n_ensemble_3):\n",
    "    n_ensemble_3 = 10**log_n_ensemble_3\n",
    "    n = np.arange(n_steps_3+1)\n",
    "    p, x_mean, x_var = time_development_normal(n_steps_3,\n",
    "                                               n_ensemble_3)\n",
    "\n",
    "    fig, axd = plt.subplot_mosaic(\n",
    "        [[\"mu1\", \"mu2\"], [\"P\", \"P\"]])\n",
    "    axd[\"mu1\"].plot(n, x_mean)\n",
    "    axd[\"mu1\"].set_xlabel(\"$n$\")\n",
    "    axd[\"mu1\"].set_ylabel(r\"$\\mu_1$\")\n",
    "\n",
    "    axd[\"mu2\"].plot(n, x_var-n)\n",
    "    axd[\"mu2\"].set_xlabel(\"$n$\")\n",
    "    axd[\"mu2\"].set_ylabel(r\"$\\mu_2-n$\")\n",
    "\n",
    "    x_max = int(3*sqrt(n_steps_3))\n",
    "    bins = np.arange(-x_max-1, x_max+1) + 0.5\n",
    "    axd[\"P\"].hist(p, bins=bins, label=\"Histogramm\",\n",
    "                  density=True)\n",
    "    axd[\"P\"].plot(bins, gaussian(bins, n_steps_3),\n",
    "                  label=\"Normalverteilung\")\n",
    "    axd[\"P\"].set_xlim([-x_max, x_max])\n",
    "    axd[\"P\"].set_xlabel(\"$x$\")\n",
    "    axd[\"P\"].set_ylabel(\"$P$\")\n",
    "    axd[\"P\"].legend(loc=\"upper left\", fontsize=\"small\")"
   ]
  }
 ],
 "metadata": {
  "kernelspec": {
   "display_name": "Python 3 (ipykernel)",
   "language": "python",
   "name": "python3"
  },
  "language_info": {
   "codemirror_mode": {
    "name": "ipython",
    "version": 3
   },
   "file_extension": ".py",
   "mimetype": "text/x-python",
   "name": "python",
   "nbconvert_exporter": "python",
   "pygments_lexer": "ipython3",
   "version": "3.12.4"
  }
 },
 "nbformat": 4,
 "nbformat_minor": 4
}
