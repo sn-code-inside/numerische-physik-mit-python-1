{
 "cells": [
  {
   "cell_type": "markdown",
   "metadata": {},
   "source": [
    "# Elastisches Fadenpendel\n",
    "\n",
    "Siehe Wiedemann/Ingold: *Numerische Physik mit Python*, Springer-Spektrum 2024, ISBN 978-3-662-69566-1\n",
    "\n",
    "---"
   ]
  },
  {
   "cell_type": "markdown",
   "metadata": {},
   "source": [
    "In diesem Jupyter-Notebook wird das Modell des mathematischen Pendels dadurch verallgemeinert, dass der Faden, an dem die schwingende Punktmasse befestigt ist, elastisch ist. Konkret wird der Faden durch eine gedämpfte Hooke'sche Feder mit einer nicht verschwindenden Ruhelänge modelliert. In diesem System werden zwei Schwingungen gekoppelt, wobei die Pendelschwingung nichtlinear ist, so dass eine analytische Lösung nicht möglich ist.\n",
    "\n",
    "Die zu lösenden Bewegungsgleichungen lauten\n",
    "\n",
    "\\begin{aligned}\n",
    "\\ddot r &= r\\dot\\phi^2 + \\cos(\\phi) - D(r-1)-\\kappa \\dot{r}\\\\\n",
    "\\ddot\\phi &= \\frac{1}{r}\\left[2\\dot r\\dot\\phi + \\sin(\\phi)\\right]\\,.\n",
    "\\end{aligned}"
   ]
  },
  {
   "cell_type": "markdown",
   "metadata": {
    "jp-MarkdownHeadingCollapsed": true,
    "tags": []
   },
   "source": [
    "## Importanweisungen"
   ]
  },
  {
   "cell_type": "code",
   "execution_count": null,
   "metadata": {
    "tags": []
   },
   "outputs": [],
   "source": [
    "from math import cos, pi, sin\n",
    "import numpy as np\n",
    "from scipy import integrate\n",
    "import ipywidgets as widgets\n",
    "from ipywidgets import interact\n",
    "import matplotlib.pyplot as plt\n",
    "\n",
    "plt.style.use(\"numphyspy.style\")"
   ]
  },
  {
   "cell_type": "markdown",
   "metadata": {
    "jp-MarkdownHeadingCollapsed": true,
    "tags": []
   },
   "source": [
    "## Implementierung des Differentialgleichungssystems\n",
    "\n",
    "Die in der folgenden Funktion auftretenden Ausdrücke ergeben sich durch Umschreibung der beiden Bewegungsgleichungen in vier Differentialgleichungen 1. Ordnung."
   ]
  },
  {
   "cell_type": "code",
   "execution_count": null,
   "metadata": {
    "tags": []
   },
   "outputs": [],
   "source": [
    "def dx_dt(t, x, d, kappa):\n",
    "    r, phi, v_r, v_phi = x\n",
    "\n",
    "    dr_dt = v_r\n",
    "    dphi_dt = v_phi\n",
    "    dvr_dt = r*v_phi**2 + cos(phi) - d*(r-1) - kappa*v_r\n",
    "    dvphi_dt = -(2*v_r*v_phi + sin(phi)) / r\n",
    "\n",
    "    return dr_dt, dphi_dt, dvr_dt, dvphi_dt"
   ]
  },
  {
   "cell_type": "markdown",
   "metadata": {
    "jp-MarkdownHeadingCollapsed": true,
    "tags": []
   },
   "source": [
    "## Lösung des Differentialgleichungssystems\n",
    "\n",
    "Die Lösung des Differentialgleichungssystems erfolgt mit Hilfe der SciPy-Funktion `integrate.solve_ivp`. Das Vorgehen wurde bereits in anderen Jupyter-Notebooks erläutert."
   ]
  },
  {
   "cell_type": "code",
   "execution_count": null,
   "metadata": {
    "tags": []
   },
   "outputs": [],
   "source": [
    "def solution(t_end, n_out, d, kappa, r_0, phi_0,\n",
    "             v_r_0, v_phi_0):\n",
    "    t_values = np.linspace(0, t_end, n_out)\n",
    "    x_0 = [r_0, phi_0, v_r_0, v_phi_0]\n",
    "    solution = integrate.solve_ivp(\n",
    "        dx_dt, (0, t_end), x_0, t_eval=t_values,\n",
    "        args=(d, kappa))\n",
    "    (r_values, phi_values, v_r_values,\n",
    "     v_phi_values) = solution.y[:]\n",
    "    return t_values, r_values, phi_values"
   ]
  },
  {
   "cell_type": "markdown",
   "metadata": {
    "jp-MarkdownHeadingCollapsed": true,
    "tags": []
   },
   "source": [
    "## Implementierung der Bedienelemente und graphische Darstellung der Ergebnisse\n",
    "\n",
    "Mit den Schiebereglern lassen sich die folgenden Parameter einstellen:\n",
    "- `t_end`: Länge des zu betrachtenden Zeitintervalls\n",
    "- `n_out`: Anzahl der zu betrachtenden Zeitpunkte\n",
    "- `d`: dimensionslose Federkonstante\n",
    "- `kappa`: dimensionslose Federdämpfungskonstante\n",
    "- `r_0`: anfänglicher Abstand der Punktmasse vom Aufhängepunkt\n",
    "- `phi_0`: anfänglicher Winkel\n",
    "- `v_r_0`: anfängliche Radialgeschwindigkeit\n",
    "- `v_phi_0`: anfängliche Winkelgeschwindigkeit\n",
    "\n",
    "Als Ergebnisse werden die Zeitabhängigkeit des Winkels $\\varphi(t)$ und des Abstands vom Aufhängepunkt $r(t)$ dargestellt."
   ]
  },
  {
   "cell_type": "code",
   "execution_count": null,
   "metadata": {
    "tags": []
   },
   "outputs": [],
   "source": [
    "widget_dict = {\"t_end\":\n",
    "               widgets.FloatSlider(\n",
    "                   value=20, min=5, max=30, step=5,\n",
    "                   description=r\"$\\tau_\\text{end}$\"),\n",
    "               \"n_out\":\n",
    "               widgets.IntSlider(\n",
    "                   value=1000, min=100, max=1000,\n",
    "                   step=100, description=r\"$n_\\text{out}$\"),\n",
    "               \"d\":\n",
    "               widgets.FloatSlider(\n",
    "                   value=100, min=10, max=500, step=10,\n",
    "                   description=\"$D$\"),\n",
    "               \"kappa\":\n",
    "               widgets.FloatSlider(\n",
    "                   value=1, min=0, max=10, step=0.1,\n",
    "                   description=r\"$\\kappa$\"),\n",
    "               \"r_0\":\n",
    "               widgets.FloatSlider(\n",
    "                   value=0.2, min=0.1, max=2, step=0.1,\n",
    "                   description=\"$r(0)$\"),\n",
    "               \"phi_0\":\n",
    "               widgets.FloatSlider(\n",
    "                   value=pi/4, min=-2, max=2, step=0.1,\n",
    "                   description=r\"$\\phi(0)$\"),\n",
    "               \"v_r_0\":\n",
    "               widgets.FloatSlider(\n",
    "                   value=0, min=-1, max=1, step=0.1,\n",
    "                   description=\"$v_r(0)$\"),\n",
    "               \"v_phi_0\":\n",
    "               widgets.FloatSlider(\n",
    "                   value=0, min=-2.5, max=2.5, step=0.1,\n",
    "                   description=r\"$v_\\phi(0)$\")\n",
    "               }\n",
    "\n",
    "@interact(**widget_dict)\n",
    "def plot_result(t_end, n_out, d, kappa, r_0, phi_0,\n",
    "                v_r_0, v_phi_0):\n",
    "    t_values, r_values, phi_values = solution(\n",
    "        t_end, n_out, d, kappa, r_0, phi_0, v_r_0, v_phi_0)\n",
    "\n",
    "    fig, (ax1, ax2) = plt.subplots(2, 1)\n",
    "    ax1.plot(t_values, phi_values)\n",
    "    ax1.set_xlabel(\"$t$\")\n",
    "    ax1.set_ylabel(r\"$\\phi$\")\n",
    "\n",
    "    ax2.plot(t_values, r_values)\n",
    "    ax2.set_xlabel(\"$t$\")\n",
    "    ax2.set_ylabel(\"$r$\")"
   ]
  }
 ],
 "metadata": {
  "kernelspec": {
   "display_name": "Python 3 (ipykernel)",
   "language": "python",
   "name": "python3"
  },
  "language_info": {
   "codemirror_mode": {
    "name": "ipython",
    "version": 3
   },
   "file_extension": ".py",
   "mimetype": "text/x-python",
   "name": "python",
   "nbconvert_exporter": "python",
   "pygments_lexer": "ipython3",
   "version": "3.12.4"
  }
 },
 "nbformat": 4,
 "nbformat_minor": 4
}
