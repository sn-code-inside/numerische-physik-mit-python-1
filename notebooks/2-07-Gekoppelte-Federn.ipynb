{
 "cells": [
  {
   "cell_type": "markdown",
   "metadata": {
    "tags": []
   },
   "source": [
    "# Drei gekoppelte Federn\n",
    "\n",
    "Siehe Wiedemann/Ingold: *Numerische Physik mit Python*, Springer-Spektrum 2024, ISBN 978-3-662-69566-1\n",
    "\n",
    "---"
   ]
  },
  {
   "cell_type": "markdown",
   "metadata": {
    "tags": []
   },
   "source": [
    "Ein System von drei gekoppelten Federn mit Dämpfung kann je nach Wahl der Parameter auf ein nicht steifes oder ein steifes Differentialgleichungssystem führen. Damit lässt sich untersuchen, wie unterschiedliche Lösungsverfahren für unterschiedliche Problemtypen geeignet sind.\n",
    "\n",
    "Dieses Jupyter-Notebook ist in drei Abschnitte aufgeteilt:\n",
    "1. Zunächst wird die Lösung mit der Defaulteinstellung von `integrate.solve_ivp` aus dem SciPy-Paket berechnet.\n",
    "2. Anschließend wird die Möglichkeit gegeben, aus den möglichen Lösungsverfahren auszuwählen. Wo möglich, wird auch die Jacobi-Matrix verwendet.\n",
    "3. Abschließend wird eine Lösung mit Hilfe von Matrizen durchgeführt.\n",
    "\n",
    "Die zu lösenden dimensionslosen Bewegungsgleichungen lauten\n",
    "\n",
    "\\begin{align}\n",
    "\\frac{\\text{d}^2x}{\\text{d}t^2} &= -d (x_1-l_1) + (x_2-x_1-l_2) - \\kappa_1 v_1 - \\kappa_2 (v_1-v_2)\\\\\n",
    "\\frac{\\text{d}^2z}{\\text{d}t^2} &= d (1-x_2-l_1) - (x_2-x_1-l_2) - \\kappa_1 v_2 + \\kappa_2 (v_1-v_2)\\,.\n",
    "\\end{align}"
   ]
  },
  {
   "cell_type": "markdown",
   "metadata": {
    "jp-MarkdownHeadingCollapsed": true,
    "tags": []
   },
   "source": [
    "## Lösung mit integrate.solve_ivp"
   ]
  },
  {
   "cell_type": "markdown",
   "metadata": {
    "jp-MarkdownHeadingCollapsed": false,
    "tags": []
   },
   "source": [
    "### Importanweisungen\n",
    "\n",
    "Im dritten Teil des Jupyter-Notebooks benötigen wir Funktionen aus dem `linalg`-Modul von NumPy, das wir unter der Abkürzung `LA` importieren.\n",
    "\n",
    "Aus dem `ipywidgets`-Modul importieren wir zudem die Funktion `interact_manual`, die bei längeren Rechnungen sinnvoll ist. Eine Änderung der Parameter über die graphische Benutzerschnittstelle wird erst wirksam, wenn ein entsprechender Startknopf angeklickt wird."
   ]
  },
  {
   "cell_type": "code",
   "execution_count": null,
   "metadata": {},
   "outputs": [],
   "source": [
    "import numpy as np\n",
    "import numpy.linalg as LA\n",
    "from scipy import integrate\n",
    "import ipywidgets as widgets\n",
    "from ipywidgets import interact, interact_manual\n",
    "import matplotlib.pyplot as plt\n",
    "\n",
    "plt.style.use(\"numphyspy.style\")"
   ]
  },
  {
   "cell_type": "markdown",
   "metadata": {
    "jp-MarkdownHeadingCollapsed": false,
    "tags": []
   },
   "source": [
    "### Implementierung der Differentialgleichung\n",
    "\n",
    "Die nachfolgende Funktion ergibt sich aus einer Umschreibung der eingangs angegebenen Differentialgleichungen in vier Differentialgleichungen 1. Ordnung. Sie wird auch im zweiten Abschnitt dieses Jupyter-Notebooks verwendet."
   ]
  },
  {
   "cell_type": "code",
   "execution_count": null,
   "metadata": {},
   "outputs": [],
   "source": [
    "def dx_dt(t, x, d, kappa_1, kappa_2, l1, l2):\n",
    "    x1, x2, v1, v2 = x\n",
    "    dx1_dt = v1\n",
    "    dx2_dt = v2\n",
    "    dv1_dt = (-(x1-l1)+d*(x2-x1-l2)\n",
    "              - kappa_1*v1-kappa_2*(v1-v2))\n",
    "    dv2_dt = (-d*(x2-x1-l2)+(1-x2-l1)\n",
    "              - kappa_2*(v2-v1)-kappa_1*v2)\n",
    "    return dx1_dt, dx2_dt, dv1_dt, dv2_dt"
   ]
  },
  {
   "cell_type": "markdown",
   "metadata": {
    "jp-MarkdownHeadingCollapsed": false,
    "tags": []
   },
   "source": [
    "### Lösung des Differentialgleichungssystems\n",
    "\n",
    "Die numerische Lösung des Differentialgleichungssystems erfolgt hier mit `integrate.solve_ivp` aus dem SciPy-Paket unter Verwendung der Standardeinstellung für den Löser. Es wird also ein Runge-Kutta-Verfahren der Ordnung 5(4) verwendet.\n",
    "\n",
    "Die Differentialgleichungen enthalten insgesamt fünf Parameter, die mit Hilfe des Arguments `args` übergeben werden und beim Aufruf der Funktion `dx_dt` Verwendung finden.\n",
    "\n",
    "Zum späteren Vergleich wird neben der Lösung für die beiden schwingenden Punktmassen auch die Anzahl der Aufrufe von `dx_dt` zurückgegeben."
   ]
  },
  {
   "cell_type": "code",
   "execution_count": null,
   "metadata": {},
   "outputs": [],
   "source": [
    "def trajectory(t_end, n_out, d, kappa_1, kappa_2,\n",
    "               l1, l2, x0):\n",
    "    t_values = np.linspace(0, t_end, n_out)\n",
    "    solution = integrate.solve_ivp(\n",
    "        dx_dt, (0, t_end), x0, t_eval=t_values,\n",
    "        args=(d, kappa_1, kappa_2, l1, l2))\n",
    "    x1, x2 = solution.y[:2, :]\n",
    "    return solution.t, x1, x2, solution.nfev"
   ]
  },
  {
   "cell_type": "markdown",
   "metadata": {
    "jp-MarkdownHeadingCollapsed": false,
    "tags": []
   },
   "source": [
    "### Definition der Anfangsbedingungen und der Systemparameter\n",
    "\n",
    "Um konsistente Anfangsbedingungen und Systemparameter zu gewährleisten, können diese über die beiden Funktionen `get_initial_conditions` bzw. `get_parameters` erhalten werden. Durch Setzen des Wahrheitswerts `is_stiff` im Argument von `get_parameters` kann zwischen Parametern für steife oder nicht steife Differentialgleichungen gewählt werden.\n",
    "\n",
    "Falls andere Anfangsbedingungen oder Systemparameter gewünscht werden, können sie hier zentral angepasst werden."
   ]
  },
  {
   "cell_type": "code",
   "execution_count": null,
   "metadata": {},
   "outputs": [],
   "source": [
    "def get_initial_conditions():\n",
    "    return [1/3, 2/3, 0.5, 0]\n",
    "\n",
    "def get_parameters(is_stiff):\n",
    "    l1, l2 = 0.25, 0.25\n",
    "    if is_stiff:\n",
    "        d, kappa_1, kappa_2 = 1000, 0.05, 10\n",
    "    else:\n",
    "        d, kappa_1, kappa_2 = 1, 0.05, 0.05\n",
    "    return d, kappa_1, kappa_2, l1, l2"
   ]
  },
  {
   "cell_type": "markdown",
   "metadata": {
    "jp-MarkdownHeadingCollapsed": false,
    "tags": []
   },
   "source": [
    "### Implementierung der Bedienelemente und graphische Darstellung der Ergebnisse\n",
    "\n",
    "Mit den Schiebereglern lassen sich die folgenden Parameter einstellen:\n",
    "- `t_end`: Länge des Zeitintervalls\n",
    "- `n_out`: Anzahl der Zeitpunkte\n",
    "- `d`: dimensionslose Federkonstante\n",
    "- `kappa_1`: dimensionslose Dämpfungskonstante für äußere Federn\n",
    "- `kappa_2`: dimensionslose Dämpfungskonstaten für mittlere Feder\n",
    "\n",
    "Da die Berechnung etwas länger dauert, soll diese erst erfolgen, wenn die linke Maustaste nach dem Bewegen eines Schiebereglers wieder losgelassen wird. Dies erreichen wir durch die Option `continuous_update=FALSE` im `interact`-Dekorator.\n",
    "\n",
    "Die noch fehlenden Werte von $l_1$ und $l_2$ erhalten wir durch den Aufruf der Funktion `get_parameters`, wobei die Werte für `d`, `kappa_1`und `kappa_2` ignoriert werden, da diese über die Schieberegler eingestellt werden.\n",
    "\n",
    "In der graphischen Darstellung wird neben den Schwingungsbewegungen $x_1(t)$ und $x_2(t)$ der beiden Punktmassen auch die zeitliche Veränderung der Länge $x_2(t)-x_1(t)$ der mittleren Feder gezeigt."
   ]
  },
  {
   "cell_type": "code",
   "execution_count": null,
   "metadata": {
    "pycharm": {
     "name": "#%%\n"
    }
   },
   "outputs": [],
   "source": [
    "widget_dict = {\"t_end\":\n",
    "               widgets.FloatSlider(\n",
    "                   value=100, min=1, max=100, step=0.1,\n",
    "                   description=r\"$t_\\text{end}$\"),\n",
    "               \"n_out\":\n",
    "               widgets.IntSlider(\n",
    "                   value=10000, min=100, max=10000,\n",
    "                   step=100, description=r\"$n_\\text{out}$\"),\n",
    "               \"d\":\n",
    "               widgets.FloatLogSlider(\n",
    "                   value=1000, base=1000, min=-1, max=3,\n",
    "                   step=0.1, description=\"$d$\"),\n",
    "               \"kappa_1\":\n",
    "               widgets.FloatLogSlider(\n",
    "                   value=0.05, base=10, min=-3, max=1,\n",
    "                   step=0.1, description=r\"$\\kappa_1$\"),\n",
    "               \"kappa_2\":\n",
    "               widgets.FloatLogSlider(\n",
    "                   value=10, base=10, min=-3, max=1,\n",
    "                   step=0.1, description=r\"$\\kappa_2$\")\n",
    "               }\n",
    "\n",
    "@interact(**widget_dict, continuous_update=False)\n",
    "def plot_result_1(t_end, n_out, d, kappa_1, kappa_2):\n",
    "    x0 = get_initial_conditions()\n",
    "    _, _, _, l1, l2 = get_parameters(False)\n",
    "    t_values, x1_values, x2_values, count1 = trajectory(\n",
    "        t_end, n_out, d, kappa_1, kappa_2, l1, l2, x0)\n",
    "\n",
    "    print(f\"{count1} Aufrufe von dx_dt\")\n",
    "    print()\n",
    "\n",
    "    fig, (ax1, ax2) = plt.subplots(2, 1)\n",
    "    ax1.plot(t_values, x1_values, label=\"$x_1(t)$\")\n",
    "    ax1.plot(t_values, x2_values, label=\"$x_2(t)$\")\n",
    "    ax1.set_xlabel(\"$t$\")\n",
    "    ax1.set_ylabel(\"$x$\")\n",
    "    ax1.legend(loc=\"lower right\")\n",
    "\n",
    "    ax2.plot(t_values, x2_values-x1_values)\n",
    "    ax2.set_xlabel(\"$t$\")\n",
    "    ax2.set_ylabel(\"$x_2-x_1$\")\n",
    "    ax2.set_xlim((0, 1))"
   ]
  },
  {
   "cell_type": "markdown",
   "metadata": {
    "jp-MarkdownHeadingCollapsed": true,
    "tags": []
   },
   "source": [
    "## Lösung mit integrate.solve_ivp unter Verwendung verschiedener Löser\n",
    "\n",
    "In diesem Abschnitt soll untersucht werden, wie die Zahl der erforderlichen Stützstellen von der Wahl des von `integrate.solve_ivp` verwendeten Lösers abhängt."
   ]
  },
  {
   "cell_type": "markdown",
   "metadata": {
    "jp-MarkdownHeadingCollapsed": false,
    "tags": []
   },
   "source": [
    "### Implementierung der Jacobi-Matrix\n",
    "\n",
    "Da manche Löser von `integrate.solve_ivp` die Jacobi-Matrix verwenden, stellen wir zu ihrer Berechnung eine Funktion zur Verfügung. Für ein Differentialgleichungssystem der Form\n",
    "\n",
    "$$\\dot x_i = f_i(x_1,\\dots,x_n,t)\\qquad i=1,\\dots, n$$\n",
    "\n",
    "sind die Matrixelemente der Jacobi-Matrix durch\n",
    "\n",
    "$$J_{ij} = \\frac{\\partial f_i}{\\partial x_j}$$\n",
    "\n",
    "gegeben."
   ]
  },
  {
   "cell_type": "code",
   "execution_count": null,
   "metadata": {},
   "outputs": [],
   "source": [
    "def jacobian(t, x, d, kappa_1, kappa_2, l1, l2):\n",
    "    x1, x2, v1, v2 = x\n",
    "    return [[0, 0, 1, 0],\n",
    "            [0, 0, 0, 1],\n",
    "            [-1-d, d, -kappa_1-kappa_2, kappa_2],\n",
    "            [d, -d-1, kappa_2, -kappa_1-kappa_2]]"
   ]
  },
  {
   "cell_type": "markdown",
   "metadata": {
    "jp-MarkdownHeadingCollapsed": false,
    "tags": []
   },
   "source": [
    "### Lösung des Differentialgleichungssystems\n",
    "\n",
    "In der folgenden Funktion werden die explizit über ihren Namen zu übergebenden Argumente in einem Dictionary `kwargs` gesammelt. Dies ermöglicht es uns, bei den entsprechenden Algorithmen die Funktion für die Berechnung der Jacobi-Matrix zu setzen. Im Funktionsaufruf von `solve_ivp` müssen dem Dictionarynamen zwei Sternchen vorangestellt werden.\n",
    "\n",
    "Neben der Anzahl der Aufrufe von `dx_dt`, die in `solution.nfev` zur Verfügung steht, übergeben wir auch die Anzahl der Aufrufe von `jacobi`, die in `solution.njev` enthalten ist."
   ]
  },
  {
   "cell_type": "code",
   "execution_count": null,
   "metadata": {},
   "outputs": [],
   "source": [
    "def trajectory_with_method(t_end, n_out, atol, rtol,\n",
    "                           algorithm, x0, parameters):\n",
    "    t_values = np.linspace(0, t_end, n_out)\n",
    "    kwargs = {\"t_eval\": t_values, \"args\": parameters,\n",
    "              \"atol\": atol, \"rtol\": rtol,\n",
    "              \"method\": algorithm}\n",
    "    if algorithm in (\"BDF\", \"Radau\", \"LSODA\"):\n",
    "        kwargs[\"jac\"] = jacobian\n",
    "    solution = integrate.solve_ivp(dx_dt, (0, t_end),\n",
    "                                   x0, **kwargs)\n",
    "    x1, x2 = solution.y[:2, :]\n",
    "    return solution.t, x1, x2, solution.nfev, solution.njev"
   ]
  },
  {
   "cell_type": "markdown",
   "metadata": {
    "jp-MarkdownHeadingCollapsed": false,
    "tags": []
   },
   "source": [
    "### Implementierung der Bedienelemente und graphische Darstellung\n",
    "\n",
    "Mit Hilfe der graphischen Benutzerschnittstelle lassen sich die folgenden Parameter einstellen:\n",
    "- `t_end`: Länge des Zeitintervalls\n",
    "- `n_out`: Anzahl der Zeitpunkte\n",
    "- `atol`: Schranke für absoluten Fehler\n",
    "- `rtol`: Schranke für relativen Fehler\n",
    "- `algorithm`: zu verwendender Löser\n",
    "- `is_stiff`: Auswahl eines Parametersatzes für steifes oder nicht steifes Differentialgleichungssystem\n",
    "\n",
    "Neben der graphischen Darstellung der Bewegung der Punktmassen und der Zeitabhängigkeit der Länge der mittleren Feder wird auch die Anzahl der Aufrufe von `dx_dt` und `jacobian` ausgegeben. Damit lässt sich der Rechenaufwand für die verschiedenen Löser vergleichen."
   ]
  },
  {
   "cell_type": "code",
   "execution_count": null,
   "metadata": {
    "pycharm": {
     "name": "#%%\n"
    }
   },
   "outputs": [],
   "source": [
    "new_widgets = {\"atol\":\n",
    "               widgets.FloatLogSlider(\n",
    "                   value=1e-5, base=10, min=-10, max=-3,\n",
    "                   step=0.1, description=\"atol\"),\n",
    "               \"rtol\":\n",
    "               widgets.FloatLogSlider(\n",
    "                   value=1e-5, base=10, min=-10, max=-3,\n",
    "                   step=0.1, description=\"rtol\"),\n",
    "               \"algorithm\":\n",
    "               widgets.RadioButtons(\n",
    "                   options=[\"RK45\", \"RK23\", \"DOP853\",\n",
    "                            \"Radau\", \"BDF\", \"LSODA\"],\n",
    "                   value=\"RK45\",\n",
    "                   description=\"Lösungsalgorithmus\"),\n",
    "               \"is_stiff\":\n",
    "               widgets.RadioButtons(\n",
    "                   options=[(\"nicht steif\", False),\n",
    "                            (\"steif\", True)],\n",
    "                   description=\"Steifheit\")\n",
    "               }\n",
    "widget_dict.update(new_widgets)\n",
    "\n",
    "@interact(**widget_dict)\n",
    "def plot_result_2(t_end, n_out, atol, rtol,\n",
    "                  algorithm, is_stiff):\n",
    "    x0 = get_initial_conditions()\n",
    "    parameters = get_parameters(is_stiff)\n",
    "\n",
    "    t_values, x1_values, x2_values, count1, count2 = (\n",
    "        trajectory_with_method(t_end, n_out, atol, rtol,\n",
    "                               algorithm, x0, parameters))\n",
    "\n",
    "    print(f\"{count1} Aufrufe von dx_dt\")\n",
    "    print(f\"{count2} Aufrufe von jac\")\n",
    "    print(\"\")\n",
    "\n",
    "    fig, (ax1, ax2) = plt.subplots(2, 1)\n",
    "    ax1.plot(t_values, x1_values, label=\"$x_1(t)$\")\n",
    "    ax1.plot(t_values, x2_values, label=\"$x_2(t)$\")\n",
    "    ax1.set_xlabel(\"$t$\")\n",
    "    ax1.set_ylabel(\"$x$\")\n",
    "    ax1.legend(loc=\"lower right\")\n",
    "\n",
    "    ax2.plot(t_values, x2_values-x1_values)\n",
    "    ax2.set_xlabel(\"$t$\")\n",
    "    ax2.set_ylabel(\"$x_2-x_1$\")\n",
    "    ax2.set_xlim((0, 1))"
   ]
  },
  {
   "cell_type": "markdown",
   "metadata": {
    "jp-MarkdownHeadingCollapsed": true,
    "tags": []
   },
   "source": [
    "## Lösung mit Hilfe von Matrizen\n",
    "\n",
    "Wenn man die Auslenkung\n",
    "\n",
    "$$\\Delta \\boldsymbol{x} = \\boldsymbol{x} - \\boldsymbol{x}^{(0)}$$\n",
    "\n",
    "aus der Gleichgewichtslage $\\boldsymbol{x}^{(0)}$ betrachtet, lassen sich die oben angegebenen Bewegungsgleichungen in der Form\n",
    "\n",
    "$$\\frac{\\text{d}}{\\text{d} t} \\Delta \\boldsymbol{x} = \\hat M  \\Delta \\boldsymbol{x}$$\n",
    "\n",
    "schreiben, wobei $\\hat M$ eine konstante Matrix ist. Die Lösung dieser Differentialgleichung ist durch\n",
    "\n",
    "$$\\Delta \\boldsymbol{x}(t) = \\exp(\\hat{M} t) \\Delta\\boldsymbol{x}(0)$$\n",
    "\n",
    "gegeben."
   ]
  },
  {
   "cell_type": "markdown",
   "metadata": {
    "jp-MarkdownHeadingCollapsed": false,
    "tags": []
   },
   "source": [
    "### Berechnung der Zeitentwicklungsmatrix\n",
    "\n",
    "Die nachfolgende Funktion berechnet\n",
    "\n",
    "$$\\exp\\left( \\hat{M} t\\right) = \\hat{T} \\exp\\left(\\hat{D}t\\right) \\hat{T}^{-1}\\,,$$\n",
    "\n",
    "wobei $\\hat{T}$ die Matrix mit den Eigenvektoren und $\\hat{D}$ die Diagonalmatrix mit den Eigenwerten von $\\hat{M}$ ist.\n",
    "\n",
    "Der Umweg über die Eigendarstellung ist erforderlich, da die Exponentialfunktion aus dem NumPy-Paket die Exponentialfunktion der einzelnen Matrixelemente und nicht der Matrix als solcher berechnet."
   ]
  },
  {
   "cell_type": "code",
   "execution_count": null,
   "metadata": {},
   "outputs": [],
   "source": [
    "def propagator(t, m):\n",
    "    evals, evecs = LA.eig(m)\n",
    "    diag = np.diag(np.exp(evals*t))\n",
    "    exp_m = evecs @ diag @ LA.inv(evecs)\n",
    "    return exp_m.real"
   ]
  },
  {
   "cell_type": "markdown",
   "metadata": {
    "jp-MarkdownHeadingCollapsed": false,
    "tags": []
   },
   "source": [
    "### Lösung der Differentialgleichung\n",
    "\n",
    "Zur Vorbereitung der Lösung mit Hilfe von Matrizen werden zunächst die Gleichgewichtslagen $x_1^{(0)}$ und $x_2^{(0)}$ sowie der anfängliche Auslenkungsvektor $\\Delta\\boldsymbol{x}^{(0)}$ berechnet und den Variablen `x1_eq`, `x2_eq` bzw. `delta_x_0` zugewiesen. Zudem wird die konstante Matrix $\\hat M$ erstellt.\n",
    "\n",
    "Der zentrale Rechenschritt erfolgt zu Beginn der `for`-Schleife, wo der Zeitentwickungsoperator für einen gegebenen Zeitpunkt berechnet und mit den anfänglichen Auslenkungen multipliziert wird. Anschließend werden die absoluten Auslenkungen berechnet und in `x1_values` und `x2_values` abgespeichert. Zudem werden die Eigenwerte von $\\hat M$ zurückgegeben.\n"
   ]
  },
  {
   "cell_type": "code",
   "execution_count": null,
   "metadata": {},
   "outputs": [],
   "source": [
    "def trajectory_matrices(t_end, n_out, d,\n",
    "                        kappa_1, kappa_2, l1, l2, x0):\n",
    "    x1_eq = (l1+d*(1-l2)) / (2*d+1)\n",
    "    x2_eq = 1 - x1_eq\n",
    "    delta_x_0 = (np.array(x0)\n",
    "                 - np.array((x1_eq, x2_eq, 0, 0)))\n",
    "\n",
    "    m = np.array([[0, 0, 1, 0],\n",
    "                  [0, 0, 0, 1],\n",
    "                  [-1-d, d, -kappa_1-kappa_2, kappa_2],\n",
    "                  [d, -1-d, kappa_2, -kappa_1-kappa_2]]\n",
    "                 )\n",
    "\n",
    "    t_values = np.linspace(0, t_end, n_out)\n",
    "    x1_values = np.empty_like(t_values)\n",
    "    x2_values = np.empty_like(t_values)\n",
    "    for idx, t in enumerate(t_values):\n",
    "        delta_x = propagator(t, m) @ delta_x_0\n",
    "        x1_values[idx] = delta_x[0]+x1_eq\n",
    "        x2_values[idx] = delta_x[1]+x2_eq\n",
    "    return t_values, x1_values, x2_values, LA.eigvals(m)"
   ]
  },
  {
   "cell_type": "markdown",
   "metadata": {
    "jp-MarkdownHeadingCollapsed": false,
    "tags": []
   },
   "source": [
    "### Implementierung der Bedienelemente und graphische Darstellung\n",
    "\n",
    "Mit Hilfe der graphischen Benutzerschnittstelle lassen sich die folgenden Parameter einstellen:\n",
    "- `t_end`: Länge des Zeitintervalls\n",
    "- `n_out`: Anzahl der Zeitpunkte\n",
    "- `is_stiff`: Auswahl eines Parametersatzes für steifes oder nicht steifes Differentialgleichungssystem\n",
    "\n",
    "Neben der graphischen Darstellung der Zeitabhängigkeit der Auslenkungen der beiden Punktmassen sowie der Länge der mittleren Feder werden auch die Eigenwerte von $\\hat M$ und deren Beträge ausgegeben, um einen Vergleich von steifen und nicht steifen Differentialgleichungssystemen zu ermöglichen."
   ]
  },
  {
   "cell_type": "code",
   "execution_count": null,
   "metadata": {
    "pycharm": {
     "name": "#%%\n"
    }
   },
   "outputs": [],
   "source": [
    "interact_start = interact_manual.options(\n",
    "    manual_name=\"Start Berechnung\")\n",
    "\n",
    "@interact_start(**widget_dict)\n",
    "def plot_result_3(t_end, n_out, is_stiff):\n",
    "    x0 = get_initial_conditions()\n",
    "    d, kappa_1, kappa_2, l1, l2 = get_parameters(is_stiff)\n",
    "\n",
    "    t_values, x1_values, x2_values, ew = (\n",
    "        trajectory_matrices(t_end, n_out, d, kappa_1,\n",
    "                            kappa_2, l1, l2, x0))\n",
    "\n",
    "    print(\"Eigenwerte von M:\")\n",
    "    for value in ew:\n",
    "        print(value)\n",
    "    print()\n",
    "    print(\"und deren Beträge:\")\n",
    "    for value in ew:\n",
    "        print(abs(value))\n",
    "    print()\n",
    "\n",
    "    fig, (ax1, ax2) = plt.subplots(2, 1)\n",
    "    ax1.plot(t_values, x1_values, label=\"$x_1(t)$\")\n",
    "    ax1.plot(t_values, x2_values, label=\"$x_2(t)$\")\n",
    "    ax1.set_xlabel(\"$t$\")\n",
    "    ax1.set_ylabel(\"$x$\")\n",
    "    ax1.legend(loc=\"lower right\")\n",
    "\n",
    "    ax2.plot(t_values, x2_values-x1_values)\n",
    "    ax2.set_xlabel(\"$t$\")\n",
    "    ax2.set_ylabel(\"$x_2-x_1$\")\n",
    "    ax2.set_xlim((0, 1))"
   ]
  }
 ],
 "metadata": {
  "kernelspec": {
   "display_name": "Python 3 (ipykernel)",
   "language": "python",
   "name": "python3"
  },
  "language_info": {
   "codemirror_mode": {
    "name": "ipython",
    "version": 3
   },
   "file_extension": ".py",
   "mimetype": "text/x-python",
   "name": "python",
   "nbconvert_exporter": "python",
   "pygments_lexer": "ipython3",
   "version": "3.12.4"
  },
  "toc-autonumbering": false,
  "toc-showcode": false,
  "toc-showmarkdowntxt": false,
  "toc-showtags": false
 },
 "nbformat": 4,
 "nbformat_minor": 4
}
