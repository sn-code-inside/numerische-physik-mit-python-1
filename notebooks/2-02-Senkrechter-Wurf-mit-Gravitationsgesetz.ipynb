{
 "cells": [
  {
   "cell_type": "markdown",
   "metadata": {
    "tags": []
   },
   "source": [
    "# Senkrechter Wurf im Newton'schen Gravitationspotential\n",
    "\n",
    "Siehe Wiedemann/Ingold: *Numerische Physik mit Python*, Springer-Spektrum 2024, ISBN 978-3-662-69566-1\n",
    "\n",
    "---"
   ]
  },
  {
   "cell_type": "markdown",
   "metadata": {
    "jp-MarkdownHeadingCollapsed": true,
    "tags": []
   },
   "source": [
    "In diesem Jupyter-Notebook soll beim senkrechten Wurf neben dem Luftwiderstand auch die Erdanziehung berücksichtigt werden. Dabei wird über die lineare Näherung hinausgegangen und das volle Newton'sche Gravitationspotential berücksichtigt. Die zugehörige Bewegungsgleichung in dimensionsloser Form ist durch\n",
    "\n",
    "$$\\ddot r = - \\alpha \\vert\\dot{r}\\vert \\dot{r} - \\frac{1}{2 r^2} $$\n",
    "\n",
    "gegeben, wobei die Konstante $\\alpha > 0$ ist.\n",
    "\n",
    "Die Lösung der Bewegungsgleichung erfolgt mit der SciPy-Routine `integrate.solve_ivp`, wobei die Berechnung der Bewegung durch eine Abbruchbedingung beendet wird."
   ]
  },
  {
   "cell_type": "markdown",
   "metadata": {
    "jp-MarkdownHeadingCollapsed": false,
    "tags": []
   },
   "source": [
    "### Importanweisungen"
   ]
  },
  {
   "cell_type": "code",
   "execution_count": null,
   "metadata": {
    "tags": []
   },
   "outputs": [],
   "source": [
    "import numpy as np\n",
    "from scipy import integrate\n",
    "import ipywidgets as widgets\n",
    "from ipywidgets import interact\n",
    "import matplotlib.pyplot as plt\n",
    "\n",
    "plt.style.use(\"numphyspy.style\")"
   ]
  },
  {
   "cell_type": "markdown",
   "metadata": {
    "jp-MarkdownHeadingCollapsed": false,
    "tags": []
   },
   "source": [
    "### Implementation der Bewegungsgleichung\n",
    "\n",
    "Zur numerischen Behandlung wandeln wir die eingangs angegebene Differentialgleichung 2. Ordnung in ein System von zwei gekoppelten Differentialgleichungen 1. Ordnung\n",
    "\n",
    "\\begin{align}\n",
    "\\dot r &= v \\\\\n",
    "\\dot v &= -\\alpha\\vert v\\vert v - \\frac{1}{2 r^2}\n",
    "\\end{align}\n",
    "\n",
    "um und definieren eine entsprechende Funktion."
   ]
  },
  {
   "cell_type": "code",
   "execution_count": null,
   "metadata": {
    "tags": []
   },
   "outputs": [],
   "source": [
    "def dx_dt(t, xvec, alpha):\n",
    "    r, v = xvec\n",
    "    return v, -alpha*abs(v)*v - 1/(2*r**2)"
   ]
  },
  {
   "cell_type": "markdown",
   "metadata": {
    "jp-MarkdownHeadingCollapsed": false,
    "tags": []
   },
   "source": [
    "### Abbruchbedingung\n",
    "\n",
    "Die Berechnung der Flugbahn soll nur bis zum Erreichen der Erdoberfläche erfolgen, also wenn die Punktmasse von oben kommend den dimensionslosen Abstand $r=1$ vom Erdmittelpunkt erreicht. Die folgende Funktion implementiert diese Abbruchbedingung."
   ]
  },
  {
   "cell_type": "code",
   "execution_count": null,
   "metadata": {
    "tags": []
   },
   "outputs": [],
   "source": [
    "def height_zero(t, xvec, alpha):\n",
    "    return xvec[0]-1\n",
    "\n",
    "height_zero.terminal = True\n",
    "height_zero.direction = -1"
   ]
  },
  {
   "cell_type": "markdown",
   "metadata": {
    "jp-MarkdownHeadingCollapsed": false,
    "tags": []
   },
   "source": [
    "### Lösung des Differentialgleichungssystems\n",
    "\n",
    "In der folgenden Funktion wird die Lösung des Differentialgleichungssystems mit Hilfe von `integrate.solve_ivp` berechnet. Neben der Funktion `dx_dt`, die die Zeitableitung berechnet, dem Zeitintervall und den Anfangsbedingungen werden noch drei weitere Argumente benötigt:\n",
    "- `dense_output` erlaubt es uns, erst später die Zeitpunkte festzulegen, zu denen wir die Lösung berechnet haben wollen, wenn das Argument auf `True` gesetzt wird.\n",
    "- `events` wird auf die Funktion `height_zero` gesetzt, die die Abbruchbedingung festlegt.\n",
    "- `args` übernimmt ein Tupel mit zusätzlichen, in den Differentialgleichung auftretenden Parametern, hier `alpha`.\n",
    "\n",
    "Das Ergebnis der Integration befindet sich in dem `OdeResult`-Objekt `solution`, von dem wir hier die folgenden Attribute verwenden:\n",
    "- `solution.t_events` enthält den Zeitpunkt, an dem die Lösung endet\n",
    "- `solution.sol` erlaubt es, die Lösung zu vorgegebenen Zeitpunkten auszuwerten.\n",
    "\n",
    "Hat ein vorzeitiger Abbruch stattgefunden, weil die Erdoberfläche innerhalb des vorgegebenen Zeitintervalls erreicht wurde, wird die Endzeit auf den entsprechenden Zeitpunkt gesetzt. Die Funktion `np.linspace` erzeugt dann eine äquidistante Liste von Zeitpunkten, zu denen die Werte von Ort und Geschwindigkeit bestimmt werden. Abschließend werden die zugehörigen Arrays entpackt und zusammen mit den Zeitpunkten zurückgegeben."
   ]
  },
  {
   "cell_type": "code",
   "execution_count": null,
   "metadata": {
    "tags": []
   },
   "outputs": [],
   "source": [
    "def trajectory(t_end, n_out, alpha, r_0, v_0):\n",
    "    solution = integrate.solve_ivp(\n",
    "        dx_dt, (0, t_end), [r_0, v_0],\n",
    "        dense_output=True, args=(alpha,),\n",
    "        events=height_zero)\n",
    "    if solution.t_events[0].size > 0:\n",
    "        t_end = solution.t_events[0][0]\n",
    "    t_values = np.linspace(0, t_end, n_out)\n",
    "    r, v = solution.sol(t_values)\n",
    "    return t_values, r, v"
   ]
  },
  {
   "cell_type": "markdown",
   "metadata": {
    "jp-MarkdownHeadingCollapsed": false,
    "tags": []
   },
   "source": [
    "### Implementierung der Bedienelemente und graphische Darstellung der Ergebnisse\n",
    "\n",
    "Mit den Schiebereglern können die folgenden Variablen eingestellt werden:\n",
    "- `t_end`: maximaler Zeitraum, über den die Lösung berechnet wird\n",
    "- `alpha`: dimensionsloser Parameter für den Luftwiderstand\n",
    "- `v_0`: Anfangsgeschwindigkeit\n",
    "\n",
    "Innerhalb der Funktion `plot_result` wird festgelegt, dass für die Darstellung der Trajektorie 200 Punkte verwendet werden und die Bewegung von der Erdoberfläche aus erfolgen soll. Auch diese Parameter können bei Bedarf angepasst werden."
   ]
  },
  {
   "cell_type": "code",
   "execution_count": null,
   "metadata": {
    "tags": []
   },
   "outputs": [],
   "source": [
    "widget_dict = {\"t_end\":\n",
    "               widgets.FloatSlider(\n",
    "                   value=10, min=0, max=200, step=1,\n",
    "                   description=r\"$t_\\text{end}$\"),\n",
    "               \"alpha\":\n",
    "               widgets.FloatSlider(\n",
    "                   value=50, min=0, max=50, step=0.1,\n",
    "                   description=r\"$\\alpha$\"),\n",
    "               \"v_0\":\n",
    "               widgets.FloatSlider(\n",
    "                   value=1, min=0.01, max=1, step=0.01,\n",
    "                   description=\"$v(0)$\")\n",
    "               }\n",
    "\n",
    "@interact(**widget_dict)\n",
    "def plot_result(t_end, alpha, v_0):\n",
    "    n_out = 200\n",
    "    r_0 = 1\n",
    "    t_values, r_values, v_values = trajectory(\n",
    "        t_end, n_out, alpha, r_0, v_0)\n",
    "\n",
    "    fig, (ax1, ax2) = plt.subplots(2, 1)\n",
    "    ax1.plot(t_values, v_values)\n",
    "    ax1.set_xlabel(\"$t$\")\n",
    "    ax1.set_ylabel(\"$v$\")\n",
    "\n",
    "    ax2.plot(t_values, r_values)\n",
    "    ax2.set_xlabel(\"$t$\")\n",
    "    ax2.set_ylabel(\"$r$\")"
   ]
  }
 ],
 "metadata": {
  "kernelspec": {
   "display_name": "Python 3 (ipykernel)",
   "language": "python",
   "name": "python3"
  },
  "language_info": {
   "codemirror_mode": {
    "name": "ipython",
    "version": 3
   },
   "file_extension": ".py",
   "mimetype": "text/x-python",
   "name": "python",
   "nbconvert_exporter": "python",
   "pygments_lexer": "ipython3",
   "version": "3.12.4"
  }
 },
 "nbformat": 4,
 "nbformat_minor": 4
}
