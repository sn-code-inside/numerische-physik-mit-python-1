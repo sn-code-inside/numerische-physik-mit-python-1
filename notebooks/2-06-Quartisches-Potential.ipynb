{
 "cells": [
  {
   "cell_type": "markdown",
   "metadata": {},
   "source": [
    "# Quartisches Potential\n",
    "\n",
    "Siehe Wiedemann/Ingold: *Numerische Physik mit Python*, Springer-Spektrum 2024, ISBN 978-3-662-69566-1\n",
    "\n",
    "---"
   ]
  },
  {
   "cell_type": "markdown",
   "metadata": {
    "jp-MarkdownHeadingCollapsed": true,
    "tags": []
   },
   "source": [
    "Im Gegensatz zu den bisher betrachteten Anfangswertproblemen soll nun die Bewegung in einem quartischen Potential als Randwertproblem behandelt werden. Hierfür die SciPy-Funktion `integrate.solve_bvp` herangezogen.\n",
    "\n",
    "Das dimensionslose Potential lautet\n",
    "\n",
    "$$V(x) = \\frac{1}{2} x^2 - \\frac{1}{4} x^4 \\,$$\n",
    "\n",
    "so dass die Bewegungsgleichung durch\n",
    "\n",
    "$$\\frac{\\text{d}^2x}{\\text{d}t^2} = -x + x^3 $$\n",
    "\n",
    "gegeben ist."
   ]
  },
  {
   "cell_type": "markdown",
   "metadata": {
    "jp-MarkdownHeadingCollapsed": true,
    "tags": []
   },
   "source": [
    "## Importanweisungen\n",
    "\n",
    "Zusätzlich zu den bereits bekannten Importanweisungen wird hier die `HTML`-Klasse aus `IPython.display` importiert. Mit ihrer Hilfe wird später die Konvergenzinformation farblich dargestellt. Die Funktion `display`, die wir weiter unten benutzen werden, wird von aktuellen Versionen von `IPython` zur Verfügung gestellt, ohne dass ein weiterer Import erforderlich wäre."
   ]
  },
  {
   "cell_type": "code",
   "execution_count": null,
   "metadata": {
    "tags": []
   },
   "outputs": [],
   "source": [
    "import numpy as np\n",
    "from scipy import integrate\n",
    "import ipywidgets as widgets\n",
    "from ipywidgets import interact\n",
    "from IPython.display import HTML\n",
    "import matplotlib.pyplot as plt\n",
    "\n",
    "plt.style.use(\"numphyspy.style\")"
   ]
  },
  {
   "cell_type": "markdown",
   "metadata": {
    "jp-MarkdownHeadingCollapsed": true,
    "tags": []
   },
   "source": [
    "## Implementierung der Differentialgleichung\n",
    "\n",
    "Die Bewegungsgleichung wird durch zwei Differentialgleichungen 1. Ordnung\n",
    "\n",
    "\\begin{align}\n",
    "\\frac{\\text{d}x}{\\text{d}t} &= v\\\\\n",
    "\\frac{\\text{d}v}{\\text{d}t} &= -x + x^3\n",
    "\\end{align}\n",
    "\n",
    "dargestellt. Das Argument `t` ist von `integrate.solve_bvp` so vorgesehen, wird für die Rechnung jedoch nicht benötigt."
   ]
  },
  {
   "cell_type": "code",
   "execution_count": null,
   "metadata": {
    "tags": []
   },
   "outputs": [],
   "source": [
    "def dx_dt(t, x_vec):\n",
    "    x, v = x_vec\n",
    "    a = -x + x**3\n",
    "    return v, a"
   ]
  },
  {
   "cell_type": "markdown",
   "metadata": {
    "jp-MarkdownHeadingCollapsed": true,
    "tags": []
   },
   "source": [
    "## Randbedingungen\n",
    "\n",
    "Die gesuchte Lösung soll $x(0)=x(t_\\text{end})=0$ erfüllen."
   ]
  },
  {
   "cell_type": "code",
   "execution_count": null,
   "metadata": {
    "tags": []
   },
   "outputs": [],
   "source": [
    "def bc(x_vec_a, x_vec_b):\n",
    "    x_a, v_a = x_vec_a\n",
    "    x_b, v_b = x_vec_b\n",
    "    return x_a, x_b"
   ]
  },
  {
   "cell_type": "markdown",
   "metadata": {
    "jp-MarkdownHeadingCollapsed": true,
    "tags": []
   },
   "source": [
    "## Berechnung der Lösung des Randwertproblems\n",
    "\n",
    "Die Funktion `integrate.solve_bvp` benötigt neben der Form der Differentialgleichung, die über `dx_dt` zur Verfügung gestellt wird, sowie den durch die Funktion `bc` definierten Randbedingungen und den Zeitpunkten `t` eine Startlösung für Ort und Geschwindigkeit. Da die Lösung bei $x(0)=0$ beginnen und bei $x(t_\\text{end})=0$ enden soll, wählen wir für den Ort eine Sinusfunktion und für die Geschwindigkeit eine Kosinusfunktion mit einer vorgegebenen Anzahl `n_half_periods` von Halbperioden.\n",
    "\n",
    "Um den Vergleich der Startlösung `x_init` und `v_init` mit der numerisch gefundenen Lösung `x` und `v` zu erlauben, werden diese Daten zusammen mit den Zeitpunkten `t` übergeben. Das Attribut `solution.success` enthält einen Wahrheitswert, der angibt, ob die Lösung konvergierte oder nicht."
   ]
  },
  {
   "cell_type": "code",
   "execution_count": null,
   "metadata": {
    "tags": []
   },
   "outputs": [],
   "source": [
    "def trajectory(t_end, n_out, n_half_periods):\n",
    "    omega = n_half_periods*np.pi/t_end\n",
    "    t = np.linspace(0, t_end, n_out)\n",
    "    x_init = np.sin(omega*t)\n",
    "    v_init = np.cos(omega*t)\n",
    "    solution = integrate.solve_bvp(dx_dt, bc, t,\n",
    "                                   [x_init, v_init])\n",
    "    x, v = solution.sol(t)\n",
    "    return t, x, v, x_init, v_init, solution.success"
   ]
  },
  {
   "cell_type": "markdown",
   "metadata": {
    "jp-MarkdownHeadingCollapsed": true,
    "tags": []
   },
   "source": [
    "## Implementierung der Bedienelemente und graphische Darstellung der Lösung\n",
    "\n",
    "Mit den Schiebereglern lassen sich die folgenden Parameter einstellen:\n",
    "- `t_end`: Länge des Zeitintervalls\n",
    "- `n_half_periods`: Anzahl der Halbperioden in der gesuchten Lösung\n",
    "\n",
    "Die Zahl der Datenpunkte ist in der Funktion `plot_result` vorgegeben und kann dort bei Bedarf geändert werden.\n",
    "\n",
    "Ob die Lösung konvergierte oder nicht, wird in einem Farbbalken angegeben. Es werden sowohl die Startfunktionen als auch die numerisch erhaltenen Lösungen für Ort und Geschwindigkeit graphisch dargestellt. Damit lässt sich die Abweichung von Lösungen mit größerer Amplitude von einer harmonischen Schwingung deutlich machen. "
   ]
  },
  {
   "cell_type": "code",
   "execution_count": null,
   "metadata": {
    "tags": []
   },
   "outputs": [],
   "source": [
    "widget_dict = {\"t_end\":\n",
    "               widgets.FloatSlider(\n",
    "                   value=22, min=1, max=40, step=1,\n",
    "                   description=r\"$t_\\text{end}$\"),\n",
    "               \"n_half_periods\":\n",
    "               widgets.IntSlider(\n",
    "                   value=1, min=1, max=7, step=1,\n",
    "                   description=r\"$n_\\text{half periods}$\")\n",
    "               }\n",
    "\n",
    "out = widgets.Output()\n",
    "\n",
    "@interact(**widget_dict)\n",
    "def plot_result(t_end, n_half_periods):\n",
    "    display(out)\n",
    "\n",
    "    n_out = 200\n",
    "    (t_values, x_values, v_values,\n",
    "     x_init, v_init, success\n",
    "     ) = trajectory(t_end, n_out, n_half_periods)\n",
    "\n",
    "    with out:\n",
    "        out.clear_output()\n",
    "        if success:\n",
    "            bgcolor = \"#080\"\n",
    "            msg = \"konvergierte Lösung\"\n",
    "        else:\n",
    "            bgcolor = \"#800\"\n",
    "            msg = \"Lösung hat nicht konvergiert\"\n",
    "        style = (f\"'color:#fff;background-color:{bgcolor};\"\n",
    "                 \"padding:5px;'\")\n",
    "        display(HTML(f\"<div style={style}>{msg}</div>\"))\n",
    "\n",
    "    fig, ax = plt.subplots()\n",
    "    ax.plot(t_values, x_values, label=\"$x(t)$\")\n",
    "    ax.plot(t_values, v_values, label=\"$v(t)$\")\n",
    "    ax.plot(t_values, x_init,\n",
    "            label=r\"$x_\\mathrm{init}(t)$\")\n",
    "    ax.plot(t_values, v_init,\n",
    "            label=r\"$v_\\mathrm{init}(t)$\")\n",
    "    ax.set_xlabel(\"$t$\")\n",
    "    ax.set_ylabel(\"$x$\")\n",
    "    ax.legend(bbox_to_anchor=(1.02, 1), loc=\"upper left\")"
   ]
  }
 ],
 "metadata": {
  "kernelspec": {
   "display_name": "Python 3 (ipykernel)",
   "language": "python",
   "name": "python3"
  },
  "language_info": {
   "codemirror_mode": {
    "name": "ipython",
    "version": 3
   },
   "file_extension": ".py",
   "mimetype": "text/x-python",
   "name": "python",
   "nbconvert_exporter": "python",
   "pygments_lexer": "ipython3",
   "version": "3.12.4"
  }
 },
 "nbformat": 4,
 "nbformat_minor": 4
}
