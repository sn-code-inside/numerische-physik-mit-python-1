{
 "cells": [
  {
   "cell_type": "markdown",
   "metadata": {},
   "source": [
    "# Harmonischer Oszillator\n",
    "\n",
    "Siehe Wiedemann/Ingold: *Numerische Physik mit Python*, Springer-Spektrum 2024, ISBN 978-3-662-69566-1\n",
    "\n",
    "---"
   ]
  },
  {
   "cell_type": "markdown",
   "metadata": {},
   "source": [
    "In diesem Jupyter-Notebook sollen die Eigenzustände des harmonischen Oszillators numerisch bestimmt werden. Die zugehörige zeitunabhängige Schrödingergleichung lautet in dimensionsloser Form\n",
    "\n",
    "$$ \\left( \\frac{1}{2} \\frac{\\text{d}^2}{\\text{d} x^2} + \\frac{1}{2} x^2 \\right) \\psi(x) = E \\, \\psi(x)\\,.$$\n",
    "\n",
    "Im ersten Teil des Jupyter-Notebooks wird das Problem auf einem diskreten Gitter mit Gitterabstand $\\Delta x$ betrachtet, so dass statt der gewöhnlichen Differentialgleichung ein gekoppeltes lineares Gleichungssystem zu lösen ist. Ersetzt man die Ableitung durch einen Differenzenquotienten, ergibt sich für die zweite Ableitung\n",
    "\n",
    "$$ \\frac{\\text{d}^2}{\\text{d} x^2} \\psi(x) \\approx \\frac{\\psi(x-\\Delta x) - 2\\psi(x) + \\psi(x+\\Delta x)}{(\\Delta x)^2} \\,.$$\n",
    "\n",
    "Mit der diskretisierten Wellenfunktion $\\psi_n = \\psi(x_n)$ ergibt sich somit das zu lösende lineare Gleichungssystem\n",
    "\n",
    "$$\\frac{1}{(\\Delta x)^2}\\left(\\psi_{n+1}-2\\psi_n+\\psi_{n-1}\\right)+\\frac{x_n^2}{2}\\psi_n = E\\psi_n\\,.$$\n",
    "\n",
    "Im zweiten Teil des Jupyter-Notebooks werden wir ausgehend von geeignet gewählten Ausgangszuständen die niedrigsten drei Eigenzustände durch Energieminimierung bestimmen."
   ]
  },
  {
   "cell_type": "markdown",
   "metadata": {
    "jp-MarkdownHeadingCollapsed": true,
    "tags": []
   },
   "source": [
    "## Importanweisungen"
   ]
  },
  {
   "cell_type": "code",
   "execution_count": null,
   "metadata": {
    "tags": []
   },
   "outputs": [],
   "source": [
    "from math import pi, sqrt\n",
    "import numpy as np\n",
    "import numpy.linalg as LA\n",
    "from scipy import optimize\n",
    "import ipywidgets as widgets\n",
    "from ipywidgets import interact, interact_manual\n",
    "import matplotlib.pyplot as plt\n",
    "\n",
    "plt.style.use(\"numphyspy.style\")"
   ]
  },
  {
   "cell_type": "markdown",
   "metadata": {
    "jp-MarkdownHeadingCollapsed": true,
    "tags": []
   },
   "source": [
    "## Lösung mittels Matrizen"
   ]
  },
  {
   "cell_type": "markdown",
   "metadata": {
    "jp-MarkdownHeadingCollapsed": false,
    "tags": []
   },
   "source": [
    "### Berechnung des harmonischen Potentials\n",
    "\n",
    "Bei der Berechnung des harmonischen Potentials kann das Argument `x` sowohl ein skalarer Wert als auch ein NumPy-Array sein."
   ]
  },
  {
   "cell_type": "code",
   "execution_count": null,
   "metadata": {
    "tags": []
   },
   "outputs": [],
   "source": [
    "def potential(x):\n",
    "    return x*x/2"
   ]
  },
  {
   "cell_type": "markdown",
   "metadata": {
    "jp-MarkdownHeadingCollapsed": false,
    "tags": []
   },
   "source": [
    "### Berechnung des Hamilton-Operators\n",
    "\n",
    "Der Hamiltonoperator wird hier in der diskretisierten Form als Matrix erzeugt. Entsprechend dem in der Einleitung angegebenen Ausdruck für die zweite Ableitung ergibt diese von null verschiedene Beiträge in der Diagonalen sowie den benachbarten Nebendiagonalen."
   ]
  },
  {
   "cell_type": "code",
   "execution_count": null,
   "metadata": {
    "tags": []
   },
   "outputs": [],
   "source": [
    "def hamilton_operator(n_max, x_max):\n",
    "    ndim = 2*n_max+1\n",
    "    x, dx = np.linspace(-x_max, x_max, ndim, retstep=True)\n",
    "    h = (np.eye(ndim)\n",
    "         - 0.5*(np.eye(ndim, k=1) + np.eye(ndim, k=-1)))\n",
    "    h = h/dx**2 + np.diag(potential(x))\n",
    "    return h"
   ]
  },
  {
   "cell_type": "markdown",
   "metadata": {
    "jp-MarkdownHeadingCollapsed": false,
    "tags": []
   },
   "source": [
    "### Berechnung der Eigenwerte und Eigenvektoren\n",
    "\n",
    "Das Eigenwertproblem in Matrixform wird mit Hilfe der für hermitesche Eigenwertprobleme geeigneten Funktion\n",
    "`LA.eigh` aus der NumPy-Bibliothek gelöst. Die Eigenwerte `evals` sind reell und aufsteigend angeordnet. Die zugehörigen Eigenvektoren befinden sich im zweidimensionalen NumPy-Array `evecs`."
   ]
  },
  {
   "cell_type": "code",
   "execution_count": null,
   "metadata": {
    "tags": []
   },
   "outputs": [],
   "source": [
    "def eigenproblem(n_max, x_max):\n",
    "    h = hamilton_operator(n_max, x_max)\n",
    "    evals, evecs = LA.eigh(h)\n",
    "    return evals, evecs"
   ]
  },
  {
   "cell_type": "markdown",
   "metadata": {
    "jp-MarkdownHeadingCollapsed": false,
    "tags": []
   },
   "source": [
    "### Implementierung der Bedienelemente und graphische Darstellung der Eigenzustände\n",
    "\n",
    "Mit Hilfe der Schieberegler können die folgenden Parameter eingestellt werden:\n",
    "- `n_states`: Anzahl der darzustellenden Zustände\n",
    "- `n_max`: Anzahl der Gitterpunkte auf einer Seite des Ursprungs. Insgesamt werden `2*n_max+1` Gitterpunkte verwendet.\n",
    "- `x_max`: Ausdehnung des Gitters von `-x_max` bis `x_max`\n",
    "- `x_plot_max`: Ausdehnung des darzustellenden Bereichs von `-x_plot_max` bis `x_plot_max`\n",
    "\n",
    "Die Nulllinien der Eigenfunktionen werden um die jeweiligen Eigenenergien verschoben. Zur besseren Interpretation der Ergebnisse wird zusätzlich das harmonische Potential dargestellt."
   ]
  },
  {
   "cell_type": "code",
   "execution_count": null,
   "metadata": {
    "pycharm": {
     "name": "#%%\n"
    },
    "tags": []
   },
   "outputs": [],
   "source": [
    "widget_dict = {\"n_states\":\n",
    "               widgets.IntSlider(\n",
    "                   value=10, min=1, max=30, step=1,\n",
    "                   description=\"Zustände\"),\n",
    "               \"n_max\":\n",
    "               widgets.IntSlider(\n",
    "                   value=200, min=10, max=1000, step=10,\n",
    "                   description=r\"$n_\\text{max}$\"),\n",
    "               \"x_max\":\n",
    "               widgets.FloatSlider(\n",
    "                   value=20, min=10, max=100, step=1,\n",
    "                   description=r\"$x_\\text{max}$\"),\n",
    "               \"x_plot_max\":\n",
    "               widgets.FloatSlider(\n",
    "                   value=7, min=1, max=10, step=1,\n",
    "                   description=r\"$x_\\text{plot,max}$\")\n",
    "               }\n",
    "\n",
    "@interact(**widget_dict)\n",
    "def plot_states(n_states, n_max, x_max, x_plot_max):\n",
    "    evals, evecs = eigenproblem(n_max, x_max)\n",
    "    x_values = np.linspace(-x_max, x_max, 2*n_max+1)\n",
    "\n",
    "    fig, ax = plt.subplots()\n",
    "    for n in range(n_states):\n",
    "        ax.plot(x_values, 2*evecs[:, n]+evals[n])\n",
    "    ax.plot(x_values, potential(x_values), color=\"black\")\n",
    "    ax.set_xlabel(\"$x$\")\n",
    "    ax.set_ylabel(r\"$\\psi(x)$\")\n",
    "    ax.set_xlim((-x_plot_max, x_plot_max))\n",
    "    ax.set_ylim((0, n_states+1))"
   ]
  },
  {
   "cell_type": "markdown",
   "metadata": {
    "jp-MarkdownHeadingCollapsed": true,
    "tags": []
   },
   "source": [
    "## Lösung mittels Minimierung des Energieerwartungswerts"
   ]
  },
  {
   "cell_type": "markdown",
   "metadata": {
    "jp-MarkdownHeadingCollapsed": false,
    "tags": []
   },
   "source": [
    "### Berechnung des Energieerwartungswerts\n",
    "\n",
    "Wir betrachten weiterhin das diskretisierte Problem auf einem eindimensionalen Gitter. Somit ist der Zustandsvektor `psi` durch ein eindimensionales NumPy-Array und der Hamilton-Operator durch ein zweidimensionales NumPy-Array gegeben. Der gesuchte Erwartungswert ergibt sich dann im Wesentlichen als zweifaches Matrixprodukt. "
   ]
  },
  {
   "cell_type": "code",
   "execution_count": null,
   "metadata": {
    "tags": []
   },
   "outputs": [],
   "source": [
    "def energy(psi, hamilton_operator, dx):\n",
    "    return psi @ hamilton_operator @ psi * dx"
   ]
  },
  {
   "cell_type": "markdown",
   "metadata": {
    "jp-MarkdownHeadingCollapsed": false,
    "tags": []
   },
   "source": [
    "### Definition der Randbedingungen für die Optimierung\n",
    "\n",
    "Die gesuchte diskretisierte Wellenfunktion soll auf 1 normiert sein, so dass\n",
    "\n",
    "$$\\sum_n \\vert\\psi_n\\vert^2 \\Delta x = 1$$\n",
    "\n",
    "gelten muss. Bei der Berechnung des zweiten angeregten Zustands müssen wir zudem die Orthogonalität auf den Grundzustand fordern und definieren dafür die Funktion `scalarproduct`"
   ]
  },
  {
   "cell_type": "code",
   "execution_count": null,
   "metadata": {
    "tags": []
   },
   "outputs": [],
   "source": [
    "def norm_of_psi(psi, dx):\n",
    "    return LA.norm(psi)**2 * dx - 1\n",
    "\n",
    "def scalarproduct(psi, phi, dx):\n",
    "    return psi @ phi * dx"
   ]
  },
  {
   "cell_type": "markdown",
   "metadata": {},
   "source": [
    "Damit lassen sich nun die Randbedingungen in der Form definieren, die für die Optimierung benötigt wird. Dazu wird jeweils ein Dictionary erzeugt, das zunächst die Art der Randbedingung definiert, in unserem Fall eine Gleichheit. Der Eintrag `fun` gibt die Funktion an, die zur Auswertung der Randbedingung verwendet werden soll, wobei das erste Argument immer die zu optimierende Funktion ist. Weitere Argumente werden mit dem Tupel im Eintrag `args` spezifiziert."
   ]
  },
  {
   "cell_type": "code",
   "execution_count": null,
   "metadata": {
    "tags": []
   },
   "outputs": [],
   "source": [
    "def normalization(dx):\n",
    "    return {\"type\": \"eq\",\n",
    "            \"fun\": norm_of_psi,\n",
    "            \"args\": (dx,)}\n",
    "\n",
    "def orthogonality(wavefunction, dx):\n",
    "    return {\"type\": \"eq\",\n",
    "            \"fun\": scalarproduct,\n",
    "            \"args\": (wavefunction, dx)}"
   ]
  },
  {
   "cell_type": "markdown",
   "metadata": {
    "jp-MarkdownHeadingCollapsed": false,
    "tags": []
   },
   "source": [
    "### Minimierung der Energie\n",
    "\n",
    "Die Minimierung erfolgt mit Hilfe der Funktion `optimize.minimize` aus dem SciPy-Paket, die neben der Funktion `energy`, die die zu optimierende Größe berechnet, auch den Anfangszustand `initial_state` und die Randbedingungen `constraints` benötigt. Außerdem werden der Hamilton-Operator `hamilton_operator` und die Schrittweite für die Berechnung der Energie und der Randbedingungen benötigt. Der optimierte Zustand `psi` und der zugehörige Energieerwartungswert `e` können mit Hilfe der Attribute `x` bzw. `fun` aus dem Resultatsobjekt `opt_result` erhalten werden."
   ]
  },
  {
   "cell_type": "code",
   "execution_count": null,
   "metadata": {
    "tags": []
   },
   "outputs": [],
   "source": [
    "def minimize_energy(initial_state, hamilton_operator, dx,\n",
    "                    constraints):\n",
    "    opt_result = optimize.minimize(\n",
    "        energy, initial_state, args=(hamilton_operator, dx),\n",
    "        constraints=constraints)\n",
    "    psi = opt_result.x\n",
    "    e = opt_result.fun\n",
    "    return psi, e"
   ]
  },
  {
   "cell_type": "markdown",
   "metadata": {
    "jp-MarkdownHeadingCollapsed": false,
    "tags": []
   },
   "source": [
    "### Implementierung der Bedienelemente und graphische Darstellung der energetisch niedrigsten drei Eigenzustände\n",
    "\n",
    "Mit den Schiebereglern lassen sich die folgenden Parameter einstellen:\n",
    "- `n_max`: Anzahl der Gitterpunkte auf einer Seite des Ursprungs. Insgesamt werden `2*n_max+1` Gitterpunkte verwendet.\n",
    "- `x_max`: Ausdehnung des Gitters von `-x_max` bis `x_max`\n",
    "\n",
    "Als Ausgangsfunktion für die symmetrischen Eigenzustände wird\n",
    "\n",
    "$$\\psi_\\text{init}= \\frac{1}{2\\cosh(x/2)}$$\n",
    "\n",
    "gewählt, während für antisymmetrische Eigenzustände die Funktion\n",
    "\n",
    "$$\\psi_\\text{init} = \\frac{\\sqrt{3}}{2}\\frac{x}{\\cosh(x/2)}$$\n",
    "\n",
    "verwendet wird. Beide Zustände sind normiert. Bei der Berechnung des Grundzustands und des ersten angeregten Zustands genügt es, bei der Optimierung sicherzustellen, dass die Normierung erhalten bleibt. Dagegen ist bei der Berechnung des zweiten angeregten Zustands zusätzlich die Orthogonalität zum zuvor berechneten Grundzustand zu fordern. Die Qualität der durch Optimierung erhaltenen Zustände lässt sich anhand der angegebenen Energiewerte abschätzen. Bei einer sehr kleinen Zahl von Gitterpunkten werden Sie feststellen, dass der zweite angeregte Zustand im Rahmen der Optimierung seine Symmetrie wechselt, sofern man nicht die Orthogonalität auf den ersten angeregten Zustand fordert."
   ]
  },
  {
   "cell_type": "code",
   "execution_count": null,
   "metadata": {
    "pycharm": {
     "name": "#%%\n"
    },
    "tags": []
   },
   "outputs": [],
   "source": [
    "widget_dict = {\"n_max\":\n",
    "               widgets.IntSlider(\n",
    "                   value=100, min=10, max=500, step=10,\n",
    "                   description=r\"$n_\\text{max}$\"),\n",
    "               \"x_max\":\n",
    "               widgets.FloatSlider(\n",
    "                   value=10, min=5, max=30, step=1,\n",
    "                   description=r\"$x_\\text{max}$\"),\n",
    "               }\n",
    "\n",
    "interact_start = interact_manual.options(\n",
    "    manual_name=\"Start Berechnung\")\n",
    "\n",
    "@interact_start(**widget_dict)\n",
    "def plot_states_from_variation(n_max, x_max):\n",
    "    x_values, dx = np.linspace(-x_max, x_max, 2*n_max+1,\n",
    "                               retstep=True)\n",
    "    h = hamilton_operator(n_max, x_max)\n",
    "    initial_state_symm = 1/(2*np.cosh(x_values/2))\n",
    "    initial_state_antisymm = (sqrt(3)/(2*pi)*x_values\n",
    "                              / np.cosh(x_values/2))\n",
    "    psi_0, energy_0 = minimize_energy(\n",
    "        initial_state_symm, h, dx, normalization(dx))\n",
    "    psi_1, energy_1 = minimize_energy(\n",
    "        initial_state_antisymm, h, dx, normalization(dx))\n",
    "    psi_2, energy_2 = minimize_energy(\n",
    "        initial_state_symm, h, dx,\n",
    "        [normalization(dx), orthogonality(psi_0, dx)])\n",
    "\n",
    "    fig, ax = plt.subplots()\n",
    "    for psi, energy in ((psi_0, energy_0),\n",
    "                        (psi_1, energy_1),\n",
    "                        (psi_2, energy_2)):\n",
    "        ax.plot(x_values, psi+energy,\n",
    "                label=f\"E={energy:.5f}\")\n",
    "    ax.plot(x_values, potential(x_values), color=\"black\")\n",
    "    ax.set_xlabel(\"$x$\")\n",
    "    ax.set_ylabel(r\"$\\psi(x)$\")\n",
    "    ax.set_xlim((-5, 5))\n",
    "    ax.set_ylim((0, 5))\n",
    "    ax.legend(loc=\"upper left\")"
   ]
  }
 ],
 "metadata": {
  "kernelspec": {
   "display_name": "Python 3 (ipykernel)",
   "language": "python",
   "name": "python3"
  },
  "language_info": {
   "codemirror_mode": {
    "name": "ipython",
    "version": 3
   },
   "file_extension": ".py",
   "mimetype": "text/x-python",
   "name": "python",
   "nbconvert_exporter": "python",
   "pygments_lexer": "ipython3",
   "version": "3.12.4"
  }
 },
 "nbformat": 4,
 "nbformat_minor": 4
}
