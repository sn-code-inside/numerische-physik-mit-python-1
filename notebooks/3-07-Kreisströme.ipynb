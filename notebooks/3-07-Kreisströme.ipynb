{
 "cells": [
  {
   "cell_type": "markdown",
   "metadata": {},
   "source": [
    "# Magnetfeld stationärer Ströme\n",
    "\n",
    "Siehe Wiedemann/Ingold: *Numerische Physik mit Python*, Springer-Spektrum 2024, ISBN 978-3-662-69566-1\n",
    "\n",
    "---"
   ]
  },
  {
   "cell_type": "markdown",
   "metadata": {},
   "source": [
    "In diesem Jupyter-Notebook wird die Berechnung des Magnetfelds stationärer Ströme am Beispiel von Kreisströmen demonstriert. Im ersten Teil wird ein einzelner Kreisstrom betrachtet. Dazu wird eine numerische Integration des Gesetzes von Biot-Savart durchgeführt,\n",
    "das in skalierten Variablen durch\n",
    "\n",
    "$$\\boldsymbol{B}(\\boldsymbol{r}) = \\int \\text{d} \\boldsymbol{r}' \\; \\frac{\\boldsymbol{I}(\\boldsymbol{r}') \\times (\\boldsymbol{r}-\\boldsymbol{r}')}{|\\boldsymbol{r}-\\boldsymbol{r}'|^3}$$\n",
    "\n",
    "gegeben ist. $\\boldsymbol{r}'$ ist dabei ein Vektor, der vom Ursprung auf einen Punkt auf dem stromdurchflossenen Kreis zeigt. Alternativ werden wir die analytische Lösung auswerten, die die Berechnung elliptischer Integrale erfordert. In Zylinderkoordinaten ist das Magnetfeld durch\n",
    "\n",
    "$$B_\\rho = \\frac{2}{\\sqrt{(\\rho+1)^2+z^2}} \\left( \\frac{1+\\rho^2+z^2}{(1-\\rho)^2+z^2} E(k^2) - K(k^2) \\right) \\frac{z}{\\rho} \\\\\n",
    "B_z = \\frac{2}{\\sqrt{(\\rho+1)^2+z^2}} \\left( \\frac{1-\\rho^2-z^2}{(1-\\rho)^2+z^2} E(k^2) - K(k^2) \\right)$$\n",
    "\n",
    "gegeben, wobei $K$ und $E$ die vollständigen elliptischen Integrale erster und zweiter Art sind und\n",
    "\n",
    "$$\n",
    "k^2 = \\frac{4\\rho}{(1+\\rho)^2+z^2}\n",
    "$$\n",
    "\n",
    "ist.\n",
    "\n",
    "Im zweiten Teil des Jupyter-Notebooks wird dann das Magnetfeld zweier zueinander senkrecht stehender Kreisströme betrachtet. Während bei einem einzelnen Kreisstrom die Feldlinien geschlossen sind, wird dies bei dem System zweier Kreisströme im Allgemeinen nicht der Fall sein, wie wir sowohl anhand eines Feldlinienbilds als auch anhand eines Poincaré-Plots zeigen werden."
   ]
  },
  {
   "cell_type": "markdown",
   "metadata": {
    "jp-MarkdownHeadingCollapsed": true,
    "tags": []
   },
   "source": [
    "## Magnetfeld eines einzelnen Kreisstroms"
   ]
  },
  {
   "cell_type": "markdown",
   "metadata": {
    "jp-MarkdownHeadingCollapsed": false,
    "tags": []
   },
   "source": [
    "### Importanweisungen"
   ]
  },
  {
   "cell_type": "code",
   "execution_count": null,
   "metadata": {
    "tags": []
   },
   "outputs": [],
   "source": [
    "from functools import partial\n",
    "from math import cos, pi, sin, sqrt\n",
    "import numpy as np\n",
    "import numpy.linalg as LA\n",
    "from scipy import integrate, special\n",
    "import ipywidgets as widgets\n",
    "from ipywidgets import interact, interact_manual\n",
    "import matplotlib.pyplot as plt\n",
    "\n",
    "plt.style.use(\"numphyspy.style\")"
   ]
  },
  {
   "cell_type": "markdown",
   "metadata": {
    "jp-MarkdownHeadingCollapsed": false,
    "tags": []
   },
   "source": [
    "### Beitrag eines infinesimalen Leiterabschnitts zum Magnetfeld\n",
    "\n",
    "Die Funktion `dB` berechnet den Integranden im Gesetz von Biot-Savart. Dabei ist `r` der Ort, an dem das Magnetfeld zu berechnen ist und `phi` parametrisiert den Ort `r_prime` auf dem Einheitskreis. `e_phi` ist der Tangentialvektor an den Kreis und `dB` ist der sich ergebende Beitrag zum Magnetfeld."
   ]
  },
  {
   "cell_type": "code",
   "execution_count": null,
   "metadata": {
    "tags": []
   },
   "outputs": [],
   "source": [
    "def dB(phi, r):\n",
    "    r_prime = np.array([cos(phi), sin(phi), 0])\n",
    "    e_phi = np.array([-sin(phi), cos(phi), 0])\n",
    "    dB = np.cross(e_phi, r-r_prime) / LA.norm(r-r_prime)**3\n",
    "    return dB"
   ]
  },
  {
   "cell_type": "markdown",
   "metadata": {
    "jp-MarkdownHeadingCollapsed": false,
    "tags": []
   },
   "source": [
    "### Numerische Berechnung des Magnetfelds an einem vorgegebenen Ort\n",
    "\n",
    "In `dB_partial` wird der Ort fixiert, so dass nur das erste Argument von `dB`, also `phi` als Variable von der Integrationsroutine übergeben werden muss. Um eine vektorwertige Funktion integrieren zu können, wird hier die Funktion `quad_vec` aus dem SciPy-Paket verwendet."
   ]
  },
  {
   "cell_type": "code",
   "execution_count": null,
   "metadata": {
    "tags": []
   },
   "outputs": [],
   "source": [
    "def b_numerical(r):\n",
    "    dB_partial = partial(dB, r=r)\n",
    "    b, err = integrate.quad_vec(dB_partial, -pi, pi)\n",
    "    return b"
   ]
  },
  {
   "cell_type": "markdown",
   "metadata": {
    "jp-MarkdownHeadingCollapsed": false,
    "tags": []
   },
   "source": [
    "### Analytische Berechnung des Magnetfelds an einem vorgegebenen Ort\n",
    "\n",
    "Das Integral, das in `b_numerical` numerisch gelöst wird, kann auch analytisch berechnet werden, wobei man das in der Einleitung angegebene Ergebnis in Zylinderkoordinaten erhält. Da wir die analytische Lösung auch bei der Behandlung des Problems zweier Kreisströme verwenden wollen, können der Kreisursprung `r_0` und der Normalenvektor `normal` auf der Kreisfläche vorgegeben werden, wobei der Normalenvektor im Bezug auf die Stromrichtung durch die Rechte-Hand-Regel festgelegt ist. Werden `r_0` und `normal` nicht angegeben, so wird der Kreis am Ursprung zentriert und die Normalenrichtung ist durch die $z$-Richtung gegeben.\n",
    "Die Zylinderkoordinate $z$ ergibt sich durch die Projektion des Vektors vom Kreismittelpunkt $\\boldsymbol{r}_0$ zum Punkt $\\boldsymbol{r}$ auf die Normalenrichtung und `rhovec` beschreibt die Projektion von $\\boldsymbol{r}-\\boldsymbol{r}_0$ auf die Ebene senkrecht zum Normalenvektor. Die elliptischen Integrale E und K werden mit Hilfe der Funktionen `special.ellipe` bzw. `special.ellipk` aus dem SciPy-Paket berechnet. Am Ende werden die Komponenten mit Hilfe der Basisvektoren `normal` und `rhovec/rho` zum Magnetfeldvektor zusammengesetzt."
   ]
  },
  {
   "cell_type": "code",
   "execution_count": null,
   "metadata": {
    "tags": []
   },
   "outputs": [],
   "source": [
    "def b_one_loop(r, r_0=None, normal=None):\n",
    "    if r_0 is None:\n",
    "        r_0 = np.array([0, 0, 0])\n",
    "    if normal is None:\n",
    "        normal = np.array([0, 0, 1])\n",
    "\n",
    "    z = (r-r_0) @ normal\n",
    "    rhovec = r - r_0 - z*normal\n",
    "    rho = LA.norm(rhovec)\n",
    "    prefactor = 2/sqrt((rho+1)**2+z**2)\n",
    "    k_squared = 4*rho/((1+rho)**2+z**2)\n",
    "    ellip_e = special.ellipe(k_squared)\n",
    "    ellip_k = special.ellipk(k_squared)\n",
    "\n",
    "    e_factor = (1+rho**2+z**2) / ((1-rho)**2+z**2)\n",
    "    b_rho = prefactor*(e_factor*ellip_e - ellip_k) * z/rho\n",
    "\n",
    "    e_factor = (1-rho**2-z**2) / ((1-rho)**2+z**2)\n",
    "    b_z = prefactor*(e_factor*ellip_e + ellip_k)\n",
    "    return b_z*normal + b_rho*rhovec/rho"
   ]
  },
  {
   "cell_type": "markdown",
   "metadata": {
    "jp-MarkdownHeadingCollapsed": false,
    "tags": []
   },
   "source": [
    "### Implementierung der Differentialgleichung für die Feldlinien\n",
    "\n",
    "Die Magnetfeldlinien sind dadurch definiert, dass an jedem Punkt der Feldlinie die Tangentialrichtung durch das Magnetfeld gegeben ist. Damit die Feldlinie mit konstanter Geschwindigkeit durchlaufen wird, wird das magnetische Feld normiert. Um eine Division durch null im Falle eines verschwindenden Magnetfelds zu vermeiden, wird eine sehr kleine Zahl im Nenner addiert."
   ]
  },
  {
   "cell_type": "code",
   "execution_count": null,
   "metadata": {
    "tags": []
   },
   "outputs": [],
   "source": [
    "def dr_dt(t, r, b_field, r_start, eps):\n",
    "    b = b_field(r)\n",
    "    return b / (LA.norm(b)+1.e-6)"
   ]
  },
  {
   "cell_type": "markdown",
   "metadata": {},
   "source": [
    "Die Berechnung wird beendet, wenn die durch `line_closed` gegebene Bedingung für das Schließen der Feldlinie erfüllt ist."
   ]
  },
  {
   "cell_type": "code",
   "execution_count": null,
   "metadata": {
    "tags": []
   },
   "outputs": [],
   "source": [
    "def line_closed(t, r, b_field, r_start, eps):\n",
    "    return LA.norm(r-r_start) - eps\n",
    "line_closed.terminal = True\n",
    "line_closed.direction = -1"
   ]
  },
  {
   "cell_type": "markdown",
   "metadata": {
    "jp-MarkdownHeadingCollapsed": false,
    "tags": []
   },
   "source": [
    "### Berechnung einer einzelnen Feldlinie\n",
    "\n",
    "Die Berechnung einer einzelnen Feldlinie erfolgt als Lösung eines Anfangswertproblems mit Hilfe der SciPy-Funktion `integrate.solve_ivp`. Wenn das Schließen der Feldlinie festgestellt wurde, werden nur die Daten für einen entsprechend eingeschänkten Wertebereich für die Zeiten `t_values` übergeben. Mit Hilfe des Arguments `b_field` wird die Funktion festgelegt, die zur Berechnung des Magnetfelds verwendet wird. Dies kann entweder `b_numerical` oder `b_one_loop` sein."
   ]
  },
  {
   "cell_type": "code",
   "execution_count": null,
   "metadata": {
    "tags": []
   },
   "outputs": [],
   "source": [
    "def one_field_line(b_field, t_end, n_max, r_start, eps):\n",
    "    t_values = np.linspace(0, t_end, n_max)\n",
    "    solution = integrate.solve_ivp(\n",
    "        dr_dt, (0, t_end), r_start,\n",
    "        args=(b_field, r_start, eps),\n",
    "        events=line_closed, dense_output=True,\n",
    "        atol=1e-10, rtol=1e-10, t_eval=t_values)\n",
    "    if solution.t_events[0].size > 0:\n",
    "        t_end = solution.t_events[0][0]\n",
    "        t_values = np.linspace(0, t_end, n_max)\n",
    "    return solution.sol(t_values)"
   ]
  },
  {
   "cell_type": "markdown",
   "metadata": {
    "jp-MarkdownHeadingCollapsed": false,
    "tags": []
   },
   "source": [
    "### Berechnung aller Feldlinien\n",
    "\n",
    "Es werden ein Satz an Feldlinien berechnet, die in verschiedenen Abständen vom Kreismittelpunkt auf der $x$-Achse starten. Im Argument `b_field` wird die Funktion übergeben, die zur Berechnung des Magnetfelds verwendet werden soll. Die Feldlinien werden als Liste von Listen der Punkte je Feldlinie übergeben."
   ]
  },
  {
   "cell_type": "code",
   "execution_count": null,
   "metadata": {
    "tags": []
   },
   "outputs": [],
   "source": [
    "def all_field_lines(b_field, t_end, n_max, eps,\n",
    "                    r_start_max, n_start_max):\n",
    "    field_lines = []\n",
    "    for r_start in np.linspace((r_start_max, 0, 0),\n",
    "                               (1, 0, 0), n_start_max,\n",
    "                               endpoint=False):\n",
    "        field_line = one_field_line(b_field, t_end, n_max,\n",
    "                                    r_start, eps)\n",
    "        field_lines.append(field_line)\n",
    "    return field_lines"
   ]
  },
  {
   "cell_type": "markdown",
   "metadata": {
    "jp-MarkdownHeadingCollapsed": false,
    "tags": []
   },
   "source": [
    "### Implementierung der Bedienelemente und graphische Darstellung der Feldlinien\n",
    "\n",
    "Mit Hilfe der Bedienelemente lassen sich die folgenden Parameter einstellen:\n",
    "- `method_kw`: Funktion zur Berechnung des Magnetfelds\n",
    "- `t_end`: maximale Länge der Feldlinien\n",
    "- `n_max`: Anzahl der Punkte auf der Feldlinie\n",
    "- `r_start_max`: maximaler Abstand vom Kreismittelpunkt für die Startpunkte auf der $x$-Achse\n",
    "- `n_start_max`: Anzahl der verschiedenen Startpunkte\n",
    "- `eps`: Fehlertoleranz der Bedingung für das Schließen einer Feldlinie\n",
    "\n",
    "Die Funktion `all_field_lines` berechnet die Feldlinien. Wird das Magnetfeld über die analytischen Ausdrücke berechnet, so erfolgt die Darstellung in schwarz, bei einer numerischen Berechnung dagegen in blau. Im zweiten Fall kann die Rechnung einige Zeit in Anspruch nehmen. Die Feldlinien werden nur für Startwerte auf der positiven $x$-Achse berechent, jedoch symmetrisch auf beiden Seiten des Ursprungs dargestellt."
   ]
  },
  {
   "cell_type": "code",
   "execution_count": null,
   "metadata": {
    "tags": []
   },
   "outputs": [],
   "source": [
    "widget_dict = {\"method_kw\":\n",
    "               widgets.RadioButtons(\n",
    "                   options=[\"analytisch\", \"numerisch\"],\n",
    "                   value=\"analytisch\",\n",
    "                   description=\"Berechnung des Magnetfelds\"),\n",
    "               \"t_end\":\n",
    "               widgets.FloatSlider(\n",
    "                   value=50, min=10, max=50, step=10,\n",
    "                   description=r\"$t_\\text{end}$\"),\n",
    "               \"n_max\":\n",
    "               widgets.IntSlider(\n",
    "                   value=200, min=100, max=1000, step=100,\n",
    "                   description=r\"$n_\\text{max}$\"),\n",
    "               \"r_start_max\":\n",
    "               widgets.FloatSlider(\n",
    "                   value=2, min=1.5, max=10, step=0.5,\n",
    "                   description=r\"$r_\\text{start max}$\"),\n",
    "               \"n_start_max\":\n",
    "               widgets.IntSlider(\n",
    "                   value=6, min=2, max=10, step=1,\n",
    "                   description=r\"$n_\\text{start max}$\"),\n",
    "               \"eps\":\n",
    "               widgets.FloatSlider(\n",
    "                   value=0.01, min=0.002, max=0.01,\n",
    "                   step=0.002, readout_format=\".3f\",\n",
    "                   description=r\"$\\varepsilon$\")\n",
    "               }\n",
    "\n",
    "@interact(**widget_dict)\n",
    "def plot_one_loop_result(method_kw, t_end, n_max,\n",
    "                         r_start_max, n_start_max, eps):\n",
    "    if method_kw == \"analytisch\":\n",
    "        method = b_one_loop\n",
    "        linecolor = \"black\"\n",
    "    else:\n",
    "        method = b_numerical\n",
    "        linecolor = \"blue\"\n",
    "    field_lines = all_field_lines(method,\n",
    "                                  t_end, n_max, eps,\n",
    "                                  r_start_max, n_start_max)\n",
    "\n",
    "    fig, ax = plt.subplots()\n",
    "    for field_line in field_lines:\n",
    "        ax.plot(field_line[0], field_line[2],\n",
    "                color=linecolor)\n",
    "        ax.plot(-field_line[0], field_line[2],\n",
    "                color=linecolor)\n",
    "    ax.set_aspect(\"equal\")\n",
    "    ax.set_xlabel(\"$x$\")\n",
    "    ax.set_ylabel(\"$y$\")"
   ]
  },
  {
   "cell_type": "markdown",
   "metadata": {
    "jp-MarkdownHeadingCollapsed": true,
    "tags": []
   },
   "source": [
    "## Magnetfeld zweier orthogonaler Kreisströme\n",
    "\n",
    "Betrachtet wird das Magnetfeld, das durch zwei orthogonale, kreisströmige Leiterschleifen mit der gleichen Stromstärke erzeugt wird. Dabei liegt der Kreismittelpunkt der einen Leiterschleife auf der anderen Leiterschleife."
   ]
  },
  {
   "cell_type": "code",
   "execution_count": null,
   "metadata": {
    "tags": []
   },
   "outputs": [],
   "source": [
    "def b_two_loops(r):\n",
    "    b_1 = b_one_loop(r)\n",
    "    b_2 = b_one_loop(r,\n",
    "                     r_0=np.array([-1, 0, 0]),\n",
    "                     normal=np.array([0, -1, 0]))\n",
    "    return b_1 + b_2"
   ]
  },
  {
   "cell_type": "markdown",
   "metadata": {
    "jp-MarkdownHeadingCollapsed": false,
    "tags": []
   },
   "source": [
    "### Implementierung der Bedienelemente und graphische Darstellung der Feldlinie\n",
    "\n",
    "Mit Hilfe der Schieberegler können die folgenden Parameter eingestellt werden:\n",
    "- `t_end`: maximale Länge der Feldlinie\n",
    "- `n_max`: Anzahl der Punkte auf der Feldlinie\n",
    "- `x_start`: $x$-Koordinate des Startpunkts der Feldlinie\n",
    "- `y_start`: $y$-Koordinate des Startpunkts der Feldlinie\n",
    "- `z_start`: $z$-Koordinate des Startpunkts der Feldlinie\n",
    "- `phi`: Azimutwinkel, wird zur Rotation der Feldlinie in `plot_inner` verwendet\n",
    "- `theta`: Polarwinkel, wird zur Rotation der Feldlinie in `plot_inner` verwendet\n",
    "\n",
    "Die Berechnung der Feldlinie erfolgt mittels der zuvor verwendeten Funktion `one_field_line` unter Verwendung der Funktion `b_two_loops` für das Magnetfeld zweier Leiterschleifen. Die Feldlinie wird in einer dreidimensionalen Darstellung gezeigt, die durch Einstellung der Winkel `phi` und `theta` gedreht werden kann. Die beiden Leiterschleifen werden durch rote Kreise dargestellt."
   ]
  },
  {
   "cell_type": "code",
   "execution_count": null,
   "metadata": {
    "tags": []
   },
   "outputs": [],
   "source": [
    "widget_dict = {\"t_end\":\n",
    "               widgets.FloatSlider(\n",
    "                   value=50, min=10, max=500, step=10,\n",
    "                   description=r\"$t_\\text{end}$\"),\n",
    "               \"n_max\":\n",
    "               widgets.IntSlider(\n",
    "                   value=200, min=100, max=1000, step=100,\n",
    "                   description=r\"$n_\\text{max}$\"),\n",
    "               \"x_start\":\n",
    "               widgets.FloatSlider(\n",
    "                   value=0.5, min=-2, max=2, step=0.05,\n",
    "                   description=r\"$x_\\text{start}$\"),\n",
    "               \"y_start\":\n",
    "               widgets.FloatSlider(\n",
    "                   value=0.2, min=-2, max=2, step=0.05,\n",
    "                   description=r\"$y_\\text{start}$\"),\n",
    "               \"z_start\":\n",
    "               widgets.FloatSlider(\n",
    "                   value=0, min=-2, max=2, step=0.05,\n",
    "                   description=r\"$z_\\text{start}$\"),\n",
    "               \"phi\":\n",
    "               widgets.FloatSlider(\n",
    "                   value=-120, min=-180, max=180, step=5,\n",
    "                   description=r\"$\\phi$\"),\n",
    "               \"theta\":\n",
    "               widgets.FloatSlider(\n",
    "                   value=15, min=-90, max=90, step=5,\n",
    "                   description=r\"$\\theta$\"),\n",
    "               }\n",
    "\n",
    "interact_start = interact_manual.options(\n",
    "    manual_name=\"Start Berechnung\")\n",
    "\n",
    "@interact_start(**widget_dict)\n",
    "def plot_two_loop_result(t_end, n_max,\n",
    "                         x_start, y_start, z_start):\n",
    "    r_start = np.array([x_start, y_start, z_start])\n",
    "    eps = 0\n",
    "    field_line = one_field_line(b_two_loops, t_end, n_max,\n",
    "                                r_start, eps)\n",
    "\n",
    "    @interact(**widget_dict)\n",
    "    def plot_inner(theta, phi):\n",
    "        ax = plt.axes(projection=\"3d\")\n",
    "        ax.view_init(theta, phi)\n",
    "        ax.plot(*field_line, color=\"black\", lw=1)\n",
    "        phi = np.linspace(0, 2*pi, 200)\n",
    "        x = np.cos(phi)\n",
    "        y = np.sin(phi)\n",
    "        z = np.zeros_like(phi)\n",
    "        ax.plot(x, y, color=\"red\")\n",
    "        ax.plot(x-1, z, y, color=\"red\")\n",
    "        ax.set_xlabel(\"$x$\")\n",
    "        ax.set_ylabel(\"$y$\")\n",
    "        ax.set_zlabel(\"$z$\")\n",
    "        ax.set_aspect(\"equal\", adjustable=\"box\")\n",
    "        plt.show()"
   ]
  },
  {
   "cell_type": "markdown",
   "metadata": {
    "jp-MarkdownHeadingCollapsed": false,
    "tags": []
   },
   "source": [
    "### Bedingungen für Poincaré-Schnitt\n",
    "\n",
    "Zur Darstellung des Poincaré-Schnitts werden die Durchstoßpunkte durch die $x$-$y$-Ebene detektiert, wobei beide Durchstoßrichtungen zugelassen sind. In der graphischen Darstellung werden später die unterschiedlichen Durchstoßrichtungen farblich unterschieden."
   ]
  },
  {
   "cell_type": "code",
   "execution_count": null,
   "metadata": {
    "tags": []
   },
   "outputs": [],
   "source": [
    "def z_equal_zero_pos(t, r, *args):\n",
    "    b_field, r_start, eps = args\n",
    "    return r[2]\n",
    "z_equal_zero_pos.terminal = True\n",
    "z_equal_zero_pos.direction = 1"
   ]
  },
  {
   "cell_type": "code",
   "execution_count": null,
   "metadata": {
    "tags": []
   },
   "outputs": [],
   "source": [
    "def z_equal_zero_neg(t, r, *args):\n",
    "    b_field, r_start, eps = args\n",
    "    return r[2]\n",
    "z_equal_zero_neg.terminal = True\n",
    "z_equal_zero_neg.direction = -1"
   ]
  },
  {
   "cell_type": "markdown",
   "metadata": {
    "jp-MarkdownHeadingCollapsed": false,
    "tags": []
   },
   "source": [
    "### Berechnung des Poincaré-Plots\n",
    "\n",
    "Zur Berechnung des Poincaré-Plots wird die Feldlinie stückweise numerisch integriert bis ein Durchstoßpunkt durch die $x$-$y$-Ebene unabhängig von der Durchstoßrichtung detektiert wurde. Das NumPy-Array `points` enthält am Ende `n_out` Koordinatentupel, wobei sich die Durchstoßrichtungen abwechseln. Da die Rechnung typischerweise etwas Zeit erfordert, wird in regelmäßigen Abständen die Anzahl der bereits berechneten Poincaré-Punkte ausgegeben."
   ]
  },
  {
   "cell_type": "code",
   "execution_count": null,
   "metadata": {
    "pycharm": {
     "name": "#%%\n"
    },
    "tags": []
   },
   "outputs": [],
   "source": [
    "def poincare_points(dt, b_field, r_0, n_out):\n",
    "    points = np.zeros((2, n_out))\n",
    "    t_start = 0\n",
    "    t_end = dt\n",
    "    events = (z_equal_zero_pos, z_equal_zero_neg)\n",
    "    for cnt in range(n_out):\n",
    "        found = False\n",
    "        while not found:\n",
    "            solution = integrate.solve_ivp(\n",
    "                dr_dt, (t_start, t_end), r_0,\n",
    "                args=(b_field, r_0, 0.),\n",
    "                events=events[cnt % 2],\n",
    "                dense_output=True, atol=1e-10, rtol=1e-10)\n",
    "            if np.size(solution.t_events) > 0:\n",
    "                points[:, cnt] = solution.y_events[0][0, :2]\n",
    "                found = True\n",
    "            t_start = solution.t[-1]\n",
    "            t_end = t_start + dt\n",
    "            r_0 = solution.y[:, -1]\n",
    "        if 10*cnt % n_out == 0:\n",
    "            print(cnt)\n",
    "    return points"
   ]
  },
  {
   "cell_type": "markdown",
   "metadata": {
    "jp-MarkdownHeadingCollapsed": false,
    "tags": []
   },
   "source": [
    "### Implementierung der Bedienelemente und graphische Darstellung des Poincaré-Plots\n",
    "\n",
    "Mit Hilfe der Schieberegler lassen sich die folgenden Parameter einstellen:\n",
    "- `dt`: Länge eines Integrationsintervalls\n",
    "- `n_out`: Anzahl der Durchstoßpunkte\n",
    "- `x_start`: $x$-Koordinate des Startpunkts der Feldlinie\n",
    "- `y_start`: $y$-Koordinate des Startpunkts der Feldlinie\n",
    "- `z_start`: $z$-Koordinate des Startpunkts der Feldlinie\n",
    "\n",
    "Es werden die Durchstoßpunkte einer Feldlinie durch die $x$-$y$-Ebene bestimmt und als Poincaré-Plot dargestellt. Dabei werden entgegengesetzte Durchstoßrichtungen blau bzw. grün dargestellt."
   ]
  },
  {
   "cell_type": "code",
   "execution_count": null,
   "metadata": {
    "tags": []
   },
   "outputs": [],
   "source": [
    "widget_dict = {\"dt\":\n",
    "               widgets.FloatSlider(\n",
    "                   value=20, min=1, max=100, step=1,\n",
    "                   description=r\"$\\Delta t$\"),\n",
    "               \"n_out\":\n",
    "               widgets.IntSlider(\n",
    "                   value=1000, min=1000, max=20000,\n",
    "                   step=1000,\n",
    "                   description=r\"$n_\\text{out}$\"),\n",
    "               \"x_start\":\n",
    "               widgets.FloatSlider(\n",
    "                   value=0.5, min=-2, max=2, step=0.05,\n",
    "                   description=r\"$x_\\text{start}$\"),\n",
    "               \"y_start\":\n",
    "               widgets.FloatSlider(\n",
    "                   value=0.2, min=-2, max=2, step=0.05,\n",
    "                   description=r\"$y_\\text{start}$\"),\n",
    "               \"z_start\":\n",
    "               widgets.FloatSlider(\n",
    "                   value=0, min=-2, max=2, step=0.05,\n",
    "                   description=r\"$z_\\text{start}$\")\n",
    "               }\n",
    "\n",
    "interact_start = interact_manual.options(\n",
    "    manual_name=\"Start Berechnung\")\n",
    "\n",
    "@interact_start(**widget_dict)\n",
    "def plot_poincare(dt, n_out, x_start, y_start, z_start):\n",
    "    r_0 = np.array([x_start, y_start, z_start])\n",
    "    points = poincare_points(dt, b_two_loops, r_0, n_out)\n",
    "\n",
    "    fig, ax = plt.subplots()\n",
    "    ax.plot(points[0, ::2], points[1, ::2], color=\"green\",\n",
    "            linestyle=\"None\", marker=\"o\", markersize=1)\n",
    "    ax.plot(points[0, 1::2], points[1, 1::2], color=\"blue\",\n",
    "            linestyle=\"None\", marker=\"o\", markersize=1)\n",
    "    ax.set_xlabel(\"$x$\")\n",
    "    ax.set_ylabel(\"$y$\")\n",
    "    ax.set_xlim((-9, 8))\n",
    "    ax.set_ylim((-5, 5))"
   ]
  }
 ],
 "metadata": {
  "kernelspec": {
   "display_name": "Python 3 (ipykernel)",
   "language": "python",
   "name": "python3"
  },
  "language_info": {
   "codemirror_mode": {
    "name": "ipython",
    "version": 3
   },
   "file_extension": ".py",
   "mimetype": "text/x-python",
   "name": "python",
   "nbconvert_exporter": "python",
   "pygments_lexer": "ipython3",
   "version": "3.12.4"
  }
 },
 "nbformat": 4,
 "nbformat_minor": 4
}
